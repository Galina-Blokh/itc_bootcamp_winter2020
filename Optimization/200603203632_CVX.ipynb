{
 "cells": [
  {
   "cell_type": "markdown",
   "metadata": {},
   "source": [
    "## Convex Optimization using CVXPY\n",
    "\n",
    "CVXPY is a Python-embedded language for convex optimization problems. It automatically transforms the problem into standard form, calls a solver, and unpacks the results.\n",
    "\n",
    "### install:\n",
    "I used \"pip install cvxpy\". Otherwise, look at:\n",
    "https://www.cvxpy.org/install/index.html\n",
    "\n",
    "\n"
   ]
  },
  {
   "cell_type": "markdown",
   "metadata": {},
   "source": [
    "The code below solves a simple optimization problem in CVXPY:\n"
   ]
  },
  {
   "cell_type": "code",
   "execution_count": 1,
   "metadata": {},
   "outputs": [],
   "source": [
    "\n",
    "\n",
    "import cvxpy as cvx\n",
    "import numpy as np\n",
    "import matplotlib.pyplot as plt"
   ]
  },
  {
   "cell_type": "code",
   "execution_count": 2,
   "metadata": {},
   "outputs": [
    {
     "name": "stdout",
     "output_type": "stream",
     "text": [
      "status: optimal\n",
      "optimal value 1.0\n",
      "optimal var 1.0 1.570086213240983e-22\n"
     ]
    }
   ],
   "source": [
    "# Create two scalar optimization variables.\n",
    "x = cvx.Variable()\n",
    "y = cvx.Variable()\n",
    "\n",
    "# Create two constraints.\n",
    "constraints = [x + y == 1,\n",
    "               x - y >= 1]\n",
    "\n",
    "# Form objective.\n",
    "obj = cvx.Minimize((x - y)**2)\n",
    "\n",
    "# Form and solve problem.\n",
    "prob = cvx.Problem(obj, constraints)\n",
    "prob.solve()  # Returns the optimal value.\n",
    "print(\"status:\", prob.status)\n",
    "print(\"optimal value\", prob.value)\n",
    "print(\"optimal var\", x.value, y.value)"
   ]
  },
  {
   "cell_type": "markdown",
   "metadata": {},
   "source": [
    "prob.solve() returns the optimal value and updates prob.status, prob.value, and the value field of all the variables in the problem.\n",
    "\n"
   ]
  },
  {
   "cell_type": "markdown",
   "metadata": {},
   "source": [
    "Problems are immutable, meaning they cannot be changed after they are created. To change the objective or constraints, create a new problem.\n",
    "\n"
   ]
  },
  {
   "cell_type": "code",
   "execution_count": 3,
   "metadata": {},
   "outputs": [
    {
     "name": "stdout",
     "output_type": "stream",
     "text": [
      "optimal value 0.9999999999945574\n",
      "optimal value 1.0\n"
     ]
    }
   ],
   "source": [
    "# Replace the objective.\n",
    "prob2 = cvx.Problem(cvx.Maximize(x + y), prob.constraints)\n",
    "print(\"optimal value\", prob2.solve())\n",
    "\n",
    "# Replace the constraint (x + y == 1).\n",
    "constraints = [x + y <= 3] + prob.constraints[1:]\n",
    "prob2 = cvx.Problem(prob.objective, constraints)\n",
    "print(\"optimal value\", prob2.solve())"
   ]
  },
  {
   "cell_type": "markdown",
   "metadata": {},
   "source": [
    "When a problem has no feasible solutions, meaning the set of solutions \n",
    "that satisfy the constraints is empty, we say that the \n",
    "probelm is \"infeasible\".\n"
   ]
  },
  {
   "cell_type": "code",
   "execution_count": 4,
   "metadata": {},
   "outputs": [
    {
     "name": "stdout",
     "output_type": "stream",
     "text": [
      "status: infeasible\n",
      "optimal value inf\n"
     ]
    }
   ],
   "source": [
    "x = cvx.Variable()\n",
    "\n",
    "# An infeasible problem.\n",
    "prob = cvx.Problem(cvx.Minimize(x), [x >= 1, x <= 0])\n",
    "prob.solve()\n",
    "print(\"status:\", prob.status)\n",
    "print(\"optimal value\", prob.value)"
   ]
  },
  {
   "cell_type": "markdown",
   "metadata": {},
   "source": [
    "When a problem has no lower bound, meaning the objective function\n",
    "can achieve arbitrary low values (or negative infinity) we say that the problem is \"unbounded\"."
   ]
  },
  {
   "cell_type": "code",
   "execution_count": 5,
   "metadata": {},
   "outputs": [
    {
     "name": "stdout",
     "output_type": "stream",
     "text": [
      "status: unbounded\n",
      "optimal value -inf\n"
     ]
    }
   ],
   "source": [
    "# An unbounded problem.\n",
    "prob = cvx.Problem(cvx.Minimize(x))\n",
    "prob.solve()\n",
    "print(\"status:\", prob.status)\n",
    "print(\"optimal value\", prob.value)"
   ]
  },
  {
   "cell_type": "markdown",
   "metadata": {},
   "source": [
    "Notice that for a minimization problem the optimal value is inf if infeasible and -inf if unbounded. For maximization problems the opposite is true.\n",
    "\n"
   ]
  },
  {
   "cell_type": "markdown",
   "metadata": {},
   "source": [
    "## Vectors and matrices\n",
    "Variables can be scalars, vectors, or matrices, meaning they are 0, 1, or 2 dimensional.\n",
    "\n"
   ]
  },
  {
   "cell_type": "code",
   "execution_count": 6,
   "metadata": {},
   "outputs": [],
   "source": [
    "# A scalar variable.\n",
    "a = cvx.Variable()\n",
    "\n",
    "# Vector variable with shape (5,).\n",
    "x = cvx.Variable(5)\n",
    "\n",
    "# Matrix variable with shape (5, 1).\n",
    "x = cvx.Variable((5, 1))\n",
    "\n",
    "# Matrix variable with shape (4, 7).\n",
    "A = cvx.Variable((4, 7))"
   ]
  },
  {
   "cell_type": "markdown",
   "metadata": {},
   "source": [
    "Here’s an example of a CVXPY problem with vectors and matrices:\n",
    "\n"
   ]
  },
  {
   "cell_type": "code",
   "execution_count": 7,
   "metadata": {},
   "outputs": [
    {
     "name": "stdout",
     "output_type": "stream",
     "text": [
      "Optimal value 4.141338603672535\n",
      "Optimal var\n",
      "[-4.95922264e-21  6.07571976e-21  1.34643668e-01  1.24976681e-01\n",
      " -4.57130806e-21]\n"
     ]
    }
   ],
   "source": [
    "# Solves a bounded least-squares problem.\n",
    "# Problem data.\n",
    "m = 10\n",
    "n = 5\n",
    "np.random.seed(1)\n",
    "A = np.random.randn(m, n)\n",
    "b = np.random.randn(m)\n",
    "\n",
    "# Construct the problem.\n",
    "x = cvx.Variable(n)\n",
    "objective = cvx.Minimize(cvx.sum_squares(A@x - b))\n",
    "constraints = [0 <= x, x <= 1]\n",
    "prob = cvx.Problem(objective, constraints)\n",
    "\n",
    "print(\"Optimal value\", prob.solve())\n",
    "print(\"Optimal var\")\n",
    "print(x.value) # A numpy ndarray."
   ]
  },
  {
   "cell_type": "markdown",
   "metadata": {},
   "source": [
    "## Constraints\n",
    "As shown in the example code, you can use ==, <=, and >= to construct constraints in CVXPY. Equality and inequality constraints are elementwise, whether they involve scalars, vectors, or matrices. For example, together the constraints 0 <= x and x <= 1 mean that every entry of x is between 0 and 1.\n",
    "\n",
    "You cannot construct inequalities with < and >. Strict inequalities don’t make sense in a real world setting. Also, you cannot chain constraints together, e.g., 0 <= x <= 1 or x == y == 2. The Python interpreter treats chained constraints in such a way that CVXPY cannot capture them. CVXPY will raise an exception if you write a chained constraint."
   ]
  },
  {
   "cell_type": "markdown",
   "metadata": {},
   "source": [
    "## Parameters\n",
    "\n",
    "Parameters are symbolic representations of constants. The purpose of parameters is to change the value of a constant in a problem without reconstructing the entire problem.\n",
    "\n",
    "\n"
   ]
  },
  {
   "cell_type": "code",
   "execution_count": 8,
   "metadata": {},
   "outputs": [],
   "source": [
    "# Positive scalar parameter.\n",
    "m = cvx.Parameter(nonneg=True)\n",
    "\n",
    "# Column vector parameter with unknown sign (by default).\n",
    "c = cvx.Parameter(5)\n",
    "\n",
    "# Matrix parameter with negative entries.\n",
    "G = cvx.Parameter((4, 7), nonpos=True)\n",
    "\n",
    "# Assigns a constant value to G.\n",
    "G.value = -np.ones((4, 7))"
   ]
  },
  {
   "cell_type": "markdown",
   "metadata": {},
   "source": [
    "You can initialize a parameter with a value. The following code segments are equivalent:\n",
    "\n"
   ]
  },
  {
   "cell_type": "code",
   "execution_count": 9,
   "metadata": {},
   "outputs": [],
   "source": [
    "# Create parameter, then assign value.\n",
    "rho = cvx.Parameter(nonneg=True)\n",
    "rho.value = 2\n",
    "\n",
    "# Initialize parameter with a value.\n",
    "rho = cvx.Parameter(nonneg=True, value=2)"
   ]
  },
  {
   "cell_type": "markdown",
   "metadata": {},
   "source": [
    "## Excercise - The lasso regularization path\n",
    "For $ A\\in \\mathbb{R}^{m,n}, x\\in \\mathbb{R}^n, b\\in \\mathbb{R}^m$,\n",
    "code and solve the following:\n",
    "\n",
    "\\begin{equation*}\n",
    "\\begin{aligned}\n",
    "& \\underset{X}{\\text{minimize}}\n",
    "& & ||Ax-b||_2^2 + \\gamma ||x||_1 \\\\\n",
    "& \\text{subject to}\n",
    "& & \\gamma \\geq 0 \\\\\n",
    "\\end{aligned}\n",
    "\\end{equation*}\n"
   ]
  },
  {
   "cell_type": "code",
   "execution_count": 10,
   "metadata": {},
   "outputs": [
    {
     "name": "stdout",
     "output_type": "stream",
     "text": [
      "Optimal value 27.13505396566872\n",
      "Optimal var\n",
      "[-3.09942003e-24  4.71377100e-24  7.70686404e-23 -3.44407069e-23\n",
      " -1.21617163e-23  7.22555479e-23  7.53895810e-24 -3.48842804e-23\n",
      "  8.99613318e-24  1.52751590e-23  4.92718172e-23 -3.54056890e-23\n",
      " -5.18436392e-24 -4.50240897e-23 -5.21546904e-23]\n"
     ]
    }
   ],
   "source": [
    "#generate random input\n",
    "\n",
    "n = 15\n",
    "m = 20\n",
    "np.random.seed(1)\n",
    "A = np.random.randn(m, n)\n",
    "b = np.random.randn(m)\n",
    "\n",
    "# Construct the problem, use cvx.norm(x,1) for ||x||_1\n",
    "x = cvx.Variable(n)\n",
    "gamma = cvx.Parameter(nonneg=True)\n",
    "error = cvx.sum_squares(A @ x - b)\n",
    "objective = cvx.Minimize(error + gamma * cvx.norm(x,1))\n",
    "\n",
    "constraints = [x >= -n, x <= n]\n",
    "prob = cvx.Problem(objective, constraints)\n",
    "\n",
    "gamma_vals = np.logspace(-4, 6)  \n",
    "\n",
    "for val in gamma_vals:\n",
    "    gamma.value = val\n",
    "    \n",
    "#call solve() and print output\n",
    "print(\"Optimal value\", prob.solve())\n",
    "print(\"Optimal var\")\n",
    "print(x.value) # A numpy ndarray."
   ]
  },
  {
   "cell_type": "markdown",
   "metadata": {},
   "source": [
    "The next segment will graph a trade-off curve of ||Ax-B||_2^2 against ||x||_1, where x stands for the optimal solution for a given gamma.\n",
    "We'll draw the curve by solving for different\n",
    "gamma values, and then take the solver solution's values for \n",
    "||Ax-B||_2^2 and ||x||_1.\n",
    "\n",
    "    Question: Why plot axis is against ||x||_1 and not \\gamma*||x||_1 as in the objective?    "
   ]
  },
  {
   "cell_type": "markdown",
   "metadata": {},
   "source": [
    "Gamma - is a parameter which punish x for being a large vector (with respect to l1 norm). As we try to find optimum minimum, we have to minimize the loss function and this is depend on x"
   ]
  },
  {
   "cell_type": "code",
   "execution_count": 11,
   "metadata": {},
   "outputs": [
    {
     "data": {
      "image/png": "[encoded data removed]",
      "text/plain": [
       "<Figure size 1080x360 with 1 Axes>"
      ]
     },
     "metadata": {
      "needs_background": "light"
     },
     "output_type": "display_data"
    }
   ],
   "source": [
    "# Problem data.\n",
    "n = 15\n",
    "m = 10\n",
    "np.random.seed(1)\n",
    "A = np.random.randn(n, m)\n",
    "b = np.random.randn(n)\n",
    "\n",
    "# Construct the problem, use cvx.norm(x,1) for ||x||_1\n",
    "# gamma must be nonnegative due to DCP rules.\n",
    "gamma = cvx.Parameter(nonneg=True)\n",
    "x = cvx.Variable(m)\n",
    "error = cvx.sum_squares(A @ x - b)\n",
    "obj = cvx.Minimize(error + gamma*cvx.norm(x, 1))\n",
    "prob = cvx.Problem(obj)\n",
    "\n",
    "# Construct a trade-off curve of ||Ax-b||^2 vs. ||x||_1\n",
    "sq_penalty = []\n",
    "l1_penalty = []\n",
    "x_values = []\n",
    "\n",
    "gamma_vals = np.logspace(-4, 6)\n",
    "\n",
    "for val in gamma_vals:\n",
    "    gamma.value = val\n",
    "    prob.solve()\n",
    "    # Use expr.value to get the numerical value of\n",
    "    # an expression in the problem.\n",
    "    sq_penalty.append(error.value)\n",
    "    l1_penalty.append(cvx.norm(x, 1).value)\n",
    "    x_values.append(x.value)\n",
    "    \n",
    "# Plot trade-off curve.\n",
    "\n",
    "plt.rc('text', usetex=True)\n",
    "plt.rc('font', family='serif')\n",
    "plt.figure(figsize=(15,5))\n",
    "plt.plot(l1_penalty, sq_penalty)\n",
    "plt.xlabel(r'$\\|x\\|$', fontsize=16)\n",
    "plt.ylabel(r'$\\|Ax-b\\|^2$', fontsize=16)\n",
    "plt.title('Trade-Off Curve for LASSO', fontsize=16);"
   ]
  },
  {
   "cell_type": "markdown",
   "metadata": {},
   "source": [
    "Repeat the previous excercise, but now plot the regularization path: \n",
    "    for each gamma, we overlay (x_i), i'th entry of the optimal\n",
    "    solution x. "
   ]
  },
  {
   "cell_type": "code",
   "execution_count": 12,
   "metadata": {
    "scrolled": true
   },
   "outputs": [
    {
     "data": {
      "image/png": "[encoded data removed]",
      "text/plain": [
       "<Figure size 1080x360 with 1 Axes>"
      ]
     },
     "metadata": {
      "needs_background": "light"
     },
     "output_type": "display_data"
    }
   ],
   "source": [
    "n = 15\n",
    "m = 20\n",
    "np.random.seed(1)\n",
    "A = np.random.randn(m, n)\n",
    "b = np.random.randn(m)\n",
    "\n",
    "\n",
    "# Construct the problem as before, \n",
    "# but now gamma must be nonnegative parameter.\n",
    "x = cvx.Variable(n)\n",
    "gamma = cvx.Parameter(nonneg=True)\n",
    "error = cvx.sum_squares(A @ x - b)\n",
    "objective = cvx.Minimize(error+gamma * cvx.norm(x))\n",
    "constraints = [x >= -n, x <= n]\n",
    "prob = cvx.Problem(objective, constraints)\n",
    "\n",
    "gamma_vals = np.logspace(-4, 6)\n",
    "x_values = []\n",
    "for val in gamma_vals:\n",
    "        gamma.value = val\n",
    "        prob.solve()\n",
    "        x_values.append(x.value)\n",
    "        \n",
    "        \n",
    "#Plot entries of x vs. gamma.\n",
    "plt.figure(figsize=(15,5))\n",
    "\n",
    "for i in range(n):#replace ... with your optimal solutions list\n",
    "    plt.rc('text', usetex=True)\n",
    "    plt.rc('font', family='serif')\n",
    "\n",
    "    plt.plot(gamma_vals, [xi[i] for xi in x_values])\n",
    "    plt.xscale('log')\n",
    "    plt.xlabel('$\\gamma$', fontsize=16)\n",
    "    plt.ylabel('$x_{i}$', fontsize=16)\n",
    "    plt.xscale('log')\n",
    "    plt.title('Entries of x vs.  $\\gamma$', fontsize=16);\n"
   ]
  },
  {
   "cell_type": "code",
   "execution_count": null,
   "metadata": {},
   "outputs": [],
   "source": []
  }
 ],
 "metadata": {
  "kernelspec": {
   "display_name": "Python 3",
   "language": "python",
   "name": "python3"
  },
  "language_info": {
   "codemirror_mode": {
    "name": "ipython",
    "version": 3
   },
   "file_extension": ".py",
   "mimetype": "text/x-python",
   "name": "python",
   "nbconvert_exporter": "python",
   "pygments_lexer": "ipython3",
   "version": "3.6.10"
  }
 },
 "nbformat": 4,
 "nbformat_minor": 2
}
