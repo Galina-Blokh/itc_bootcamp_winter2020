{
 "cells": [
  {
   "cell_type": "markdown",
   "metadata": {},
   "source": [
    "# Bokeh Exercise: Making a Dashboard\n",
    "\n",
    "In this exercise we will make a simple interactive dashboard for data analysis to illustrate the power of Bokeh."
   ]
  },
  {
   "cell_type": "markdown",
   "metadata": {},
   "source": [
    "# Introduction: Loading the dataset"
   ]
  },
  {
   "cell_type": "code",
   "execution_count": 51,
   "metadata": {},
   "outputs": [
    {
     "data": {
      "text/html": [
       "\n",
       "    <div class=\"bk-root\">\n",
       "        <a href=\"https://bokeh.org\" target=\"_blank\" class=\"bk-logo bk-logo-small bk-logo-notebook\"></a>\n",
       "        <span id=\"1519\">Loading BokehJS ...</span>\n",
       "    </div>"
      ]
     },
     "metadata": {},
     "output_type": "display_data"
    },
    {
     "data": {
      "application/javascript": [
       "\n",
       "(function(root) {\n",
       "  function now() {\n",
       "    return new Date();\n",
       "  }\n",
       "\n",
       "  var force = true;\n",
       "\n",
       "  if (typeof root._bokeh_onload_callbacks === \"undefined\" || force === true) {\n",
       "    root._bokeh_onload_callbacks = [];\n",
       "    root._bokeh_is_loading = undefined;\n",
       "  }\n",
       "\n",
       "  var JS_MIME_TYPE = 'application/javascript';\n",
       "  var HTML_MIME_TYPE = 'text/html';\n",
       "  var EXEC_MIME_TYPE = 'application/vnd.bokehjs_exec.v0+json';\n",
       "  var CLASS_NAME = 'output_bokeh rendered_html';\n",
       "\n",
       "  /**\n",
       "   * Render data to the DOM node\n",
       "   */\n",
       "  function render(props, node) {\n",
       "    var script = document.createElement(\"script\");\n",
       "    node.appendChild(script);\n",
       "  }\n",
       "\n",
       "  /**\n",
       "   * Handle when an output is cleared or removed\n",
       "   */\n",
       "  function handleClearOutput(event, handle) {\n",
       "    var cell = handle.cell;\n",
       "\n",
       "    var id = cell.output_area._bokeh_element_id;\n",
       "    var server_id = cell.output_area._bokeh_server_id;\n",
       "    // Clean up Bokeh references\n",
       "    if (id != null && id in Bokeh.index) {\n",
       "      Bokeh.index[id].model.document.clear();\n",
       "      delete Bokeh.index[id];\n",
       "    }\n",
       "\n",
       "    if (server_id !== undefined) {\n",
       "      // Clean up Bokeh references\n",
       "      var cmd = \"from bokeh.io.state import curstate; print(curstate().uuid_to_server['\" + server_id + \"'].get_sessions()[0].document.roots[0]._id)\";\n",
       "      cell.notebook.kernel.execute(cmd, {\n",
       "        iopub: {\n",
       "          output: function(msg) {\n",
       "            var id = msg.content.text.trim();\n",
       "            if (id in Bokeh.index) {\n",
       "              Bokeh.index[id].model.document.clear();\n",
       "              delete Bokeh.index[id];\n",
       "            }\n",
       "          }\n",
       "        }\n",
       "      });\n",
       "      // Destroy server and session\n",
       "      var cmd = \"import bokeh.io.notebook as ion; ion.destroy_server('\" + server_id + \"')\";\n",
       "      cell.notebook.kernel.execute(cmd);\n",
       "    }\n",
       "  }\n",
       "\n",
       "  /**\n",
       "   * Handle when a new output is added\n",
       "   */\n",
       "  function handleAddOutput(event, handle) {\n",
       "    var output_area = handle.output_area;\n",
       "    var output = handle.output;\n",
       "\n",
       "    // limit handleAddOutput to display_data with EXEC_MIME_TYPE content only\n",
       "    if ((output.output_type != \"display_data\") || (!output.data.hasOwnProperty(EXEC_MIME_TYPE))) {\n",
       "      return\n",
       "    }\n",
       "\n",
       "    var toinsert = output_area.element.find(\".\" + CLASS_NAME.split(' ')[0]);\n",
       "\n",
       "    if (output.metadata[EXEC_MIME_TYPE][\"id\"] !== undefined) {\n",
       "      toinsert[toinsert.length - 1].firstChild.textContent = output.data[JS_MIME_TYPE];\n",
       "      // store reference to embed id on output_area\n",
       "      output_area._bokeh_element_id = output.metadata[EXEC_MIME_TYPE][\"id\"];\n",
       "    }\n",
       "    if (output.metadata[EXEC_MIME_TYPE][\"server_id\"] !== undefined) {\n",
       "      var bk_div = document.createElement(\"div\");\n",
       "      bk_div.innerHTML = output.data[HTML_MIME_TYPE];\n",
       "      var script_attrs = bk_div.children[0].attributes;\n",
       "      for (var i = 0; i < script_attrs.length; i++) {\n",
       "        toinsert[toinsert.length - 1].firstChild.setAttribute(script_attrs[i].name, script_attrs[i].value);\n",
       "        toinsert[toinsert.length - 1].firstChild.textContent = bk_div.children[0].textContent\n",
       "      }\n",
       "      // store reference to server id on output_area\n",
       "      output_area._bokeh_server_id = output.metadata[EXEC_MIME_TYPE][\"server_id\"];\n",
       "    }\n",
       "  }\n",
       "\n",
       "  function register_renderer(events, OutputArea) {\n",
       "\n",
       "    function append_mime(data, metadata, element) {\n",
       "      // create a DOM node to render to\n",
       "      var toinsert = this.create_output_subarea(\n",
       "        metadata,\n",
       "        CLASS_NAME,\n",
       "        EXEC_MIME_TYPE\n",
       "      );\n",
       "      this.keyboard_manager.register_events(toinsert);\n",
       "      // Render to node\n",
       "      var props = {data: data, metadata: metadata[EXEC_MIME_TYPE]};\n",
       "      render(props, toinsert[toinsert.length - 1]);\n",
       "      element.append(toinsert);\n",
       "      return toinsert\n",
       "    }\n",
       "\n",
       "    /* Handle when an output is cleared or removed */\n",
       "    events.on('clear_output.CodeCell', handleClearOutput);\n",
       "    events.on('delete.Cell', handleClearOutput);\n",
       "\n",
       "    /* Handle when a new output is added */\n",
       "    events.on('output_added.OutputArea', handleAddOutput);\n",
       "\n",
       "    /**\n",
       "     * Register the mime type and append_mime function with output_area\n",
       "     */\n",
       "    OutputArea.prototype.register_mime_type(EXEC_MIME_TYPE, append_mime, {\n",
       "      /* Is output safe? */\n",
       "      safe: true,\n",
       "      /* Index of renderer in `output_area.display_order` */\n",
       "      index: 0\n",
       "    });\n",
       "  }\n",
       "\n",
       "  // register the mime type if in Jupyter Notebook environment and previously unregistered\n",
       "  if (root.Jupyter !== undefined) {\n",
       "    var events = require('base/js/events');\n",
       "    var OutputArea = require('notebook/js/outputarea').OutputArea;\n",
       "\n",
       "    if (OutputArea.prototype.mime_types().indexOf(EXEC_MIME_TYPE) == -1) {\n",
       "      register_renderer(events, OutputArea);\n",
       "    }\n",
       "  }\n",
       "\n",
       "  \n",
       "  if (typeof (root._bokeh_timeout) === \"undefined\" || force === true) {\n",
       "    root._bokeh_timeout = Date.now() + 5000;\n",
       "    root._bokeh_failed_load = false;\n",
       "  }\n",
       "\n",
       "  var NB_LOAD_WARNING = {'data': {'text/html':\n",
       "     \"<div style='background-color: #fdd'>\\n\"+\n",
       "     \"<p>\\n\"+\n",
       "     \"BokehJS does not appear to have successfully loaded. If loading BokehJS from CDN, this \\n\"+\n",
       "     \"may be due to a slow or bad network connection. Possible fixes:\\n\"+\n",
       "     \"</p>\\n\"+\n",
       "     \"<ul>\\n\"+\n",
       "     \"<li>re-rerun `output_notebook()` to attempt to load from CDN again, or</li>\\n\"+\n",
       "     \"<li>use INLINE resources instead, as so:</li>\\n\"+\n",
       "     \"</ul>\\n\"+\n",
       "     \"<code>\\n\"+\n",
       "     \"from bokeh.resources import INLINE\\n\"+\n",
       "     \"output_notebook(resources=INLINE)\\n\"+\n",
       "     \"</code>\\n\"+\n",
       "     \"</div>\"}};\n",
       "\n",
       "  function display_loaded() {\n",
       "    var el = document.getElementById(\"1519\");\n",
       "    if (el != null) {\n",
       "      el.textContent = \"BokehJS is loading...\";\n",
       "    }\n",
       "    if (root.Bokeh !== undefined) {\n",
       "      if (el != null) {\n",
       "        el.textContent = \"BokehJS \" + root.Bokeh.version + \" successfully loaded.\";\n",
       "      }\n",
       "    } else if (Date.now() < root._bokeh_timeout) {\n",
       "      setTimeout(display_loaded, 100)\n",
       "    }\n",
       "  }\n",
       "\n",
       "\n",
       "  function run_callbacks() {\n",
       "    try {\n",
       "      root._bokeh_onload_callbacks.forEach(function(callback) {\n",
       "        if (callback != null)\n",
       "          callback();\n",
       "      });\n",
       "    } finally {\n",
       "      delete root._bokeh_onload_callbacks\n",
       "    }\n",
       "    console.debug(\"Bokeh: all callbacks have finished\");\n",
       "  }\n",
       "\n",
       "  function load_libs(css_urls, js_urls, callback) {\n",
       "    if (css_urls == null) css_urls = [];\n",
       "    if (js_urls == null) js_urls = [];\n",
       "\n",
       "    root._bokeh_onload_callbacks.push(callback);\n",
       "    if (root._bokeh_is_loading > 0) {\n",
       "      console.debug(\"Bokeh: BokehJS is being loaded, scheduling callback at\", now());\n",
       "      return null;\n",
       "    }\n",
       "    if (js_urls == null || js_urls.length === 0) {\n",
       "      run_callbacks();\n",
       "      return null;\n",
       "    }\n",
       "    console.debug(\"Bokeh: BokehJS not loaded, scheduling load and callback at\", now());\n",
       "    root._bokeh_is_loading = css_urls.length + js_urls.length;\n",
       "\n",
       "    function on_load() {\n",
       "      root._bokeh_is_loading--;\n",
       "      if (root._bokeh_is_loading === 0) {\n",
       "        console.debug(\"Bokeh: all BokehJS libraries/stylesheets loaded\");\n",
       "        run_callbacks()\n",
       "      }\n",
       "    }\n",
       "\n",
       "    function on_error() {\n",
       "      console.error(\"failed to load \" + url);\n",
       "    }\n",
       "\n",
       "    for (var i = 0; i < css_urls.length; i++) {\n",
       "      var url = css_urls[i];\n",
       "      const element = document.createElement(\"link\");\n",
       "      element.onload = on_load;\n",
       "      element.onerror = on_error;\n",
       "      element.rel = \"stylesheet\";\n",
       "      element.type = \"text/css\";\n",
       "      element.href = url;\n",
       "      console.debug(\"Bokeh: injecting link tag for BokehJS stylesheet: \", url);\n",
       "      document.body.appendChild(element);\n",
       "    }\n",
       "\n",
       "    const hashes = {\"https://cdn.bokeh.org/bokeh/release/bokeh-2.0.2.min.js\": \"ufR9RFnRs6lniiaFvtJziE0YeidtAgBRH6ux2oUItHw5WTvE1zuk9uzhUU/FJXDp\", \"https://cdn.bokeh.org/bokeh/release/bokeh-widgets-2.0.2.min.js\": \"8QM/PGWBT+IssZuRcDcjzwIh1mkOmJSoNMmyYDZbCfXJg3Ap1lEvdVgFuSAwhb/J\", \"https://cdn.bokeh.org/bokeh/release/bokeh-tables-2.0.2.min.js\": \"Jm8cH3Rg0P6UeZhVY5cLy1WzKajUT9KImCY+76hEqrcJt59/d8GPvFHjCkYgnSIn\", \"https://cdn.bokeh.org/bokeh/release/bokeh-gl-2.0.2.min.js\": \"Ozhzj+SI7ywm74aOI/UajcWz+C0NjsPunEVyVIrxzYkB+jA+2tUw8x5xJCbVtK5I\"};\n",
       "\n",
       "    for (var i = 0; i < js_urls.length; i++) {\n",
       "      var url = js_urls[i];\n",
       "      var element = document.createElement('script');\n",
       "      element.onload = on_load;\n",
       "      element.onerror = on_error;\n",
       "      element.async = false;\n",
       "      element.src = url;\n",
       "      if (url in hashes) {\n",
       "        element.crossOrigin = \"anonymous\";\n",
       "        element.integrity = \"sha384-\" + hashes[url];\n",
       "      }\n",
       "      console.debug(\"Bokeh: injecting script tag for BokehJS library: \", url);\n",
       "      document.head.appendChild(element);\n",
       "    }\n",
       "  };\n",
       "\n",
       "  function inject_raw_css(css) {\n",
       "    const element = document.createElement(\"style\");\n",
       "    element.appendChild(document.createTextNode(css));\n",
       "    document.body.appendChild(element);\n",
       "  }\n",
       "\n",
       "  \n",
       "  var js_urls = [\"https://cdn.bokeh.org/bokeh/release/bokeh-2.0.2.min.js\", \"https://cdn.bokeh.org/bokeh/release/bokeh-widgets-2.0.2.min.js\", \"https://cdn.bokeh.org/bokeh/release/bokeh-tables-2.0.2.min.js\", \"https://cdn.bokeh.org/bokeh/release/bokeh-gl-2.0.2.min.js\"];\n",
       "  var css_urls = [];\n",
       "  \n",
       "\n",
       "  var inline_js = [\n",
       "    function(Bokeh) {\n",
       "      Bokeh.set_log_level(\"info\");\n",
       "    },\n",
       "    function(Bokeh) {\n",
       "    \n",
       "    \n",
       "    }\n",
       "  ];\n",
       "\n",
       "  function run_inline_js() {\n",
       "    \n",
       "    if (root.Bokeh !== undefined || force === true) {\n",
       "      \n",
       "    for (var i = 0; i < inline_js.length; i++) {\n",
       "      inline_js[i].call(root, root.Bokeh);\n",
       "    }\n",
       "    if (force === true) {\n",
       "        display_loaded();\n",
       "      }} else if (Date.now() < root._bokeh_timeout) {\n",
       "      setTimeout(run_inline_js, 100);\n",
       "    } else if (!root._bokeh_failed_load) {\n",
       "      console.log(\"Bokeh: BokehJS failed to load within specified timeout.\");\n",
       "      root._bokeh_failed_load = true;\n",
       "    } else if (force !== true) {\n",
       "      var cell = $(document.getElementById(\"1519\")).parents('.cell').data().cell;\n",
       "      cell.output_area.append_execute_result(NB_LOAD_WARNING)\n",
       "    }\n",
       "\n",
       "  }\n",
       "\n",
       "  if (root._bokeh_is_loading === 0) {\n",
       "    console.debug(\"Bokeh: BokehJS loaded, going straight to plotting\");\n",
       "    run_inline_js();\n",
       "  } else {\n",
       "    load_libs(css_urls, js_urls, function() {\n",
       "      console.debug(\"Bokeh: BokehJS plotting callback run at\", now());\n",
       "      run_inline_js();\n",
       "    });\n",
       "  }\n",
       "}(window));"
      ],
      "application/vnd.bokehjs_load.v0+json": "\n(function(root) {\n  function now() {\n    return new Date();\n  }\n\n  var force = true;\n\n  if (typeof root._bokeh_onload_callbacks === \"undefined\" || force === true) {\n    root._bokeh_onload_callbacks = [];\n    root._bokeh_is_loading = undefined;\n  }\n\n  \n\n  \n  if (typeof (root._bokeh_timeout) === \"undefined\" || force === true) {\n    root._bokeh_timeout = Date.now() + 5000;\n    root._bokeh_failed_load = false;\n  }\n\n  var NB_LOAD_WARNING = {'data': {'text/html':\n     \"<div style='background-color: #fdd'>\\n\"+\n     \"<p>\\n\"+\n     \"BokehJS does not appear to have successfully loaded. If loading BokehJS from CDN, this \\n\"+\n     \"may be due to a slow or bad network connection. Possible fixes:\\n\"+\n     \"</p>\\n\"+\n     \"<ul>\\n\"+\n     \"<li>re-rerun `output_notebook()` to attempt to load from CDN again, or</li>\\n\"+\n     \"<li>use INLINE resources instead, as so:</li>\\n\"+\n     \"</ul>\\n\"+\n     \"<code>\\n\"+\n     \"from bokeh.resources import INLINE\\n\"+\n     \"output_notebook(resources=INLINE)\\n\"+\n     \"</code>\\n\"+\n     \"</div>\"}};\n\n  function display_loaded() {\n    var el = document.getElementById(\"1519\");\n    if (el != null) {\n      el.textContent = \"BokehJS is loading...\";\n    }\n    if (root.Bokeh !== undefined) {\n      if (el != null) {\n        el.textContent = \"BokehJS \" + root.Bokeh.version + \" successfully loaded.\";\n      }\n    } else if (Date.now() < root._bokeh_timeout) {\n      setTimeout(display_loaded, 100)\n    }\n  }\n\n\n  function run_callbacks() {\n    try {\n      root._bokeh_onload_callbacks.forEach(function(callback) {\n        if (callback != null)\n          callback();\n      });\n    } finally {\n      delete root._bokeh_onload_callbacks\n    }\n    console.debug(\"Bokeh: all callbacks have finished\");\n  }\n\n  function load_libs(css_urls, js_urls, callback) {\n    if (css_urls == null) css_urls = [];\n    if (js_urls == null) js_urls = [];\n\n    root._bokeh_onload_callbacks.push(callback);\n    if (root._bokeh_is_loading > 0) {\n      console.debug(\"Bokeh: BokehJS is being loaded, scheduling callback at\", now());\n      return null;\n    }\n    if (js_urls == null || js_urls.length === 0) {\n      run_callbacks();\n      return null;\n    }\n    console.debug(\"Bokeh: BokehJS not loaded, scheduling load and callback at\", now());\n    root._bokeh_is_loading = css_urls.length + js_urls.length;\n\n    function on_load() {\n      root._bokeh_is_loading--;\n      if (root._bokeh_is_loading === 0) {\n        console.debug(\"Bokeh: all BokehJS libraries/stylesheets loaded\");\n        run_callbacks()\n      }\n    }\n\n    function on_error() {\n      console.error(\"failed to load \" + url);\n    }\n\n    for (var i = 0; i < css_urls.length; i++) {\n      var url = css_urls[i];\n      const element = document.createElement(\"link\");\n      element.onload = on_load;\n      element.onerror = on_error;\n      element.rel = \"stylesheet\";\n      element.type = \"text/css\";\n      element.href = url;\n      console.debug(\"Bokeh: injecting link tag for BokehJS stylesheet: \", url);\n      document.body.appendChild(element);\n    }\n\n    const hashes = {\"https://cdn.bokeh.org/bokeh/release/bokeh-2.0.2.min.js\": \"ufR9RFnRs6lniiaFvtJziE0YeidtAgBRH6ux2oUItHw5WTvE1zuk9uzhUU/FJXDp\", \"https://cdn.bokeh.org/bokeh/release/bokeh-widgets-2.0.2.min.js\": \"8QM/PGWBT+IssZuRcDcjzwIh1mkOmJSoNMmyYDZbCfXJg3Ap1lEvdVgFuSAwhb/J\", \"https://cdn.bokeh.org/bokeh/release/bokeh-tables-2.0.2.min.js\": \"Jm8cH3Rg0P6UeZhVY5cLy1WzKajUT9KImCY+76hEqrcJt59/d8GPvFHjCkYgnSIn\", \"https://cdn.bokeh.org/bokeh/release/bokeh-gl-2.0.2.min.js\": \"Ozhzj+SI7ywm74aOI/UajcWz+C0NjsPunEVyVIrxzYkB+jA+2tUw8x5xJCbVtK5I\"};\n\n    for (var i = 0; i < js_urls.length; i++) {\n      var url = js_urls[i];\n      var element = document.createElement('script');\n      element.onload = on_load;\n      element.onerror = on_error;\n      element.async = false;\n      element.src = url;\n      if (url in hashes) {\n        element.crossOrigin = \"anonymous\";\n        element.integrity = \"sha384-\" + hashes[url];\n      }\n      console.debug(\"Bokeh: injecting script tag for BokehJS library: \", url);\n      document.head.appendChild(element);\n    }\n  };\n\n  function inject_raw_css(css) {\n    const element = document.createElement(\"style\");\n    element.appendChild(document.createTextNode(css));\n    document.body.appendChild(element);\n  }\n\n  \n  var js_urls = [\"https://cdn.bokeh.org/bokeh/release/bokeh-2.0.2.min.js\", \"https://cdn.bokeh.org/bokeh/release/bokeh-widgets-2.0.2.min.js\", \"https://cdn.bokeh.org/bokeh/release/bokeh-tables-2.0.2.min.js\", \"https://cdn.bokeh.org/bokeh/release/bokeh-gl-2.0.2.min.js\"];\n  var css_urls = [];\n  \n\n  var inline_js = [\n    function(Bokeh) {\n      Bokeh.set_log_level(\"info\");\n    },\n    function(Bokeh) {\n    \n    \n    }\n  ];\n\n  function run_inline_js() {\n    \n    if (root.Bokeh !== undefined || force === true) {\n      \n    for (var i = 0; i < inline_js.length; i++) {\n      inline_js[i].call(root, root.Bokeh);\n    }\n    if (force === true) {\n        display_loaded();\n      }} else if (Date.now() < root._bokeh_timeout) {\n      setTimeout(run_inline_js, 100);\n    } else if (!root._bokeh_failed_load) {\n      console.log(\"Bokeh: BokehJS failed to load within specified timeout.\");\n      root._bokeh_failed_load = true;\n    } else if (force !== true) {\n      var cell = $(document.getElementById(\"1519\")).parents('.cell').data().cell;\n      cell.output_area.append_execute_result(NB_LOAD_WARNING)\n    }\n\n  }\n\n  if (root._bokeh_is_loading === 0) {\n    console.debug(\"Bokeh: BokehJS loaded, going straight to plotting\");\n    run_inline_js();\n  } else {\n    load_libs(css_urls, js_urls, function() {\n      console.debug(\"Bokeh: BokehJS plotting callback run at\", now());\n      run_inline_js();\n    });\n  }\n}(window));"
     },
     "metadata": {},
     "output_type": "display_data"
    }
   ],
   "source": [
    "import numpy as np\n",
    "import pandas as pd\n",
    "%matplotlib inline\n",
    "import matplotlib.pyplot as plt\n",
    "import seaborn as sns\n",
    "from sklearn.ensemble import RandomForestClassifier\n",
    "from sklearn.preprocessing import StandardScaler\n",
    "from sklearn.model_selection import GridSearchCV\n",
    "from sklearn import metrics \n",
    "from sklearn.metrics import confusion_matrix, accuracy_score, roc_curve,classification_report,precision_recall_curve,average_precision_score,auc\n",
    "from bokeh.plotting import figure, output_file, show, reset_output\n",
    "from bokeh.io import output_notebook, push_notebook, show\n",
    "from bokeh.models import Legend\n",
    "from ipywidgets import interact\n",
    "reset_output()\n",
    "output_notebook()\n",
    "import warnings\n",
    "warnings.simplefilter(action='ignore')"
   ]
  },
  {
   "cell_type": "markdown",
   "metadata": {},
   "source": [
    "We will be using the accompanying dataset `bokeh_data.csv.gz` with input features `A-D` and target variable `label`:"
   ]
  },
  {
   "cell_type": "code",
   "execution_count": 2,
   "metadata": {},
   "outputs": [],
   "source": [
    "df = pd.read_csv('bokeh_data.csv.gz', compression='gzip')"
   ]
  },
  {
   "cell_type": "markdown",
   "metadata": {},
   "source": [
    "The data also are ordered in time. For convenience, we convert the `date` column to the Pandas datetime data type:"
   ]
  },
  {
   "cell_type": "code",
   "execution_count": 3,
   "metadata": {},
   "outputs": [],
   "source": [
    "df.date = pd.to_datetime(df.date)"
   ]
  },
  {
   "cell_type": "code",
   "execution_count": 4,
   "metadata": {},
   "outputs": [
    {
     "data": {
      "text/plain": [
       "(39240, 7)"
      ]
     },
     "execution_count": 4,
     "metadata": {},
     "output_type": "execute_result"
    }
   ],
   "source": [
    "df.shape"
   ]
  },
  {
   "cell_type": "code",
   "execution_count": 5,
   "metadata": {
    "scrolled": true
   },
   "outputs": [
    {
     "data": {
      "text/html": [
       "<div>\n",
       "<style scoped>\n",
       "    .dataframe tbody tr th:only-of-type {\n",
       "        vertical-align: middle;\n",
       "    }\n",
       "\n",
       "    .dataframe tbody tr th {\n",
       "        vertical-align: top;\n",
       "    }\n",
       "\n",
       "    .dataframe thead th {\n",
       "        text-align: right;\n",
       "    }\n",
       "</style>\n",
       "<table border=\"1\" class=\"dataframe\">\n",
       "  <thead>\n",
       "    <tr style=\"text-align: right;\">\n",
       "      <th></th>\n",
       "      <th>Unnamed: 0</th>\n",
       "      <th>A</th>\n",
       "      <th>B</th>\n",
       "      <th>C</th>\n",
       "      <th>D</th>\n",
       "      <th>label</th>\n",
       "      <th>date</th>\n",
       "    </tr>\n",
       "  </thead>\n",
       "  <tbody>\n",
       "    <tr>\n",
       "      <th>39235</th>\n",
       "      <td>39235</td>\n",
       "      <td>0.000550</td>\n",
       "      <td>0.0</td>\n",
       "      <td>0.00121</td>\n",
       "      <td>0.100000</td>\n",
       "      <td>0</td>\n",
       "      <td>2018-12-13</td>\n",
       "    </tr>\n",
       "    <tr>\n",
       "      <th>39236</th>\n",
       "      <td>39236</td>\n",
       "      <td>0.000000</td>\n",
       "      <td>0.0</td>\n",
       "      <td>0.00000</td>\n",
       "      <td>0.571429</td>\n",
       "      <td>1</td>\n",
       "      <td>2018-12-13</td>\n",
       "    </tr>\n",
       "    <tr>\n",
       "      <th>39237</th>\n",
       "      <td>39237</td>\n",
       "      <td>0.000000</td>\n",
       "      <td>0.0</td>\n",
       "      <td>0.00000</td>\n",
       "      <td>0.071429</td>\n",
       "      <td>1</td>\n",
       "      <td>2018-12-13</td>\n",
       "    </tr>\n",
       "    <tr>\n",
       "      <th>39238</th>\n",
       "      <td>39238</td>\n",
       "      <td>0.000766</td>\n",
       "      <td>0.0</td>\n",
       "      <td>0.00000</td>\n",
       "      <td>0.500000</td>\n",
       "      <td>1</td>\n",
       "      <td>2018-12-13</td>\n",
       "    </tr>\n",
       "    <tr>\n",
       "      <th>39239</th>\n",
       "      <td>39239</td>\n",
       "      <td>0.000000</td>\n",
       "      <td>0.0</td>\n",
       "      <td>0.00000</td>\n",
       "      <td>0.176471</td>\n",
       "      <td>0</td>\n",
       "      <td>2018-12-13</td>\n",
       "    </tr>\n",
       "  </tbody>\n",
       "</table>\n",
       "</div>"
      ],
      "text/plain": [
       "       Unnamed: 0         A    B        C         D  label       date\n",
       "39235       39235  0.000550  0.0  0.00121  0.100000      0 2018-12-13\n",
       "39236       39236  0.000000  0.0  0.00000  0.571429      1 2018-12-13\n",
       "39237       39237  0.000000  0.0  0.00000  0.071429      1 2018-12-13\n",
       "39238       39238  0.000766  0.0  0.00000  0.500000      1 2018-12-13\n",
       "39239       39239  0.000000  0.0  0.00000  0.176471      0 2018-12-13"
      ]
     },
     "execution_count": 5,
     "metadata": {},
     "output_type": "execute_result"
    }
   ],
   "source": [
    "df.tail()"
   ]
  },
  {
   "cell_type": "code",
   "execution_count": 6,
   "metadata": {},
   "outputs": [
    {
     "data": {
      "text/plain": [
       "0    19967\n",
       "1    19273\n",
       "Name: label, dtype: int64"
      ]
     },
     "execution_count": 6,
     "metadata": {},
     "output_type": "execute_result"
    }
   ],
   "source": [
    "df.label.value_counts()"
   ]
  },
  {
   "cell_type": "markdown",
   "metadata": {},
   "source": [
    "For reference, date properties like year, month, day can be accessed using `Series.dt`, for example:"
   ]
  },
  {
   "cell_type": "markdown",
   "metadata": {},
   "source": [
    "# Part 1: Training a classifier "
   ]
  },
  {
   "cell_type": "markdown",
   "metadata": {},
   "source": [
    "We now want to build a model that predicts the target `label` from features `A-D` and compare its performance across time.\n",
    "\n",
    "**Questions:**\n",
    "### 1. Split the data into train and test sets, using the first three months of data as the training set (`X_train` and `y_train`), and the last month of data as the test set (`X_test` and `y_test`). Note: `date` will not be used as an input feature, so do not include its value in `X_train` or `X_test`.\n"
   ]
  },
  {
   "cell_type": "code",
   "execution_count": 7,
   "metadata": {},
   "outputs": [],
   "source": [
    "split_date = 11\n",
    "\n",
    "X_train = X_train = df[df.date.dt.month <= split_date].drop(['Unnamed: 0','date','label'], axis=1).copy()\n",
    "\n",
    "y_train =df.label[df.date.dt.month <= split_date]\n",
    "\n",
    "X_test = df[df.date.dt.month > split_date].drop(['Unnamed: 0','date','label'], axis=1).copy()\n",
    "\n",
    "y_test = df.label[df.date.dt.month > split_date]"
   ]
  },
  {
   "cell_type": "code",
   "execution_count": 8,
   "metadata": {},
   "outputs": [
    {
     "data": {
      "text/html": [
       "<div>\n",
       "<style scoped>\n",
       "    .dataframe tbody tr th:only-of-type {\n",
       "        vertical-align: middle;\n",
       "    }\n",
       "\n",
       "    .dataframe tbody tr th {\n",
       "        vertical-align: top;\n",
       "    }\n",
       "\n",
       "    .dataframe thead th {\n",
       "        text-align: right;\n",
       "    }\n",
       "</style>\n",
       "<table border=\"1\" class=\"dataframe\">\n",
       "  <thead>\n",
       "    <tr style=\"text-align: right;\">\n",
       "      <th></th>\n",
       "      <th>A</th>\n",
       "      <th>B</th>\n",
       "      <th>C</th>\n",
       "      <th>D</th>\n",
       "    </tr>\n",
       "  </thead>\n",
       "  <tbody>\n",
       "    <tr>\n",
       "      <th>0</th>\n",
       "      <td>0.000000</td>\n",
       "      <td>0.0</td>\n",
       "      <td>0.000019</td>\n",
       "      <td>0.500000</td>\n",
       "    </tr>\n",
       "    <tr>\n",
       "      <th>1</th>\n",
       "      <td>0.000000</td>\n",
       "      <td>0.0</td>\n",
       "      <td>0.000019</td>\n",
       "      <td>0.500000</td>\n",
       "    </tr>\n",
       "    <tr>\n",
       "      <th>2</th>\n",
       "      <td>0.000948</td>\n",
       "      <td>0.0</td>\n",
       "      <td>0.000000</td>\n",
       "      <td>0.541667</td>\n",
       "    </tr>\n",
       "    <tr>\n",
       "      <th>3</th>\n",
       "      <td>0.000000</td>\n",
       "      <td>0.0</td>\n",
       "      <td>0.000000</td>\n",
       "      <td>0.266667</td>\n",
       "    </tr>\n",
       "    <tr>\n",
       "      <th>4</th>\n",
       "      <td>0.000000</td>\n",
       "      <td>0.0</td>\n",
       "      <td>0.000000</td>\n",
       "      <td>0.375000</td>\n",
       "    </tr>\n",
       "    <tr>\n",
       "      <th>...</th>\n",
       "      <td>...</td>\n",
       "      <td>...</td>\n",
       "      <td>...</td>\n",
       "      <td>...</td>\n",
       "    </tr>\n",
       "    <tr>\n",
       "      <th>34446</th>\n",
       "      <td>0.000000</td>\n",
       "      <td>0.0</td>\n",
       "      <td>0.000000</td>\n",
       "      <td>0.000000</td>\n",
       "    </tr>\n",
       "    <tr>\n",
       "      <th>34447</th>\n",
       "      <td>0.000000</td>\n",
       "      <td>0.0</td>\n",
       "      <td>0.000000</td>\n",
       "      <td>0.000000</td>\n",
       "    </tr>\n",
       "    <tr>\n",
       "      <th>34448</th>\n",
       "      <td>0.000000</td>\n",
       "      <td>0.0</td>\n",
       "      <td>0.000053</td>\n",
       "      <td>0.428571</td>\n",
       "    </tr>\n",
       "    <tr>\n",
       "      <th>34449</th>\n",
       "      <td>0.000326</td>\n",
       "      <td>0.0</td>\n",
       "      <td>0.001631</td>\n",
       "      <td>0.117647</td>\n",
       "    </tr>\n",
       "    <tr>\n",
       "      <th>34450</th>\n",
       "      <td>0.000000</td>\n",
       "      <td>0.0</td>\n",
       "      <td>0.000000</td>\n",
       "      <td>0.250000</td>\n",
       "    </tr>\n",
       "  </tbody>\n",
       "</table>\n",
       "<p>34451 rows × 4 columns</p>\n",
       "</div>"
      ],
      "text/plain": [
       "              A    B         C         D\n",
       "0      0.000000  0.0  0.000019  0.500000\n",
       "1      0.000000  0.0  0.000019  0.500000\n",
       "2      0.000948  0.0  0.000000  0.541667\n",
       "3      0.000000  0.0  0.000000  0.266667\n",
       "4      0.000000  0.0  0.000000  0.375000\n",
       "...         ...  ...       ...       ...\n",
       "34446  0.000000  0.0  0.000000  0.000000\n",
       "34447  0.000000  0.0  0.000000  0.000000\n",
       "34448  0.000000  0.0  0.000053  0.428571\n",
       "34449  0.000326  0.0  0.001631  0.117647\n",
       "34450  0.000000  0.0  0.000000  0.250000\n",
       "\n",
       "[34451 rows x 4 columns]"
      ]
     },
     "execution_count": 8,
     "metadata": {},
     "output_type": "execute_result"
    }
   ],
   "source": [
    "X_train"
   ]
  },
  {
   "cell_type": "code",
   "execution_count": 9,
   "metadata": {},
   "outputs": [
    {
     "data": {
      "text/plain": [
       "0        1\n",
       "1        1\n",
       "2        1\n",
       "3        0\n",
       "4        0\n",
       "        ..\n",
       "34446    0\n",
       "34447    0\n",
       "34448    1\n",
       "34449    0\n",
       "34450    1\n",
       "Name: label, Length: 34451, dtype: int64"
      ]
     },
     "execution_count": 9,
     "metadata": {},
     "output_type": "execute_result"
    }
   ],
   "source": [
    "y_train"
   ]
  },
  {
   "cell_type": "code",
   "execution_count": 10,
   "metadata": {},
   "outputs": [
    {
     "data": {
      "text/html": [
       "<div>\n",
       "<style scoped>\n",
       "    .dataframe tbody tr th:only-of-type {\n",
       "        vertical-align: middle;\n",
       "    }\n",
       "\n",
       "    .dataframe tbody tr th {\n",
       "        vertical-align: top;\n",
       "    }\n",
       "\n",
       "    .dataframe thead th {\n",
       "        text-align: right;\n",
       "    }\n",
       "</style>\n",
       "<table border=\"1\" class=\"dataframe\">\n",
       "  <thead>\n",
       "    <tr style=\"text-align: right;\">\n",
       "      <th></th>\n",
       "      <th>A</th>\n",
       "      <th>B</th>\n",
       "      <th>C</th>\n",
       "      <th>D</th>\n",
       "    </tr>\n",
       "  </thead>\n",
       "  <tbody>\n",
       "    <tr>\n",
       "      <th>34451</th>\n",
       "      <td>0.000000</td>\n",
       "      <td>0.0</td>\n",
       "      <td>0.00267</td>\n",
       "      <td>0.307692</td>\n",
       "    </tr>\n",
       "    <tr>\n",
       "      <th>34452</th>\n",
       "      <td>0.000000</td>\n",
       "      <td>0.0</td>\n",
       "      <td>0.00000</td>\n",
       "      <td>0.920000</td>\n",
       "    </tr>\n",
       "    <tr>\n",
       "      <th>34453</th>\n",
       "      <td>0.000000</td>\n",
       "      <td>0.0</td>\n",
       "      <td>0.00000</td>\n",
       "      <td>0.444444</td>\n",
       "    </tr>\n",
       "    <tr>\n",
       "      <th>34454</th>\n",
       "      <td>0.000000</td>\n",
       "      <td>0.0</td>\n",
       "      <td>0.00000</td>\n",
       "      <td>0.200000</td>\n",
       "    </tr>\n",
       "    <tr>\n",
       "      <th>34455</th>\n",
       "      <td>0.000000</td>\n",
       "      <td>0.0</td>\n",
       "      <td>0.00000</td>\n",
       "      <td>0.126667</td>\n",
       "    </tr>\n",
       "    <tr>\n",
       "      <th>...</th>\n",
       "      <td>...</td>\n",
       "      <td>...</td>\n",
       "      <td>...</td>\n",
       "      <td>...</td>\n",
       "    </tr>\n",
       "    <tr>\n",
       "      <th>39235</th>\n",
       "      <td>0.000550</td>\n",
       "      <td>0.0</td>\n",
       "      <td>0.00121</td>\n",
       "      <td>0.100000</td>\n",
       "    </tr>\n",
       "    <tr>\n",
       "      <th>39236</th>\n",
       "      <td>0.000000</td>\n",
       "      <td>0.0</td>\n",
       "      <td>0.00000</td>\n",
       "      <td>0.571429</td>\n",
       "    </tr>\n",
       "    <tr>\n",
       "      <th>39237</th>\n",
       "      <td>0.000000</td>\n",
       "      <td>0.0</td>\n",
       "      <td>0.00000</td>\n",
       "      <td>0.071429</td>\n",
       "    </tr>\n",
       "    <tr>\n",
       "      <th>39238</th>\n",
       "      <td>0.000766</td>\n",
       "      <td>0.0</td>\n",
       "      <td>0.00000</td>\n",
       "      <td>0.500000</td>\n",
       "    </tr>\n",
       "    <tr>\n",
       "      <th>39239</th>\n",
       "      <td>0.000000</td>\n",
       "      <td>0.0</td>\n",
       "      <td>0.00000</td>\n",
       "      <td>0.176471</td>\n",
       "    </tr>\n",
       "  </tbody>\n",
       "</table>\n",
       "<p>4789 rows × 4 columns</p>\n",
       "</div>"
      ],
      "text/plain": [
       "              A    B        C         D\n",
       "34451  0.000000  0.0  0.00267  0.307692\n",
       "34452  0.000000  0.0  0.00000  0.920000\n",
       "34453  0.000000  0.0  0.00000  0.444444\n",
       "34454  0.000000  0.0  0.00000  0.200000\n",
       "34455  0.000000  0.0  0.00000  0.126667\n",
       "...         ...  ...      ...       ...\n",
       "39235  0.000550  0.0  0.00121  0.100000\n",
       "39236  0.000000  0.0  0.00000  0.571429\n",
       "39237  0.000000  0.0  0.00000  0.071429\n",
       "39238  0.000766  0.0  0.00000  0.500000\n",
       "39239  0.000000  0.0  0.00000  0.176471\n",
       "\n",
       "[4789 rows x 4 columns]"
      ]
     },
     "execution_count": 10,
     "metadata": {},
     "output_type": "execute_result"
    }
   ],
   "source": [
    "X_test"
   ]
  },
  {
   "cell_type": "code",
   "execution_count": 11,
   "metadata": {
    "scrolled": true
   },
   "outputs": [
    {
     "data": {
      "text/plain": [
       "34451    0\n",
       "34452    1\n",
       "34453    0\n",
       "34454    1\n",
       "34455    0\n",
       "        ..\n",
       "39235    0\n",
       "39236    1\n",
       "39237    1\n",
       "39238    1\n",
       "39239    0\n",
       "Name: label, Length: 4789, dtype: int64"
      ]
     },
     "execution_count": 11,
     "metadata": {},
     "output_type": "execute_result"
    }
   ],
   "source": [
    "y_test"
   ]
  },
  {
   "cell_type": "markdown",
   "metadata": {},
   "source": [
    "### 2. Train a random forest classifier (`sklearn.ensemble.RandomForestClassifier`) to predict `label` from `A-D`, using the first three months of data as the training set. Use `sklearn.metrics.classification_report` to find the precision and recall of this classifier on the test set (for `label`=1).\n"
   ]
  },
  {
   "cell_type": "markdown",
   "metadata": {},
   "source": [
    "Use GridSearchCV to find the best parametrs for our model"
   ]
  },
  {
   "cell_type": "code",
   "execution_count": 12,
   "metadata": {},
   "outputs": [
    {
     "data": {
      "text/plain": [
       "GridSearchCV(cv=3, estimator=RandomForestClassifier(),\n",
       "             param_grid={'max_depth': array([ 1,  3,  5,  7,  9, 11, 13, 15]),\n",
       "                         'max_leaf_nodes': array([1, 2, 3, 4, 5, 6, 7, 8, 9]),\n",
       "                         'n_estimators': array([ 50, 100, 150, 200, 250])},\n",
       "             scoring='recall')"
      ]
     },
     "execution_count": 12,
     "metadata": {},
     "output_type": "execute_result"
    }
   ],
   "source": [
    "model = RandomForestClassifier()\n",
    "\n",
    "params_clf = dict(n_estimators = np.arange(50,300,50),\n",
    "                  max_depth = np.arange(1,16,2),\n",
    "                  max_leaf_nodes = np.arange(1,10))\n",
    "grid_search_clf = GridSearchCV(model, param_grid = params_clf, cv =3, scoring='recall')\n",
    "grid_search_clf.fit(X_train,y_train)"
   ]
  },
  {
   "cell_type": "markdown",
   "metadata": {},
   "source": [
    "Best params for our model are:"
   ]
  },
  {
   "cell_type": "code",
   "execution_count": 13,
   "metadata": {},
   "outputs": [
    {
     "data": {
      "text/plain": [
       "{'max_depth': 11, 'max_leaf_nodes': 9, 'n_estimators': 50}"
      ]
     },
     "execution_count": 13,
     "metadata": {},
     "output_type": "execute_result"
    }
   ],
   "source": [
    "grid_search_clf.best_params_"
   ]
  },
  {
   "cell_type": "markdown",
   "metadata": {},
   "source": [
    "Now we will train our model with best params"
   ]
  },
  {
   "cell_type": "code",
   "execution_count": 20,
   "metadata": {
    "scrolled": true
   },
   "outputs": [
    {
     "data": {
      "text/plain": [
       "RandomForestClassifier(max_depth=11, max_leaf_nodes=9, n_estimators=50,\n",
       "                       random_state=2)"
      ]
     },
     "execution_count": 20,
     "metadata": {},
     "output_type": "execute_result"
    }
   ],
   "source": [
    "clf_forest = RandomForestClassifier(n_estimators=50,max_depth=11, max_leaf_nodes=9,random_state=2)\n",
    "clf_forest.fit(X_train, y_train)\n"
   ]
  },
  {
   "cell_type": "code",
   "execution_count": 36,
   "metadata": {},
   "outputs": [],
   "source": [
    "y_pred_forest = clf_forest.predict(X_test)"
   ]
  },
  {
   "cell_type": "markdown",
   "metadata": {},
   "source": [
    "Let's see classification_report on our model(for label=1)"
   ]
  },
  {
   "cell_type": "code",
   "execution_count": 37,
   "metadata": {},
   "outputs": [],
   "source": [
    "def get_stats(model, x_test_input=X_test, y_test_input=y_test,\n",
    "             x_train_inp=X_train, y_train_inp=y_train):\n",
    "    y_pred = np.round(model.predict(x_test_input))\n",
    "    y_pred_train = np.round(model.predict(x_train_inp))\n",
    "    accuracy_test = metrics.accuracy_score(y_test_input, y_pred)\n",
    "    accuracy_train = metrics.accuracy_score(y_train_inp, y_pred_train)\n",
    "    print(\"Accuracy Test: {0}\".format(round(accuracy_test, 3)))\n",
    "    print(\"Accuracy Train: {0}\".format(round(accuracy_train, 3)))\n",
    "    print(classification_report(y_test_input, y_pred))"
   ]
  },
  {
   "cell_type": "code",
   "execution_count": 38,
   "metadata": {},
   "outputs": [
    {
     "name": "stdout",
     "output_type": "stream",
     "text": [
      "Accuracy Test: 0.806\n",
      "Accuracy Train: 0.798\n",
      "              precision    recall  f1-score   support\n",
      "\n",
      "           0       0.76      0.92      0.83      2472\n",
      "           1       0.89      0.69      0.77      2317\n",
      "\n",
      "    accuracy                           0.81      4789\n",
      "   macro avg       0.82      0.80      0.80      4789\n",
      "weighted avg       0.82      0.81      0.80      4789\n",
      "\n"
     ]
    }
   ],
   "source": [
    "get_stats(clf_forest, x_test_input=X_test, y_test_input=y_test,\n",
    "             x_train_inp=X_train, y_train_inp=y_train)"
   ]
  },
  {
   "cell_type": "markdown",
   "metadata": {},
   "source": [
    "Here we see, that for this classifier on the test set (for label=1) the precision = 0.89 and recall = 0.69 "
   ]
  },
  {
   "cell_type": "markdown",
   "metadata": {},
   "source": [
    "### 3. Instead of using the default threshold for classification, we can use different thresholds on scores to adjust precision and recall. Using `predict_proba(...)` and `sklearn.metrics.precision_recall_curve`, plot a precision-recall curve for the classifier. (You may use matplotlib for the plot.)"
   ]
  },
  {
   "cell_type": "code",
   "execution_count": 39,
   "metadata": {},
   "outputs": [],
   "source": [
    "y_scores = clf_forest.predict_proba(X_test)[:, 1]"
   ]
  },
  {
   "cell_type": "code",
   "execution_count": 40,
   "metadata": {},
   "outputs": [
    {
     "data": {
      "image/png": "[encoded data removed]",
      "text/plain": [
       "<Figure size 1296x360 with 2 Axes>"
      ]
     },
     "metadata": {
      "needs_background": "light"
     },
     "output_type": "display_data"
    }
   ],
   "source": [
    "\n",
    "fig = plt.figure(figsize = (18,5))\n",
    "\n",
    "# calculate precision-recall curve\n",
    "precision, recall, thresholds = precision_recall_curve(y_test, y_scores , pos_label=1)\n",
    "precision, recall = np.round(precision, 2), np.round(recall, 2)\n",
    "\n",
    "# average precision score\n",
    "avg_precision = average_precision_score(y_test, y_scores,pos_label=1)\n",
    "\n",
    "# precision auc\n",
    "pr_auc = auc(recall, precision)\n",
    "\n",
    "ax1 = plt.subplot(121)\n",
    "ax1.plot(recall, precision, lw=1, color='blue', label=f'AP={round(avg_precision,3)}; AUC={round(pr_auc,3)}') \n",
    "ax1.fill_between(recall, precision,-1, facecolor='lightblue', alpha=0.5)\n",
    "plt.xlabel('Recall (TPR)')\n",
    "plt.ylim(0,1)\n",
    "plt.xlim(0,1)\n",
    "plt.ylabel('Precision')\n",
    "plt.legend(loc=\"lower left\")\n",
    "plt.title('PR Curve for label=1');\n",
    "\n",
    "\n",
    "ax2 = plt.subplot(122)\n",
    "ax2.plot(thresholds, recall[:-1],\"b--\", lw=1, color='blue', label='Recall') \n",
    "ax2.plot(thresholds, precision[:-1],\"b--\", lw=1, color='red', label='Precision') \n",
    "ax2.fill_between(thresholds, precision[:-1],-1, facecolor='pink', alpha=0.5)\n",
    "ax2.fill_between(thresholds, recall[:-1],-1, facecolor='lightblue', alpha=0.5)\n",
    "plt.xlabel('Thresholds')\n",
    "plt.ylim(0,1)\n",
    "plt.xlim(0,1)\n",
    "plt.ylabel('Precision, Recall values')\n",
    "plt.legend(loc=\"lower left\")\n",
    "plt.title('Precision, Recall for Differen Thresholds');"
   ]
  },
  {
   "cell_type": "markdown",
   "metadata": {},
   "source": [
    "On the plot we see, that average precision score gives us a high result of accuracy"
   ]
  },
  {
   "cell_type": "markdown",
   "metadata": {},
   "source": [
    "# Part 2: Building a dashboard\n",
    "\n",
    "After training the model on the first three months, you want to visualize how the model performed on each day of the last month (December).\n",
    "\n",
    "## Questions:\n",
    "\n",
    "**4. Write a function `get_pr_for_day(day, threshold)` that given a day (integer 1-30) and score threshold value, returns the tuple (precision, recall) for the classifier on the test data from that given day.**\n"
   ]
  },
  {
   "cell_type": "code",
   "execution_count": 41,
   "metadata": {},
   "outputs": [],
   "source": [
    "\n",
    "def get_pr_for_day(day, threshhold_new):\n",
    "    \n",
    "    X_test_day = df[(df.date.dt.month == 12) & (df.date.dt.day == day)]. \\\n",
    "    drop(['Unnamed: 0','date','label'], axis=1)\n",
    "\n",
    "    y_test_day = df[(df.date.dt.month == 12) & \n",
    "                    (df.date.dt.day == day)]['label']\n",
    "    \n",
    "    y_pred_proba = clf_forest.predict_proba(X_test_day)[:,1]\n",
    "    \n",
    "    # calculate precision-recall \n",
    "    precision, recall, threshhold = precision_recall_curve(y_test_day,\n",
    "                                                           y_pred_proba,\n",
    "                                                           pos_label=1)\n",
    "    \n",
    "    indx = (np.abs(np.array(threshhold) - np.array(threshhold_new))).argmin()\n",
    "\n",
    "    return (precision[indx],recall[indx])"
   ]
  },
  {
   "cell_type": "code",
   "execution_count": 42,
   "metadata": {},
   "outputs": [
    {
     "data": {
      "text/plain": [
       "(0.6153846153846154, 0.9904761904761905)"
      ]
     },
     "execution_count": 42,
     "metadata": {},
     "output_type": "execute_result"
    }
   ],
   "source": [
    "get_pr_for_day(5, 0.3)"
   ]
  },
  {
   "cell_type": "markdown",
   "metadata": {},
   "source": [
    "**5. Create a Bokeh plot containing line plots of precision (in blue) and recall (in red), for threshold=0.5. The x axis should be the day in December, and the y axis should be the precision/recall rate. Use `output_nodebook()` so that it displays inline in your Jupyter notebook. Note: You can adjust the plot's width and height and the range of the y axis with `figure(..., plot_width=..., plot_height=..., y_range=...)`.**\n"
   ]
  },
  {
   "cell_type": "markdown",
   "metadata": {},
   "source": [
    "Take unique days from last month"
   ]
  },
  {
   "cell_type": "code",
   "execution_count": 43,
   "metadata": {},
   "outputs": [
    {
     "data": {
      "text/plain": [
       "[1, 2, 3, 4, 5, 6, 7, 8, 9, 10, 11, 12, 13]"
      ]
     },
     "execution_count": 43,
     "metadata": {},
     "output_type": "execute_result"
    }
   ],
   "source": [
    "\n",
    "days = np.unique(df.date.dt.day[(df.date.dt.month == 12)]).tolist()\n",
    "days"
   ]
  },
  {
   "cell_type": "markdown",
   "metadata": {},
   "source": [
    "Create list of precision and recall by days in December"
   ]
  },
  {
   "cell_type": "markdown",
   "metadata": {},
   "source": [
    "Function to get Precision and Recall for December by Days and threshold"
   ]
  },
  {
   "cell_type": "code",
   "execution_count": 46,
   "metadata": {},
   "outputs": [],
   "source": [
    "def get_list_prec_rec(days, threshold):\n",
    "    precision_list = []\n",
    "    recall_list = []\n",
    "    for day in days:\n",
    "        precision_list.append(get_pr_for_day(day, threshold)[0])\n",
    "        recall_list.append(get_pr_for_day(day, threshold)[1])\n",
    "    return np.array(precision_list), np.array(recall_list)"
   ]
  },
  {
   "cell_type": "code",
   "execution_count": 50,
   "metadata": {
    "scrolled": false
   },
   "outputs": [
    {
     "data": {
      "text/plain": [
       "(array([0.87027027, 0.88      , 0.86934673, 0.86772487, 0.86702128,\n",
       "        0.82291667, 0.93452381, 0.9039548 , 0.83505155, 0.8974359 ,\n",
       "        0.87323944, 0.82608696, 0.75      ]),\n",
       " array([0.805     , 0.75862069, 0.79723502, 0.77725118, 0.77619048,\n",
       "        0.79396985, 0.72685185, 0.76923077, 0.76056338, 0.66985646,\n",
       "        0.74698795, 0.61290323, 0.6       ]))"
      ]
     },
     "execution_count": 50,
     "metadata": {},
     "output_type": "execute_result"
    }
   ],
   "source": [
    "\n",
    "precision_list = get_list_prec_rec(days, 0.5)[0]\n",
    "recall_list = get_list_prec_rec(days, 0.5)[1]\n",
    "    \n",
    "precision_list,recall_list"
   ]
  },
  {
   "cell_type": "markdown",
   "metadata": {},
   "source": [
    "Draw Bokeh plot of Precision and Recall for December by Days"
   ]
  },
  {
   "cell_type": "code",
   "execution_count": 49,
   "metadata": {},
   "outputs": [
    {
     "data": {
      "text/html": [
       "\n",
       "\n",
       "\n",
       "\n",
       "\n",
       "\n",
       "  <div class=\"bk-root\" id=\"b3f0136a-fb31-473a-90d9-6a729d5682c2\" data-root-id=\"1382\"></div>\n"
      ]
     },
     "metadata": {},
     "output_type": "display_data"
    },
    {
     "data": {
      "application/javascript": [
       "(function(root) {\n",
       "  function embed_document(root) {\n",
       "    \n",
       "  var docs_json = {\"ca4de76f-7b98-4dd7-b1e9-a5e594cb5391\":{\"roots\":{\"references\":[{\"attributes\":{\"below\":[{\"id\":\"1393\"}],\"center\":[{\"id\":\"1396\"},{\"id\":\"1400\"},{\"id\":\"1422\"}],\"left\":[{\"id\":\"1397\"}],\"plot_height\":300,\"plot_width\":900,\"renderers\":[{\"id\":\"1414\"},{\"id\":\"1427\"}],\"title\":{\"id\":\"1383\"},\"toolbar\":{\"id\":\"1406\"},\"x_range\":{\"id\":\"1385\"},\"x_scale\":{\"id\":\"1389\"},\"y_range\":{\"id\":\"1387\"},\"y_scale\":{\"id\":\"1391\"}},\"id\":\"1382\",\"subtype\":\"Figure\",\"type\":\"Plot\"},{\"attributes\":{\"line_alpha\":0.1,\"line_color\":\"blue\",\"line_width\":2,\"x\":{\"field\":\"x\"},\"y\":{\"field\":\"y\"}},\"id\":\"1413\",\"type\":\"Line\"},{\"attributes\":{},\"id\":\"1394\",\"type\":\"BasicTicker\"},{\"attributes\":{\"axis\":{\"id\":\"1397\"},\"dimension\":1,\"ticker\":null},\"id\":\"1400\",\"type\":\"Grid\"},{\"attributes\":{\"data\":{\"x\":[1,2,3,4,5,6,7,8,9,10,11,12,13],\"y\":[0.8702702702702703,0.88,0.8693467336683417,0.8677248677248677,0.8670212765957447,0.8229166666666666,0.9345238095238095,0.903954802259887,0.8350515463917526,0.8974358974358975,0.8732394366197183,0.8260869565217391,0.75]},\"selected\":{\"id\":\"1434\"},\"selection_policy\":{\"id\":\"1435\"}},\"id\":\"1411\",\"type\":\"ColumnDataSource\"},{\"attributes\":{\"line_color\":\"red\",\"line_width\":2,\"x\":{\"field\":\"x\"},\"y\":{\"field\":\"y\"}},\"id\":\"1425\",\"type\":\"Line\"},{\"attributes\":{\"overlay\":{\"id\":\"1405\"}},\"id\":\"1403\",\"type\":\"BoxSelectTool\"},{\"attributes\":{\"bottom_units\":\"screen\",\"fill_alpha\":0.5,\"fill_color\":\"lightgrey\",\"left_units\":\"screen\",\"level\":\"overlay\",\"line_alpha\":1.0,\"line_color\":\"black\",\"line_dash\":[4,4],\"line_width\":2,\"render_mode\":\"css\",\"right_units\":\"screen\",\"top_units\":\"screen\"},\"id\":\"1405\",\"type\":\"BoxAnnotation\"},{\"attributes\":{\"line_color\":\"blue\",\"line_width\":2,\"x\":{\"field\":\"x\"},\"y\":{\"field\":\"y\"}},\"id\":\"1412\",\"type\":\"Line\"},{\"attributes\":{},\"id\":\"1398\",\"type\":\"BasicTicker\"},{\"attributes\":{\"label\":{\"value\":\"Precision\"},\"renderers\":[{\"id\":\"1414\"}]},\"id\":\"1423\",\"type\":\"LegendItem\"},{\"attributes\":{\"data\":{\"x\":[1,2,3,4,5,6,7,8,9,10,11,12,13],\"y\":[0.805,0.7586206896551724,0.7972350230414746,0.7772511848341233,0.7761904761904762,0.7939698492462312,0.7268518518518519,0.7692307692307693,0.7605633802816901,0.6698564593301436,0.7469879518072289,0.6129032258064516,0.6]},\"selected\":{\"id\":\"1455\"},\"selection_policy\":{\"id\":\"1456\"}},\"id\":\"1424\",\"type\":\"ColumnDataSource\"},{\"attributes\":{},\"id\":\"1402\",\"type\":\"WheelZoomTool\"},{\"attributes\":{},\"id\":\"1435\",\"type\":\"UnionRenderers\"},{\"attributes\":{},\"id\":\"1387\",\"type\":\"Range1d\"},{\"attributes\":{\"axis_label\":\"Precision/Recall Rate\",\"formatter\":{\"id\":\"1417\"},\"ticker\":{\"id\":\"1398\"}},\"id\":\"1397\",\"type\":\"LinearAxis\"},{\"attributes\":{\"source\":{\"id\":\"1424\"}},\"id\":\"1428\",\"type\":\"CDSView\"},{\"attributes\":{\"items\":[{\"id\":\"1423\"},{\"id\":\"1437\"}]},\"id\":\"1422\",\"type\":\"Legend\"},{\"attributes\":{},\"id\":\"1417\",\"type\":\"BasicTickFormatter\"},{\"attributes\":{},\"id\":\"1455\",\"type\":\"Selection\"},{\"attributes\":{},\"id\":\"1389\",\"type\":\"LinearScale\"},{\"attributes\":{\"line_alpha\":0.1,\"line_color\":\"red\",\"line_width\":2,\"x\":{\"field\":\"x\"},\"y\":{\"field\":\"y\"}},\"id\":\"1426\",\"type\":\"Line\"},{\"attributes\":{},\"id\":\"1401\",\"type\":\"PanTool\"},{\"attributes\":{\"axis\":{\"id\":\"1393\"},\"ticker\":null},\"id\":\"1396\",\"type\":\"Grid\"},{\"attributes\":{},\"id\":\"1391\",\"type\":\"LinearScale\"},{\"attributes\":{\"data_source\":{\"id\":\"1411\"},\"glyph\":{\"id\":\"1412\"},\"hover_glyph\":null,\"muted_glyph\":null,\"nonselection_glyph\":{\"id\":\"1413\"},\"selection_glyph\":null,\"view\":{\"id\":\"1415\"}},\"id\":\"1414\",\"type\":\"GlyphRenderer\"},{\"attributes\":{\"data_source\":{\"id\":\"1424\"},\"glyph\":{\"id\":\"1425\"},\"hover_glyph\":null,\"muted_glyph\":null,\"nonselection_glyph\":{\"id\":\"1426\"},\"selection_glyph\":null,\"view\":{\"id\":\"1428\"}},\"id\":\"1427\",\"type\":\"GlyphRenderer\"},{\"attributes\":{\"axis_label\":\"12 days of December\",\"formatter\":{\"id\":\"1419\"},\"ticker\":{\"id\":\"1394\"}},\"id\":\"1393\",\"type\":\"LinearAxis\"},{\"attributes\":{},\"id\":\"1434\",\"type\":\"Selection\"},{\"attributes\":{\"active_drag\":\"auto\",\"active_inspect\":\"auto\",\"active_multi\":null,\"active_scroll\":\"auto\",\"active_tap\":\"auto\",\"tools\":[{\"id\":\"1401\"},{\"id\":\"1402\"},{\"id\":\"1403\"},{\"id\":\"1404\"}]},\"id\":\"1406\",\"type\":\"Toolbar\"},{\"attributes\":{},\"id\":\"1456\",\"type\":\"UnionRenderers\"},{\"attributes\":{\"label\":{\"value\":\"Recall\"},\"renderers\":[{\"id\":\"1427\"}]},\"id\":\"1437\",\"type\":\"LegendItem\"},{\"attributes\":{\"source\":{\"id\":\"1411\"}},\"id\":\"1415\",\"type\":\"CDSView\"},{\"attributes\":{},\"id\":\"1419\",\"type\":\"BasicTickFormatter\"},{\"attributes\":{},\"id\":\"1385\",\"type\":\"DataRange1d\"},{\"attributes\":{},\"id\":\"1404\",\"type\":\"ResetTool\"},{\"attributes\":{\"text\":\"Precision and Recall for December by Days\"},\"id\":\"1383\",\"type\":\"Title\"}],\"root_ids\":[\"1382\"]},\"title\":\"Bokeh Application\",\"version\":\"2.0.2\"}};\n",
       "  var render_items = [{\"docid\":\"ca4de76f-7b98-4dd7-b1e9-a5e594cb5391\",\"notebook_comms_target\":\"1458\",\"root_ids\":[\"1382\"],\"roots\":{\"1382\":\"b3f0136a-fb31-473a-90d9-6a729d5682c2\"}}];\n",
       "  root.Bokeh.embed.embed_items_notebook(docs_json, render_items);\n",
       "\n",
       "  }\n",
       "  if (root.Bokeh !== undefined) {\n",
       "    embed_document(root);\n",
       "  } else {\n",
       "    var attempts = 0;\n",
       "    var timer = setInterval(function(root) {\n",
       "      if (root.Bokeh !== undefined) {\n",
       "        clearInterval(timer);\n",
       "        embed_document(root);\n",
       "      } else {\n",
       "        attempts++;\n",
       "        if (attempts > 100) {\n",
       "          clearInterval(timer);\n",
       "          console.log(\"Bokeh: ERROR: Unable to run BokehJS code because BokehJS library is missing\");\n",
       "        }\n",
       "      }\n",
       "    }, 10, root)\n",
       "  }\n",
       "})(window);"
      ],
      "application/vnd.bokehjs_exec.v0+json": ""
     },
     "metadata": {
      "application/vnd.bokehjs_exec.v0+json": {
       "id": "1382"
      }
     },
     "output_type": "display_data"
    }
   ],
   "source": [
    "p = figure(tools=\"pan,wheel_zoom,box_select,reset\",\n",
    "           title=\"Precision and Recall for December by Days\",\n",
    "           x_axis_label='12 days of December',\n",
    "           y_axis_label='Precision/Recall Rate',\n",
    "           plot_width=900, plot_height=300, y_range=[0, 1]\n",
    "            )\n",
    "\n",
    "# add a line renderer with legend and line thickness\n",
    "p1 = p.line(days, precision_list,\n",
    "        legend_label=\"Precision\", \n",
    "        line_width=2,\n",
    "        line_color=\"blue\")\n",
    "p2 = p.line(days, recall_list,\n",
    "        legend_label=\"Recall\", \n",
    "        line_width=2,\n",
    "        line_color=\"red\")\n",
    "\n",
    "#show result\n",
    "show(p, notebook_handle=True);"
   ]
  },
  {
   "cell_type": "markdown",
   "metadata": {},
   "source": [
    "**6. Make the figure interactive by adding a slider bar with the classifier's threshold value. As you slide the bar between 0 and 1, the precision and recall line plots should change accordingly. Hints: Make sure to use `notebook_handle=True` in `show(...)`, define your update callback `update(threshold)`, and then use `ipywidgets.interact(update, threshold=(0, 1, 0.01))`.**\n"
   ]
  },
  {
   "cell_type": "code",
   "execution_count": 47,
   "metadata": {},
   "outputs": [
    {
     "data": {
      "text/html": [
       "\n",
       "\n",
       "\n",
       "\n",
       "\n",
       "\n",
       "  <div class=\"bk-root\" id=\"13b29012-3e59-4fc5-9542-d12bd1f11bb5\" data-root-id=\"1191\"></div>\n"
      ]
     },
     "metadata": {},
     "output_type": "display_data"
    },
    {
     "data": {
      "application/javascript": [
       "(function(root) {\n",
       "  function embed_document(root) {\n",
       "    \n",
       "  var docs_json = {\"cb34d6e7-1d7a-45d0-a4ec-90339f4fcaf4\":{\"roots\":{\"references\":[{\"attributes\":{\"below\":[{\"id\":\"1202\"}],\"center\":[{\"id\":\"1205\"},{\"id\":\"1209\"},{\"id\":\"1231\"}],\"left\":[{\"id\":\"1206\"}],\"plot_height\":300,\"plot_width\":900,\"renderers\":[{\"id\":\"1223\"},{\"id\":\"1236\"}],\"title\":{\"id\":\"1192\"},\"toolbar\":{\"id\":\"1215\"},\"x_range\":{\"id\":\"1194\"},\"x_scale\":{\"id\":\"1198\"},\"y_range\":{\"id\":\"1196\"},\"y_scale\":{\"id\":\"1200\"}},\"id\":\"1191\",\"subtype\":\"Figure\",\"type\":\"Plot\"},{\"attributes\":{\"data\":{\"x\":[1,2,3,4,5,6,7,8,9,10,11,12,13],\"y\":[0.805,0.7586206896551724,0.7972350230414746,0.7772511848341233,0.7761904761904762,0.7939698492462312,0.7268518518518519,0.7692307692307693,0.7605633802816901,0.6698564593301436,0.7469879518072289,0.6129032258064516,0.6]},\"selected\":{\"id\":\"1254\"},\"selection_policy\":{\"id\":\"1255\"}},\"id\":\"1233\",\"type\":\"ColumnDataSource\"},{\"attributes\":{},\"id\":\"1254\",\"type\":\"Selection\"},{\"attributes\":{},\"id\":\"1228\",\"type\":\"BasicTickFormatter\"},{\"attributes\":{\"data\":{\"x\":[1,2,3,4,5,6,7,8,9,10,11,12,13],\"y\":[0.8702702702702703,0.88,0.8693467336683417,0.8677248677248677,0.8670212765957447,0.8229166666666666,0.9345238095238095,0.903954802259887,0.8350515463917526,0.8974358974358975,0.8732394366197183,0.8260869565217391,0.75]},\"selected\":{\"id\":\"1243\"},\"selection_policy\":{\"id\":\"1244\"}},\"id\":\"1220\",\"type\":\"ColumnDataSource\"},{\"attributes\":{\"label\":{\"value\":\"Recall\"},\"renderers\":[{\"id\":\"1236\"}]},\"id\":\"1246\",\"type\":\"LegendItem\"},{\"attributes\":{},\"id\":\"1200\",\"type\":\"LinearScale\"},{\"attributes\":{},\"id\":\"1243\",\"type\":\"Selection\"},{\"attributes\":{},\"id\":\"1244\",\"type\":\"UnionRenderers\"},{\"attributes\":{\"line_alpha\":0.1,\"line_color\":\"blue\",\"line_width\":2,\"x\":{\"field\":\"x\"},\"y\":{\"field\":\"y\"}},\"id\":\"1222\",\"type\":\"Line\"},{\"attributes\":{\"line_color\":\"red\",\"line_width\":2,\"x\":{\"field\":\"x\"},\"y\":{\"field\":\"y\"}},\"id\":\"1234\",\"type\":\"Line\"},{\"attributes\":{\"source\":{\"id\":\"1220\"}},\"id\":\"1224\",\"type\":\"CDSView\"},{\"attributes\":{\"active_drag\":\"auto\",\"active_inspect\":\"auto\",\"active_multi\":null,\"active_scroll\":\"auto\",\"active_tap\":\"auto\",\"tools\":[{\"id\":\"1210\"},{\"id\":\"1211\"},{\"id\":\"1212\"},{\"id\":\"1213\"}]},\"id\":\"1215\",\"type\":\"Toolbar\"},{\"attributes\":{},\"id\":\"1198\",\"type\":\"LinearScale\"},{\"attributes\":{\"axis_label\":\"Precision/Recall Rate\",\"formatter\":{\"id\":\"1226\"},\"ticker\":{\"id\":\"1207\"}},\"id\":\"1206\",\"type\":\"LinearAxis\"},{\"attributes\":{},\"id\":\"1226\",\"type\":\"BasicTickFormatter\"},{\"attributes\":{},\"id\":\"1255\",\"type\":\"UnionRenderers\"},{\"attributes\":{\"text\":\"Precision and Recall for December by Days\"},\"id\":\"1192\",\"type\":\"Title\"},{\"attributes\":{\"label\":{\"value\":\"Precision\"},\"renderers\":[{\"id\":\"1223\"}]},\"id\":\"1232\",\"type\":\"LegendItem\"},{\"attributes\":{\"axis\":{\"id\":\"1206\"},\"dimension\":1,\"ticker\":null},\"id\":\"1209\",\"type\":\"Grid\"},{\"attributes\":{\"line_color\":\"blue\",\"line_width\":2,\"x\":{\"field\":\"x\"},\"y\":{\"field\":\"y\"}},\"id\":\"1221\",\"type\":\"Line\"},{\"attributes\":{\"data_source\":{\"id\":\"1220\"},\"glyph\":{\"id\":\"1221\"},\"hover_glyph\":null,\"muted_glyph\":null,\"nonselection_glyph\":{\"id\":\"1222\"},\"selection_glyph\":null,\"view\":{\"id\":\"1224\"}},\"id\":\"1223\",\"type\":\"GlyphRenderer\"},{\"attributes\":{\"axis_label\":\"12 days of December\",\"formatter\":{\"id\":\"1228\"},\"ticker\":{\"id\":\"1203\"}},\"id\":\"1202\",\"type\":\"LinearAxis\"},{\"attributes\":{\"overlay\":{\"id\":\"1214\"}},\"id\":\"1212\",\"type\":\"BoxSelectTool\"},{\"attributes\":{},\"id\":\"1196\",\"type\":\"Range1d\"},{\"attributes\":{},\"id\":\"1194\",\"type\":\"DataRange1d\"},{\"attributes\":{\"source\":{\"id\":\"1233\"}},\"id\":\"1237\",\"type\":\"CDSView\"},{\"attributes\":{\"bottom_units\":\"screen\",\"fill_alpha\":0.5,\"fill_color\":\"lightgrey\",\"left_units\":\"screen\",\"level\":\"overlay\",\"line_alpha\":1.0,\"line_color\":\"black\",\"line_dash\":[4,4],\"line_width\":2,\"render_mode\":\"css\",\"right_units\":\"screen\",\"top_units\":\"screen\"},\"id\":\"1214\",\"type\":\"BoxAnnotation\"},{\"attributes\":{},\"id\":\"1210\",\"type\":\"PanTool\"},{\"attributes\":{},\"id\":\"1211\",\"type\":\"WheelZoomTool\"},{\"attributes\":{\"data_source\":{\"id\":\"1233\"},\"glyph\":{\"id\":\"1234\"},\"hover_glyph\":null,\"muted_glyph\":null,\"nonselection_glyph\":{\"id\":\"1235\"},\"selection_glyph\":null,\"view\":{\"id\":\"1237\"}},\"id\":\"1236\",\"type\":\"GlyphRenderer\"},{\"attributes\":{\"items\":[{\"id\":\"1232\"},{\"id\":\"1246\"}]},\"id\":\"1231\",\"type\":\"Legend\"},{\"attributes\":{},\"id\":\"1203\",\"type\":\"BasicTicker\"},{\"attributes\":{\"line_alpha\":0.1,\"line_color\":\"red\",\"line_width\":2,\"x\":{\"field\":\"x\"},\"y\":{\"field\":\"y\"}},\"id\":\"1235\",\"type\":\"Line\"},{\"attributes\":{},\"id\":\"1213\",\"type\":\"ResetTool\"},{\"attributes\":{},\"id\":\"1207\",\"type\":\"BasicTicker\"},{\"attributes\":{\"axis\":{\"id\":\"1202\"},\"ticker\":null},\"id\":\"1205\",\"type\":\"Grid\"}],\"root_ids\":[\"1191\"]},\"title\":\"Bokeh Application\",\"version\":\"2.0.2\"}};\n",
       "  var render_items = [{\"docid\":\"cb34d6e7-1d7a-45d0-a4ec-90339f4fcaf4\",\"notebook_comms_target\":\"1318\",\"root_ids\":[\"1191\"],\"roots\":{\"1191\":\"13b29012-3e59-4fc5-9542-d12bd1f11bb5\"}}];\n",
       "  root.Bokeh.embed.embed_items_notebook(docs_json, render_items);\n",
       "\n",
       "  }\n",
       "  if (root.Bokeh !== undefined) {\n",
       "    embed_document(root);\n",
       "  } else {\n",
       "    var attempts = 0;\n",
       "    var timer = setInterval(function(root) {\n",
       "      if (root.Bokeh !== undefined) {\n",
       "        clearInterval(timer);\n",
       "        embed_document(root);\n",
       "      } else {\n",
       "        attempts++;\n",
       "        if (attempts > 100) {\n",
       "          clearInterval(timer);\n",
       "          console.log(\"Bokeh: ERROR: Unable to run BokehJS code because BokehJS library is missing\");\n",
       "        }\n",
       "      }\n",
       "    }, 10, root)\n",
       "  }\n",
       "})(window);"
      ],
      "application/vnd.bokehjs_exec.v0+json": ""
     },
     "metadata": {
      "application/vnd.bokehjs_exec.v0+json": {
       "id": "1191"
      }
     },
     "output_type": "display_data"
    },
    {
     "data": {
      "application/vnd.jupyter.widget-view+json": {
       "model_id": "599516edcf284880b91007167210fdb0",
       "version_major": 2,
       "version_minor": 0
      },
      "text/plain": [
       "interactive(children=(FloatSlider(value=0.0, description='threshold', max=1.0, step=0.01), Output()), _dom_cla…"
      ]
     },
     "metadata": {},
     "output_type": "display_data"
    }
   ],
   "source": [
    "def update(threshold):\n",
    "    \n",
    "    precision_list,recall_list = get_list_prec_rec(days, threshold)\n",
    "    p1.data_source.data['y'] = precision_list\n",
    "    p2.data_source.data['y'] = recall_list\n",
    "    push_notebook()\n",
    "\n",
    "\n",
    "show(p, notebook_handle=True)\n",
    "interact(update, threshold=(0, 1, 0.01));"
   ]
  },
  {
   "cell_type": "markdown",
   "metadata": {},
   "source": [
    "\n",
    "## Bonus: \n",
    "<br>**Why did we use `threshold=(0, 1, 0.01)` above instead of `threshold=(0, 1)`?**"
   ]
  },
  {
   "cell_type": "markdown",
   "metadata": {},
   "source": [
    "Because we have to sent also step for values"
   ]
  },
  {
   "cell_type": "code",
   "execution_count": null,
   "metadata": {},
   "outputs": [],
   "source": []
  },
  {
   "cell_type": "code",
   "execution_count": null,
   "metadata": {},
   "outputs": [],
   "source": []
  },
  {
   "cell_type": "code",
   "execution_count": null,
   "metadata": {},
   "outputs": [],
   "source": []
  },
  {
   "cell_type": "code",
   "execution_count": null,
   "metadata": {},
   "outputs": [],
   "source": []
  }
 ],
 "metadata": {
  "kernelspec": {
   "display_name": "Python 3",
   "language": "python",
   "name": "python3"
  },
  "language_info": {
   "codemirror_mode": {
    "name": "ipython",
    "version": 3
   },
   "file_extension": ".py",
   "mimetype": "text/x-python",
   "name": "python",
   "nbconvert_exporter": "python",
   "pygments_lexer": "ipython3",
   "version": "3.6.10"
  }
 },
 "nbformat": 4,
 "nbformat_minor": 2
}
