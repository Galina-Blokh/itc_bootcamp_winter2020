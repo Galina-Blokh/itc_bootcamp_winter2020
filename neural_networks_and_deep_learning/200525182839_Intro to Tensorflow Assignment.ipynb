{
 "cells": [
  {
   "cell_type": "code",
   "execution_count": 29,
   "metadata": {
    "colab": {},
    "colab_type": "code",
    "id": "7oxrhxJ5xN4A"
   },
   "outputs": [],
   "source": [
    "import numpy as np\n",
    "import tensorflow as tf\n",
    "from tensorflow.keras.models import Sequential\n",
    "from tensorflow.keras.layers import Dense\n",
    "from tensorflow.keras.layers import Input\n",
    "from tensorflow.keras.models import Model\n",
    "tf.keras.backend.clear_session()  # For easy reset of notebook state.\n",
    "from tensorflow.keras.layers import concatenate"
   ]
  },
  {
   "cell_type": "code",
   "execution_count": 2,
   "metadata": {},
   "outputs": [
    {
     "data": {
      "text/plain": [
       "'2.2.0'"
      ]
     },
     "execution_count": 2,
     "metadata": {},
     "output_type": "execute_result"
    }
   ],
   "source": [
    "tf.__version__"
   ]
  },
  {
   "cell_type": "markdown",
   "metadata": {
    "colab_type": "text",
    "id": "V0W3vlijxKLd"
   },
   "source": [
    "# Tensorflow Exercise: Keras Sequential vs. Functional APIs\n",
    "\n",
    "#### In this exercise, we will practice using the two APIs that Keras provides for building deep learning models: the Keras Sequential and Functional APIs.\n",
    "\n",
    "##### If you need to reference the syntax of either model, see the Keras documentation pages on the [Sequential](https://keras.io/getting-started/sequential-model-guide/) and [Functional](https://keras.io/getting-started/functional-api-guide/) APIs.\n",
    "\n",
    "# Part 1: Sequential Voting\n",
    "\n",
    "#### For our toy problem, we will use the following data:"
   ]
  },
  {
   "cell_type": "code",
   "execution_count": 3,
   "metadata": {
    "colab": {},
    "colab_type": "code",
    "id": "vrtZ_lBexM3A"
   },
   "outputs": [],
   "source": [
    "X = np.random.randint(0, 2, size = (1000, 9))\n",
    "Y = np.where(np.mean(X, axis = 1) > 0.5, 1, 0)"
   ]
  },
  {
   "cell_type": "code",
   "execution_count": 4,
   "metadata": {},
   "outputs": [
    {
     "data": {
      "text/plain": [
       "((1000, 9), (1000,))"
      ]
     },
     "execution_count": 4,
     "metadata": {},
     "output_type": "execute_result"
    }
   ],
   "source": [
    "X.shape,Y.shape"
   ]
  },
  {
   "cell_type": "markdown",
   "metadata": {
    "colab_type": "text",
    "id": "5pSg9bosxOnF"
   },
   "source": [
    "# Questions:\n",
    "### 1. What does it mean that the elements of Y represent a \"majority vote\" on X?\n"
   ]
  },
  {
   "cell_type": "markdown",
   "metadata": {},
   "source": [
    "Y[i] = 1 <=> mean(X[row i]) > 0.5 <=> more than half are 1 <=> this is majority vote for 1\n",
    "\n",
    "Y[i] = 0 <=> mean(X[row i]) <= 0.5 <=> more than half are 0 <=> this is majority vote for 0"
   ]
  },
  {
   "cell_type": "markdown",
   "metadata": {},
   "source": [
    "### 2. We want to learn how to predict elements of Y from rows of X.<br> Build a Keras Sequential model *model* with one Dense layer (with activation = 'sigmoid') that can be fit on X and Y."
   ]
  },
  {
   "cell_type": "code",
   "execution_count": 5,
   "metadata": {},
   "outputs": [],
   "source": [
    "model = Sequential([\n",
    "        Dense(1, input_dim = X.shape[1], activation=\"sigmoid\", name=\"layer1\")\n",
    "    ])"
   ]
  },
  {
   "cell_type": "markdown",
   "metadata": {},
   "source": [
    "### <br> Check that the input and output shapes of the model (*model.input_shape* and *model.output_shape*) match the shapes of X and Y.\n"
   ]
  },
  {
   "cell_type": "code",
   "execution_count": 6,
   "metadata": {},
   "outputs": [
    {
     "data": {
      "text/plain": [
       "((None, 9), (None, 1))"
      ]
     },
     "execution_count": 6,
     "metadata": {},
     "output_type": "execute_result"
    }
   ],
   "source": [
    "model.input_shape, model.output_shape"
   ]
  },
  {
   "cell_type": "markdown",
   "metadata": {},
   "source": [
    "The shapes of X and y are match\n",
    "model.input_shape and model.output_shape"
   ]
  },
  {
   "cell_type": "markdown",
   "metadata": {},
   "source": [
    "### 3. Compile the model with 'mean_squared_error' loss, 'rmsprop' optimizer, and *metrics = 'accuracy'*, and fit it to X and Y with *validation_split = 0.2*. You may choose any values for *epochs* and *batch_size* that result in the model learning well.\n"
   ]
  },
  {
   "cell_type": "code",
   "execution_count": 7,
   "metadata": {
    "scrolled": true
   },
   "outputs": [
    {
     "name": "stdout",
     "output_type": "stream",
     "text": [
      "Epoch 1/128\n",
      "25/25 [==============================] - 0s 10ms/step - loss: 0.3794 - accuracy: 0.4412 - val_loss: 0.3687 - val_accuracy: 0.4150\n",
      "Epoch 2/128\n",
      "25/25 [==============================] - 0s 5ms/step - loss: 0.3676 - accuracy: 0.4300 - val_loss: 0.3552 - val_accuracy: 0.4250\n",
      "Epoch 3/128\n",
      "25/25 [==============================] - 0s 5ms/step - loss: 0.3562 - accuracy: 0.4175 - val_loss: 0.3412 - val_accuracy: 0.4200\n",
      "Epoch 4/128\n",
      "25/25 [==============================] - 0s 5ms/step - loss: 0.3450 - accuracy: 0.4100 - val_loss: 0.3280 - val_accuracy: 0.4150\n",
      "Epoch 5/128\n",
      "25/25 [==============================] - 0s 5ms/step - loss: 0.3344 - accuracy: 0.4050 - val_loss: 0.3155 - val_accuracy: 0.4250\n",
      "Epoch 6/128\n",
      "25/25 [==============================] - 0s 4ms/step - loss: 0.3244 - accuracy: 0.4200 - val_loss: 0.3040 - val_accuracy: 0.4200\n",
      "Epoch 7/128\n",
      "25/25 [==============================] - 0s 5ms/step - loss: 0.3146 - accuracy: 0.4300 - val_loss: 0.2929 - val_accuracy: 0.4450\n",
      "Epoch 8/128\n",
      "25/25 [==============================] - 0s 5ms/step - loss: 0.3057 - accuracy: 0.4338 - val_loss: 0.2829 - val_accuracy: 0.4750\n",
      "Epoch 9/128\n",
      "25/25 [==============================] - 0s 4ms/step - loss: 0.2975 - accuracy: 0.4475 - val_loss: 0.2740 - val_accuracy: 0.5150\n",
      "Epoch 10/128\n",
      "25/25 [==============================] - 0s 6ms/step - loss: 0.2905 - accuracy: 0.4650 - val_loss: 0.2666 - val_accuracy: 0.5400\n",
      "Epoch 11/128\n",
      "25/25 [==============================] - 0s 6ms/step - loss: 0.2843 - accuracy: 0.4875 - val_loss: 0.2601 - val_accuracy: 0.5600\n",
      "Epoch 12/128\n",
      "25/25 [==============================] - 0s 5ms/step - loss: 0.2789 - accuracy: 0.4988 - val_loss: 0.2546 - val_accuracy: 0.5500\n",
      "Epoch 13/128\n",
      "25/25 [==============================] - 0s 6ms/step - loss: 0.2740 - accuracy: 0.5075 - val_loss: 0.2496 - val_accuracy: 0.5650\n",
      "Epoch 14/128\n",
      "25/25 [==============================] - 0s 6ms/step - loss: 0.2698 - accuracy: 0.5188 - val_loss: 0.2457 - val_accuracy: 0.5900\n",
      "Epoch 15/128\n",
      "25/25 [==============================] - 0s 5ms/step - loss: 0.2663 - accuracy: 0.5188 - val_loss: 0.2426 - val_accuracy: 0.5750\n",
      "Epoch 16/128\n",
      "25/25 [==============================] - 0s 5ms/step - loss: 0.2633 - accuracy: 0.5163 - val_loss: 0.2400 - val_accuracy: 0.5750\n",
      "Epoch 17/128\n",
      "25/25 [==============================] - 0s 5ms/step - loss: 0.2606 - accuracy: 0.5188 - val_loss: 0.2376 - val_accuracy: 0.5700\n",
      "Epoch 18/128\n",
      "25/25 [==============================] - 0s 4ms/step - loss: 0.2581 - accuracy: 0.5288 - val_loss: 0.2355 - val_accuracy: 0.5850\n",
      "Epoch 19/128\n",
      "25/25 [==============================] - 0s 4ms/step - loss: 0.2557 - accuracy: 0.5362 - val_loss: 0.2336 - val_accuracy: 0.5950\n",
      "Epoch 20/128\n",
      "25/25 [==============================] - 0s 4ms/step - loss: 0.2536 - accuracy: 0.5375 - val_loss: 0.2319 - val_accuracy: 0.6050\n",
      "Epoch 21/128\n",
      "25/25 [==============================] - 0s 4ms/step - loss: 0.2516 - accuracy: 0.5450 - val_loss: 0.2303 - val_accuracy: 0.6100\n",
      "Epoch 22/128\n",
      "25/25 [==============================] - 0s 4ms/step - loss: 0.2498 - accuracy: 0.5537 - val_loss: 0.2290 - val_accuracy: 0.6200\n",
      "Epoch 23/128\n",
      "25/25 [==============================] - 0s 4ms/step - loss: 0.2480 - accuracy: 0.5612 - val_loss: 0.2277 - val_accuracy: 0.6150\n",
      "Epoch 24/128\n",
      "25/25 [==============================] - 0s 3ms/step - loss: 0.2462 - accuracy: 0.5675 - val_loss: 0.2262 - val_accuracy: 0.6150\n",
      "Epoch 25/128\n",
      "25/25 [==============================] - 0s 3ms/step - loss: 0.2444 - accuracy: 0.5688 - val_loss: 0.2250 - val_accuracy: 0.6150\n",
      "Epoch 26/128\n",
      "25/25 [==============================] - 0s 3ms/step - loss: 0.2426 - accuracy: 0.5750 - val_loss: 0.2237 - val_accuracy: 0.6300\n",
      "Epoch 27/128\n",
      "25/25 [==============================] - 0s 4ms/step - loss: 0.2408 - accuracy: 0.5850 - val_loss: 0.2224 - val_accuracy: 0.6300\n",
      "Epoch 28/128\n",
      "25/25 [==============================] - 0s 3ms/step - loss: 0.2391 - accuracy: 0.5900 - val_loss: 0.2212 - val_accuracy: 0.6400\n",
      "Epoch 29/128\n",
      "25/25 [==============================] - 0s 3ms/step - loss: 0.2373 - accuracy: 0.5950 - val_loss: 0.2200 - val_accuracy: 0.6400\n",
      "Epoch 30/128\n",
      "25/25 [==============================] - 0s 3ms/step - loss: 0.2356 - accuracy: 0.6025 - val_loss: 0.2187 - val_accuracy: 0.6550\n",
      "Epoch 31/128\n",
      "25/25 [==============================] - 0s 4ms/step - loss: 0.2339 - accuracy: 0.6050 - val_loss: 0.2177 - val_accuracy: 0.6550\n",
      "Epoch 32/128\n",
      "25/25 [==============================] - 0s 4ms/step - loss: 0.2324 - accuracy: 0.6025 - val_loss: 0.2166 - val_accuracy: 0.6550\n",
      "Epoch 33/128\n",
      "25/25 [==============================] - 0s 4ms/step - loss: 0.2308 - accuracy: 0.6025 - val_loss: 0.2155 - val_accuracy: 0.6550\n",
      "Epoch 34/128\n",
      "25/25 [==============================] - 0s 4ms/step - loss: 0.2292 - accuracy: 0.6050 - val_loss: 0.2143 - val_accuracy: 0.6650\n",
      "Epoch 35/128\n",
      "25/25 [==============================] - 0s 4ms/step - loss: 0.2276 - accuracy: 0.6112 - val_loss: 0.2133 - val_accuracy: 0.6750\n",
      "Epoch 36/128\n",
      "25/25 [==============================] - 0s 3ms/step - loss: 0.2261 - accuracy: 0.6137 - val_loss: 0.2122 - val_accuracy: 0.6800\n",
      "Epoch 37/128\n",
      "25/25 [==============================] - 0s 4ms/step - loss: 0.2245 - accuracy: 0.6200 - val_loss: 0.2110 - val_accuracy: 0.6800\n",
      "Epoch 38/128\n",
      "25/25 [==============================] - 0s 3ms/step - loss: 0.2229 - accuracy: 0.6212 - val_loss: 0.2100 - val_accuracy: 0.6850\n",
      "Epoch 39/128\n",
      "25/25 [==============================] - 0s 4ms/step - loss: 0.2214 - accuracy: 0.6225 - val_loss: 0.2088 - val_accuracy: 0.6850\n",
      "Epoch 40/128\n",
      "25/25 [==============================] - 0s 3ms/step - loss: 0.2198 - accuracy: 0.6250 - val_loss: 0.2077 - val_accuracy: 0.6900\n",
      "Epoch 41/128\n",
      "25/25 [==============================] - 0s 5ms/step - loss: 0.2183 - accuracy: 0.6325 - val_loss: 0.2067 - val_accuracy: 0.6900\n",
      "Epoch 42/128\n",
      "25/25 [==============================] - 0s 3ms/step - loss: 0.2169 - accuracy: 0.6325 - val_loss: 0.2057 - val_accuracy: 0.6900\n",
      "Epoch 43/128\n",
      "25/25 [==============================] - 0s 4ms/step - loss: 0.2155 - accuracy: 0.6413 - val_loss: 0.2047 - val_accuracy: 0.6850\n",
      "Epoch 44/128\n",
      "25/25 [==============================] - 0s 5ms/step - loss: 0.2142 - accuracy: 0.6388 - val_loss: 0.2038 - val_accuracy: 0.6900\n",
      "Epoch 45/128\n",
      "25/25 [==============================] - 0s 5ms/step - loss: 0.2128 - accuracy: 0.6488 - val_loss: 0.2028 - val_accuracy: 0.6900\n",
      "Epoch 46/128\n",
      "25/25 [==============================] - 0s 5ms/step - loss: 0.2115 - accuracy: 0.6425 - val_loss: 0.2019 - val_accuracy: 0.6900\n",
      "Epoch 47/128\n",
      "25/25 [==============================] - 0s 5ms/step - loss: 0.2102 - accuracy: 0.6475 - val_loss: 0.2010 - val_accuracy: 0.6950\n",
      "Epoch 48/128\n",
      "25/25 [==============================] - 0s 5ms/step - loss: 0.2088 - accuracy: 0.6538 - val_loss: 0.2000 - val_accuracy: 0.7000\n",
      "Epoch 49/128\n",
      "25/25 [==============================] - 0s 5ms/step - loss: 0.2074 - accuracy: 0.6712 - val_loss: 0.1990 - val_accuracy: 0.7000\n",
      "Epoch 50/128\n",
      "25/25 [==============================] - 0s 6ms/step - loss: 0.2060 - accuracy: 0.6687 - val_loss: 0.1980 - val_accuracy: 0.7050\n",
      "Epoch 51/128\n",
      "25/25 [==============================] - 0s 5ms/step - loss: 0.2046 - accuracy: 0.6750 - val_loss: 0.1971 - val_accuracy: 0.7150\n",
      "Epoch 52/128\n",
      "25/25 [==============================] - 0s 5ms/step - loss: 0.2033 - accuracy: 0.6913 - val_loss: 0.1961 - val_accuracy: 0.7450\n",
      "Epoch 53/128\n",
      "25/25 [==============================] - 0s 4ms/step - loss: 0.2021 - accuracy: 0.6988 - val_loss: 0.1952 - val_accuracy: 0.7600\n",
      "Epoch 54/128\n",
      "25/25 [==============================] - 0s 5ms/step - loss: 0.2007 - accuracy: 0.7050 - val_loss: 0.1943 - val_accuracy: 0.7600\n",
      "Epoch 55/128\n",
      "25/25 [==============================] - 0s 5ms/step - loss: 0.1995 - accuracy: 0.7125 - val_loss: 0.1934 - val_accuracy: 0.7600\n",
      "Epoch 56/128\n",
      "25/25 [==============================] - 0s 4ms/step - loss: 0.1983 - accuracy: 0.7075 - val_loss: 0.1926 - val_accuracy: 0.7650\n",
      "Epoch 57/128\n",
      "25/25 [==============================] - 0s 4ms/step - loss: 0.1971 - accuracy: 0.7113 - val_loss: 0.1917 - val_accuracy: 0.7650\n",
      "Epoch 58/128\n",
      "25/25 [==============================] - 0s 4ms/step - loss: 0.1960 - accuracy: 0.7125 - val_loss: 0.1909 - val_accuracy: 0.7650\n"
     ]
    },
    {
     "name": "stdout",
     "output_type": "stream",
     "text": [
      "Epoch 59/128\n",
      "25/25 [==============================] - 0s 4ms/step - loss: 0.1949 - accuracy: 0.7163 - val_loss: 0.1901 - val_accuracy: 0.7650\n",
      "Epoch 60/128\n",
      "25/25 [==============================] - 0s 4ms/step - loss: 0.1937 - accuracy: 0.7200 - val_loss: 0.1893 - val_accuracy: 0.7600\n",
      "Epoch 61/128\n",
      "25/25 [==============================] - 0s 4ms/step - loss: 0.1925 - accuracy: 0.7237 - val_loss: 0.1884 - val_accuracy: 0.7600\n",
      "Epoch 62/128\n",
      "25/25 [==============================] - 0s 3ms/step - loss: 0.1913 - accuracy: 0.7262 - val_loss: 0.1876 - val_accuracy: 0.7600\n",
      "Epoch 63/128\n",
      "25/25 [==============================] - 0s 3ms/step - loss: 0.1902 - accuracy: 0.7237 - val_loss: 0.1867 - val_accuracy: 0.7600\n",
      "Epoch 64/128\n",
      "25/25 [==============================] - 0s 4ms/step - loss: 0.1891 - accuracy: 0.7275 - val_loss: 0.1859 - val_accuracy: 0.7550\n",
      "Epoch 65/128\n",
      "25/25 [==============================] - 0s 3ms/step - loss: 0.1880 - accuracy: 0.7262 - val_loss: 0.1851 - val_accuracy: 0.7550\n",
      "Epoch 66/128\n",
      "25/25 [==============================] - 0s 4ms/step - loss: 0.1869 - accuracy: 0.7362 - val_loss: 0.1843 - val_accuracy: 0.7650\n",
      "Epoch 67/128\n",
      "25/25 [==============================] - 0s 4ms/step - loss: 0.1858 - accuracy: 0.7350 - val_loss: 0.1835 - val_accuracy: 0.7700\n",
      "Epoch 68/128\n",
      "25/25 [==============================] - 0s 4ms/step - loss: 0.1847 - accuracy: 0.7387 - val_loss: 0.1827 - val_accuracy: 0.7800\n",
      "Epoch 69/128\n",
      "25/25 [==============================] - 0s 4ms/step - loss: 0.1836 - accuracy: 0.7462 - val_loss: 0.1819 - val_accuracy: 0.7800\n",
      "Epoch 70/128\n",
      "25/25 [==============================] - 0s 5ms/step - loss: 0.1827 - accuracy: 0.7487 - val_loss: 0.1811 - val_accuracy: 0.7800\n",
      "Epoch 71/128\n",
      "25/25 [==============================] - 0s 5ms/step - loss: 0.1816 - accuracy: 0.7500 - val_loss: 0.1803 - val_accuracy: 0.7800\n",
      "Epoch 72/128\n",
      "25/25 [==============================] - 0s 4ms/step - loss: 0.1805 - accuracy: 0.7538 - val_loss: 0.1794 - val_accuracy: 0.7850\n",
      "Epoch 73/128\n",
      "25/25 [==============================] - 0s 4ms/step - loss: 0.1796 - accuracy: 0.7588 - val_loss: 0.1788 - val_accuracy: 0.7900\n",
      "Epoch 74/128\n",
      "25/25 [==============================] - 0s 4ms/step - loss: 0.1787 - accuracy: 0.7688 - val_loss: 0.1780 - val_accuracy: 0.7900\n",
      "Epoch 75/128\n",
      "25/25 [==============================] - 0s 4ms/step - loss: 0.1777 - accuracy: 0.7763 - val_loss: 0.1772 - val_accuracy: 0.7900\n",
      "Epoch 76/128\n",
      "25/25 [==============================] - 0s 4ms/step - loss: 0.1767 - accuracy: 0.7788 - val_loss: 0.1765 - val_accuracy: 0.7900\n",
      "Epoch 77/128\n",
      "25/25 [==============================] - 0s 3ms/step - loss: 0.1758 - accuracy: 0.7875 - val_loss: 0.1757 - val_accuracy: 0.7950\n",
      "Epoch 78/128\n",
      "25/25 [==============================] - 0s 4ms/step - loss: 0.1749 - accuracy: 0.7925 - val_loss: 0.1750 - val_accuracy: 0.7950\n",
      "Epoch 79/128\n",
      "25/25 [==============================] - 0s 5ms/step - loss: 0.1740 - accuracy: 0.7950 - val_loss: 0.1743 - val_accuracy: 0.8000\n",
      "Epoch 80/128\n",
      "25/25 [==============================] - 0s 4ms/step - loss: 0.1731 - accuracy: 0.7950 - val_loss: 0.1735 - val_accuracy: 0.7950\n",
      "Epoch 81/128\n",
      "25/25 [==============================] - 0s 5ms/step - loss: 0.1722 - accuracy: 0.7962 - val_loss: 0.1727 - val_accuracy: 0.7950\n",
      "Epoch 82/128\n",
      "25/25 [==============================] - 0s 5ms/step - loss: 0.1713 - accuracy: 0.8075 - val_loss: 0.1720 - val_accuracy: 0.8000\n",
      "Epoch 83/128\n",
      "25/25 [==============================] - 0s 5ms/step - loss: 0.1704 - accuracy: 0.8075 - val_loss: 0.1713 - val_accuracy: 0.8000\n",
      "Epoch 84/128\n",
      "25/25 [==============================] - 0s 4ms/step - loss: 0.1696 - accuracy: 0.8150 - val_loss: 0.1706 - val_accuracy: 0.8000\n",
      "Epoch 85/128\n",
      "25/25 [==============================] - 0s 3ms/step - loss: 0.1687 - accuracy: 0.8188 - val_loss: 0.1698 - val_accuracy: 0.8000\n",
      "Epoch 86/128\n",
      "25/25 [==============================] - 0s 5ms/step - loss: 0.1677 - accuracy: 0.8163 - val_loss: 0.1690 - val_accuracy: 0.8050\n",
      "Epoch 87/128\n",
      "25/25 [==============================] - 0s 4ms/step - loss: 0.1668 - accuracy: 0.8175 - val_loss: 0.1682 - val_accuracy: 0.8050\n",
      "Epoch 88/128\n",
      "25/25 [==============================] - 0s 5ms/step - loss: 0.1659 - accuracy: 0.8150 - val_loss: 0.1675 - val_accuracy: 0.8100\n",
      "Epoch 89/128\n",
      "25/25 [==============================] - 0s 4ms/step - loss: 0.1650 - accuracy: 0.8338 - val_loss: 0.1668 - val_accuracy: 0.8200\n",
      "Epoch 90/128\n",
      "25/25 [==============================] - 0s 3ms/step - loss: 0.1642 - accuracy: 0.8325 - val_loss: 0.1661 - val_accuracy: 0.8200\n",
      "Epoch 91/128\n",
      "25/25 [==============================] - 0s 4ms/step - loss: 0.1633 - accuracy: 0.8375 - val_loss: 0.1654 - val_accuracy: 0.8200\n",
      "Epoch 92/128\n",
      "25/25 [==============================] - 0s 5ms/step - loss: 0.1625 - accuracy: 0.8388 - val_loss: 0.1647 - val_accuracy: 0.8200\n",
      "Epoch 93/128\n",
      "25/25 [==============================] - 0s 4ms/step - loss: 0.1617 - accuracy: 0.8375 - val_loss: 0.1640 - val_accuracy: 0.8250\n",
      "Epoch 94/128\n",
      "25/25 [==============================] - 0s 4ms/step - loss: 0.1609 - accuracy: 0.8400 - val_loss: 0.1633 - val_accuracy: 0.8250\n",
      "Epoch 95/128\n",
      "25/25 [==============================] - 0s 4ms/step - loss: 0.1602 - accuracy: 0.8375 - val_loss: 0.1627 - val_accuracy: 0.8250\n",
      "Epoch 96/128\n",
      "25/25 [==============================] - 0s 3ms/step - loss: 0.1594 - accuracy: 0.8388 - val_loss: 0.1621 - val_accuracy: 0.8250\n",
      "Epoch 97/128\n",
      "25/25 [==============================] - 0s 4ms/step - loss: 0.1586 - accuracy: 0.8425 - val_loss: 0.1614 - val_accuracy: 0.8250\n",
      "Epoch 98/128\n",
      "25/25 [==============================] - 0s 4ms/step - loss: 0.1578 - accuracy: 0.8475 - val_loss: 0.1607 - val_accuracy: 0.8250\n",
      "Epoch 99/128\n",
      "25/25 [==============================] - 0s 4ms/step - loss: 0.1570 - accuracy: 0.8487 - val_loss: 0.1600 - val_accuracy: 0.8250\n",
      "Epoch 100/128\n",
      "25/25 [==============================] - 0s 4ms/step - loss: 0.1562 - accuracy: 0.8438 - val_loss: 0.1593 - val_accuracy: 0.8350\n",
      "Epoch 101/128\n",
      "25/25 [==============================] - 0s 3ms/step - loss: 0.1554 - accuracy: 0.8550 - val_loss: 0.1586 - val_accuracy: 0.8350\n",
      "Epoch 102/128\n",
      "25/25 [==============================] - 0s 4ms/step - loss: 0.1547 - accuracy: 0.8575 - val_loss: 0.1580 - val_accuracy: 0.8350\n",
      "Epoch 103/128\n",
      "25/25 [==============================] - 0s 3ms/step - loss: 0.1540 - accuracy: 0.8575 - val_loss: 0.1574 - val_accuracy: 0.8450\n",
      "Epoch 104/128\n",
      "25/25 [==============================] - 0s 3ms/step - loss: 0.1532 - accuracy: 0.8612 - val_loss: 0.1567 - val_accuracy: 0.8450\n",
      "Epoch 105/128\n",
      "25/25 [==============================] - 0s 4ms/step - loss: 0.1524 - accuracy: 0.8625 - val_loss: 0.1560 - val_accuracy: 0.8500\n",
      "Epoch 106/128\n",
      "25/25 [==============================] - 0s 4ms/step - loss: 0.1517 - accuracy: 0.8662 - val_loss: 0.1554 - val_accuracy: 0.8500\n",
      "Epoch 107/128\n",
      "25/25 [==============================] - 0s 5ms/step - loss: 0.1509 - accuracy: 0.8687 - val_loss: 0.1547 - val_accuracy: 0.8500\n",
      "Epoch 108/128\n",
      "25/25 [==============================] - 0s 4ms/step - loss: 0.1503 - accuracy: 0.8687 - val_loss: 0.1541 - val_accuracy: 0.8500\n",
      "Epoch 109/128\n",
      "25/25 [==============================] - 0s 3ms/step - loss: 0.1496 - accuracy: 0.8675 - val_loss: 0.1535 - val_accuracy: 0.8550\n",
      "Epoch 110/128\n",
      "25/25 [==============================] - 0s 5ms/step - loss: 0.1489 - accuracy: 0.8675 - val_loss: 0.1529 - val_accuracy: 0.8550\n",
      "Epoch 111/128\n",
      "25/25 [==============================] - 0s 5ms/step - loss: 0.1481 - accuracy: 0.8725 - val_loss: 0.1522 - val_accuracy: 0.8550\n",
      "Epoch 112/128\n",
      "25/25 [==============================] - 0s 4ms/step - loss: 0.1474 - accuracy: 0.8750 - val_loss: 0.1516 - val_accuracy: 0.8550\n",
      "Epoch 113/128\n",
      "25/25 [==============================] - 0s 4ms/step - loss: 0.1467 - accuracy: 0.8775 - val_loss: 0.1509 - val_accuracy: 0.8550\n",
      "Epoch 114/128\n",
      "25/25 [==============================] - 0s 4ms/step - loss: 0.1461 - accuracy: 0.8737 - val_loss: 0.1503 - val_accuracy: 0.8550\n",
      "Epoch 115/128\n",
      "25/25 [==============================] - 0s 4ms/step - loss: 0.1454 - accuracy: 0.8750 - val_loss: 0.1497 - val_accuracy: 0.8550\n",
      "Epoch 116/128\n",
      "25/25 [==============================] - 0s 4ms/step - loss: 0.1447 - accuracy: 0.8775 - val_loss: 0.1491 - val_accuracy: 0.8600\n",
      "Epoch 117/128\n",
      "25/25 [==============================] - 0s 4ms/step - loss: 0.1440 - accuracy: 0.8800 - val_loss: 0.1484 - val_accuracy: 0.8650\n",
      "Epoch 118/128\n",
      "25/25 [==============================] - 0s 3ms/step - loss: 0.1432 - accuracy: 0.8788 - val_loss: 0.1478 - val_accuracy: 0.8650\n",
      "Epoch 119/128\n",
      "25/25 [==============================] - 0s 3ms/step - loss: 0.1426 - accuracy: 0.8788 - val_loss: 0.1472 - val_accuracy: 0.8700\n",
      "Epoch 120/128\n",
      "25/25 [==============================] - 0s 4ms/step - loss: 0.1419 - accuracy: 0.8838 - val_loss: 0.1467 - val_accuracy: 0.8800\n",
      "Epoch 121/128\n",
      "25/25 [==============================] - 0s 3ms/step - loss: 0.1413 - accuracy: 0.8950 - val_loss: 0.1460 - val_accuracy: 0.8750\n",
      "Epoch 122/128\n",
      "25/25 [==============================] - 0s 4ms/step - loss: 0.1406 - accuracy: 0.8875 - val_loss: 0.1455 - val_accuracy: 0.8850\n",
      "Epoch 123/128\n",
      "25/25 [==============================] - 0s 3ms/step - loss: 0.1400 - accuracy: 0.8938 - val_loss: 0.1448 - val_accuracy: 0.8900\n",
      "Epoch 124/128\n",
      "25/25 [==============================] - 0s 4ms/step - loss: 0.1393 - accuracy: 0.8938 - val_loss: 0.1443 - val_accuracy: 0.8900\n",
      "Epoch 125/128\n",
      "25/25 [==============================] - 0s 4ms/step - loss: 0.1387 - accuracy: 0.8913 - val_loss: 0.1438 - val_accuracy: 0.8900\n",
      "Epoch 126/128\n",
      "25/25 [==============================] - 0s 6ms/step - loss: 0.1382 - accuracy: 0.8988 - val_loss: 0.1432 - val_accuracy: 0.8900\n",
      "Epoch 127/128\n",
      "25/25 [==============================] - 0s 4ms/step - loss: 0.1375 - accuracy: 0.8950 - val_loss: 0.1426 - val_accuracy: 0.8900\n",
      "Epoch 128/128\n",
      "25/25 [==============================] - 0s 4ms/step - loss: 0.1369 - accuracy: 0.8988 - val_loss: 0.1420 - val_accuracy: 0.8950\n"
     ]
    }
   ],
   "source": [
    "model.compile(optimizer='rmsprop',\n",
    "              loss='mse',\n",
    "              metrics=['accuracy'])\n",
    "\n",
    "model.fit(X,Y, epochs=128, batch_size=32,validation_split = 0.2);"
   ]
  },
  {
   "cell_type": "markdown",
   "metadata": {},
   "source": [
    "### 4. Once the model has been fit, examine the values of *model.get_weights()*. How do you interpret these values?"
   ]
  },
  {
   "cell_type": "code",
   "execution_count": 8,
   "metadata": {
    "scrolled": true
   },
   "outputs": [
    {
     "data": {
      "text/plain": [
       "[array([[0.6624822 ],\n",
       "        [0.38728037],\n",
       "        [0.49503887],\n",
       "        [0.42923546],\n",
       "        [0.52949774],\n",
       "        [0.56014204],\n",
       "        [0.41424698],\n",
       "        [0.54403144],\n",
       "        [0.43550423]], dtype=float32),\n",
       " array([-1.9831312], dtype=float32)]"
      ]
     },
     "execution_count": 8,
     "metadata": {},
     "output_type": "execute_result"
    }
   ],
   "source": [
    "model.get_weights()"
   ]
  },
  {
   "cell_type": "markdown",
   "metadata": {},
   "source": [
    "The first 9 dimensional array is  all the weights of the layer and  last 1 dimensional array is it bias "
   ]
  },
  {
   "cell_type": "markdown",
   "metadata": {
    "colab_type": "text",
    "id": "WTVpj2kSxm4s"
   },
   "source": [
    "# Part 2: Making it Functional\n",
    "\n",
    "**Now we will practice using Keras's Functional API by rewriting the above model.**\n",
    "\n",
    "## Questions:\n",
    "\n",
    "### 5. Create a model model2 identical to the above model, but using the Keras Functional API. The model should include an Input(shape=...) layer from keras.layers and should use Model(inputs = ..., outputs = ...) from keras.models."
   ]
  },
  {
   "cell_type": "code",
   "execution_count": 9,
   "metadata": {
    "colab": {},
    "colab_type": "code",
    "id": "x55zK8thxg7x",
    "scrolled": true
   },
   "outputs": [],
   "source": [
    "inputs = Input(shape=(X.shape[1],))\n",
    "dense = Dense(1, activation='sigmoid', name=\"layer1\")\n",
    "outputs = dense(inputs)\n",
    "\n",
    "model2 = Model(inputs=inputs, outputs=outputs, name='functional')\n",
    "model2.compile(optimizer='rmsprop',\n",
    "              loss='mse',\n",
    "              metrics=['accuracy'])"
   ]
  },
  {
   "cell_type": "markdown",
   "metadata": {},
   "source": [
    " ### Fit this model, verify that it produces the same results, and compare the outputs of .summary() and .get_weights() on model and model2"
   ]
  },
  {
   "cell_type": "code",
   "execution_count": 10,
   "metadata": {
    "scrolled": true
   },
   "outputs": [
    {
     "name": "stdout",
     "output_type": "stream",
     "text": [
      "Epoch 1/128\n",
      "25/25 [==============================] - 0s 9ms/step - loss: 0.3408 - accuracy: 0.3988 - val_loss: 0.3270 - val_accuracy: 0.3950\n",
      "Epoch 2/128\n",
      "25/25 [==============================] - 0s 5ms/step - loss: 0.3284 - accuracy: 0.4062 - val_loss: 0.3132 - val_accuracy: 0.4300\n",
      "Epoch 3/128\n",
      "25/25 [==============================] - 0s 5ms/step - loss: 0.3180 - accuracy: 0.4038 - val_loss: 0.3017 - val_accuracy: 0.4300\n",
      "Epoch 4/128\n",
      "25/25 [==============================] - 0s 4ms/step - loss: 0.3086 - accuracy: 0.4050 - val_loss: 0.2904 - val_accuracy: 0.4500\n",
      "Epoch 5/128\n",
      "25/25 [==============================] - 0s 5ms/step - loss: 0.2997 - accuracy: 0.4137 - val_loss: 0.2804 - val_accuracy: 0.4650\n",
      "Epoch 6/128\n",
      "25/25 [==============================] - 0s 3ms/step - loss: 0.2915 - accuracy: 0.4225 - val_loss: 0.2713 - val_accuracy: 0.4600\n",
      "Epoch 7/128\n",
      "25/25 [==============================] - 0s 4ms/step - loss: 0.2842 - accuracy: 0.4250 - val_loss: 0.2632 - val_accuracy: 0.5100\n",
      "Epoch 8/128\n",
      "25/25 [==============================] - 0s 5ms/step - loss: 0.2780 - accuracy: 0.4550 - val_loss: 0.2568 - val_accuracy: 0.5400\n",
      "Epoch 9/128\n",
      "25/25 [==============================] - 0s 4ms/step - loss: 0.2727 - accuracy: 0.4800 - val_loss: 0.2514 - val_accuracy: 0.5600\n",
      "Epoch 10/128\n",
      "25/25 [==============================] - 0s 4ms/step - loss: 0.2683 - accuracy: 0.5013 - val_loss: 0.2470 - val_accuracy: 0.5850\n",
      "Epoch 11/128\n",
      "25/25 [==============================] - 0s 4ms/step - loss: 0.2646 - accuracy: 0.5113 - val_loss: 0.2432 - val_accuracy: 0.5850\n",
      "Epoch 12/128\n",
      "25/25 [==============================] - 0s 4ms/step - loss: 0.2613 - accuracy: 0.5238 - val_loss: 0.2402 - val_accuracy: 0.6150\n",
      "Epoch 13/128\n",
      "25/25 [==============================] - 0s 4ms/step - loss: 0.2585 - accuracy: 0.5325 - val_loss: 0.2374 - val_accuracy: 0.6250\n",
      "Epoch 14/128\n",
      "25/25 [==============================] - 0s 3ms/step - loss: 0.2559 - accuracy: 0.5537 - val_loss: 0.2350 - val_accuracy: 0.6400\n",
      "Epoch 15/128\n",
      "25/25 [==============================] - 0s 4ms/step - loss: 0.2535 - accuracy: 0.5525 - val_loss: 0.2330 - val_accuracy: 0.6300\n",
      "Epoch 16/128\n",
      "25/25 [==============================] - 0s 3ms/step - loss: 0.2514 - accuracy: 0.5537 - val_loss: 0.2312 - val_accuracy: 0.6350\n",
      "Epoch 17/128\n",
      "25/25 [==============================] - 0s 4ms/step - loss: 0.2492 - accuracy: 0.5587 - val_loss: 0.2294 - val_accuracy: 0.6350\n",
      "Epoch 18/128\n",
      "25/25 [==============================] - 0s 4ms/step - loss: 0.2472 - accuracy: 0.5663 - val_loss: 0.2278 - val_accuracy: 0.6350\n",
      "Epoch 19/128\n",
      "25/25 [==============================] - 0s 4ms/step - loss: 0.2454 - accuracy: 0.5725 - val_loss: 0.2263 - val_accuracy: 0.6350\n",
      "Epoch 20/128\n",
      "25/25 [==============================] - 0s 3ms/step - loss: 0.2435 - accuracy: 0.5738 - val_loss: 0.2248 - val_accuracy: 0.6450\n",
      "Epoch 21/128\n",
      "25/25 [==============================] - 0s 5ms/step - loss: 0.2417 - accuracy: 0.5850 - val_loss: 0.2233 - val_accuracy: 0.6450\n",
      "Epoch 22/128\n",
      "25/25 [==============================] - 0s 5ms/step - loss: 0.2401 - accuracy: 0.5838 - val_loss: 0.2222 - val_accuracy: 0.6450\n",
      "Epoch 23/128\n",
      "25/25 [==============================] - 0s 5ms/step - loss: 0.2384 - accuracy: 0.5825 - val_loss: 0.2209 - val_accuracy: 0.6450\n",
      "Epoch 24/128\n",
      "25/25 [==============================] - 0s 4ms/step - loss: 0.2367 - accuracy: 0.5850 - val_loss: 0.2196 - val_accuracy: 0.6450\n",
      "Epoch 25/128\n",
      "25/25 [==============================] - 0s 5ms/step - loss: 0.2350 - accuracy: 0.5850 - val_loss: 0.2183 - val_accuracy: 0.6400\n",
      "Epoch 26/128\n",
      "25/25 [==============================] - 0s 5ms/step - loss: 0.2332 - accuracy: 0.5863 - val_loss: 0.2171 - val_accuracy: 0.6450\n",
      "Epoch 27/128\n",
      "25/25 [==============================] - 0s 6ms/step - loss: 0.2316 - accuracy: 0.5913 - val_loss: 0.2159 - val_accuracy: 0.6500\n",
      "Epoch 28/128\n",
      "25/25 [==============================] - 0s 5ms/step - loss: 0.2300 - accuracy: 0.5900 - val_loss: 0.2147 - val_accuracy: 0.6500\n",
      "Epoch 29/128\n",
      "25/25 [==============================] - 0s 5ms/step - loss: 0.2284 - accuracy: 0.5925 - val_loss: 0.2136 - val_accuracy: 0.6500\n",
      "Epoch 30/128\n",
      "25/25 [==============================] - 0s 5ms/step - loss: 0.2268 - accuracy: 0.6037 - val_loss: 0.2124 - val_accuracy: 0.6650\n",
      "Epoch 31/128\n",
      "25/25 [==============================] - 0s 4ms/step - loss: 0.2252 - accuracy: 0.6075 - val_loss: 0.2113 - val_accuracy: 0.6900\n",
      "Epoch 32/128\n",
      "25/25 [==============================] - 0s 3ms/step - loss: 0.2235 - accuracy: 0.6225 - val_loss: 0.2101 - val_accuracy: 0.6900\n",
      "Epoch 33/128\n",
      "25/25 [==============================] - 0s 4ms/step - loss: 0.2219 - accuracy: 0.6313 - val_loss: 0.2090 - val_accuracy: 0.6900\n",
      "Epoch 34/128\n",
      "25/25 [==============================] - 0s 4ms/step - loss: 0.2204 - accuracy: 0.6400 - val_loss: 0.2078 - val_accuracy: 0.6900\n",
      "Epoch 35/128\n",
      "25/25 [==============================] - 0s 6ms/step - loss: 0.2188 - accuracy: 0.6475 - val_loss: 0.2067 - val_accuracy: 0.7050\n",
      "Epoch 36/128\n",
      "25/25 [==============================] - 0s 6ms/step - loss: 0.2173 - accuracy: 0.6625 - val_loss: 0.2056 - val_accuracy: 0.7050\n",
      "Epoch 37/128\n",
      "25/25 [==============================] - 0s 4ms/step - loss: 0.2157 - accuracy: 0.6687 - val_loss: 0.2045 - val_accuracy: 0.7200\n",
      "Epoch 38/128\n",
      "25/25 [==============================] - 0s 5ms/step - loss: 0.2142 - accuracy: 0.6762 - val_loss: 0.2034 - val_accuracy: 0.7200\n",
      "Epoch 39/128\n",
      "25/25 [==============================] - 0s 5ms/step - loss: 0.2127 - accuracy: 0.6750 - val_loss: 0.2024 - val_accuracy: 0.7250\n",
      "Epoch 40/128\n",
      "25/25 [==============================] - 0s 4ms/step - loss: 0.2114 - accuracy: 0.6812 - val_loss: 0.2014 - val_accuracy: 0.7350\n",
      "Epoch 41/128\n",
      "25/25 [==============================] - 0s 4ms/step - loss: 0.2100 - accuracy: 0.6787 - val_loss: 0.2004 - val_accuracy: 0.7300\n",
      "Epoch 42/128\n",
      "25/25 [==============================] - 0s 3ms/step - loss: 0.2086 - accuracy: 0.6800 - val_loss: 0.1995 - val_accuracy: 0.7300\n",
      "Epoch 43/128\n",
      "25/25 [==============================] - 0s 4ms/step - loss: 0.2072 - accuracy: 0.6812 - val_loss: 0.1985 - val_accuracy: 0.7300\n",
      "Epoch 44/128\n",
      "25/25 [==============================] - 0s 5ms/step - loss: 0.2059 - accuracy: 0.6800 - val_loss: 0.1976 - val_accuracy: 0.7200\n",
      "Epoch 45/128\n",
      "25/25 [==============================] - 0s 4ms/step - loss: 0.2046 - accuracy: 0.6875 - val_loss: 0.1967 - val_accuracy: 0.7200\n",
      "Epoch 46/128\n",
      "25/25 [==============================] - 0s 4ms/step - loss: 0.2034 - accuracy: 0.6862 - val_loss: 0.1958 - val_accuracy: 0.7200\n",
      "Epoch 47/128\n",
      "25/25 [==============================] - 0s 4ms/step - loss: 0.2021 - accuracy: 0.6888 - val_loss: 0.1949 - val_accuracy: 0.7200\n",
      "Epoch 48/128\n",
      "25/25 [==============================] - 0s 4ms/step - loss: 0.2008 - accuracy: 0.6925 - val_loss: 0.1939 - val_accuracy: 0.7250\n",
      "Epoch 49/128\n",
      "25/25 [==============================] - 0s 4ms/step - loss: 0.1995 - accuracy: 0.7038 - val_loss: 0.1930 - val_accuracy: 0.7250\n",
      "Epoch 50/128\n",
      "25/25 [==============================] - 0s 3ms/step - loss: 0.1983 - accuracy: 0.7013 - val_loss: 0.1921 - val_accuracy: 0.7250\n",
      "Epoch 51/128\n",
      "25/25 [==============================] - 0s 4ms/step - loss: 0.1972 - accuracy: 0.7025 - val_loss: 0.1913 - val_accuracy: 0.7200\n",
      "Epoch 52/128\n",
      "25/25 [==============================] - 0s 3ms/step - loss: 0.1960 - accuracy: 0.7063 - val_loss: 0.1904 - val_accuracy: 0.7250\n",
      "Epoch 53/128\n",
      "25/25 [==============================] - 0s 4ms/step - loss: 0.1948 - accuracy: 0.7075 - val_loss: 0.1896 - val_accuracy: 0.7250\n",
      "Epoch 54/128\n",
      "25/25 [==============================] - 0s 4ms/step - loss: 0.1936 - accuracy: 0.7163 - val_loss: 0.1887 - val_accuracy: 0.7300\n",
      "Epoch 55/128\n",
      "25/25 [==============================] - 0s 4ms/step - loss: 0.1926 - accuracy: 0.7275 - val_loss: 0.1879 - val_accuracy: 0.7300\n",
      "Epoch 56/128\n",
      "25/25 [==============================] - 0s 5ms/step - loss: 0.1914 - accuracy: 0.7287 - val_loss: 0.1871 - val_accuracy: 0.7300\n",
      "Epoch 57/128\n",
      "25/25 [==============================] - 0s 4ms/step - loss: 0.1902 - accuracy: 0.7275 - val_loss: 0.1861 - val_accuracy: 0.7300\n",
      "Epoch 58/128\n",
      "25/25 [==============================] - 0s 4ms/step - loss: 0.1891 - accuracy: 0.7462 - val_loss: 0.1853 - val_accuracy: 0.7300\n"
     ]
    },
    {
     "name": "stdout",
     "output_type": "stream",
     "text": [
      "Epoch 59/128\n",
      "25/25 [==============================] - 0s 3ms/step - loss: 0.1880 - accuracy: 0.7462 - val_loss: 0.1845 - val_accuracy: 0.7350\n",
      "Epoch 60/128\n",
      "25/25 [==============================] - 0s 3ms/step - loss: 0.1869 - accuracy: 0.7500 - val_loss: 0.1837 - val_accuracy: 0.7300\n",
      "Epoch 61/128\n",
      "25/25 [==============================] - 0s 4ms/step - loss: 0.1859 - accuracy: 0.7500 - val_loss: 0.1829 - val_accuracy: 0.7300\n",
      "Epoch 62/128\n",
      "25/25 [==============================] - 0s 4ms/step - loss: 0.1848 - accuracy: 0.7600 - val_loss: 0.1821 - val_accuracy: 0.7250\n",
      "Epoch 63/128\n",
      "25/25 [==============================] - 0s 4ms/step - loss: 0.1838 - accuracy: 0.7613 - val_loss: 0.1813 - val_accuracy: 0.7250\n",
      "Epoch 64/128\n",
      "25/25 [==============================] - 0s 4ms/step - loss: 0.1827 - accuracy: 0.7638 - val_loss: 0.1805 - val_accuracy: 0.7200\n",
      "Epoch 65/128\n",
      "25/25 [==============================] - 0s 4ms/step - loss: 0.1816 - accuracy: 0.7600 - val_loss: 0.1797 - val_accuracy: 0.7300\n",
      "Epoch 66/128\n",
      "25/25 [==============================] - 0s 5ms/step - loss: 0.1805 - accuracy: 0.7625 - val_loss: 0.1788 - val_accuracy: 0.7300\n",
      "Epoch 67/128\n",
      "25/25 [==============================] - 0s 4ms/step - loss: 0.1795 - accuracy: 0.7625 - val_loss: 0.1780 - val_accuracy: 0.7300\n",
      "Epoch 68/128\n",
      "25/25 [==============================] - 0s 3ms/step - loss: 0.1785 - accuracy: 0.7725 - val_loss: 0.1773 - val_accuracy: 0.7400\n",
      "Epoch 69/128\n",
      "25/25 [==============================] - 0s 4ms/step - loss: 0.1775 - accuracy: 0.7700 - val_loss: 0.1765 - val_accuracy: 0.7400\n",
      "Epoch 70/128\n",
      "25/25 [==============================] - 0s 4ms/step - loss: 0.1766 - accuracy: 0.7750 - val_loss: 0.1757 - val_accuracy: 0.7500\n",
      "Epoch 71/128\n",
      "25/25 [==============================] - 0s 4ms/step - loss: 0.1755 - accuracy: 0.7713 - val_loss: 0.1749 - val_accuracy: 0.7700\n",
      "Epoch 72/128\n",
      "25/25 [==============================] - 0s 4ms/step - loss: 0.1745 - accuracy: 0.7750 - val_loss: 0.1742 - val_accuracy: 0.7750\n",
      "Epoch 73/128\n",
      "25/25 [==============================] - 0s 4ms/step - loss: 0.1736 - accuracy: 0.7887 - val_loss: 0.1734 - val_accuracy: 0.7800\n",
      "Epoch 74/128\n",
      "25/25 [==============================] - 0s 5ms/step - loss: 0.1727 - accuracy: 0.7950 - val_loss: 0.1727 - val_accuracy: 0.7800\n",
      "Epoch 75/128\n",
      "25/25 [==============================] - 0s 4ms/step - loss: 0.1718 - accuracy: 0.7975 - val_loss: 0.1719 - val_accuracy: 0.7800\n",
      "Epoch 76/128\n",
      "25/25 [==============================] - 0s 4ms/step - loss: 0.1708 - accuracy: 0.7937 - val_loss: 0.1711 - val_accuracy: 0.7800\n",
      "Epoch 77/128\n",
      "25/25 [==============================] - 0s 3ms/step - loss: 0.1699 - accuracy: 0.7987 - val_loss: 0.1703 - val_accuracy: 0.7800\n",
      "Epoch 78/128\n",
      "25/25 [==============================] - 0s 4ms/step - loss: 0.1690 - accuracy: 0.8012 - val_loss: 0.1697 - val_accuracy: 0.7850\n",
      "Epoch 79/128\n",
      "25/25 [==============================] - 0s 4ms/step - loss: 0.1681 - accuracy: 0.8062 - val_loss: 0.1689 - val_accuracy: 0.7850\n",
      "Epoch 80/128\n",
      "25/25 [==============================] - 0s 4ms/step - loss: 0.1672 - accuracy: 0.8037 - val_loss: 0.1682 - val_accuracy: 0.7900\n",
      "Epoch 81/128\n",
      "25/25 [==============================] - 0s 3ms/step - loss: 0.1663 - accuracy: 0.8062 - val_loss: 0.1675 - val_accuracy: 0.7900\n",
      "Epoch 82/128\n",
      "25/25 [==============================] - 0s 5ms/step - loss: 0.1655 - accuracy: 0.8087 - val_loss: 0.1668 - val_accuracy: 0.7900\n",
      "Epoch 83/128\n",
      "25/25 [==============================] - 0s 5ms/step - loss: 0.1646 - accuracy: 0.8138 - val_loss: 0.1660 - val_accuracy: 0.7900\n",
      "Epoch 84/128\n",
      "25/25 [==============================] - 0s 4ms/step - loss: 0.1637 - accuracy: 0.8112 - val_loss: 0.1654 - val_accuracy: 0.8000\n",
      "Epoch 85/128\n",
      "25/25 [==============================] - 0s 4ms/step - loss: 0.1629 - accuracy: 0.8188 - val_loss: 0.1646 - val_accuracy: 0.8000\n",
      "Epoch 86/128\n",
      "25/25 [==============================] - 0s 4ms/step - loss: 0.1621 - accuracy: 0.8225 - val_loss: 0.1640 - val_accuracy: 0.8050\n",
      "Epoch 87/128\n",
      "25/25 [==============================] - 0s 4ms/step - loss: 0.1614 - accuracy: 0.8313 - val_loss: 0.1634 - val_accuracy: 0.8050\n",
      "Epoch 88/128\n",
      "25/25 [==============================] - 0s 5ms/step - loss: 0.1607 - accuracy: 0.8338 - val_loss: 0.1628 - val_accuracy: 0.8050\n",
      "Epoch 89/128\n",
      "25/25 [==============================] - 0s 4ms/step - loss: 0.1599 - accuracy: 0.8350 - val_loss: 0.1621 - val_accuracy: 0.8050\n",
      "Epoch 90/128\n",
      "25/25 [==============================] - 0s 4ms/step - loss: 0.1591 - accuracy: 0.8350 - val_loss: 0.1614 - val_accuracy: 0.8050\n",
      "Epoch 91/128\n",
      "25/25 [==============================] - 0s 4ms/step - loss: 0.1583 - accuracy: 0.8350 - val_loss: 0.1608 - val_accuracy: 0.8050\n",
      "Epoch 92/128\n",
      "25/25 [==============================] - 0s 4ms/step - loss: 0.1575 - accuracy: 0.8363 - val_loss: 0.1601 - val_accuracy: 0.8050\n",
      "Epoch 93/128\n",
      "25/25 [==============================] - 0s 4ms/step - loss: 0.1568 - accuracy: 0.8425 - val_loss: 0.1595 - val_accuracy: 0.8050\n",
      "Epoch 94/128\n",
      "25/25 [==============================] - 0s 3ms/step - loss: 0.1561 - accuracy: 0.8413 - val_loss: 0.1588 - val_accuracy: 0.8050\n",
      "Epoch 95/128\n",
      "25/25 [==============================] - 0s 5ms/step - loss: 0.1553 - accuracy: 0.8363 - val_loss: 0.1582 - val_accuracy: 0.8050\n",
      "Epoch 96/128\n",
      "25/25 [==============================] - 0s 5ms/step - loss: 0.1546 - accuracy: 0.8375 - val_loss: 0.1576 - val_accuracy: 0.8150\n",
      "Epoch 97/128\n",
      "25/25 [==============================] - 0s 4ms/step - loss: 0.1538 - accuracy: 0.8500 - val_loss: 0.1569 - val_accuracy: 0.8200\n",
      "Epoch 98/128\n",
      "25/25 [==============================] - 0s 4ms/step - loss: 0.1530 - accuracy: 0.8462 - val_loss: 0.1562 - val_accuracy: 0.8300\n",
      "Epoch 99/128\n",
      "25/25 [==============================] - 0s 3ms/step - loss: 0.1523 - accuracy: 0.8550 - val_loss: 0.1556 - val_accuracy: 0.8300\n",
      "Epoch 100/128\n",
      "25/25 [==============================] - 0s 3ms/step - loss: 0.1516 - accuracy: 0.8537 - val_loss: 0.1550 - val_accuracy: 0.8350\n",
      "Epoch 101/128\n",
      "25/25 [==============================] - 0s 4ms/step - loss: 0.1509 - accuracy: 0.8600 - val_loss: 0.1543 - val_accuracy: 0.8350\n",
      "Epoch 102/128\n",
      "25/25 [==============================] - 0s 5ms/step - loss: 0.1502 - accuracy: 0.8562 - val_loss: 0.1538 - val_accuracy: 0.8350\n",
      "Epoch 103/128\n",
      "25/25 [==============================] - 0s 5ms/step - loss: 0.1495 - accuracy: 0.8600 - val_loss: 0.1532 - val_accuracy: 0.8500\n",
      "Epoch 104/128\n",
      "25/25 [==============================] - 0s 4ms/step - loss: 0.1488 - accuracy: 0.8662 - val_loss: 0.1526 - val_accuracy: 0.8500\n",
      "Epoch 105/128\n",
      "25/25 [==============================] - 0s 3ms/step - loss: 0.1481 - accuracy: 0.8712 - val_loss: 0.1519 - val_accuracy: 0.8500\n",
      "Epoch 106/128\n",
      "25/25 [==============================] - 0s 4ms/step - loss: 0.1474 - accuracy: 0.8712 - val_loss: 0.1513 - val_accuracy: 0.8550\n",
      "Epoch 107/128\n",
      "25/25 [==============================] - 0s 4ms/step - loss: 0.1467 - accuracy: 0.8775 - val_loss: 0.1508 - val_accuracy: 0.8550\n",
      "Epoch 108/128\n",
      "25/25 [==============================] - 0s 4ms/step - loss: 0.1461 - accuracy: 0.8775 - val_loss: 0.1502 - val_accuracy: 0.8550\n",
      "Epoch 109/128\n",
      "25/25 [==============================] - 0s 4ms/step - loss: 0.1454 - accuracy: 0.8775 - val_loss: 0.1496 - val_accuracy: 0.8550\n",
      "Epoch 110/128\n",
      "25/25 [==============================] - 0s 3ms/step - loss: 0.1447 - accuracy: 0.8813 - val_loss: 0.1489 - val_accuracy: 0.8550\n",
      "Epoch 111/128\n",
      "25/25 [==============================] - 0s 4ms/step - loss: 0.1441 - accuracy: 0.8838 - val_loss: 0.1483 - val_accuracy: 0.8600\n",
      "Epoch 112/128\n",
      "25/25 [==============================] - 0s 3ms/step - loss: 0.1434 - accuracy: 0.8825 - val_loss: 0.1477 - val_accuracy: 0.8600\n",
      "Epoch 113/128\n",
      "25/25 [==============================] - 0s 4ms/step - loss: 0.1428 - accuracy: 0.8925 - val_loss: 0.1472 - val_accuracy: 0.8600\n",
      "Epoch 114/128\n",
      "25/25 [==============================] - 0s 4ms/step - loss: 0.1421 - accuracy: 0.8875 - val_loss: 0.1466 - val_accuracy: 0.8650\n",
      "Epoch 115/128\n",
      "25/25 [==============================] - 0s 4ms/step - loss: 0.1415 - accuracy: 0.8900 - val_loss: 0.1460 - val_accuracy: 0.8650\n",
      "Epoch 116/128\n",
      "25/25 [==============================] - 0s 4ms/step - loss: 0.1409 - accuracy: 0.8938 - val_loss: 0.1455 - val_accuracy: 0.8700\n",
      "Epoch 117/128\n",
      "25/25 [==============================] - 0s 4ms/step - loss: 0.1402 - accuracy: 0.8900 - val_loss: 0.1449 - val_accuracy: 0.8700\n",
      "Epoch 118/128\n",
      "25/25 [==============================] - 0s 5ms/step - loss: 0.1395 - accuracy: 0.8925 - val_loss: 0.1443 - val_accuracy: 0.8700\n",
      "Epoch 119/128\n",
      "25/25 [==============================] - 0s 4ms/step - loss: 0.1389 - accuracy: 0.8938 - val_loss: 0.1438 - val_accuracy: 0.8750\n",
      "Epoch 120/128\n",
      "25/25 [==============================] - 0s 3ms/step - loss: 0.1383 - accuracy: 0.8975 - val_loss: 0.1432 - val_accuracy: 0.8750\n",
      "Epoch 121/128\n",
      "25/25 [==============================] - 0s 4ms/step - loss: 0.1377 - accuracy: 0.8963 - val_loss: 0.1426 - val_accuracy: 0.8750\n",
      "Epoch 122/128\n",
      "25/25 [==============================] - 0s 4ms/step - loss: 0.1370 - accuracy: 0.8988 - val_loss: 0.1421 - val_accuracy: 0.8750\n",
      "Epoch 123/128\n",
      "25/25 [==============================] - 0s 4ms/step - loss: 0.1364 - accuracy: 0.9000 - val_loss: 0.1415 - val_accuracy: 0.8900\n",
      "Epoch 124/128\n",
      "25/25 [==============================] - 0s 3ms/step - loss: 0.1358 - accuracy: 0.9050 - val_loss: 0.1409 - val_accuracy: 0.8850\n",
      "Epoch 125/128\n",
      "25/25 [==============================] - 0s 4ms/step - loss: 0.1352 - accuracy: 0.9038 - val_loss: 0.1404 - val_accuracy: 0.8900\n",
      "Epoch 126/128\n",
      "25/25 [==============================] - 0s 5ms/step - loss: 0.1347 - accuracy: 0.9050 - val_loss: 0.1399 - val_accuracy: 0.8900\n",
      "Epoch 127/128\n",
      "25/25 [==============================] - 0s 3ms/step - loss: 0.1341 - accuracy: 0.8988 - val_loss: 0.1394 - val_accuracy: 0.8950\n",
      "Epoch 128/128\n",
      "25/25 [==============================] - 0s 4ms/step - loss: 0.1335 - accuracy: 0.9112 - val_loss: 0.1388 - val_accuracy: 0.8950\n"
     ]
    }
   ],
   "source": [
    "model2.fit(X,Y, epochs=128, batch_size=32,validation_split = 0.2);\n"
   ]
  },
  {
   "cell_type": "code",
   "execution_count": 11,
   "metadata": {
    "scrolled": true
   },
   "outputs": [
    {
     "data": {
      "text/plain": [
       "[array([[0.6624822 ],\n",
       "        [0.38728037],\n",
       "        [0.49503887],\n",
       "        [0.42923546],\n",
       "        [0.52949774],\n",
       "        [0.56014204],\n",
       "        [0.41424698],\n",
       "        [0.54403144],\n",
       "        [0.43550423]], dtype=float32),\n",
       " array([-1.9831312], dtype=float32)]"
      ]
     },
     "execution_count": 11,
     "metadata": {},
     "output_type": "execute_result"
    }
   ],
   "source": [
    "model.get_weights()"
   ]
  },
  {
   "cell_type": "code",
   "execution_count": 12,
   "metadata": {},
   "outputs": [
    {
     "data": {
      "text/plain": [
       "[array([[0.66491324],\n",
       "        [0.42612   ],\n",
       "        [0.52305704],\n",
       "        [0.43424928],\n",
       "        [0.5532628 ],\n",
       "        [0.59240544],\n",
       "        [0.4118178 ],\n",
       "        [0.5846854 ],\n",
       "        [0.4494379 ]], dtype=float32),\n",
       " array([-2.0774608], dtype=float32)]"
      ]
     },
     "execution_count": 12,
     "metadata": {},
     "output_type": "execute_result"
    }
   ],
   "source": [
    "model2.get_weights()"
   ]
  },
  {
   "cell_type": "code",
   "execution_count": 13,
   "metadata": {},
   "outputs": [
    {
     "name": "stdout",
     "output_type": "stream",
     "text": [
      "Model: \"sequential\"\n",
      "_________________________________________________________________\n",
      "Layer (type)                 Output Shape              Param #   \n",
      "=================================================================\n",
      "layer1 (Dense)               (None, 1)                 10        \n",
      "=================================================================\n",
      "Total params: 10\n",
      "Trainable params: 10\n",
      "Non-trainable params: 0\n",
      "_________________________________________________________________\n"
     ]
    }
   ],
   "source": [
    "model.summary();"
   ]
  },
  {
   "cell_type": "code",
   "execution_count": 14,
   "metadata": {
    "scrolled": true
   },
   "outputs": [
    {
     "name": "stdout",
     "output_type": "stream",
     "text": [
      "Model: \"functional\"\n",
      "_________________________________________________________________\n",
      "Layer (type)                 Output Shape              Param #   \n",
      "=================================================================\n",
      "input_1 (InputLayer)         [(None, 9)]               0         \n",
      "_________________________________________________________________\n",
      "layer1 (Dense)               (None, 1)                 10        \n",
      "=================================================================\n",
      "Total params: 10\n",
      "Trainable params: 10\n",
      "Non-trainable params: 0\n",
      "_________________________________________________________________\n"
     ]
    }
   ],
   "source": [
    " model2.summary();"
   ]
  },
  {
   "cell_type": "code",
   "execution_count": 15,
   "metadata": {},
   "outputs": [
    {
     "data": {
      "image/png": "[encoded data removed]",
      "text/plain": [
       "<IPython.core.display.Image object>"
      ]
     },
     "execution_count": 15,
     "metadata": {},
     "output_type": "execute_result"
    }
   ],
   "source": [
    "tf.keras.utils.plot_model(model,show_shapes=True)"
   ]
  },
  {
   "cell_type": "code",
   "execution_count": 16,
   "metadata": {
    "scrolled": true
   },
   "outputs": [
    {
     "data": {
      "image/png": "[encoded data removed]",
      "text/plain": [
       "<IPython.core.display.Image object>"
      ]
     },
     "execution_count": 16,
     "metadata": {},
     "output_type": "execute_result"
    }
   ],
   "source": [
    "tf.keras.utils.plot_model(model2,show_shapes=True)"
   ]
  },
  {
   "cell_type": "markdown",
   "metadata": {},
   "source": [
    "We got 2 models with the same shapes of input and output layers and almost the same weights + bias"
   ]
  },
  {
   "cell_type": "markdown",
   "metadata": {
    "colab_type": "text",
    "id": "AtI-nD45xx1r"
   },
   "source": [
    "## Part 3: Identifying identical distributions\n",
    "\n",
    "#### The previous problem had a nice solution using the Keras Sequential API, but sometimes we will need the Functional API to build more complicated networks. Let's try to learn a slightly more complicated pattern that will be solved more naturally with the Functional API.\n",
    "\n",
    "#### Let's generate another dataset:"
   ]
  },
  {
   "cell_type": "code",
   "execution_count": 17,
   "metadata": {
    "colab": {},
    "colab_type": "code",
    "id": "C9vq8ocrxtcg"
   },
   "outputs": [],
   "source": [
    "M1 = np.array([np.random.choice([-1, 1]) for i in range(10000)])\n",
    "M2 = np.array([np.random.choice([-1, 1]) for i in range(10000)])\n",
    "S1 = np.stack([\n",
    "    np.random.normal(m, 1, size = 5)\n",
    "    for m in M1\n",
    "])\n",
    "S2 = np.stack([\n",
    "    np.random.normal(m, 1, size = 5)\n",
    "    for m in M2\n",
    "])\n",
    "labels = np.where(M1 == M2, 1, 0)"
   ]
  },
  {
   "cell_type": "markdown",
   "metadata": {
    "colab_type": "text",
    "id": "iC91vzWqx1E8"
   },
   "source": [
    "#### Every row of S1 and S2 is a sample of 5 elements from a distribution with mean either -1 or 1, and the labels in *label* represent whether the given samples are drawn from the same distribution (0: different distributions, 1: same distribution).\n",
    "\n",
    "#### We want to train a model to learn how to predict if the two given samples of 5 data points are drawn from the same distribution, i.e. whether they have the same mean.\n",
    "\n",
    "## Questions:\n",
    "### 6. Create a Functional model using the following architecture:\n",
    "  #### * Two Input layers *inp1* and *inp2*, each taking input of dimension 5\n"
   ]
  },
  {
   "cell_type": "code",
   "execution_count": 18,
   "metadata": {},
   "outputs": [],
   "source": [
    "input1 = Input(shape=(5,))\n",
    "input2 = Input(shape=(5,))\n"
   ]
  },
  {
   "cell_type": "markdown",
   "metadata": {},
   "source": [
    "  #### * A Dense layer *shared_dense* with output dimension 1 and tanh activation function, shared between the input layers. (Define the Dense layer as *shared_dense = Dense(...)* and then set *x1 = shared_dense(inp1)* and *x2 = shared_dense(inp2)*). This means that the same weights will be applied to both inputs.\n"
   ]
  },
  {
   "cell_type": "code",
   "execution_count": 19,
   "metadata": {},
   "outputs": [],
   "source": [
    "shared_dense = Dense(1, activation='tanh', name=\"layer1\")\n",
    "x1 = shared_dense(input1)\n",
    "x2 = shared_dense(input2)"
   ]
  },
  {
   "cell_type": "markdown",
   "metadata": {},
   "source": [
    "  #### * Concatenate the outputs of the dense layers together with *merged = concatenate([x1, x2])*\n",
    " "
   ]
  },
  {
   "cell_type": "code",
   "execution_count": 20,
   "metadata": {},
   "outputs": [],
   "source": [
    "merged = concatenate([x1, x2])"
   ]
  },
  {
   "cell_type": "markdown",
   "metadata": {},
   "source": [
    " #### * A Dense layer with output dimension 2 and tanh activation function, applied to *merged*\n",
    " "
   ]
  },
  {
   "cell_type": "code",
   "execution_count": 21,
   "metadata": {},
   "outputs": [],
   "source": [
    "dense_layer_1 = Dense(2, activation='tanh')(merged)\n"
   ]
  },
  {
   "cell_type": "markdown",
   "metadata": {},
   "source": [
    "#### * A Dense layer with output dimension 1 and sigmoid activation function, applied to the output of the previous dense layer\n"
   ]
  },
  {
   "cell_type": "code",
   "execution_count": 22,
   "metadata": {},
   "outputs": [],
   "source": [
    "dense_layer_1 = Dense(1, activation='sigmoid')(dense_layer_1)"
   ]
  },
  {
   "cell_type": "markdown",
   "metadata": {},
   "source": [
    "  #### * Finally, define the model as *func_model = Model(inputs = ..., outputs = ...)* for the proper inputs and outputs parameters.\n"
   ]
  },
  {
   "cell_type": "code",
   "execution_count": 23,
   "metadata": {},
   "outputs": [],
   "source": [
    "func_model = Model(inputs =[input1,input2], outputs = dense_layer_1)"
   ]
  },
  {
   "cell_type": "markdown",
   "metadata": {},
   "source": [
    "### 7. Examine the input and output shapes of *func_model* and verify that they match *S1*, *S2*, and *labels*.\n"
   ]
  },
  {
   "cell_type": "code",
   "execution_count": 24,
   "metadata": {},
   "outputs": [
    {
     "data": {
      "text/plain": [
       "([(None, 5), (None, 5)], (None, 1))"
      ]
     },
     "execution_count": 24,
     "metadata": {},
     "output_type": "execute_result"
    }
   ],
   "source": [
    "func_model.input_shape, func_model.output_shape"
   ]
  },
  {
   "cell_type": "code",
   "execution_count": 25,
   "metadata": {},
   "outputs": [
    {
     "data": {
      "text/plain": [
       "((10000, 5), (10000, 5), (10000,))"
      ]
     },
     "execution_count": 25,
     "metadata": {},
     "output_type": "execute_result"
    }
   ],
   "source": [
    "S1.shape,S2.shape,labels.shape"
   ]
  },
  {
   "cell_type": "markdown",
   "metadata": {},
   "source": [
    "The shape is 5 and 1 :\n",
    "\n",
    "    func_model.input_shape, func_model.output_shape are match S1, S2, and labels shapes"
   ]
  },
  {
   "cell_type": "markdown",
   "metadata": {},
   "source": [
    "### 8. Compile *func_model* with optimiser *sgd*, *binary_crossentropy* loss, and *metrics = 'accuracy'* and fit to *[S1, S2]* and *labels* with *validation_split = 0.2*. <br>Hint: you can use *epochs = 10* and *batch_size = 4* if you are unsure of good values for these hyperparameters. \n"
   ]
  },
  {
   "cell_type": "code",
   "execution_count": 26,
   "metadata": {
    "scrolled": true
   },
   "outputs": [],
   "source": [
    "func_model.compile(optimizer='sgd',\n",
    "              loss='binary_crossentropy',\n",
    "              metrics=['accuracy'])"
   ]
  },
  {
   "cell_type": "markdown",
   "metadata": {},
   "source": [
    "### What is the final accuracy that this model achieves? <br>Note: You may have to re-run your code multiple times for the model to learn well, due to randomness. You should get accuracy above 0.95."
   ]
  },
  {
   "cell_type": "code",
   "execution_count": 27,
   "metadata": {
    "scrolled": true
   },
   "outputs": [
    {
     "name": "stdout",
     "output_type": "stream",
     "text": [
      "Epoch 1/10\n",
      "2000/2000 [==============================] - 5s 3ms/step - loss: 0.6612 - accuracy: 0.6231 - val_loss: 0.5466 - val_accuracy: 0.9050\n",
      "Epoch 2/10\n",
      "2000/2000 [==============================] - 5s 3ms/step - loss: 0.3469 - accuracy: 0.9639 - val_loss: 0.2205 - val_accuracy: 0.9740\n",
      "Epoch 3/10\n",
      "2000/2000 [==============================] - 5s 3ms/step - loss: 0.1715 - accuracy: 0.9760 - val_loss: 0.1446 - val_accuracy: 0.9725\n",
      "Epoch 4/10\n",
      "2000/2000 [==============================] - 5s 3ms/step - loss: 0.1253 - accuracy: 0.9766 - val_loss: 0.1190 - val_accuracy: 0.9725\n",
      "Epoch 5/10\n",
      "2000/2000 [==============================] - 5s 3ms/step - loss: 0.1079 - accuracy: 0.9762 - val_loss: 0.1103 - val_accuracy: 0.9720\n",
      "Epoch 6/10\n",
      "2000/2000 [==============================] - 6s 3ms/step - loss: 0.0989 - accuracy: 0.9765 - val_loss: 0.1027 - val_accuracy: 0.9725\n",
      "Epoch 7/10\n",
      "2000/2000 [==============================] - 6s 3ms/step - loss: 0.0935 - accuracy: 0.9761 - val_loss: 0.0968 - val_accuracy: 0.9725\n",
      "Epoch 8/10\n",
      "2000/2000 [==============================] - 5s 3ms/step - loss: 0.0900 - accuracy: 0.9756 - val_loss: 0.0950 - val_accuracy: 0.9715\n",
      "Epoch 9/10\n",
      "2000/2000 [==============================] - 6s 3ms/step - loss: 0.0872 - accuracy: 0.9760 - val_loss: 0.0908 - val_accuracy: 0.9720\n",
      "Epoch 10/10\n",
      "2000/2000 [==============================] - 6s 3ms/step - loss: 0.0853 - accuracy: 0.9750 - val_loss: 0.0921 - val_accuracy: 0.9710\n"
     ]
    }
   ],
   "source": [
    "func_model.fit([S1, S2],labels, epochs=10, batch_size=4,validation_split = 0.2);"
   ]
  },
  {
   "cell_type": "markdown",
   "metadata": {},
   "source": [
    "\n",
    "## Bonus: \n",
    "### Can you interpret the weights in *func_model.get_weights()*?"
   ]
  },
  {
   "cell_type": "code",
   "execution_count": 28,
   "metadata": {},
   "outputs": [
    {
     "name": "stdout",
     "output_type": "stream",
     "text": [
      "input_2\n",
      "[]\n",
      "input_3\n",
      "[]\n",
      "layer1\n",
      "[array([[-0.5499558 ],\n",
      "       [-0.5892616 ],\n",
      "       [-0.5720403 ],\n",
      "       [-0.42556792],\n",
      "       [-0.63986105]], dtype=float32), array([0.003162], dtype=float32)]\n",
      "concatenate\n",
      "[]\n",
      "dense\n",
      "[array([[ 1.905821 ,  1.9243927],\n",
      "       [-1.9703459, -1.9388585]], dtype=float32), array([-1.6765386,  1.77498  ], dtype=float32)]\n",
      "dense_1\n",
      "[array([[-4.0052314],\n",
      "       [ 4.0191236]], dtype=float32), array([-3.6294186], dtype=float32)]\n"
     ]
    }
   ],
   "source": [
    "for lay in func_model.layers:\n",
    "    print(lay.name)\n",
    "    print(lay.get_weights())"
   ]
  },
  {
   "cell_type": "markdown",
   "metadata": {},
   "source": [
    "From the input values to the first hidden layer \"transition\", the weights are stored in the first hidden layer. And so on until the output layer that stores the weights of the \"transition\" from the last hidden layer to the output layer"
   ]
  }
 ],
 "metadata": {
  "colab": {
   "authorship_tag": "ABX9TyMSwemIirzVoC/JwGPJozeT",
   "collapsed_sections": [],
   "name": "Tensorflow Exercise.ipynb",
   "provenance": []
  },
  "kernelspec": {
   "display_name": "Python 3",
   "language": "python",
   "name": "python3"
  },
  "language_info": {
   "codemirror_mode": {
    "name": "ipython",
    "version": 3
   },
   "file_extension": ".py",
   "mimetype": "text/x-python",
   "name": "python",
   "nbconvert_exporter": "python",
   "pygments_lexer": "ipython3",
   "version": "3.6.10"
  }
 },
 "nbformat": 4,
 "nbformat_minor": 1
}
