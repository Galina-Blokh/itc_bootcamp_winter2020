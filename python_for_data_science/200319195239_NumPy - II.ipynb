{
 "cells": [
  {
   "cell_type": "code",
   "execution_count": null,
   "metadata": {
    "ExecuteTime": {
     "end_time": "2019-05-15T12:47:16.093006Z",
     "start_time": "2019-05-15T12:47:16.087188Z"
    },
    "hide_input": true
   },
   "outputs": [],
   "source": [
    "from IPython.core.display import HTML\n",
    "HTML('''\n",
    "<script>\n",
    "var logoParent = document.getElementById(\"kernel_logo_widget\")\n",
    "var logo = document.getElementById(\"kernel_logo_widget\").getElementsByClassName(\"current_kernel_logo\")[0];\n",
    "logo.src = \"https://i.ibb.co/mD4jTGQ/itclogo.jpg\";\n",
    "logo.style = \"display: inline; width:138px; height:40px\";\n",
    "logoParent.innerHTML = '<a href=\"https://i.ibb.co/mD4jTGQ/itclogo.jpg\">' + logoParent.innerHTML + '</a>';\n",
    "</script>\n",
    "''')"
   ]
  },
  {
   "cell_type": "markdown",
   "metadata": {
    "ExecuteTime": {
     "end_time": "2019-05-14T15:58:51.942803Z",
     "start_time": "2019-05-14T15:58:51.928167Z"
    }
   },
   "source": [
    "<font size=\"36\"><b>Numpy - Assignment II</b></font> <img src = \"https://upload.wikimedia.org/wikipedia/commons/thumb/1/1a/NumPy_logo.svg/1200px-NumPy_logo.svg.png\" height=200 width=200>"
   ]
  },
  {
   "cell_type": "markdown",
   "metadata": {},
   "source": [
    "Based on questions from https://www.w3resource.com"
   ]
  },
  {
   "cell_type": "code",
   "execution_count": null,
   "metadata": {
    "ExecuteTime": {
     "end_time": "2019-05-15T11:42:52.871300Z",
     "start_time": "2019-05-15T11:42:52.537823Z"
    }
   },
   "outputs": [],
   "source": [
    "import numpy as np"
   ]
  },
  {
   "cell_type": "markdown",
   "metadata": {},
   "source": [
    "# Question #1"
   ]
  },
  {
   "cell_type": "markdown",
   "metadata": {},
   "source": [
    "Write a Python program to find the maximum and minimum value of a given flattened array."
   ]
  },
  {
   "cell_type": "code",
   "execution_count": 30,
   "metadata": {
    "ExecuteTime": {
     "end_time": "2019-05-15T11:42:55.059697Z",
     "start_time": "2019-05-15T11:42:55.045056Z"
    }
   },
   "outputs": [
    {
     "name": "stdout",
     "output_type": "stream",
     "text": [
      "in the array \n",
      "[[0 1]\n",
      " [2 3]]\n",
      "\n",
      " the minimum is: 0,\n",
      " and the maximum is: 3\n"
     ]
    }
   ],
   "source": [
    "import numpy as np\n",
    "a = np.arange(4).reshape((2,2))\n",
    "\n",
    "def find_min_max(flatt_arr):\n",
    "    return 'in the array \\n{}\\n\\n the minimum is: {},\\n and the maximum is: {}'.format(flatt_arr,np.min(flatt_arr), np.max(flatt_arr))\n",
    "\n",
    "print(find_min_max(a))"
   ]
  },
  {
   "cell_type": "markdown",
   "metadata": {
    "ExecuteTime": {
     "end_time": "2019-05-14T17:51:50.970376Z",
     "start_time": "2019-05-14T17:51:50.967462Z"
    }
   },
   "source": [
    "# Question #2"
   ]
  },
  {
   "cell_type": "markdown",
   "metadata": {},
   "source": [
    "Write a function to calculate the difference between the maximum and the minimum values of a given array along the second axis, using NumPy"
   ]
  },
  {
   "cell_type": "code",
   "execution_count": 38,
   "metadata": {
    "ExecuteTime": {
     "end_time": "2019-05-15T11:52:39.421574Z",
     "start_time": "2019-05-15T11:52:39.414742Z"
    }
   },
   "outputs": [
    {
     "name": "stdout",
     "output_type": "stream",
     "text": [
      "[1 1]\n"
     ]
    }
   ],
   "source": [
    "def difference (arr):\n",
    "    return np.max(arr,axis=1) - np.min(arr,axis=1)\n",
    "print(difference(a))"
   ]
  },
  {
   "cell_type": "markdown",
   "metadata": {},
   "source": [
    "# Question #3"
   ]
  },
  {
   "cell_type": "markdown",
   "metadata": {},
   "source": [
    "Write a function to compute the mean, standard deviation, and variance of a given array using NumPy. \n",
    "- Do each operation in two different ways, and check using NumPy's `allclose` function that the values are similar. \n",
    "- Use the function on an NumPy array of your choice."
   ]
  },
  {
   "cell_type": "code",
   "execution_count": 71,
   "metadata": {
    "ExecuteTime": {
     "end_time": "2019-05-15T11:52:44.339986Z",
     "start_time": "2019-05-15T11:52:44.331204Z"
    }
   },
   "outputs": [
    {
     "name": "stdout",
     "output_type": "stream",
     "text": [
      "\n",
      "Original array: \n",
      "\n",
      "[[0 1]\n",
      " [2 3]]\n",
      "\n",
      "mean: 1.5, std: 1.118033988749895, var: 1.25\n",
      "\n",
      "\n"
     ]
    }
   ],
   "source": [
    "x = a.copy()\n",
    "\n",
    "def mean_std_var(arr):\n",
    "    mean1 = np.mean(arr)\n",
    "    mean2 = np.average(arr)\n",
    "    assert np.allclose(mean1, mean2)\n",
    "    \n",
    "    std1 = np.std(arr)\n",
    "    std2 = np.sqrt(np.mean((arr - np.mean(arr)) ** 2 ))\n",
    "    assert np.allclose(std1, std2)\n",
    "   \n",
    "    var1= np.var(arr)\n",
    "    var2 = np.mean((arr - np.mean(x)) ** 2 )\n",
    "    assert np.allclose(var1, var2)\n",
    "\n",
    "    return \"\\nOriginal array: \\n\\n{}\\n\\nmean: {}, std: {}, var: {}\\n\\n\".format(arr,mean1, std1, var1)\n",
    "    \n",
    "print(mean_std_var(x))"
   ]
  },
  {
   "cell_type": "markdown",
   "metadata": {},
   "source": [
    "# Question #4"
   ]
  },
  {
   "cell_type": "markdown",
   "metadata": {},
   "source": [
    "Write a NumPy program to test element-wise of a given array for finiteness (not positive / negative infinity and not Not a Number). \n",
    "- Return True is all members are finite, and False otherwise. \n",
    "- Use the function on an array of your choice."
   ]
  },
  {
   "cell_type": "code",
   "execution_count": 104,
   "metadata": {
    "ExecuteTime": {
     "end_time": "2019-05-15T12:08:14.126996Z",
     "start_time": "2019-05-15T12:08:14.121138Z"
    }
   },
   "outputs": [
    {
     "name": "stdout",
     "output_type": "stream",
     "text": [
      "[-inf   0.  inf  nan   1.  -7.] \n",
      " [1 2 3 4 5 6 7 8 9]\n",
      "False\n",
      "True\n"
     ]
    }
   ],
   "source": [
    "x = np.array([-np.inf, 0., np.inf,np.nan, 1,-7])\n",
    "y = np.arange(1,10)\n",
    "print(x,'\\n',y)\n",
    "def testing_wise(arr):\n",
    "    element_wise = ~(np.isneginf(arr)|np.isnan(arr)|np.isnan(arr)).any()\n",
    "    return element_wise\n",
    "print(testing_wise(x))\n",
    "print(testing_wise(y))"
   ]
  },
  {
   "cell_type": "markdown",
   "metadata": {},
   "source": [
    "# Question #5"
   ]
  },
  {
   "cell_type": "markdown",
   "metadata": {},
   "source": [
    "Write a NumPy program to create a structured array from given student name, height, class and their data types. Now sort the array on height."
   ]
  },
  {
   "cell_type": "code",
   "execution_count": 111,
   "metadata": {
    "ExecuteTime": {
     "end_time": "2019-05-15T12:11:00.342364Z",
     "start_time": "2019-05-15T12:11:00.331627Z"
    }
   },
   "outputs": [
    {
     "name": "stdout",
     "output_type": "stream",
     "text": [
      "[(b'Pit', 5, 40.11) (b'Paul', 5, 42.1 ) (b'James', 5, 48.5 )\n",
      " (b'Nail', 6, 52.5 )]\n"
     ]
    }
   ],
   "source": [
    "#Examples of a structured array:\n",
    "data_type = [('name', 'S15'), ('class', int), ('height', float)]\n",
    "students_details = [('James', 5, 48.5), ('Nail', 6, 52.5),('Paul', 5, 42.10), \\\n",
    "                    ('Pit', 5, 40.11)]\n",
    "def structured_arr(data_type, students_details):\n",
    "    students = np.array(students_details, dtype=data_type)\n",
    "    sort_stud = np.sort(students, order='height')\n",
    "    return sort_stud\n",
    "\n",
    "print(structured_arr(data_type, students_details))\n",
    "    \n",
    "       "
   ]
  },
  {
   "cell_type": "markdown",
   "metadata": {},
   "source": [
    "# Question #6"
   ]
  },
  {
   "cell_type": "markdown",
   "metadata": {},
   "source": [
    "Given two arrays, write a python program that will stack the arrays in two ways:\n",
    "- Stack the arrays on top of each other (final dimension 8x4)\n",
    "- Stack them horizontally (final dimension 4x8)"
   ]
  },
  {
   "cell_type": "code",
   "execution_count": 115,
   "metadata": {
    "ExecuteTime": {
     "end_time": "2019-05-15T12:31:04.384450Z",
     "start_time": "2019-05-15T12:31:04.374690Z"
    }
   },
   "outputs": [
    {
     "name": "stdout",
     "output_type": "stream",
     "text": [
      "[[0. 0. 0. 0.]\n",
      " [0. 0. 0. 0.]\n",
      " [0. 0. 0. 0.]\n",
      " [0. 0. 0. 0.]\n",
      " [1. 1. 1. 1.]\n",
      " [1. 1. 1. 1.]\n",
      " [1. 1. 1. 1.]\n",
      " [1. 1. 1. 1.]] \n",
      "\n",
      "\n",
      "[[0. 0. 0. 0. 1. 1. 1. 1.]\n",
      " [0. 0. 0. 0. 1. 1. 1. 1.]\n",
      " [0. 0. 0. 0. 1. 1. 1. 1.]\n",
      " [0. 0. 0. 0. 1. 1. 1. 1.]]\n"
     ]
    }
   ],
   "source": [
    "a = np.zeros([4, 4])\n",
    "b = np.ones([4, 4])\n",
    "print(np.vstack((a,b)),'\\n\\n')\n",
    "print(np.hstack((a,b)))"
   ]
  },
  {
   "cell_type": "markdown",
   "metadata": {},
   "source": [
    "# Question #7"
   ]
  },
  {
   "cell_type": "markdown",
   "metadata": {},
   "source": [
    "Find a numpy function to limit the values of an array between two numbers. Use this function to limit the given array between 3 and 8"
   ]
  },
  {
   "cell_type": "code",
   "execution_count": 116,
   "metadata": {
    "ExecuteTime": {
     "end_time": "2019-05-15T12:37:35.170816Z",
     "start_time": "2019-05-15T12:37:35.163947Z"
    }
   },
   "outputs": [
    {
     "data": {
      "text/plain": [
       "array([3, 3, 3, 3, 4, 5, 6, 7, 8, 8])"
      ]
     },
     "execution_count": 116,
     "metadata": {},
     "output_type": "execute_result"
    }
   ],
   "source": [
    "x = np.arange(10)\n",
    "np.clip(x, 3,8)"
   ]
  },
  {
   "cell_type": "markdown",
   "metadata": {},
   "source": [
    "# Question #8"
   ]
  },
  {
   "cell_type": "markdown",
   "metadata": {},
   "source": [
    "Convert the given array from floats to ints"
   ]
  },
  {
   "cell_type": "code",
   "execution_count": 123,
   "metadata": {
    "ExecuteTime": {
     "end_time": "2019-05-15T12:39:15.855831Z",
     "start_time": "2019-05-15T12:39:15.849937Z"
    }
   },
   "outputs": [
    {
     "data": {
      "text/plain": [
       "array([1, 1, 1, 1, 1, 1, 1, 1, 1, 1])"
      ]
     },
     "execution_count": 123,
     "metadata": {},
     "output_type": "execute_result"
    }
   ],
   "source": [
    "x = np.ones(10)\n",
    "x.astype(np.int64)"
   ]
  }
 ],
 "metadata": {
  "kernelspec": {
   "display_name": "Python 3",
   "language": "python",
   "name": "python3"
  },
  "language_info": {
   "codemirror_mode": {
    "name": "ipython",
    "version": 3
   },
   "file_extension": ".py",
   "mimetype": "text/x-python",
   "name": "python",
   "nbconvert_exporter": "python",
   "pygments_lexer": "ipython3",
   "version": "3.6.10"
  },
  "latex_envs": {
   "LaTeX_envs_menu_present": true,
   "autoclose": false,
   "autocomplete": true,
   "bibliofile": "biblio.bib",
   "cite_by": "apalike",
   "current_citInitial": 1,
   "eqLabelWithNumbers": true,
   "eqNumInitial": 1,
   "hotkeys": {
    "equation": "Ctrl-E",
    "itemize": "Ctrl-I"
   },
   "labels_anchors": false,
   "latex_user_defs": false,
   "report_style_numbering": false,
   "user_envs_cfg": false
  },
  "toc": {
   "base_numbering": 1,
   "nav_menu": {},
   "number_sections": true,
   "sideBar": true,
   "skip_h1_title": false,
   "title_cell": "Table of Contents",
   "title_sidebar": "Contents",
   "toc_cell": false,
   "toc_position": {},
   "toc_section_display": true,
   "toc_window_display": false
  }
 },
 "nbformat": 4,
 "nbformat_minor": 2
}
