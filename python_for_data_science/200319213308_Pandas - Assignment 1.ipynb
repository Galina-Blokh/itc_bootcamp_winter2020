{
 "cells": [
  {
   "cell_type": "code",
   "execution_count": 46,
   "metadata": {
    "ExecuteTime": {
     "end_time": "2019-05-14T18:34:56.706274Z",
     "start_time": "2019-05-14T18:34:56.693621Z"
    },
    "hide_input": true
   },
   "outputs": [
    {
     "data": {
      "text/html": [
       "\n",
       "<script>\n",
       "var logoParent = document.getElementById(\"kernel_logo_widget\")\n",
       "var logo = document.getElementById(\"kernel_logo_widget\").getElementsByClassName(\"current_kernel_logo\")[0];\n",
       "logo.src = \"https://i.ibb.co/mD4jTGQ/itclogo.jpg\";\n",
       "logo.style = \"display: inline; width:138px; height:40px\";\n",
       "logoParent.innerHTML = '<a href=\"https://i.ibb.co/mD4jTGQ/itclogo.jpg\">' + logoParent.innerHTML + '</a>';\n",
       "</script>\n"
      ],
      "text/plain": [
       "<IPython.core.display.HTML object>"
      ]
     },
     "execution_count": 46,
     "metadata": {},
     "output_type": "execute_result"
    }
   ],
   "source": [
    "from IPython.core.display import HTML\n",
    "HTML('''\n",
    "<script>\n",
    "var logoParent = document.getElementById(\"kernel_logo_widget\")\n",
    "var logo = document.getElementById(\"kernel_logo_widget\").getElementsByClassName(\"current_kernel_logo\")[0];\n",
    "logo.src = \"https://i.ibb.co/mD4jTGQ/itclogo.jpg\";\n",
    "logo.style = \"display: inline; width:138px; height:40px\";\n",
    "logoParent.innerHTML = '<a href=\"https://i.ibb.co/mD4jTGQ/itclogo.jpg\">' + logoParent.innerHTML + '</a>';\n",
    "</script>\n",
    "''')"
   ]
  },
  {
   "cell_type": "markdown",
   "metadata": {
    "ExecuteTime": {
     "end_time": "2019-05-14T15:58:51.942803Z",
     "start_time": "2019-05-14T15:58:51.928167Z"
    }
   },
   "source": [
    "<font size=\"36\"><b>Pandas - Assignment I</b></font> <img src = \"https://s3-ap-south-1.amazonaws.com/av-blog-media/wp-content/uploads/2018/03/pandas.jpg\" height=200 width=200>"
   ]
  },
  {
   "cell_type": "markdown",
   "metadata": {},
   "source": [
    "Based on questions from https://www.machinelearningplus.com"
   ]
  },
  {
   "cell_type": "code",
   "execution_count": 4,
   "metadata": {
    "ExecuteTime": {
     "end_time": "2019-05-18T15:19:13.631217Z",
     "start_time": "2019-05-18T15:19:13.627195Z"
    }
   },
   "outputs": [],
   "source": [
    "import pandas as pd\n",
    "import numpy as np"
   ]
  },
  {
   "cell_type": "markdown",
   "metadata": {},
   "source": [
    "# Question 0"
   ]
  },
  {
   "cell_type": "markdown",
   "metadata": {},
   "source": [
    "Print your `pandas` version"
   ]
  },
  {
   "cell_type": "code",
   "execution_count": 5,
   "metadata": {},
   "outputs": [
    {
     "data": {
      "text/plain": [
       "'1.0.1'"
      ]
     },
     "execution_count": 5,
     "metadata": {},
     "output_type": "execute_result"
    }
   ],
   "source": [
    "pd.__version__"
   ]
  },
  {
   "cell_type": "code",
   "execution_count": 6,
   "metadata": {
    "ExecuteTime": {
     "end_time": "2019-05-18T16:08:05.835988Z",
     "start_time": "2019-05-18T16:08:05.831999Z"
    }
   },
   "outputs": [
    {
     "name": "stdout",
     "output_type": "stream",
     "text": [
      "\n",
      "INSTALLED VERSIONS\n",
      "------------------\n",
      "commit           : None\n",
      "python           : 3.6.10.final.0\n",
      "python-bits      : 64\n",
      "OS               : Linux\n",
      "OS-release       : 5.3.0-42-generic\n",
      "machine          : x86_64\n",
      "processor        : x86_64\n",
      "byteorder        : little\n",
      "LC_ALL           : None\n",
      "LANG             : en_US.UTF-8\n",
      "LOCALE           : en_US.UTF-8\n",
      "\n",
      "pandas           : 1.0.1\n",
      "numpy            : 1.18.1\n",
      "pytz             : 2019.3\n",
      "dateutil         : 2.8.1\n",
      "pip              : 20.0.2\n",
      "setuptools       : 46.0.0.post20200309\n",
      "Cython           : 0.29.15\n",
      "pytest           : 5.3.5\n",
      "hypothesis       : 5.5.4\n",
      "sphinx           : 2.4.0\n",
      "blosc            : None\n",
      "feather          : None\n",
      "xlsxwriter       : 1.2.7\n",
      "lxml.etree       : 4.5.0\n",
      "html5lib         : 1.0.1\n",
      "pymysql          : 0.9.3\n",
      "psycopg2         : None\n",
      "jinja2           : 2.11.1\n",
      "IPython          : 7.13.0\n",
      "pandas_datareader: None\n",
      "bs4              : 4.6.0\n",
      "bottleneck       : 1.3.2\n",
      "fastparquet      : None\n",
      "gcsfs            : None\n",
      "lxml.etree       : 4.5.0\n",
      "matplotlib       : 3.1.3\n",
      "numexpr          : 2.7.1\n",
      "odfpy            : None\n",
      "openpyxl         : 3.0.3\n",
      "pandas_gbq       : None\n",
      "pyarrow          : None\n",
      "pytables         : None\n",
      "pytest           : 5.3.5\n",
      "pyxlsb           : None\n",
      "s3fs             : None\n",
      "scipy            : 1.4.1\n",
      "sqlalchemy       : 1.3.13\n",
      "tables           : 3.6.1\n",
      "tabulate         : None\n",
      "xarray           : None\n",
      "xlrd             : 1.2.0\n",
      "xlwt             : 1.3.0\n",
      "xlsxwriter       : 1.2.7\n",
      "numba            : 0.48.0\n"
     ]
    }
   ],
   "source": [
    "pd.show_versions()"
   ]
  },
  {
   "cell_type": "markdown",
   "metadata": {},
   "source": [
    "# Question #1"
   ]
  },
  {
   "cell_type": "markdown",
   "metadata": {},
   "source": [
    "Print the unique values in a pandas series `series`, and the number of appearances in the series. Use one line of code."
   ]
  },
  {
   "cell_type": "code",
   "execution_count": 7,
   "metadata": {
    "ExecuteTime": {
     "end_time": "2019-05-18T16:08:08.369605Z",
     "start_time": "2019-05-18T16:08:08.283838Z"
    }
   },
   "outputs": [
    {
     "name": "stdout",
     "output_type": "stream",
     "text": [
      "c    41\n",
      "l    40\n",
      "k    38\n",
      "a    38\n",
      "h    34\n",
      "b    33\n",
      "g    33\n",
      "n    31\n",
      "d    30\n",
      "m    30\n",
      "o    28\n",
      "i    28\n",
      "j    27\n",
      "p    25\n",
      "f    24\n",
      "e    20\n",
      "dtype: int64\n"
     ]
    }
   ],
   "source": [
    "series = pd.Series(np.take(list('abcdefghijklmnop'), np.random.randint(16, size=500)))\n",
    "print(series.value_counts())"
   ]
  },
  {
   "cell_type": "markdown",
   "metadata": {
    "ExecuteTime": {
     "end_time": "2019-05-14T17:51:50.970376Z",
     "start_time": "2019-05-14T17:51:50.967462Z"
    }
   },
   "source": [
    "# Question #2"
   ]
  },
  {
   "cell_type": "markdown",
   "metadata": {},
   "source": [
    "Divide a pandas series of 500 numbers between 1 and 100 to:\n",
    " 1. Based on value: 10 bins of width ~10\n",
    " 2. Based on the distribution: 10 bins of same amount of non-unique items in each bin\n",
    " \n",
    " Don't need to actually create the groups, but prove that the correct split was done."
   ]
  },
  {
   "cell_type": "code",
   "execution_count": 8,
   "metadata": {
    "ExecuteTime": {
     "end_time": "2019-05-18T15:31:03.269432Z",
     "start_time": "2019-05-18T15:31:03.249439Z"
    },
    "scrolled": true
   },
   "outputs": [
    {
     "data": {
      "text/plain": [
       "0       (70.3, 80.2]\n",
       "1       (50.5, 60.4]\n",
       "2       (30.7, 40.6]\n",
       "3       (50.5, 60.4]\n",
       "4       (60.4, 70.3]\n",
       "           ...      \n",
       "495     (50.5, 60.4]\n",
       "496     (20.8, 30.7]\n",
       "497     (20.8, 30.7]\n",
       "498    (0.901, 10.9]\n",
       "499     (70.3, 80.2]\n",
       "Length: 500, dtype: category\n",
       "Categories (10, interval[float64]): [(0.901, 10.9] < (10.9, 20.8] < (20.8, 30.7] < (30.7, 40.6] ... (60.4, 70.3] < (70.3, 80.2] < (80.2, 90.1] < (90.1, 100.0]]"
      ]
     },
     "execution_count": 8,
     "metadata": {},
     "output_type": "execute_result"
    }
   ],
   "source": [
    "series_q2 = pd.Series((np.random.randint(100, size=(1, 500))+1)[0])\n",
    "pd.cut(series_q2,bins=10)"
   ]
  },
  {
   "cell_type": "code",
   "execution_count": 15,
   "metadata": {
    "scrolled": true
   },
   "outputs": [
    {
     "data": {
      "text/plain": [
       "0       (73.3, 82.0]\n",
       "1       (53.0, 62.4]\n",
       "2       (23.0, 33.0]\n",
       "3       (43.6, 53.0]\n",
       "4       (62.4, 73.3]\n",
       "           ...      \n",
       "495     (53.0, 62.4]\n",
       "496     (12.9, 23.0]\n",
       "497     (23.0, 33.0]\n",
       "498    (0.999, 12.9]\n",
       "499     (73.3, 82.0]\n",
       "Length: 500, dtype: category\n",
       "Categories (10, interval[float64]): [(0.999, 12.9] < (12.9, 23.0] < (23.0, 33.0] < (33.0, 43.6] ... (62.4, 73.3] < (73.3, 82.0] < (82.0, 92.0] < (92.0, 100.0]]"
      ]
     },
     "execution_count": 15,
     "metadata": {},
     "output_type": "execute_result"
    }
   ],
   "source": [
    "pd.qcut(series_q2, q=10)"
   ]
  },
  {
   "cell_type": "markdown",
   "metadata": {},
   "source": [
    "# Question #3"
   ]
  },
  {
   "cell_type": "markdown",
   "metadata": {},
   "source": [
    "Stack two pandas series:\n",
    " 1. horizontally - final shape (5,2)\n",
    " 2. Vertically - final shape (10,1)"
   ]
  },
  {
   "cell_type": "code",
   "execution_count": 16,
   "metadata": {
    "ExecuteTime": {
     "end_time": "2019-05-18T15:33:12.833134Z",
     "start_time": "2019-05-18T15:33:12.817217Z"
    }
   },
   "outputs": [
    {
     "data": {
      "text/plain": [
       "0    a\n",
       "1    b\n",
       "2    c\n",
       "3    d\n",
       "4    e\n",
       "5    1\n",
       "6    2\n",
       "7    3\n",
       "8    4\n",
       "9    5\n",
       "dtype: object"
      ]
     },
     "execution_count": 16,
     "metadata": {},
     "output_type": "execute_result"
    }
   ],
   "source": [
    "series_q3_1 = pd.Series(['a', 'b', 'c', 'd', 'e'])\n",
    "series_q3_2 = pd.Series([1,2,3,4,5])\n",
    "\n",
    "pd.concat([series_q3_1, series_q3_2], axis= 0).reset_index(drop=True)"
   ]
  },
  {
   "cell_type": "code",
   "execution_count": 54,
   "metadata": {},
   "outputs": [
    {
     "data": {
      "text/plain": [
       "0    a\n",
       "1    b\n",
       "2    c\n",
       "3    d\n",
       "4    e\n",
       "0    1\n",
       "1    2\n",
       "2    3\n",
       "3    4\n",
       "4    5\n",
       "dtype: object"
      ]
     },
     "execution_count": 54,
     "metadata": {},
     "output_type": "execute_result"
    }
   ],
   "source": [
    "# Vertically - final shape (10,1)\n",
    "pd.concat([series_q3_1, series_q3_2], axis=0)"
   ]
  },
  {
   "cell_type": "markdown",
   "metadata": {},
   "source": [
    "# Question #4"
   ]
  },
  {
   "cell_type": "markdown",
   "metadata": {},
   "source": [
    "Calculate the number of characters in each value in a pandas series"
   ]
  },
  {
   "cell_type": "code",
   "execution_count": 55,
   "metadata": {
    "ExecuteTime": {
     "end_time": "2019-05-18T15:36:17.400824Z",
     "start_time": "2019-05-18T15:36:17.391848Z"
    }
   },
   "outputs": [
    {
     "data": {
      "text/plain": [
       "0    4\n",
       "1    2\n",
       "2    1\n",
       "3    6\n",
       "4    4\n",
       "5    5\n",
       "dtype: int64"
      ]
     },
     "execution_count": 55,
     "metadata": {},
     "output_type": "execute_result"
    }
   ],
   "source": [
    "series_q4 = pd.Series(['This', 'is', 'a', 'string', 'with', 'words'])\n",
    "series_q4.str.count('[a-zA-Z]')"
   ]
  },
  {
   "cell_type": "markdown",
   "metadata": {},
   "source": [
    "# Question #5"
   ]
  },
  {
   "cell_type": "markdown",
   "metadata": {},
   "source": [
    "Calculate the first and second derivative of a pandas series (difference between consecutive numbers, and the difference between these diffrerences)"
   ]
  },
  {
   "cell_type": "code",
   "execution_count": 56,
   "metadata": {
    "ExecuteTime": {
     "end_time": "2019-05-18T15:39:18.224727Z",
     "start_time": "2019-05-18T15:39:18.218742Z"
    },
    "scrolled": true
   },
   "outputs": [
    {
     "name": "stdout",
     "output_type": "stream",
     "text": [
      "0     NaN\n",
      "1     1.0\n",
      "2     3.0\n",
      "3     4.0\n",
      "4     9.0\n",
      "5     7.0\n",
      "6     7.0\n",
      "7     2.0\n",
      "8    21.0\n",
      "9     5.0\n",
      "dtype: float64 \n",
      "\n",
      " 0     NaN\n",
      "1     NaN\n",
      "2     2.0\n",
      "3     1.0\n",
      "4     5.0\n",
      "5    -2.0\n",
      "6     0.0\n",
      "7    -5.0\n",
      "8    19.0\n",
      "9   -16.0\n",
      "dtype: float64\n"
     ]
    }
   ],
   "source": [
    "series_q5 = pd.Series([1, 2, 5, 9, 18, 25, 32, 34, 55, 60])\n",
    "deriv1 = series_q5.diff()\n",
    "deriv2 = deriv1.diff()\n",
    "print(deriv1,'\\n\\n',deriv2)"
   ]
  },
  {
   "cell_type": "markdown",
   "metadata": {},
   "source": [
    "# Question #6"
   ]
  },
  {
   "cell_type": "markdown",
   "metadata": {},
   "source": [
    "Get the day of month, week number, day of year and day of week from a pandas series (Hint: you can use the dateutil.parser package)"
   ]
  },
  {
   "cell_type": "code",
   "execution_count": 57,
   "metadata": {
    "ExecuteTime": {
     "end_time": "2019-05-18T15:43:25.458440Z",
     "start_time": "2019-05-18T15:43:25.446509Z"
    }
   },
   "outputs": [
    {
     "name": "stdout",
     "output_type": "stream",
     "text": [
      "0   2019-01-01 00:00:00\n",
      "1   2019-02-02 00:00:00\n",
      "2   2015-03-03 00:00:00\n",
      "3   2013-04-04 00:00:00\n",
      "4   2012-05-05 00:00:00\n",
      "5   2013-06-06 12:20:00\n",
      "dtype: datetime64[ns]\n",
      "Day of month: [1, 2, 3, 4, 5, 6]\n",
      "Week number: [1, 5, 10, 14, 18, 23]\n",
      "Day of year: [1, 33, 62, 94, 126, 157]\n",
      "Day of week: 0     Tuesday\n",
      "1    Saturday\n",
      "2     Tuesday\n",
      "3    Thursday\n",
      "4    Saturday\n",
      "5    Thursday\n",
      "dtype: object\n"
     ]
    }
   ],
   "source": [
    "from dateutil.parser import parse\n",
    "series_q6 = pd.Series(['01 Jan 2019', '02-02-2019', '20150303', '2013/04/04', '2012-05-05', '2013-06-06T12:20'])\n",
    "date_series = series_q6.map(lambda x: parse(x))\n",
    "print(date_series)\n",
    "print('Day of month:',date_series. dt.day.tolist())\n",
    "print('Week number:',date_series.dt.weekofyear.tolist())\n",
    "print('Day of year:',date_series.dt.dayofyear.tolist())\n",
    "print('Day of week:',date_series.dt.day_name())"
   ]
  },
  {
   "cell_type": "markdown",
   "metadata": {},
   "source": [
    "# Question #7"
   ]
  },
  {
   "cell_type": "markdown",
   "metadata": {},
   "source": [
    "Create a Datetime index that contains each business day (Monday - Friday) of 2015 and use it to index a pandas series of random numbers. "
   ]
  },
  {
   "cell_type": "code",
   "execution_count": 28,
   "metadata": {
    "ExecuteTime": {
     "end_time": "2019-05-18T15:51:55.278002Z",
     "start_time": "2019-05-18T15:51:55.266070Z"
    },
    "scrolled": true
   },
   "outputs": [
    {
     "name": "stdout",
     "output_type": "stream",
     "text": [
      "Thursday     65\n",
      "Friday       45\n",
      "Monday       11\n",
      "Tuesday      74\n",
      "Wednesday    27\n",
      "             ..\n",
      "Friday       46\n",
      "Monday       19\n",
      "Tuesday      43\n",
      "Wednesday    12\n",
      "Thursday     78\n",
      "Length: 261, dtype: int64\n"
     ]
    }
   ],
   "source": [
    "import datetime as dt\n",
    "import pandas as pd\n",
    "days_mon_fri = pd.bdate_range(\"2015-01-01\", \"2015-12-31\").day_name()\n",
    "series_q7 = pd.Series((np.random.randint(100, size=(1, len(days_mon_fri)))+1)[0])\n",
    "series_q7.index = days_mon_fri\n",
    "\n",
    "print(series_q7)"
   ]
  },
  {
   "cell_type": "markdown",
   "metadata": {},
   "source": [
    "# Question #8"
   ]
  },
  {
   "cell_type": "markdown",
   "metadata": {},
   "source": [
    "Using the series in Question #7, find the sum of the values for all the Wednesdays."
   ]
  },
  {
   "cell_type": "code",
   "execution_count": 30,
   "metadata": {
    "ExecuteTime": {
     "end_time": "2019-05-18T15:53:34.363225Z",
     "start_time": "2019-05-18T15:53:34.356205Z"
    }
   },
   "outputs": [
    {
     "data": {
      "text/plain": [
       "2690"
      ]
     },
     "execution_count": 30,
     "metadata": {},
     "output_type": "execute_result"
    }
   ],
   "source": [
    "series_q7['Wednesday'].sum()"
   ]
  },
  {
   "cell_type": "markdown",
   "metadata": {},
   "source": [
    "# Question #9"
   ]
  },
  {
   "cell_type": "markdown",
   "metadata": {},
   "source": [
    "Out of the following series, how many values are \"Apples\"? Remember to use a vector-like calculation"
   ]
  },
  {
   "cell_type": "code",
   "execution_count": 17,
   "metadata": {
    "ExecuteTime": {
     "end_time": "2019-05-18T16:00:38.301800Z",
     "start_time": "2019-05-18T16:00:38.296852Z"
    }
   },
   "outputs": [
    {
     "name": "stdout",
     "output_type": "stream",
     "text": [
      "0      Peaches\n",
      "1       Apples\n",
      "2       Apples\n",
      "3       Apples\n",
      "4      Bananas\n",
      "        ...   \n",
      "495     Apples\n",
      "496    Peaches\n",
      "497    Bananas\n",
      "498    Bananas\n",
      "499    Peaches\n",
      "Length: 500, dtype: object\n"
     ]
    }
   ],
   "source": [
    "import random\n",
    "nouns = [\"Apples\", \"Bananas\", \"Peaches\"]\n",
    "series_q9 = pd.Series([nouns[random.randrange(0, len(nouns))] for i in range(500)])\n",
    "sum(series_q9 == 'Apples')\n"
   ]
  },
  {
   "cell_type": "markdown",
   "metadata": {},
   "source": [
    "# Question #10"
   ]
  },
  {
   "cell_type": "markdown",
   "metadata": {},
   "source": [
    "Change the first character of each word to upper case in each word of the given pandas series"
   ]
  },
  {
   "cell_type": "code",
   "execution_count": 28,
   "metadata": {
    "ExecuteTime": {
     "end_time": "2019-05-18T16:07:14.185651Z",
     "start_time": "2019-05-18T16:07:14.175721Z"
    }
   },
   "outputs": [
    {
     "data": {
      "text/plain": [
       "0          We\n",
       "1         Are\n",
       "2          At\n",
       "3         The\n",
       "4      Campus\n",
       "5    Learning\n",
       "6      Pandas\n",
       "dtype: object"
      ]
     },
     "execution_count": 28,
     "metadata": {},
     "output_type": "execute_result"
    }
   ],
   "source": [
    "series_q10 = pd.Series(['we', 'are', 'at', 'the', 'campus', 'learning', 'pandas'])\n",
    "series_q10.str.capitalize()"
   ]
  },
  {
   "cell_type": "code",
   "execution_count": null,
   "metadata": {},
   "outputs": [],
   "source": []
  }
 ],
 "metadata": {
  "kernelspec": {
   "display_name": "Python 3",
   "language": "python",
   "name": "python3"
  },
  "language_info": {
   "codemirror_mode": {
    "name": "ipython",
    "version": 3
   },
   "file_extension": ".py",
   "mimetype": "text/x-python",
   "name": "python",
   "nbconvert_exporter": "python",
   "pygments_lexer": "ipython3",
   "version": "3.6.10"
  },
  "latex_envs": {
   "LaTeX_envs_menu_present": true,
   "autoclose": false,
   "autocomplete": true,
   "bibliofile": "biblio.bib",
   "cite_by": "apalike",
   "current_citInitial": 1,
   "eqLabelWithNumbers": true,
   "eqNumInitial": 1,
   "hotkeys": {
    "equation": "Ctrl-E",
    "itemize": "Ctrl-I"
   },
   "labels_anchors": false,
   "latex_user_defs": false,
   "report_style_numbering": false,
   "user_envs_cfg": false
  },
  "toc": {
   "base_numbering": 1,
   "nav_menu": {},
   "number_sections": true,
   "sideBar": true,
   "skip_h1_title": false,
   "title_cell": "Table of Contents",
   "title_sidebar": "Contents",
   "toc_cell": false,
   "toc_position": {},
   "toc_section_display": true,
   "toc_window_display": false
  }
 },
 "nbformat": 4,
 "nbformat_minor": 2
}
