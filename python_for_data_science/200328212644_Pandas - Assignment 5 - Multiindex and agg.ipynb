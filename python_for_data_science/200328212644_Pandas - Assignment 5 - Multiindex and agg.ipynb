{
 "cells": [
  {
   "cell_type": "code",
   "execution_count": 107,
   "metadata": {
    "ExecuteTime": {
     "end_time": "2019-05-25T11:19:59.640606Z",
     "start_time": "2019-05-25T11:19:59.627685Z"
    },
    "hide_input": true
   },
   "outputs": [
    {
     "data": {
      "text/html": [
       "\n",
       "<script>\n",
       "var logoParent = document.getElementById(\"kernel_logo_widget\")\n",
       "var logo = document.getElementById(\"kernel_logo_widget\").getElementsByClassName(\"current_kernel_logo\")[0];\n",
       "logo.src = \"https://i.ibb.co/mD4jTGQ/itclogo.jpg\";\n",
       "logo.style = \"display: inline; width:138px; height:40px\";\n",
       "logoParent.innerHTML = '<a href=\"https://i.ibb.co/mD4jTGQ/itclogo.jpg\">' + logoParent.innerHTML + '</a>';\n",
       "</script>\n"
      ],
      "text/plain": [
       "<IPython.core.display.HTML object>"
      ]
     },
     "execution_count": 107,
     "metadata": {},
     "output_type": "execute_result"
    }
   ],
   "source": [
    "from IPython.core.display import HTML\n",
    "HTML('''\n",
    "<script>\n",
    "var logoParent = document.getElementById(\"kernel_logo_widget\")\n",
    "var logo = document.getElementById(\"kernel_logo_widget\").getElementsByClassName(\"current_kernel_logo\")[0];\n",
    "logo.src = \"https://i.ibb.co/mD4jTGQ/itclogo.jpg\";\n",
    "logo.style = \"display: inline; width:138px; height:40px\";\n",
    "logoParent.innerHTML = '<a href=\"https://i.ibb.co/mD4jTGQ/itclogo.jpg\">' + logoParent.innerHTML + '</a>';\n",
    "</script>\n",
    "''')"
   ]
  },
  {
   "cell_type": "markdown",
   "metadata": {
    "ExecuteTime": {
     "end_time": "2019-05-15T13:46:40.531687Z",
     "start_time": "2019-05-15T13:46:40.525001Z"
    },
    "hide_input": true
   },
   "source": [
    "<font size=\"36\"><b>Pandas - Multi-Index and Aggregation Assignment</b></font> <img src = \"https://s3-ap-south-1.amazonaws.com/av-blog-media/wp-content/uploads/2018/03/pandas.jpg\" height=200 width=200>"
   ]
  },
  {
   "cell_type": "code",
   "execution_count": 108,
   "metadata": {
    "ExecuteTime": {
     "end_time": "2019-05-25T09:45:37.219325Z",
     "start_time": "2019-05-25T09:45:36.434346Z"
    }
   },
   "outputs": [],
   "source": [
    "import pandas as pd\n",
    "import numpy as np\n",
    "import matplotlib.pyplot as plt\n",
    "\n",
    "import warnings\n",
    "import scipy.stats as ss\n",
    "\n",
    "warnings.filterwarnings(\"ignore\", category=RuntimeWarning, module=\"matplotlib\")\n",
    "%matplotlib inline"
   ]
  },
  {
   "cell_type": "markdown",
   "metadata": {},
   "source": [
    "For this assignement, we will work with the [tips dataset](https://raw.githubusercontent.com/mwaskom/seaborn-data/master/tips.csv). "
   ]
  },
  {
   "cell_type": "code",
   "execution_count": 109,
   "metadata": {
    "ExecuteTime": {
     "end_time": "2019-05-25T10:04:07.372533Z",
     "start_time": "2019-05-25T10:04:06.655160Z"
    }
   },
   "outputs": [],
   "source": [
    "df = pd.read_csv('https://raw.githubusercontent.com/mwaskom/seaborn-data/master/tips.csv')"
   ]
  },
  {
   "cell_type": "code",
   "execution_count": 110,
   "metadata": {
    "ExecuteTime": {
     "end_time": "2019-05-25T10:04:07.403430Z",
     "start_time": "2019-05-25T10:04:07.378462Z"
    }
   },
   "outputs": [
    {
     "data": {
      "text/plain": [
       "total_bill    229\n",
       "tip           123\n",
       "sex             2\n",
       "smoker          2\n",
       "day             4\n",
       "time            2\n",
       "size            6\n",
       "dtype: int64"
      ]
     },
     "execution_count": 110,
     "metadata": {},
     "output_type": "execute_result"
    }
   ],
   "source": [
    "df.nunique()"
   ]
  },
  {
   "cell_type": "markdown",
   "metadata": {},
   "source": [
    "# Assignment"
   ]
  },
  {
   "cell_type": "markdown",
   "metadata": {},
   "source": [
    "Answer the following questions:"
   ]
  },
  {
   "cell_type": "markdown",
   "metadata": {},
   "source": [
    "<div class=\"alert alert-info\"><b>Note:</b> Try to answer the questions with one line of code, using the '.' pipe operator, when possible unless it causes recalculations of the same thing</div>"
   ]
  },
  {
   "cell_type": "markdown",
   "metadata": {},
   "source": [
    "### Q1\n",
    "Calculate the average % of tips out of the total bill that Females leave, vs. Men. Present the data in one DataFrame"
   ]
  },
  {
   "cell_type": "code",
   "execution_count": 111,
   "metadata": {},
   "outputs": [
    {
     "name": "stdout",
     "output_type": "stream",
     "text": [
      "\n",
      "The average % of tips out of the total bill that Females leave vs. Men:\n"
     ]
    },
    {
     "data": {
      "text/html": [
       "<div>\n",
       "<style scoped>\n",
       "    .dataframe tbody tr th:only-of-type {\n",
       "        vertical-align: middle;\n",
       "    }\n",
       "\n",
       "    .dataframe tbody tr th {\n",
       "        vertical-align: top;\n",
       "    }\n",
       "\n",
       "    .dataframe thead th {\n",
       "        text-align: right;\n",
       "    }\n",
       "</style>\n",
       "<table border=\"1\" class=\"dataframe\">\n",
       "  <thead>\n",
       "    <tr style=\"text-align: right;\">\n",
       "      <th></th>\n",
       "      <th>mean</th>\n",
       "    </tr>\n",
       "    <tr>\n",
       "      <th>sex</th>\n",
       "      <th></th>\n",
       "    </tr>\n",
       "  </thead>\n",
       "  <tbody>\n",
       "    <tr>\n",
       "      <th>Female</th>\n",
       "      <td>16.649074</td>\n",
       "    </tr>\n",
       "    <tr>\n",
       "      <th>Male</th>\n",
       "      <td>15.765055</td>\n",
       "    </tr>\n",
       "  </tbody>\n",
       "</table>\n",
       "</div>"
      ],
      "text/plain": [
       "             mean\n",
       "sex              \n",
       "Female  16.649074\n",
       "Male    15.765055"
      ]
     },
     "execution_count": 111,
     "metadata": {},
     "output_type": "execute_result"
    }
   ],
   "source": [
    "#create the new column \n",
    "df['pct_tip'] = (df['tip']/df['total_bill']*100)\n",
    "print('\\nThe average % of tips out of the total bill that Females leave vs. Men:')\n",
    "#count the avg group by sex\n",
    "avg_dol = df.groupby('sex')['pct_tip'].aggregate([np.mean])\n",
    "avg_dol\n"
   ]
  },
  {
   "cell_type": "markdown",
   "metadata": {},
   "source": [
    "### Q2\n",
    "Calculate the average % of tips out of the total bill that Smoker Females leave, vs. Smoker Men, vs. non-smoking Men and non-smoking Females. \n",
    "- Have `sex` as the first index, and `smoker` as the second index. \n",
    "- Present the data in one DataFrame"
   ]
  },
  {
   "cell_type": "code",
   "execution_count": 112,
   "metadata": {},
   "outputs": [
    {
     "name": "stdout",
     "output_type": "stream",
     "text": [
      "The average % of tips out of the total bill that \n",
      "Smoker Females leave, vs. Smoker Men, vs. non-smoking Men and non-smoking Females\n"
     ]
    },
    {
     "data": {
      "text/html": [
       "<div>\n",
       "<style scoped>\n",
       "    .dataframe tbody tr th:only-of-type {\n",
       "        vertical-align: middle;\n",
       "    }\n",
       "\n",
       "    .dataframe tbody tr th {\n",
       "        vertical-align: top;\n",
       "    }\n",
       "\n",
       "    .dataframe thead tr th {\n",
       "        text-align: left;\n",
       "    }\n",
       "\n",
       "    .dataframe thead tr:last-of-type th {\n",
       "        text-align: right;\n",
       "    }\n",
       "</style>\n",
       "<table border=\"1\" class=\"dataframe\">\n",
       "  <thead>\n",
       "    <tr>\n",
       "      <th></th>\n",
       "      <th colspan=\"2\" halign=\"left\">mean</th>\n",
       "    </tr>\n",
       "    <tr>\n",
       "      <th>smoker</th>\n",
       "      <th>No</th>\n",
       "      <th>Yes</th>\n",
       "    </tr>\n",
       "    <tr>\n",
       "      <th>sex</th>\n",
       "      <th></th>\n",
       "      <th></th>\n",
       "    </tr>\n",
       "  </thead>\n",
       "  <tbody>\n",
       "    <tr>\n",
       "      <th>Female</th>\n",
       "      <td>15.692097</td>\n",
       "      <td>18.215035</td>\n",
       "    </tr>\n",
       "    <tr>\n",
       "      <th>Male</th>\n",
       "      <td>16.066872</td>\n",
       "      <td>15.277118</td>\n",
       "    </tr>\n",
       "  </tbody>\n",
       "</table>\n",
       "</div>"
      ],
      "text/plain": [
       "             mean           \n",
       "smoker         No        Yes\n",
       "sex                         \n",
       "Female  15.692097  18.215035\n",
       "Male    16.066872  15.277118"
      ]
     },
     "execution_count": 112,
     "metadata": {},
     "output_type": "execute_result"
    }
   ],
   "source": [
    "avg_smoke = df.groupby(['sex', 'smoker'])['pct_tip'].aggregate([np.mean]).unstack()\n",
    "print('The average % of tips out of the total bill that \\nSmoker Females leave, vs. Smoker Men, vs. non-smoking Men and non-smoking Females')\n",
    "avg_smoke"
   ]
  },
  {
   "cell_type": "markdown",
   "metadata": {},
   "source": [
    "### Q3\n",
    "Find the day and the time in which the most total tip is paid"
   ]
  },
  {
   "cell_type": "code",
   "execution_count": 113,
   "metadata": {},
   "outputs": [
    {
     "name": "stdout",
     "output_type": "stream",
     "text": [
      "The day and the time in which the most total tip is paid:\n"
     ]
    },
    {
     "data": {
      "text/html": [
       "<div>\n",
       "<style scoped>\n",
       "    .dataframe tbody tr th:only-of-type {\n",
       "        vertical-align: middle;\n",
       "    }\n",
       "\n",
       "    .dataframe tbody tr th {\n",
       "        vertical-align: top;\n",
       "    }\n",
       "\n",
       "    .dataframe thead th {\n",
       "        text-align: right;\n",
       "    }\n",
       "</style>\n",
       "<table border=\"1\" class=\"dataframe\">\n",
       "  <thead>\n",
       "    <tr style=\"text-align: right;\">\n",
       "      <th></th>\n",
       "      <th>day</th>\n",
       "      <th>time</th>\n",
       "    </tr>\n",
       "  </thead>\n",
       "  <tbody>\n",
       "    <tr>\n",
       "      <th>170</th>\n",
       "      <td>Sat</td>\n",
       "      <td>Dinner</td>\n",
       "    </tr>\n",
       "  </tbody>\n",
       "</table>\n",
       "</div>"
      ],
      "text/plain": [
       "     day    time\n",
       "170  Sat  Dinner"
      ]
     },
     "metadata": {},
     "output_type": "display_data"
    }
   ],
   "source": [
    "print('The day and the time in which the most total tip is paid:')\n",
    "display(df.loc[df['tip'] == df['tip'].max(),['day','time']])\n",
    "\n"
   ]
  },
  {
   "cell_type": "markdown",
   "metadata": {},
   "source": [
    "### Q4\n",
    "Calculate % of top 5 bills from total `total_bill` per each `time` and `day`: \n",
    "- Display in a DataFrame how many bills there were per each `time` and `day`\n",
    "- Create an aggregative function that finds 5 highest values in a series, and returns their sum's % out of the entire series. \n",
    "- Create an aggregative function that finds 5 lowest values in a series, and returns their sum's % out of the entire series.\n",
    "- Use it on the data with the `agg` operator, to find the top and bottom 5 bills average, out of the total bills in each time and day.\n",
    "- Return a DataFrame with the answers."
   ]
  },
  {
   "cell_type": "code",
   "execution_count": 151,
   "metadata": {},
   "outputs": [
    {
     "data": {
      "text/html": [
       "<div>\n",
       "<style scoped>\n",
       "    .dataframe tbody tr th:only-of-type {\n",
       "        vertical-align: middle;\n",
       "    }\n",
       "\n",
       "    .dataframe tbody tr th {\n",
       "        vertical-align: top;\n",
       "    }\n",
       "\n",
       "    .dataframe thead th {\n",
       "        text-align: right;\n",
       "    }\n",
       "</style>\n",
       "<table border=\"1\" class=\"dataframe\">\n",
       "  <thead>\n",
       "    <tr style=\"text-align: right;\">\n",
       "      <th></th>\n",
       "      <th>day</th>\n",
       "      <th>time</th>\n",
       "      <th>total_bill</th>\n",
       "    </tr>\n",
       "  </thead>\n",
       "  <tbody>\n",
       "    <tr>\n",
       "      <th>0</th>\n",
       "      <td>Sun</td>\n",
       "      <td>Dinner</td>\n",
       "      <td>16.99</td>\n",
       "    </tr>\n",
       "    <tr>\n",
       "      <th>1</th>\n",
       "      <td>Sun</td>\n",
       "      <td>Dinner</td>\n",
       "      <td>10.34</td>\n",
       "    </tr>\n",
       "    <tr>\n",
       "      <th>2</th>\n",
       "      <td>Sun</td>\n",
       "      <td>Dinner</td>\n",
       "      <td>21.01</td>\n",
       "    </tr>\n",
       "    <tr>\n",
       "      <th>3</th>\n",
       "      <td>Sun</td>\n",
       "      <td>Dinner</td>\n",
       "      <td>23.68</td>\n",
       "    </tr>\n",
       "    <tr>\n",
       "      <th>4</th>\n",
       "      <td>Sun</td>\n",
       "      <td>Dinner</td>\n",
       "      <td>24.59</td>\n",
       "    </tr>\n",
       "    <tr>\n",
       "      <th>...</th>\n",
       "      <td>...</td>\n",
       "      <td>...</td>\n",
       "      <td>...</td>\n",
       "    </tr>\n",
       "    <tr>\n",
       "      <th>239</th>\n",
       "      <td>Sat</td>\n",
       "      <td>Dinner</td>\n",
       "      <td>29.03</td>\n",
       "    </tr>\n",
       "    <tr>\n",
       "      <th>240</th>\n",
       "      <td>Sat</td>\n",
       "      <td>Dinner</td>\n",
       "      <td>27.18</td>\n",
       "    </tr>\n",
       "    <tr>\n",
       "      <th>241</th>\n",
       "      <td>Sat</td>\n",
       "      <td>Dinner</td>\n",
       "      <td>22.67</td>\n",
       "    </tr>\n",
       "    <tr>\n",
       "      <th>242</th>\n",
       "      <td>Sat</td>\n",
       "      <td>Dinner</td>\n",
       "      <td>17.82</td>\n",
       "    </tr>\n",
       "    <tr>\n",
       "      <th>243</th>\n",
       "      <td>Thur</td>\n",
       "      <td>Dinner</td>\n",
       "      <td>18.78</td>\n",
       "    </tr>\n",
       "  </tbody>\n",
       "</table>\n",
       "<p>244 rows × 3 columns</p>\n",
       "</div>"
      ],
      "text/plain": [
       "      day    time  total_bill\n",
       "0     Sun  Dinner       16.99\n",
       "1     Sun  Dinner       10.34\n",
       "2     Sun  Dinner       21.01\n",
       "3     Sun  Dinner       23.68\n",
       "4     Sun  Dinner       24.59\n",
       "..    ...     ...         ...\n",
       "239   Sat  Dinner       29.03\n",
       "240   Sat  Dinner       27.18\n",
       "241   Sat  Dinner       22.67\n",
       "242   Sat  Dinner       17.82\n",
       "243  Thur  Dinner       18.78\n",
       "\n",
       "[244 rows x 3 columns]"
      ]
     },
     "metadata": {},
     "output_type": "display_data"
    },
    {
     "name": "stderr",
     "output_type": "stream",
     "text": [
      "/home/gal/anaconda3/lib/python3.6/site-packages/ipykernel_launcher.py:9: RuntimeWarning: invalid value encountered in long_scalars\n",
      "  if __name__ == '__main__':\n",
      "/home/gal/anaconda3/lib/python3.6/site-packages/ipykernel_launcher.py:15: RuntimeWarning: invalid value encountered in double_scalars\n",
      "  from ipykernel import kernelapp as app\n"
     ]
    },
    {
     "data": {
      "text/html": [
       "<div>\n",
       "<style scoped>\n",
       "    .dataframe tbody tr th:only-of-type {\n",
       "        vertical-align: middle;\n",
       "    }\n",
       "\n",
       "    .dataframe tbody tr th {\n",
       "        vertical-align: top;\n",
       "    }\n",
       "\n",
       "    .dataframe thead th {\n",
       "        text-align: right;\n",
       "    }\n",
       "</style>\n",
       "<table border=\"1\" class=\"dataframe\">\n",
       "  <thead>\n",
       "    <tr style=\"text-align: right;\">\n",
       "      <th></th>\n",
       "      <th></th>\n",
       "      <th>top_five_pct</th>\n",
       "      <th>low_five_pct</th>\n",
       "      <th>mean</th>\n",
       "    </tr>\n",
       "    <tr>\n",
       "      <th>day</th>\n",
       "      <th>time</th>\n",
       "      <th></th>\n",
       "      <th></th>\n",
       "      <th></th>\n",
       "    </tr>\n",
       "  </thead>\n",
       "  <tbody>\n",
       "    <tr>\n",
       "      <th rowspan=\"2\" valign=\"top\">Fri</th>\n",
       "      <th>Dinner</th>\n",
       "      <td>41.666667</td>\n",
       "      <td>24.143923</td>\n",
       "      <td>19.663333</td>\n",
       "    </tr>\n",
       "    <tr>\n",
       "      <th>Lunch</th>\n",
       "      <td>71.428571</td>\n",
       "      <td>64.134786</td>\n",
       "      <td>12.845714</td>\n",
       "    </tr>\n",
       "    <tr>\n",
       "      <th>Sat</th>\n",
       "      <th>Dinner</th>\n",
       "      <td>5.747126</td>\n",
       "      <td>2.118758</td>\n",
       "      <td>20.441379</td>\n",
       "    </tr>\n",
       "    <tr>\n",
       "      <th>Sun</th>\n",
       "      <th>Dinner</th>\n",
       "      <td>6.578947</td>\n",
       "      <td>2.780304</td>\n",
       "      <td>21.410000</td>\n",
       "    </tr>\n",
       "    <tr>\n",
       "      <th rowspan=\"2\" valign=\"top\">Thur</th>\n",
       "      <th>Dinner</th>\n",
       "      <td>100.000000</td>\n",
       "      <td>100.000000</td>\n",
       "      <td>18.780000</td>\n",
       "    </tr>\n",
       "    <tr>\n",
       "      <th>Lunch</th>\n",
       "      <td>8.196721</td>\n",
       "      <td>3.753886</td>\n",
       "      <td>17.664754</td>\n",
       "    </tr>\n",
       "  </tbody>\n",
       "</table>\n",
       "</div>"
      ],
      "text/plain": [
       "             top_five_pct  low_five_pct       mean\n",
       "day  time                                         \n",
       "Fri  Dinner     41.666667     24.143923  19.663333\n",
       "     Lunch      71.428571     64.134786  12.845714\n",
       "Sat  Dinner      5.747126      2.118758  20.441379\n",
       "Sun  Dinner      6.578947      2.780304  21.410000\n",
       "Thur Dinner    100.000000    100.000000  18.780000\n",
       "     Lunch       8.196721      3.753886  17.664754"
      ]
     },
     "metadata": {},
     "output_type": "display_data"
    }
   ],
   "source": [
    "# Display in a DataFrame how many bills there were per each time and day\n",
    "# print('In a DataFrame there are {} items per each time and day'.format(df[['day','time','total_bill']].count()[0]))\n",
    "display(df[['day','time','total_bill']])\n",
    "\n",
    "# Create an aggregative function that finds 5 highest values in a series, and returns their \n",
    "# sum's % out of the entire series.\n",
    "def top_five_pct(series_group1):\n",
    "    \n",
    "    return (series_group1.notna().nlargest(n=5,keep='first').sum()/series_group1.notna().sum())*100\n",
    "\n",
    "\n",
    "#Create an aggregative function that finds 5 lowest values in a series, \n",
    "# and returns their sum's % out of the entire series.\n",
    "def low_five_pct(series_group):\n",
    "    return(series_group.nsmallest(n=5,keep='first').sum()/series_group.sum())*100\n",
    "\n",
    "# Use it on the data with the agg operator, to find the top and bottom 5 bills average, \n",
    "# out of the total bills in each time and day.\n",
    "# Return a DataFrame with the answers.\n",
    "display(df.groupby(['day',\"time\"])['total_bill'].aggregate([top_five_pct, low_five_pct, np.mean]))\n",
    "\n",
    "\n"
   ]
  },
  {
   "cell_type": "markdown",
   "metadata": {},
   "source": [
    "### Q5\n",
    "Calculate the sum of bills per group: non-smoking Men, non-smoking Females, smoking Females and smoking Men. \n",
    "\n",
    "Code it so you get a data frame with the columns \"Female\" and \"Male\", below a larger column \"total_bill\" (hierarchical index)"
   ]
  },
  {
   "cell_type": "code",
   "execution_count": 115,
   "metadata": {},
   "outputs": [
    {
     "data": {
      "text/html": [
       "<div>\n",
       "<style scoped>\n",
       "    .dataframe tbody tr th:only-of-type {\n",
       "        vertical-align: middle;\n",
       "    }\n",
       "\n",
       "    .dataframe tbody tr th {\n",
       "        vertical-align: top;\n",
       "    }\n",
       "\n",
       "    .dataframe thead tr th {\n",
       "        text-align: left;\n",
       "    }\n",
       "\n",
       "    .dataframe thead tr:last-of-type th {\n",
       "        text-align: right;\n",
       "    }\n",
       "</style>\n",
       "<table border=\"1\" class=\"dataframe\">\n",
       "  <thead>\n",
       "    <tr>\n",
       "      <th></th>\n",
       "      <th colspan=\"2\" halign=\"left\">total_bill</th>\n",
       "    </tr>\n",
       "    <tr>\n",
       "      <th>sex</th>\n",
       "      <th>Female</th>\n",
       "      <th>Male</th>\n",
       "    </tr>\n",
       "    <tr>\n",
       "      <th>smoker</th>\n",
       "      <th></th>\n",
       "      <th></th>\n",
       "    </tr>\n",
       "  </thead>\n",
       "  <tbody>\n",
       "    <tr>\n",
       "      <th>No</th>\n",
       "      <td>977.68</td>\n",
       "      <td>1919.75</td>\n",
       "    </tr>\n",
       "    <tr>\n",
       "      <th>Yes</th>\n",
       "      <td>593.27</td>\n",
       "      <td>1337.07</td>\n",
       "    </tr>\n",
       "  </tbody>\n",
       "</table>\n",
       "</div>"
      ],
      "text/plain": [
       "       total_bill         \n",
       "sex        Female     Male\n",
       "smoker                    \n",
       "No         977.68  1919.75\n",
       "Yes        593.27  1337.07"
      ]
     },
     "execution_count": 115,
     "metadata": {},
     "output_type": "execute_result"
    }
   ],
   "source": [
    "df.groupby(['smoker',\"sex\"])['total_bill'].aggregate(sum).to_frame().unstack()"
   ]
  },
  {
   "cell_type": "markdown",
   "metadata": {},
   "source": [
    "### Q6\n",
    "Add another index \"day\" to Q5 as the first index, do that we can see the conclusion per day per smokers group per gender"
   ]
  },
  {
   "cell_type": "code",
   "execution_count": 116,
   "metadata": {
    "ExecuteTime": {
     "end_time": "2019-05-25T10:59:26.549464Z",
     "start_time": "2019-05-25T10:59:26.545475Z"
    }
   },
   "outputs": [
    {
     "data": {
      "text/html": [
       "<div>\n",
       "<style scoped>\n",
       "    .dataframe tbody tr th:only-of-type {\n",
       "        vertical-align: middle;\n",
       "    }\n",
       "\n",
       "    .dataframe tbody tr th {\n",
       "        vertical-align: top;\n",
       "    }\n",
       "\n",
       "    .dataframe thead tr th {\n",
       "        text-align: left;\n",
       "    }\n",
       "\n",
       "    .dataframe thead tr:last-of-type th {\n",
       "        text-align: right;\n",
       "    }\n",
       "</style>\n",
       "<table border=\"1\" class=\"dataframe\">\n",
       "  <thead>\n",
       "    <tr>\n",
       "      <th></th>\n",
       "      <th></th>\n",
       "      <th colspan=\"2\" halign=\"left\">sum</th>\n",
       "    </tr>\n",
       "    <tr>\n",
       "      <th></th>\n",
       "      <th>sex</th>\n",
       "      <th>Female</th>\n",
       "      <th>Male</th>\n",
       "    </tr>\n",
       "    <tr>\n",
       "      <th>day</th>\n",
       "      <th>smoker</th>\n",
       "      <th></th>\n",
       "      <th></th>\n",
       "    </tr>\n",
       "  </thead>\n",
       "  <tbody>\n",
       "    <tr>\n",
       "      <th rowspan=\"2\" valign=\"top\">Fri</th>\n",
       "      <th>No</th>\n",
       "      <td>38.73</td>\n",
       "      <td>34.95</td>\n",
       "    </tr>\n",
       "    <tr>\n",
       "      <th>Yes</th>\n",
       "      <td>88.58</td>\n",
       "      <td>163.62</td>\n",
       "    </tr>\n",
       "    <tr>\n",
       "      <th rowspan=\"2\" valign=\"top\">Sat</th>\n",
       "      <th>No</th>\n",
       "      <td>247.05</td>\n",
       "      <td>637.73</td>\n",
       "    </tr>\n",
       "    <tr>\n",
       "      <th>Yes</th>\n",
       "      <td>304.00</td>\n",
       "      <td>589.62</td>\n",
       "    </tr>\n",
       "    <tr>\n",
       "      <th rowspan=\"2\" valign=\"top\">Sun</th>\n",
       "      <th>No</th>\n",
       "      <td>291.54</td>\n",
       "      <td>877.34</td>\n",
       "    </tr>\n",
       "    <tr>\n",
       "      <th>Yes</th>\n",
       "      <td>66.16</td>\n",
       "      <td>392.12</td>\n",
       "    </tr>\n",
       "    <tr>\n",
       "      <th rowspan=\"2\" valign=\"top\">Thur</th>\n",
       "      <th>No</th>\n",
       "      <td>400.36</td>\n",
       "      <td>369.73</td>\n",
       "    </tr>\n",
       "    <tr>\n",
       "      <th>Yes</th>\n",
       "      <td>134.53</td>\n",
       "      <td>191.71</td>\n",
       "    </tr>\n",
       "  </tbody>\n",
       "</table>\n",
       "</div>"
      ],
      "text/plain": [
       "                sum        \n",
       "sex          Female    Male\n",
       "day  smoker                \n",
       "Fri  No       38.73   34.95\n",
       "     Yes      88.58  163.62\n",
       "Sat  No      247.05  637.73\n",
       "     Yes     304.00  589.62\n",
       "Sun  No      291.54  877.34\n",
       "     Yes      66.16  392.12\n",
       "Thur No      400.36  369.73\n",
       "     Yes     134.53  191.71"
      ]
     },
     "execution_count": 116,
     "metadata": {},
     "output_type": "execute_result"
    }
   ],
   "source": [
    "df.groupby(['day','smoker','sex'])['total_bill'].aggregate([sum]).unstack()"
   ]
  },
  {
   "cell_type": "markdown",
   "metadata": {},
   "source": [
    "### Q7\n",
    "Now in addition to `sum` from Q6, answer the same question with aggregation of `mean`, `std`, and `sum`.  Have a similar output structure as in Q6, but with higher column level of `mean`, `std`, `sum`"
   ]
  },
  {
   "cell_type": "code",
   "execution_count": 117,
   "metadata": {
    "ExecuteTime": {
     "end_time": "2019-05-25T11:03:34.875991Z",
     "start_time": "2019-05-25T11:03:34.872036Z"
    }
   },
   "outputs": [
    {
     "data": {
      "text/html": [
       "<div>\n",
       "<style scoped>\n",
       "    .dataframe tbody tr th:only-of-type {\n",
       "        vertical-align: middle;\n",
       "    }\n",
       "\n",
       "    .dataframe tbody tr th {\n",
       "        vertical-align: top;\n",
       "    }\n",
       "\n",
       "    .dataframe thead th {\n",
       "        text-align: right;\n",
       "    }\n",
       "</style>\n",
       "<table border=\"1\" class=\"dataframe\">\n",
       "  <thead>\n",
       "    <tr style=\"text-align: right;\">\n",
       "      <th></th>\n",
       "      <th></th>\n",
       "      <th></th>\n",
       "      <th>sum</th>\n",
       "      <th>mean</th>\n",
       "      <th>std</th>\n",
       "    </tr>\n",
       "    <tr>\n",
       "      <th>day</th>\n",
       "      <th>smoker</th>\n",
       "      <th>sex</th>\n",
       "      <th></th>\n",
       "      <th></th>\n",
       "      <th></th>\n",
       "    </tr>\n",
       "  </thead>\n",
       "  <tbody>\n",
       "    <tr>\n",
       "      <th rowspan=\"4\" valign=\"top\">Fri</th>\n",
       "      <th rowspan=\"2\" valign=\"top\">No</th>\n",
       "      <th>Female</th>\n",
       "      <td>38.73</td>\n",
       "      <td>19.365000</td>\n",
       "      <td>4.787113</td>\n",
       "    </tr>\n",
       "    <tr>\n",
       "      <th>Male</th>\n",
       "      <td>34.95</td>\n",
       "      <td>17.475000</td>\n",
       "      <td>7.092281</td>\n",
       "    </tr>\n",
       "    <tr>\n",
       "      <th rowspan=\"2\" valign=\"top\">Yes</th>\n",
       "      <th>Female</th>\n",
       "      <td>88.58</td>\n",
       "      <td>12.654286</td>\n",
       "      <td>3.883138</td>\n",
       "    </tr>\n",
       "    <tr>\n",
       "      <th>Male</th>\n",
       "      <td>163.62</td>\n",
       "      <td>20.452500</td>\n",
       "      <td>10.943815</td>\n",
       "    </tr>\n",
       "    <tr>\n",
       "      <th rowspan=\"4\" valign=\"top\">Sat</th>\n",
       "      <th rowspan=\"2\" valign=\"top\">No</th>\n",
       "      <th>Female</th>\n",
       "      <td>247.05</td>\n",
       "      <td>19.003846</td>\n",
       "      <td>6.730219</td>\n",
       "    </tr>\n",
       "    <tr>\n",
       "      <th>Male</th>\n",
       "      <td>637.73</td>\n",
       "      <td>19.929063</td>\n",
       "      <td>9.779061</td>\n",
       "    </tr>\n",
       "    <tr>\n",
       "      <th rowspan=\"2\" valign=\"top\">Yes</th>\n",
       "      <th>Female</th>\n",
       "      <td>304.00</td>\n",
       "      <td>20.266667</td>\n",
       "      <td>10.485703</td>\n",
       "    </tr>\n",
       "    <tr>\n",
       "      <th>Male</th>\n",
       "      <td>589.62</td>\n",
       "      <td>21.837778</td>\n",
       "      <td>9.988045</td>\n",
       "    </tr>\n",
       "    <tr>\n",
       "      <th rowspan=\"4\" valign=\"top\">Sun</th>\n",
       "      <th rowspan=\"2\" valign=\"top\">No</th>\n",
       "      <th>Female</th>\n",
       "      <td>291.54</td>\n",
       "      <td>20.824286</td>\n",
       "      <td>8.396159</td>\n",
       "    </tr>\n",
       "    <tr>\n",
       "      <th>Male</th>\n",
       "      <td>877.34</td>\n",
       "      <td>20.403256</td>\n",
       "      <td>8.140559</td>\n",
       "    </tr>\n",
       "    <tr>\n",
       "      <th rowspan=\"2\" valign=\"top\">Yes</th>\n",
       "      <th>Female</th>\n",
       "      <td>66.16</td>\n",
       "      <td>16.540000</td>\n",
       "      <td>4.854764</td>\n",
       "    </tr>\n",
       "    <tr>\n",
       "      <th>Male</th>\n",
       "      <td>392.12</td>\n",
       "      <td>26.141333</td>\n",
       "      <td>10.693824</td>\n",
       "    </tr>\n",
       "    <tr>\n",
       "      <th rowspan=\"4\" valign=\"top\">Thur</th>\n",
       "      <th rowspan=\"2\" valign=\"top\">No</th>\n",
       "      <th>Female</th>\n",
       "      <td>400.36</td>\n",
       "      <td>16.014400</td>\n",
       "      <td>6.783939</td>\n",
       "    </tr>\n",
       "    <tr>\n",
       "      <th>Male</th>\n",
       "      <td>369.73</td>\n",
       "      <td>18.486500</td>\n",
       "      <td>8.739134</td>\n",
       "    </tr>\n",
       "    <tr>\n",
       "      <th rowspan=\"2\" valign=\"top\">Yes</th>\n",
       "      <th>Female</th>\n",
       "      <td>134.53</td>\n",
       "      <td>19.218571</td>\n",
       "      <td>10.847137</td>\n",
       "    </tr>\n",
       "    <tr>\n",
       "      <th>Male</th>\n",
       "      <td>191.71</td>\n",
       "      <td>19.171000</td>\n",
       "      <td>6.757421</td>\n",
       "    </tr>\n",
       "  </tbody>\n",
       "</table>\n",
       "</div>"
      ],
      "text/plain": [
       "                       sum       mean        std\n",
       "day  smoker sex                                 \n",
       "Fri  No     Female   38.73  19.365000   4.787113\n",
       "            Male     34.95  17.475000   7.092281\n",
       "     Yes    Female   88.58  12.654286   3.883138\n",
       "            Male    163.62  20.452500  10.943815\n",
       "Sat  No     Female  247.05  19.003846   6.730219\n",
       "            Male    637.73  19.929063   9.779061\n",
       "     Yes    Female  304.00  20.266667  10.485703\n",
       "            Male    589.62  21.837778   9.988045\n",
       "Sun  No     Female  291.54  20.824286   8.396159\n",
       "            Male    877.34  20.403256   8.140559\n",
       "     Yes    Female   66.16  16.540000   4.854764\n",
       "            Male    392.12  26.141333  10.693824\n",
       "Thur No     Female  400.36  16.014400   6.783939\n",
       "            Male    369.73  18.486500   8.739134\n",
       "     Yes    Female  134.53  19.218571  10.847137\n",
       "            Male    191.71  19.171000   6.757421"
      ]
     },
     "execution_count": 117,
     "metadata": {},
     "output_type": "execute_result"
    }
   ],
   "source": [
    "stat_totall_bill = df.groupby(['day','smoker','sex'])['total_bill'].aggregate([np.sum,np.mean,np.std])\n",
    "stat_totall_bill"
   ]
  },
  {
   "cell_type": "markdown",
   "metadata": {},
   "source": [
    "### Q8\n",
    "Create a series of plots that present your findings from Q7. Make your plots informative. Make sure that all of the conclusions from the dataframe can be seen in the series of graphs."
   ]
  },
  {
   "cell_type": "code",
   "execution_count": 118,
   "metadata": {},
   "outputs": [],
   "source": [
    "# getting data by index for pie\n",
    "thursday = stat_totall_bill.iloc[stat_totall_bill.index.get_level_values('day') == 'Thur']\n",
    "friday = stat_totall_bill.iloc[stat_totall_bill.index.get_level_values('day') == 'Fri']\n",
    "saturday = stat_totall_bill.iloc[stat_totall_bill.index.get_level_values('day') == 'Sat']\n",
    "sunday = stat_totall_bill.iloc[stat_totall_bill.index.get_level_values('day') == 'Sun']\n",
    "\n",
    "\n",
    "female = stat_totall_bill.iloc[stat_totall_bill.index.get_level_values('sex') == 'Female']\n",
    "male = stat_totall_bill.iloc[stat_totall_bill.index.get_level_values('sex') == 'Male']\n",
    "\n",
    "smoke = stat_totall_bill.iloc[stat_totall_bill.index.get_level_values('smoker') == 'Yes']\n",
    "osmoke = stat_totall_bill.iloc[stat_totall_bill.index.get_level_values('smoker') == 'No']"
   ]
  },
  {
   "cell_type": "code",
   "execution_count": 119,
   "metadata": {
    "scrolled": false
   },
   "outputs": [
    {
     "data": {
      "image/png": "[encoded data removed]",
      "text/plain": [
       "<Figure size 1152x2160 with 3 Axes>"
      ]
     },
     "metadata": {},
     "output_type": "display_data"
    }
   ],
   "source": [
    "%matplotlib inline\n",
    "\n",
    "fig, axs = plt.subplots(1,3, figsize=(16, 30))\n",
    "ax1, ax2, ax3 = fig.axes\n",
    "\n",
    "days=['Thursday', 'Friday', 'Saturday', 'Sunday']\n",
    "sex = ['male', 'female']\n",
    "health = ['smokers', 'non-smokers']\n",
    "\n",
    "colors1 = ['lightskyblue', 'red',  'green', 'gold']\n",
    "colors2 = ['lightskyblue', 'pink']\n",
    "colors3 = ['lightskyblue', 'brown']\n",
    "\n",
    "explode1 = (0, 0, 0.1, 0.1)\n",
    "explode2 = (0, 0.1)\n",
    "\n",
    "ax1.pie([thursday['sum'].sum(), friday['sum'].sum(), saturday['sum'].sum(), sunday['sum'].sum()], labels=days,colors= colors1, explode=explode1, autopct='%1.1f%%')\n",
    "ax1.set_title(\"Distribution of sum total bill by days\")\n",
    "\n",
    "ax2.pie([female['sum'].sum(), male['sum'].sum()], autopct='%1.1f%%', labels=sex,colors=colors2, explode=explode2)\n",
    "ax2.set_title(\"Distribution of sum total bill by sex\")\n",
    "\n",
    "ax3.pie([smoke['sum'].sum(), nosmoke['sum'].sum()], autopct='%1.1f%%', labels=health, colors=colors3, explode=explode2)\n",
    "ax3.set_title(\"Distribution of sum total bill by smoker and non-smoker\")\n",
    "\n",
    "plt.show()"
   ]
  },
  {
   "cell_type": "code",
   "execution_count": 149,
   "metadata": {},
   "outputs": [
    {
     "data": {
      "text/plain": [
       "Text(0, 0.5, 'Sum of total bill a day')"
      ]
     },
     "execution_count": 149,
     "metadata": {},
     "output_type": "execute_result"
    },
    {
     "data": {
      "image/png": "[encoded data removed]",
      "text/plain": [
       "<Figure size 432x288 with 1 Axes>"
      ]
     },
     "metadata": {
      "needs_background": "light"
     },
     "output_type": "display_data"
    }
   ],
   "source": [
    "f, ax = plt.subplots()\n",
    "groups = stat_totall_bill.groupby([\"sex\", \"smoker\"])\n",
    "\n",
    "for name, group in groups:\n",
    "    group = group.reset_index()\n",
    "    ax.plot(group.day, group['sum'], label = name)\n",
    "plt.title('Smokers and non-smokers in total bills')\n",
    "plt.legend(bbox_to_anchor=(1.04,1), borderaxespad=0.1)\n",
    "plt.xlabel('Day of Week')\n",
    "plt.ylabel('Sum of total bill a day')\n"
   ]
  },
  {
   "cell_type": "code",
   "execution_count": 150,
   "metadata": {
    "scrolled": true
   },
   "outputs": [
    {
     "data": {
      "image/png": "[encoded data removed]",
      "text/plain": [
       "<Figure size 432x288 with 1 Axes>"
      ]
     },
     "metadata": {
      "needs_background": "light"
     },
     "output_type": "display_data"
    }
   ],
   "source": [
    "f, ax = plt.subplots()\n",
    "groups = stat_totall_bill.groupby([\"sex\", \"smoker\"])\n",
    "\n",
    "for name, group in groups:\n",
    "    group = group.reset_index()\n",
    "    ax.plot(group.day, group['mean'], label = name )\n",
    "plt.title('Smokers and non-smokers in mean total bill a day')\n",
    "plt.legend(bbox_to_anchor=(1.04,1), borderaxespad=0.1)\n",
    "plt.xlabel('Day of Week')\n",
    "plt.ylabel('Mean total bill')\n",
    "\n",
    "plt.show()"
   ]
  },
  {
   "cell_type": "code",
   "execution_count": null,
   "metadata": {},
   "outputs": [],
   "source": []
  }
 ],
 "metadata": {
  "kernelspec": {
   "display_name": "Python 3",
   "language": "python",
   "name": "python3"
  },
  "language_info": {
   "codemirror_mode": {
    "name": "ipython",
    "version": 3
   },
   "file_extension": ".py",
   "mimetype": "text/x-python",
   "name": "python",
   "nbconvert_exporter": "python",
   "pygments_lexer": "ipython3",
   "version": "3.6.10"
  },
  "latex_envs": {
   "LaTeX_envs_menu_present": true,
   "autoclose": false,
   "autocomplete": true,
   "bibliofile": "biblio.bib",
   "cite_by": "apalike",
   "current_citInitial": 1,
   "eqLabelWithNumbers": true,
   "eqNumInitial": 1,
   "hotkeys": {
    "equation": "Ctrl-E",
    "itemize": "Ctrl-I"
   },
   "labels_anchors": false,
   "latex_user_defs": false,
   "report_style_numbering": false,
   "user_envs_cfg": false
  },
  "toc": {
   "base_numbering": 1,
   "nav_menu": {},
   "number_sections": true,
   "sideBar": true,
   "skip_h1_title": false,
   "title_cell": "Table of Contents",
   "title_sidebar": "Contents",
   "toc_cell": false,
   "toc_position": {},
   "toc_section_display": true,
   "toc_window_display": false
  }
 },
 "nbformat": 4,
 "nbformat_minor": 2
}
