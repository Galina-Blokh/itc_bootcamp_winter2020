{
 "cells": [
  {
   "cell_type": "markdown",
   "metadata": {
    "colab_type": "text",
    "id": "Annpxiv4h-UR"
   },
   "source": [
    "# NER Workshop Exercise 1: Looking for Relations\n",
    "\n",
    "**In this exercise we will use spaCy's named entity recognition (NER) algorithm to find relations between different entities in the Brown corpus.**\n",
    "\n",
    "## Part 1: Basic entity extraction\n",
    "\n",
    "**The Brown corpus is a well-known corpus of English developed at Brown University, containing text from many different sources. We will use entity extraction on a subset of the Brown corpus covering a few categories.**\n",
    "\n",
    "**We can use spaCy to find entities in a basic sentence as follows:**"
   ]
  },
  {
   "cell_type": "code",
   "execution_count": 1,
   "metadata": {
    "ExecuteTime": {
     "end_time": "2020-06-29T08:20:03.991993Z",
     "start_time": "2020-06-29T08:20:01.810603Z"
    },
    "colab": {
     "base_uri": "https://localhost:8080/",
     "height": 35
    },
    "colab_type": "code",
    "executionInfo": {
     "elapsed": 4219,
     "status": "ok",
     "timestamp": 1547631494212,
     "user": {
      "displayName": "Amnon Lotan",
      "photoUrl": "https://lh5.googleusercontent.com/-Dr8ccr599dc/AAAAAAAAAAI/AAAAAAAAWjM/hdUSEex3GHk/s64/photo.jpg",
      "userId": "10932407909649468838"
     },
     "user_tz": -120
    },
    "id": "-7o3Pmqx8RoY",
    "outputId": "e43b9d87-b534-4b66-8e8f-78c0ed09d4f7"
   },
   "outputs": [
    {
     "name": "stdout",
     "output_type": "stream",
     "text": [
      "[('The White House', 'ORG'), ('Washington D.C.', 'GPE')]\n"
     ]
    }
   ],
   "source": [
    "import spacy\n",
    "nlp = spacy.load('en_core_web_sm')\n",
    "sample_sentence = \"The White House is located in Washington D.C.\"\n",
    "sample_doc = nlp(sample_sentence)\n",
    "print([(ent.text, ent.label_) for ent in sample_doc.ents])"
   ]
  },
  {
   "cell_type": "markdown",
   "metadata": {
    "colab_type": "text",
    "id": "NKZCp5Mm8tNA"
   },
   "source": [
    "**To see what an entity label means:**"
   ]
  },
  {
   "cell_type": "code",
   "execution_count": 2,
   "metadata": {
    "ExecuteTime": {
     "end_time": "2020-06-29T08:20:04.000150Z",
     "start_time": "2020-06-29T08:20:03.993420Z"
    },
    "colab": {
     "base_uri": "https://localhost:8080/",
     "height": 34
    },
    "colab_type": "code",
    "executionInfo": {
     "elapsed": 1406,
     "status": "ok",
     "timestamp": 1547614158473,
     "user": {
      "displayName": "Morris Alper",
      "photoUrl": "https://lh3.googleusercontent.com/--_gcOdCIoAM/AAAAAAAAAAI/AAAAAAAAFCI/ar-HeAB3FNk/s64/photo.jpg",
      "userId": "15842932163458061285"
     },
     "user_tz": -120
    },
    "id": "2FnRm2g68vRF",
    "outputId": "968b0436-4423-4f89-e5ad-b1399069c119"
   },
   "outputs": [
    {
     "data": {
      "text/plain": [
       "'Companies, agencies, institutions, etc.'"
      ]
     },
     "execution_count": 2,
     "metadata": {},
     "output_type": "execute_result"
    }
   ],
   "source": [
    "spacy.explain(\"ORG\")"
   ]
  },
  {
   "cell_type": "markdown",
   "metadata": {
    "colab_type": "text",
    "id": "X7o3BKUc8zyU"
   },
   "source": [
    "**And to display the entities in a document using displaCy:**"
   ]
  },
  {
   "cell_type": "code",
   "execution_count": 3,
   "metadata": {
    "ExecuteTime": {
     "end_time": "2020-06-29T08:20:04.013520Z",
     "start_time": "2020-06-29T08:20:04.004554Z"
    },
    "colab": {
     "base_uri": "https://localhost:8080/",
     "height": 52
    },
    "colab_type": "code",
    "executionInfo": {
     "elapsed": 618,
     "status": "ok",
     "timestamp": 1547617186818,
     "user": {
      "displayName": "Morris Alper",
      "photoUrl": "https://lh3.googleusercontent.com/--_gcOdCIoAM/AAAAAAAAAAI/AAAAAAAAFCI/ar-HeAB3FNk/s64/photo.jpg",
      "userId": "15842932163458061285"
     },
     "user_tz": -120
    },
    "id": "QP1KmOVJ84bV",
    "outputId": "917884a2-f49e-4640-891b-bce84ea40417"
   },
   "outputs": [
    {
     "data": {
      "text/html": [
       "<span class=\"tex2jax_ignore\"><div class=\"entities\" style=\"line-height: 2.5; direction: ltr\">\n",
       "<mark class=\"entity\" style=\"background: #7aecec; padding: 0.45em 0.6em; margin: 0 0.25em; line-height: 1; border-radius: 0.35em;\">\n",
       "    The White House\n",
       "    <span style=\"font-size: 0.8em; font-weight: bold; line-height: 1; border-radius: 0.35em; text-transform: uppercase; vertical-align: middle; margin-left: 0.5rem\">ORG</span>\n",
       "</mark>\n",
       " is located in \n",
       "<mark class=\"entity\" style=\"background: #feca74; padding: 0.45em 0.6em; margin: 0 0.25em; line-height: 1; border-radius: 0.35em;\">\n",
       "    Washington D.C.\n",
       "    <span style=\"font-size: 0.8em; font-weight: bold; line-height: 1; border-radius: 0.35em; text-transform: uppercase; vertical-align: middle; margin-left: 0.5rem\">GPE</span>\n",
       "</mark>\n",
       "</div></span>"
      ],
      "text/plain": [
       "<IPython.core.display.HTML object>"
      ]
     },
     "metadata": {},
     "output_type": "display_data"
    }
   ],
   "source": [
    "from spacy import displacy\n",
    "displacy.render(sample_doc, style='ent', jupyter = True)"
   ]
  },
  {
   "cell_type": "markdown",
   "metadata": {
    "colab_type": "text",
    "id": "3ACx7CRs9NuT"
   },
   "source": [
    "**Now let's load sentences from the Brown corpus for a few categories:**"
   ]
  },
  {
   "cell_type": "code",
   "execution_count": 4,
   "metadata": {
    "ExecuteTime": {
     "end_time": "2020-06-29T08:20:05.518129Z",
     "start_time": "2020-06-29T08:20:04.015356Z"
    },
    "colab": {
     "base_uri": "https://localhost:8080/",
     "height": 54
    },
    "colab_type": "code",
    "executionInfo": {
     "elapsed": 1155,
     "status": "ok",
     "timestamp": 1547631595616,
     "user": {
      "displayName": "Amnon Lotan",
      "photoUrl": "https://lh5.googleusercontent.com/-Dr8ccr599dc/AAAAAAAAAAI/AAAAAAAAWjM/hdUSEex3GHk/s64/photo.jpg",
      "userId": "10932407909649468838"
     },
     "user_tz": -120
    },
    "id": "X8xYIWcj925M",
    "outputId": "aa3d0964-b420-439d-e1dd-13a8f2ef9aae"
   },
   "outputs": [
    {
     "name": "stderr",
     "output_type": "stream",
     "text": [
      "[nltk_data] Downloading package brown to /home/gal/nltk_data...\n",
      "[nltk_data]   Package brown is already up-to-date!\n"
     ]
    }
   ],
   "source": [
    "import nltk\n",
    "import pandas as pd\n",
    "from collections import Counter\n",
    "from itertools import chain\n",
    "\n",
    "\n",
    "pd.set_option('display.max_colwidth', None)\n",
    "nltk.download('brown')\n",
    "from nltk.corpus import brown\n",
    "sentences = brown.sents(categories = ['news', 'editorial', 'reviews'])"
   ]
  },
  {
   "cell_type": "markdown",
   "metadata": {
    "colab_type": "text",
    "id": "HgdfpE10-Iqt"
   },
   "source": [
    "### Questions:\n",
    "####  1. Use displaCy to display the entities in the first three sentences of this corpus.\n",
    "\n",
    "**source link:**<br>https://spacy.io/usage/visualizers#ent"
   ]
  },
  {
   "cell_type": "code",
   "execution_count": 5,
   "metadata": {
    "ExecuteTime": {
     "end_time": "2020-06-29T08:20:05.993031Z",
     "start_time": "2020-06-29T08:20:05.519835Z"
    }
   },
   "outputs": [
    {
     "data": {
      "text/html": [
       "<span class=\"tex2jax_ignore\"><div class=\"entities\" style=\"line-height: 2.5; direction: ltr\">\n",
       "<mark class=\"entity\" style=\"background: #7aecec; padding: 0.45em 0.6em; margin: 0 0.25em; line-height: 1; border-radius: 0.35em;\">\n",
       "    The Fulton County Grand Jury\n",
       "    <span style=\"font-size: 0.8em; font-weight: bold; line-height: 1; border-radius: 0.35em; text-transform: uppercase; vertical-align: middle; margin-left: 0.5rem\">ORG</span>\n",
       "</mark>\n",
       " said \n",
       "<mark class=\"entity\" style=\"background: #bfe1d9; padding: 0.45em 0.6em; margin: 0 0.25em; line-height: 1; border-radius: 0.35em;\">\n",
       "    Friday\n",
       "    <span style=\"font-size: 0.8em; font-weight: bold; line-height: 1; border-radius: 0.35em; text-transform: uppercase; vertical-align: middle; margin-left: 0.5rem\">DATE</span>\n",
       "</mark>\n",
       " an investigation of \n",
       "<mark class=\"entity\" style=\"background: #feca74; padding: 0.45em 0.6em; margin: 0 0.25em; line-height: 1; border-radius: 0.35em;\">\n",
       "    Atlanta\n",
       "    <span style=\"font-size: 0.8em; font-weight: bold; line-height: 1; border-radius: 0.35em; text-transform: uppercase; vertical-align: middle; margin-left: 0.5rem\">GPE</span>\n",
       "</mark>\n",
       "'s recent primary election produced `` no evidence '' that any irregularities took place .</div></span>"
      ],
      "text/plain": [
       "<IPython.core.display.HTML object>"
      ]
     },
     "metadata": {},
     "output_type": "display_data"
    },
    {
     "data": {
      "text/html": [
       "<span class=\"tex2jax_ignore\"><div class=\"entities\" style=\"line-height: 2.5; direction: ltr\">The jury further said in term-end presentments that \n",
       "<mark class=\"entity\" style=\"background: #7aecec; padding: 0.45em 0.6em; margin: 0 0.25em; line-height: 1; border-radius: 0.35em;\">\n",
       "    the City Executive Committee\n",
       "    <span style=\"font-size: 0.8em; font-weight: bold; line-height: 1; border-radius: 0.35em; text-transform: uppercase; vertical-align: middle; margin-left: 0.5rem\">ORG</span>\n",
       "</mark>\n",
       " , which had over-all charge of the election , `` deserves the praise and thanks of \n",
       "<mark class=\"entity\" style=\"background: #feca74; padding: 0.45em 0.6em; margin: 0 0.25em; line-height: 1; border-radius: 0.35em;\">\n",
       "    the City of Atlanta ''\n",
       "    <span style=\"font-size: 0.8em; font-weight: bold; line-height: 1; border-radius: 0.35em; text-transform: uppercase; vertical-align: middle; margin-left: 0.5rem\">GPE</span>\n",
       "</mark>\n",
       " for the manner in which the election was conducted .</div></span>"
      ],
      "text/plain": [
       "<IPython.core.display.HTML object>"
      ]
     },
     "metadata": {},
     "output_type": "display_data"
    },
    {
     "data": {
      "text/html": [
       "<span class=\"tex2jax_ignore\"><div class=\"entities\" style=\"line-height: 2.5; direction: ltr\">The \n",
       "<mark class=\"entity\" style=\"background: #bfe1d9; padding: 0.45em 0.6em; margin: 0 0.25em; line-height: 1; border-radius: 0.35em;\">\n",
       "    September-October\n",
       "    <span style=\"font-size: 0.8em; font-weight: bold; line-height: 1; border-radius: 0.35em; text-transform: uppercase; vertical-align: middle; margin-left: 0.5rem\">DATE</span>\n",
       "</mark>\n",
       " term jury had been charged by \n",
       "<mark class=\"entity\" style=\"background: #7aecec; padding: 0.45em 0.6em; margin: 0 0.25em; line-height: 1; border-radius: 0.35em;\">\n",
       "    Fulton Superior Court\n",
       "    <span style=\"font-size: 0.8em; font-weight: bold; line-height: 1; border-radius: 0.35em; text-transform: uppercase; vertical-align: middle; margin-left: 0.5rem\">ORG</span>\n",
       "</mark>\n",
       " Judge \n",
       "<mark class=\"entity\" style=\"background: #aa9cfc; padding: 0.45em 0.6em; margin: 0 0.25em; line-height: 1; border-radius: 0.35em;\">\n",
       "    Durwood Pye\n",
       "    <span style=\"font-size: 0.8em; font-weight: bold; line-height: 1; border-radius: 0.35em; text-transform: uppercase; vertical-align: middle; margin-left: 0.5rem\">PERSON</span>\n",
       "</mark>\n",
       " to investigate reports of possible `` irregularities '' in the hard-fought primary which was won by Mayor-nominate \n",
       "<mark class=\"entity\" style=\"background: #aa9cfc; padding: 0.45em 0.6em; margin: 0 0.25em; line-height: 1; border-radius: 0.35em;\">\n",
       "    Ivan Allen Jr.\n",
       "    <span style=\"font-size: 0.8em; font-weight: bold; line-height: 1; border-radius: 0.35em; text-transform: uppercase; vertical-align: middle; margin-left: 0.5rem\">PERSON</span>\n",
       "</mark>\n",
       " .</div></span>"
      ],
      "text/plain": [
       "<IPython.core.display.HTML object>"
      ]
     },
     "metadata": {},
     "output_type": "display_data"
    }
   ],
   "source": [
    "sent = [' '.join(sent) for sent in sentences]\n",
    "\n",
    "for s in sent[:3]:\n",
    "    doc = nlp(s)\n",
    "    displacy.render(doc, style='ent', jupyter = True)"
   ]
  },
  {
   "cell_type": "markdown",
   "metadata": {},
   "source": [
    "####  What are some entities that are tagged, and what do their entity labels means?\n"
   ]
  },
  {
   "cell_type": "markdown",
   "metadata": {},
   "source": [
    "**source link:**<br>https://spacy.io/api/annotation#named-entities"
   ]
  },
  {
   "cell_type": "markdown",
   "metadata": {},
   "source": [
    "`Ivan Allen Jr. PERSON ` - People, including fictional.\n",
    "<br>`September-October DATE` - Absolute or relative dates or periods.\n",
    "<br>`the City Executive Committee ORG` - Companies, agencies, institutions, etc.\n",
    "<br>`the City of Atlanta '' GPE` - Countries, cities, states.\n"
   ]
  },
  {
   "cell_type": "markdown",
   "metadata": {},
   "source": [
    "####  2. What are the five most common people mentioned in the corpus for these categories? <br>(Hint: See [this page](https://spacy.io/api/annotation#named-entities) under \"Named Entity Recognition\")"
   ]
  },
  {
   "cell_type": "code",
   "execution_count": 6,
   "metadata": {
    "ExecuteTime": {
     "end_time": "2020-06-29T08:21:24.983658Z",
     "start_time": "2020-06-29T08:20:05.995937Z"
    }
   },
   "outputs": [
    {
     "data": {
      "text/plain": [
       "[('Kennedy', 113),\n",
       " ('Khrushchev', 69),\n",
       " ('Maris', 29),\n",
       " ('Eisenhower', 27),\n",
       " ('Podger', 22)]"
      ]
     },
     "execution_count": 6,
     "metadata": {},
     "output_type": "execute_result"
    }
   ],
   "source": [
    "persons = []\n",
    "buildings = []\n",
    "\n",
    "for s in sent:\n",
    "    doc = nlp(s)\n",
    "    persons.append([X.text for X in doc.ents if X.label_ == 'PERSON'])\n",
    "    buildings.append([X.text for X in doc.ents if X.label_ == 'FAC'])\n",
    "\n",
    "Counter(chain.from_iterable(persons)).most_common(5)"
   ]
  },
  {
   "cell_type": "markdown",
   "metadata": {},
   "source": [
    "#### What are the five most common buildings? "
   ]
  },
  {
   "cell_type": "code",
   "execution_count": 7,
   "metadata": {
    "ExecuteTime": {
     "end_time": "2020-06-29T08:21:24.994673Z",
     "start_time": "2020-06-29T08:21:24.985364Z"
    }
   },
   "outputs": [
    {
     "data": {
      "text/plain": [
       "[('Broadway', 11),\n",
       " ('the White House', 6),\n",
       " ('Pennsylvania Avenue', 4),\n",
       " ('Capitol', 4),\n",
       " ('Lewisohn Stadium', 4)]"
      ]
     },
     "execution_count": 7,
     "metadata": {},
     "output_type": "execute_result"
    }
   ],
   "source": [
    "Counter(chain.from_iterable(buildings)).most_common(5)"
   ]
  },
  {
   "cell_type": "markdown",
   "metadata": {
    "colab_type": "text",
    "id": "KWbUd6KunKxZ"
   },
   "source": [
    "## Part 2: Finding relations"
   ]
  },
  {
   "cell_type": "markdown",
   "metadata": {
    "colab_type": "text",
    "id": "59JxKlKD_oLN"
   },
   "source": [
    "**Now we will look at pairs of entities in sentences in the corpus and try to identify relations between them.**\n",
    "\n",
    "### Questions:\n",
    "  #### 3. We would like to know where organizations are located.<br> Try to find all occurences of organization-location where the organization (ORG) comes before the location (GPE) in the sentence, with no other entity in between, and the word \"in\" appears somewhere between them. <br>Put this in a Pandas Dataframe with three columns: ORG (organization name), GPE (location name), and context (words in between the organization and location). \n",
    "####  Hint: use entity.start and entity.end to get the starting and ending indices for an entity in the sentence.\n"
   ]
  },
  {
   "cell_type": "code",
   "execution_count": 8,
   "metadata": {
    "ExecuteTime": {
     "end_time": "2020-06-29T08:21:25.006002Z",
     "start_time": "2020-06-29T08:21:24.997119Z"
    },
    "scrolled": true
   },
   "outputs": [],
   "source": [
    "def between_2_entities(lab_1, lab_2, prep):    \n",
    "    org =[]\n",
    "    gpe = []\n",
    "    context  = []\n",
    "    \n",
    "    for s in sent:\n",
    "        doc = nlp(s)\n",
    "        tokens = [w.text for w in doc]\n",
    "\n",
    "        for i in range(len(doc.ents)-1): \n",
    "            if doc.ents[i].label_ == lab_1 and doc.ents[i+1].label_ == lab_2:\n",
    "                if prep in tokens[doc.ents[i].end: doc.ents[i+1].start]:\n",
    "                    org.append(doc.ents[i].text)\n",
    "                    gpe.append(doc.ents[i+1].text)\n",
    "                    context.append(' '.join(tokens[doc.ents[i].end: doc.ents[i+1].start]))\n",
    "                    \n",
    "    df = pd.DataFrame(list(zip(org, gpe, context)), \n",
    "                   columns =[lab_1, lab_2,'context'])\n",
    "    return df          \n"
   ]
  },
  {
   "cell_type": "code",
   "execution_count": 9,
   "metadata": {
    "ExecuteTime": {
     "end_time": "2020-06-29T08:22:42.273553Z",
     "start_time": "2020-06-29T08:21:25.008790Z"
    }
   },
   "outputs": [
    {
     "data": {
      "text/html": [
       "<div>\n",
       "<style scoped>\n",
       "    .dataframe tbody tr th:only-of-type {\n",
       "        vertical-align: middle;\n",
       "    }\n",
       "\n",
       "    .dataframe tbody tr th {\n",
       "        vertical-align: top;\n",
       "    }\n",
       "\n",
       "    .dataframe thead th {\n",
       "        text-align: right;\n",
       "    }\n",
       "</style>\n",
       "<table border=\"1\" class=\"dataframe\">\n",
       "  <thead>\n",
       "    <tr style=\"text-align: right;\">\n",
       "      <th></th>\n",
       "      <th>ORG</th>\n",
       "      <th>GPE</th>\n",
       "      <th>context</th>\n",
       "    </tr>\n",
       "  </thead>\n",
       "  <tbody>\n",
       "    <tr>\n",
       "      <th>0</th>\n",
       "      <td>the State Welfare Department</td>\n",
       "      <td>Fulton County</td>\n",
       "      <td>` ` has seen fit to distribute these funds through the welfare departments of all the counties in the state with the exception of</td>\n",
       "    </tr>\n",
       "    <tr>\n",
       "      <th>1</th>\n",
       "      <td>ADC</td>\n",
       "      <td>Cook county</td>\n",
       "      <td>program in</td>\n",
       "    </tr>\n",
       "    <tr>\n",
       "      <th>2</th>\n",
       "      <td>White House</td>\n",
       "      <td>Washington</td>\n",
       "      <td>aids in</td>\n",
       "    </tr>\n",
       "    <tr>\n",
       "      <th>3</th>\n",
       "      <td>NATO</td>\n",
       "      <td>Angola</td>\n",
       "      <td>committee has been set up so that in the future such topics as</td>\n",
       "    </tr>\n",
       "    <tr>\n",
       "      <th>4</th>\n",
       "      <td>State Department</td>\n",
       "      <td>Laos</td>\n",
       "      <td>officials explain , now is mainly interested in setting up an international inspection system which will prevent</td>\n",
       "    </tr>\n",
       "    <tr>\n",
       "      <th>...</th>\n",
       "      <td>...</td>\n",
       "      <td>...</td>\n",
       "      <td>...</td>\n",
       "    </tr>\n",
       "    <tr>\n",
       "      <th>85</th>\n",
       "      <td>Mijbil</td>\n",
       "      <td>Iraq</td>\n",
       "      <td>, of whom there are a fine series of photographs and drawings in the book , but to the author who has catalogued the saga of a frightened otter cub 's journey by plane from</td>\n",
       "    </tr>\n",
       "    <tr>\n",
       "      <th>86</th>\n",
       "      <td>Negro</td>\n",
       "      <td>the United States</td>\n",
       "      <td>listeners -- an audience which , in</td>\n",
       "    </tr>\n",
       "    <tr>\n",
       "      <th>87</th>\n",
       "      <td>Negro</td>\n",
       "      <td>America</td>\n",
       "      <td>news staffs in</td>\n",
       "    </tr>\n",
       "    <tr>\n",
       "      <th>88</th>\n",
       "      <td>St. Torpetius</td>\n",
       "      <td>St. Tropez</td>\n",
       "      <td>that still persists in</td>\n",
       "    </tr>\n",
       "    <tr>\n",
       "      <th>89</th>\n",
       "      <td>the Laboratory of Physiological Hygiene</td>\n",
       "      <td>Minneapolis</td>\n",
       "      <td>, under the university 's football stadium in</td>\n",
       "    </tr>\n",
       "  </tbody>\n",
       "</table>\n",
       "<p>90 rows × 3 columns</p>\n",
       "</div>"
      ],
      "text/plain": [
       "                                        ORG                GPE  \\\n",
       "0              the State Welfare Department      Fulton County   \n",
       "1                                       ADC        Cook county   \n",
       "2                               White House         Washington   \n",
       "3                                      NATO             Angola   \n",
       "4                          State Department               Laos   \n",
       "..                                      ...                ...   \n",
       "85                                   Mijbil               Iraq   \n",
       "86                                    Negro  the United States   \n",
       "87                                    Negro            America   \n",
       "88                            St. Torpetius         St. Tropez   \n",
       "89  the Laboratory of Physiological Hygiene        Minneapolis   \n",
       "\n",
       "                                                                                                                                                                         context  \n",
       "0                                              ` ` has seen fit to distribute these funds through the welfare departments of all the counties in the state with the exception of  \n",
       "1                                                                                                                                                                     program in  \n",
       "2                                                                                                                                                                        aids in  \n",
       "3                                                                                                                 committee has been set up so that in the future such topics as  \n",
       "4                                                               officials explain , now is mainly interested in setting up an international inspection system which will prevent  \n",
       "..                                                                                                                                                                           ...  \n",
       "85  , of whom there are a fine series of photographs and drawings in the book , but to the author who has catalogued the saga of a frightened otter cub 's journey by plane from  \n",
       "86                                                                                                                                           listeners -- an audience which , in  \n",
       "87                                                                                                                                                                news staffs in  \n",
       "88                                                                                                                                                        that still persists in  \n",
       "89                                                                                                                                 , under the university 's football stadium in  \n",
       "\n",
       "[90 rows x 3 columns]"
      ]
     },
     "execution_count": 9,
     "metadata": {},
     "output_type": "execute_result"
    }
   ],
   "source": [
    "df = between_2_entities('ORG', 'GPE', 'in')\n",
    "df"
   ]
  },
  {
   "cell_type": "markdown",
   "metadata": {},
   "source": [
    "####  How many of these are there?"
   ]
  },
  {
   "cell_type": "code",
   "execution_count": 10,
   "metadata": {
    "ExecuteTime": {
     "end_time": "2020-06-29T08:22:42.279176Z",
     "start_time": "2020-06-29T08:22:42.275324Z"
    }
   },
   "outputs": [
    {
     "data": {
      "text/plain": [
       "90"
      ]
     },
     "execution_count": 10,
     "metadata": {},
     "output_type": "execute_result"
    }
   ],
   "source": [
    "len(df)"
   ]
  },
  {
   "cell_type": "markdown",
   "metadata": {},
   "source": [
    "  \n",
    "####  4. How much does this data tell us about what organizations are located where? "
   ]
  },
  {
   "cell_type": "markdown",
   "metadata": {},
   "source": [
    "It tells us about the Country place, City, area in the city, relocation of the company or staff of the companie, some events which happened in those companies in those places"
   ]
  },
  {
   "cell_type": "markdown",
   "metadata": {},
   "source": [
    "#### In what cases can we be more or less certain?\n"
   ]
  },
  {
   "cell_type": "markdown",
   "metadata": {},
   "source": [
    "When in the context we have a verb for our ORG entity, not other parts of speach"
   ]
  },
  {
   "cell_type": "markdown",
   "metadata": {},
   "source": [
    "  \n",
    "####  5. What is another example of a pair of entity labels and context word that would give us useful information?"
   ]
  },
  {
   "cell_type": "markdown",
   "metadata": {},
   "source": [
    "It can be `'DATE'-'EVENT'-'in'`, `'PERSON'-'ORG'-'in'`, `'ORG'-'EVENT'-'in'`, `'DATE'-'ORG'-'on'` etc."
   ]
  },
  {
   "cell_type": "markdown",
   "metadata": {},
   "source": [
    " #### Try running your code to find this new relation."
   ]
  },
  {
   "cell_type": "code",
   "execution_count": 11,
   "metadata": {
    "ExecuteTime": {
     "end_time": "2020-06-29T08:24:14.385786Z",
     "start_time": "2020-06-29T08:22:42.280369Z"
    }
   },
   "outputs": [
    {
     "data": {
      "text/html": [
       "<div>\n",
       "<style scoped>\n",
       "    .dataframe tbody tr th:only-of-type {\n",
       "        vertical-align: middle;\n",
       "    }\n",
       "\n",
       "    .dataframe tbody tr th {\n",
       "        vertical-align: top;\n",
       "    }\n",
       "\n",
       "    .dataframe thead th {\n",
       "        text-align: right;\n",
       "    }\n",
       "</style>\n",
       "<table border=\"1\" class=\"dataframe\">\n",
       "  <thead>\n",
       "    <tr style=\"text-align: right;\">\n",
       "      <th></th>\n",
       "      <th>DATE</th>\n",
       "      <th>EVENT</th>\n",
       "      <th>context</th>\n",
       "    </tr>\n",
       "  </thead>\n",
       "  <tbody>\n",
       "    <tr>\n",
       "      <th>0</th>\n",
       "      <td>today</td>\n",
       "      <td>the Lyle Elliott Funeral Home , 31730 Mound</td>\n",
       "      <td>in closed caskets at</td>\n",
       "    </tr>\n",
       "    <tr>\n",
       "      <th>1</th>\n",
       "      <td>annual</td>\n",
       "      <td>New Year ''</td>\n",
       "      <td>report in the form of a ` ` happy , warless</td>\n",
       "    </tr>\n",
       "  </tbody>\n",
       "</table>\n",
       "</div>"
      ],
      "text/plain": [
       "     DATE                                        EVENT  \\\n",
       "0   today  the Lyle Elliott Funeral Home , 31730 Mound   \n",
       "1  annual                                  New Year ''   \n",
       "\n",
       "                                       context  \n",
       "0                         in closed caskets at  \n",
       "1  report in the form of a ` ` happy , warless  "
      ]
     },
     "execution_count": 11,
     "metadata": {},
     "output_type": "execute_result"
    }
   ],
   "source": [
    "df2 = between_2_entities('DATE', 'EVENT', 'in')\n",
    "df2"
   ]
  },
  {
   "cell_type": "code",
   "execution_count": 12,
   "metadata": {
    "ExecuteTime": {
     "end_time": "2020-06-29T08:25:44.880466Z",
     "start_time": "2020-06-29T08:24:14.388422Z"
    },
    "scrolled": false
   },
   "outputs": [
    {
     "data": {
      "text/html": [
       "<div>\n",
       "<style scoped>\n",
       "    .dataframe tbody tr th:only-of-type {\n",
       "        vertical-align: middle;\n",
       "    }\n",
       "\n",
       "    .dataframe tbody tr th {\n",
       "        vertical-align: top;\n",
       "    }\n",
       "\n",
       "    .dataframe thead th {\n",
       "        text-align: right;\n",
       "    }\n",
       "</style>\n",
       "<table border=\"1\" class=\"dataframe\">\n",
       "  <thead>\n",
       "    <tr style=\"text-align: right;\">\n",
       "      <th></th>\n",
       "      <th>PERSON</th>\n",
       "      <th>ORG</th>\n",
       "      <th>context</th>\n",
       "    </tr>\n",
       "  </thead>\n",
       "  <tbody>\n",
       "    <tr>\n",
       "      <th>0</th>\n",
       "      <td>Pearl Williams Hartsfield</td>\n",
       "      <td>Fulton Superior Court</td>\n",
       "      <td>, in</td>\n",
       "    </tr>\n",
       "    <tr>\n",
       "      <th>1</th>\n",
       "      <td>Kennedy</td>\n",
       "      <td>House</td>\n",
       "      <td>program ` ` a mighty fine thing '' , but made no prediction on its fate in the</td>\n",
       "    </tr>\n",
       "    <tr>\n",
       "      <th>2</th>\n",
       "      <td>-- William J. Seidel</td>\n",
       "      <td>the Department of Conservation and Economic Development</td>\n",
       "      <td>, state fire warden in</td>\n",
       "    </tr>\n",
       "    <tr>\n",
       "      <th>3</th>\n",
       "      <td>Sam Rayburn's</td>\n",
       "      <td>the Rules Committee</td>\n",
       "      <td>forces in</td>\n",
       "    </tr>\n",
       "    <tr>\n",
       "      <th>4</th>\n",
       "      <td>Harold V. Varani</td>\n",
       "      <td>the Department of Public Property</td>\n",
       "      <td>, former director of architecture and engineering in</td>\n",
       "    </tr>\n",
       "    <tr>\n",
       "      <th>5</th>\n",
       "      <td>Jack Fisher</td>\n",
       "      <td>Oriole</td>\n",
       "      <td>, the big righthander who figures to be in the middle of</td>\n",
       "    </tr>\n",
       "    <tr>\n",
       "      <th>6</th>\n",
       "      <td>Whitey Herzog</td>\n",
       "      <td>Orioles</td>\n",
       "      <td>, performing in right as the</td>\n",
       "    </tr>\n",
       "    <tr>\n",
       "      <th>7</th>\n",
       "      <td>Pete Ward</td>\n",
       "      <td>House</td>\n",
       "      <td>was sent in for</td>\n",
       "    </tr>\n",
       "    <tr>\n",
       "      <th>8</th>\n",
       "      <td>Richard Stafford</td>\n",
       "      <td>Raiders</td>\n",
       "      <td>, who is undergoing treatment for a leg injury suffered in the</td>\n",
       "    </tr>\n",
       "    <tr>\n",
       "      <th>9</th>\n",
       "      <td>End Gene Raesz</td>\n",
       "      <td>Owl</td>\n",
       "      <td>, who broke a hand in the</td>\n",
       "    </tr>\n",
       "    <tr>\n",
       "      <th>10</th>\n",
       "      <td>George Hargett</td>\n",
       "      <td>Tech</td>\n",
       "      <td>, shaken up in the</td>\n",
       "    </tr>\n",
       "    <tr>\n",
       "      <th>11</th>\n",
       "      <td>Abra Prentice's</td>\n",
       "      <td>Casino</td>\n",
       "      <td>debut supper dance in the</td>\n",
       "    </tr>\n",
       "    <tr>\n",
       "      <th>12</th>\n",
       "      <td>Jenkins</td>\n",
       "      <td>State</td>\n",
       "      <td>notes , however , that most of the school boards in the</td>\n",
       "    </tr>\n",
       "    <tr>\n",
       "      <th>13</th>\n",
       "      <td>Dreadnought</td>\n",
       "      <td>Lonsdale</td>\n",
       "      <td>and printed details about the ship were found reproduced in an undeveloped roll of film taken from</td>\n",
       "    </tr>\n",
       "    <tr>\n",
       "      <th>14</th>\n",
       "      <td>Lavaughn Huntley</td>\n",
       "      <td>the Woodyard Bros.'</td>\n",
       "      <td>is accused of driving the getaway car used in a robbery of</td>\n",
       "    </tr>\n",
       "    <tr>\n",
       "      <th>15</th>\n",
       "      <td>Peter G. Peterson</td>\n",
       "      <td>the American Marketing Assn</td>\n",
       "      <td>, head of one of the world 's greatest camera firms , in a key address before</td>\n",
       "    </tr>\n",
       "    <tr>\n",
       "      <th>16</th>\n",
       "      <td>Howard L. Taylor</td>\n",
       "      <td>Pacific Coast Stock Exchange</td>\n",
       "      <td>to membership in</td>\n",
       "    </tr>\n",
       "    <tr>\n",
       "      <th>17</th>\n",
       "      <td>Alice H. Reese</td>\n",
       "      <td>the Beverly Hilton Hotel</td>\n",
       "      <td>, wife of an engineer and mother of a 23-year - old son , was awarded the top prize at a luncheon in</td>\n",
       "    </tr>\n",
       "    <tr>\n",
       "      <th>18</th>\n",
       "      <td>McClellan</td>\n",
       "      <td>the Civil Aeronautics Board</td>\n",
       "      <td>was attempting to extend the anti - trust act to labor in transportation ,</td>\n",
       "    </tr>\n",
       "    <tr>\n",
       "      <th>19</th>\n",
       "      <td>Clifford Roberts</td>\n",
       "      <td>Palmer</td>\n",
       "      <td>' clubhouse apartment , stared in amazement when</td>\n",
       "    </tr>\n",
       "    <tr>\n",
       "      <th>20</th>\n",
       "      <td>Jackson</td>\n",
       "      <td>the White House</td>\n",
       "      <td>discuss the delicate situation created by the presence in</td>\n",
       "    </tr>\n",
       "    <tr>\n",
       "      <th>21</th>\n",
       "      <td>John M. Dalton</td>\n",
       "      <td>the Missouri General Assembly</td>\n",
       "      <td>, himself a lawyer and a man of long service in government , spoke with rich background and experience when he said in an address here that lawyers ought to quit sitting in</td>\n",
       "    </tr>\n",
       "    <tr>\n",
       "      <th>22</th>\n",
       "      <td>Kennedy</td>\n",
       "      <td>Department</td>\n",
       "      <td>, in fact , wrote was : ` ` It is the</td>\n",
       "    </tr>\n",
       "    <tr>\n",
       "      <th>23</th>\n",
       "      <td>Philip Morrison</td>\n",
       "      <td>The Cornell Daily Sun</td>\n",
       "      <td>writes in</td>\n",
       "    </tr>\n",
       "    <tr>\n",
       "      <th>24</th>\n",
       "      <td>F. L. Lucas's</td>\n",
       "      <td>SR</td>\n",
       "      <td>article in</td>\n",
       "    </tr>\n",
       "    <tr>\n",
       "      <th>25</th>\n",
       "      <td>Watson-Watt's</td>\n",
       "      <td>SR</td>\n",
       "      <td>remarks in</td>\n",
       "    </tr>\n",
       "    <tr>\n",
       "      <th>26</th>\n",
       "      <td>Bellini</td>\n",
       "      <td>the American Opera Society</td>\n",
       "      <td>, whose opera ` ` Beatrice Di Tenda '' in a concert version with</td>\n",
       "    </tr>\n",
       "    <tr>\n",
       "      <th>27</th>\n",
       "      <td>Alger Hiss</td>\n",
       "      <td>State Department</td>\n",
       "      <td>, subsequently convicted of perjury in denying that he gave secret</td>\n",
       "    </tr>\n",
       "    <tr>\n",
       "      <th>28</th>\n",
       "      <td>Harry Dexter White</td>\n",
       "      <td>F.B.I.</td>\n",
       "      <td>, implicated in</td>\n",
       "    </tr>\n",
       "    <tr>\n",
       "      <th>29</th>\n",
       "      <td>W. B. Bonnor</td>\n",
       "      <td>Queen Elizabeth College</td>\n",
       "      <td>, reader in mathematics at</td>\n",
       "    </tr>\n",
       "    <tr>\n",
       "      <th>30</th>\n",
       "      <td>G. J. Whitrow</td>\n",
       "      <td>the Imperial College of Science and Technology</td>\n",
       "      <td>, reader in applied mathematics at</td>\n",
       "    </tr>\n",
       "  </tbody>\n",
       "</table>\n",
       "</div>"
      ],
      "text/plain": [
       "                       PERSON  \\\n",
       "0   Pearl Williams Hartsfield   \n",
       "1                     Kennedy   \n",
       "2        -- William J. Seidel   \n",
       "3               Sam Rayburn's   \n",
       "4            Harold V. Varani   \n",
       "5                 Jack Fisher   \n",
       "6               Whitey Herzog   \n",
       "7                   Pete Ward   \n",
       "8            Richard Stafford   \n",
       "9              End Gene Raesz   \n",
       "10             George Hargett   \n",
       "11            Abra Prentice's   \n",
       "12                    Jenkins   \n",
       "13                Dreadnought   \n",
       "14           Lavaughn Huntley   \n",
       "15          Peter G. Peterson   \n",
       "16           Howard L. Taylor   \n",
       "17             Alice H. Reese   \n",
       "18                  McClellan   \n",
       "19           Clifford Roberts   \n",
       "20                    Jackson   \n",
       "21             John M. Dalton   \n",
       "22                    Kennedy   \n",
       "23            Philip Morrison   \n",
       "24              F. L. Lucas's   \n",
       "25              Watson-Watt's   \n",
       "26                    Bellini   \n",
       "27                 Alger Hiss   \n",
       "28         Harry Dexter White   \n",
       "29               W. B. Bonnor   \n",
       "30              G. J. Whitrow   \n",
       "\n",
       "                                                        ORG  \\\n",
       "0                                     Fulton Superior Court   \n",
       "1                                                     House   \n",
       "2   the Department of Conservation and Economic Development   \n",
       "3                                       the Rules Committee   \n",
       "4                         the Department of Public Property   \n",
       "5                                                    Oriole   \n",
       "6                                                   Orioles   \n",
       "7                                                     House   \n",
       "8                                                   Raiders   \n",
       "9                                                       Owl   \n",
       "10                                                     Tech   \n",
       "11                                                   Casino   \n",
       "12                                                    State   \n",
       "13                                                 Lonsdale   \n",
       "14                                      the Woodyard Bros.'   \n",
       "15                              the American Marketing Assn   \n",
       "16                             Pacific Coast Stock Exchange   \n",
       "17                                 the Beverly Hilton Hotel   \n",
       "18                              the Civil Aeronautics Board   \n",
       "19                                                   Palmer   \n",
       "20                                          the White House   \n",
       "21                            the Missouri General Assembly   \n",
       "22                                               Department   \n",
       "23                                    The Cornell Daily Sun   \n",
       "24                                                       SR   \n",
       "25                                                       SR   \n",
       "26                               the American Opera Society   \n",
       "27                                         State Department   \n",
       "28                                                   F.B.I.   \n",
       "29                                  Queen Elizabeth College   \n",
       "30           the Imperial College of Science and Technology   \n",
       "\n",
       "                                                                                                                                                                         context  \n",
       "0                                                                                                                                                                           , in  \n",
       "1                                                                                                 program ` ` a mighty fine thing '' , but made no prediction on its fate in the  \n",
       "2                                                                                                                                                         , state fire warden in  \n",
       "3                                                                                                                                                                      forces in  \n",
       "4                                                                                                                           , former director of architecture and engineering in  \n",
       "5                                                                                                                       , the big righthander who figures to be in the middle of  \n",
       "6                                                                                                                                                   , performing in right as the  \n",
       "7                                                                                                                                                                was sent in for  \n",
       "8                                                                                                                 , who is undergoing treatment for a leg injury suffered in the  \n",
       "9                                                                                                                                                      , who broke a hand in the  \n",
       "10                                                                                                                                                            , shaken up in the  \n",
       "11                                                                                                                                                     debut supper dance in the  \n",
       "12                                                                                                                       notes , however , that most of the school boards in the  \n",
       "13                                                                            and printed details about the ship were found reproduced in an undeveloped roll of film taken from  \n",
       "14                                                                                                                    is accused of driving the getaway car used in a robbery of  \n",
       "15                                                                                                 , head of one of the world 's greatest camera firms , in a key address before  \n",
       "16                                                                                                                                                              to membership in  \n",
       "17                                                                          , wife of an engineer and mother of a 23-year - old son , was awarded the top prize at a luncheon in  \n",
       "18                                                                                                    was attempting to extend the anti - trust act to labor in transportation ,  \n",
       "19                                                                                                                              ' clubhouse apartment , stared in amazement when  \n",
       "20                                                                                                                     discuss the delicate situation created by the presence in  \n",
       "21  , himself a lawyer and a man of long service in government , spoke with rich background and experience when he said in an address here that lawyers ought to quit sitting in  \n",
       "22                                                                                                                                         , in fact , wrote was : ` ` It is the  \n",
       "23                                                                                                                                                                     writes in  \n",
       "24                                                                                                                                                                    article in  \n",
       "25                                                                                                                                                                    remarks in  \n",
       "26                                                                                                              , whose opera ` ` Beatrice Di Tenda '' in a concert version with  \n",
       "27                                                                                                            , subsequently convicted of perjury in denying that he gave secret  \n",
       "28                                                                                                                                                               , implicated in  \n",
       "29                                                                                                                                                    , reader in mathematics at  \n",
       "30                                                                                                                                            , reader in applied mathematics at  "
      ]
     },
     "execution_count": 12,
     "metadata": {},
     "output_type": "execute_result"
    }
   ],
   "source": [
    "df3 = between_2_entities('PERSON', 'ORG', 'in')\n",
    "df3"
   ]
  },
  {
   "cell_type": "code",
   "execution_count": 13,
   "metadata": {
    "ExecuteTime": {
     "end_time": "2020-06-29T08:27:12.662555Z",
     "start_time": "2020-06-29T08:25:44.882322Z"
    }
   },
   "outputs": [
    {
     "data": {
      "text/html": [
       "<div>\n",
       "<style scoped>\n",
       "    .dataframe tbody tr th:only-of-type {\n",
       "        vertical-align: middle;\n",
       "    }\n",
       "\n",
       "    .dataframe tbody tr th {\n",
       "        vertical-align: top;\n",
       "    }\n",
       "\n",
       "    .dataframe thead th {\n",
       "        text-align: right;\n",
       "    }\n",
       "</style>\n",
       "<table border=\"1\" class=\"dataframe\">\n",
       "  <thead>\n",
       "    <tr style=\"text-align: right;\">\n",
       "      <th></th>\n",
       "      <th>ORG</th>\n",
       "      <th>EVENT</th>\n",
       "      <th>context</th>\n",
       "    </tr>\n",
       "  </thead>\n",
       "  <tbody>\n",
       "    <tr>\n",
       "      <th>0</th>\n",
       "      <td>Snead</td>\n",
       "      <td>the Canada Cup</td>\n",
       "      <td>will be saluted as the winning team in</td>\n",
       "    </tr>\n",
       "    <tr>\n",
       "      <th>1</th>\n",
       "      <td>the State Department</td>\n",
       "      <td>World War 2</td>\n",
       "      <td>in</td>\n",
       "    </tr>\n",
       "  </tbody>\n",
       "</table>\n",
       "</div>"
      ],
      "text/plain": [
       "                    ORG           EVENT  \\\n",
       "0                 Snead  the Canada Cup   \n",
       "1  the State Department     World War 2   \n",
       "\n",
       "                                  context  \n",
       "0  will be saluted as the winning team in  \n",
       "1                                      in  "
      ]
     },
     "execution_count": 13,
     "metadata": {},
     "output_type": "execute_result"
    }
   ],
   "source": [
    "df4 = between_2_entities('ORG', 'EVENT', 'in')\n",
    "df4"
   ]
  },
  {
   "cell_type": "code",
   "execution_count": 14,
   "metadata": {
    "ExecuteTime": {
     "end_time": "2020-06-29T08:28:49.091453Z",
     "start_time": "2020-06-29T08:27:12.664615Z"
    }
   },
   "outputs": [
    {
     "data": {
      "text/html": [
       "<div>\n",
       "<style scoped>\n",
       "    .dataframe tbody tr th:only-of-type {\n",
       "        vertical-align: middle;\n",
       "    }\n",
       "\n",
       "    .dataframe tbody tr th {\n",
       "        vertical-align: top;\n",
       "    }\n",
       "\n",
       "    .dataframe thead th {\n",
       "        text-align: right;\n",
       "    }\n",
       "</style>\n",
       "<table border=\"1\" class=\"dataframe\">\n",
       "  <thead>\n",
       "    <tr style=\"text-align: right;\">\n",
       "      <th></th>\n",
       "      <th>DATE</th>\n",
       "      <th>ORG</th>\n",
       "      <th>context</th>\n",
       "    </tr>\n",
       "  </thead>\n",
       "  <tbody>\n",
       "    <tr>\n",
       "      <th>0</th>\n",
       "      <td>last November</td>\n",
       "      <td>Legislature</td>\n",
       "      <td>rejected a constitutional amendment to allow legislators to vote on pay raises for future</td>\n",
       "    </tr>\n",
       "    <tr>\n",
       "      <th>1</th>\n",
       "      <td>last year</td>\n",
       "      <td>Capitol hill</td>\n",
       "      <td>as a senator , a fight on</td>\n",
       "    </tr>\n",
       "    <tr>\n",
       "      <th>2</th>\n",
       "      <td>four-year</td>\n",
       "      <td>the national committee</td>\n",
       "      <td>term on</td>\n",
       "    </tr>\n",
       "    <tr>\n",
       "      <th>3</th>\n",
       "      <td>nearly eighteen months</td>\n",
       "      <td>the United Nations</td>\n",
       "      <td>of work on the question of the organization of</td>\n",
       "    </tr>\n",
       "    <tr>\n",
       "      <th>4</th>\n",
       "      <td>Tuesday</td>\n",
       "      <td>Frankford</td>\n",
       "      <td>that the bids on the</td>\n",
       "    </tr>\n",
       "    <tr>\n",
       "      <th>5</th>\n",
       "      <td>1</td>\n",
       "      <td>Anne Arundel General Hospital</td>\n",
       "      <td>, was pronounced dead on arrival at</td>\n",
       "    </tr>\n",
       "    <tr>\n",
       "      <th>6</th>\n",
       "      <td>yesterday</td>\n",
       "      <td>the First Federal Savings and Loan association</td>\n",
       "      <td>on a suppressed federal warrant charging him with embezzling an undetermined amount of money from</td>\n",
       "    </tr>\n",
       "    <tr>\n",
       "      <th>7</th>\n",
       "      <td>1917</td>\n",
       "      <td>the State Board of Medical Examiners</td>\n",
       "      <td>, and served on</td>\n",
       "    </tr>\n",
       "    <tr>\n",
       "      <th>8</th>\n",
       "      <td>25 years ago</td>\n",
       "      <td>the House of Representatives</td>\n",
       "      <td>and now on the President 's staff as liaison representative with</td>\n",
       "    </tr>\n",
       "    <tr>\n",
       "      <th>9</th>\n",
       "      <td>20 years</td>\n",
       "      <td>the Rules Committee</td>\n",
       "      <td>he has enjoyed his power on</td>\n",
       "    </tr>\n",
       "    <tr>\n",
       "      <th>10</th>\n",
       "      <td>yesterday</td>\n",
       "      <td>the United States Government</td>\n",
       "      <td>on behalf of</td>\n",
       "    </tr>\n",
       "    <tr>\n",
       "      <th>11</th>\n",
       "      <td>June 25</td>\n",
       "      <td>Liberace</td>\n",
       "      <td>article on</td>\n",
       "    </tr>\n",
       "    <tr>\n",
       "      <th>12</th>\n",
       "      <td>two years</td>\n",
       "      <td>Army Reserve</td>\n",
       "      <td>honorably on Active Duty I was not required to participate in any further</td>\n",
       "    </tr>\n",
       "    <tr>\n",
       "      <th>13</th>\n",
       "      <td>the sixteenth century</td>\n",
       "      <td>sonatas</td>\n",
       "      <td>) and continue strong long after everyone else had gone on to the baroque basso continuo ,</td>\n",
       "    </tr>\n",
       "  </tbody>\n",
       "</table>\n",
       "</div>"
      ],
      "text/plain": [
       "                      DATE                                             ORG  \\\n",
       "0            last November                                     Legislature   \n",
       "1                last year                                    Capitol hill   \n",
       "2                four-year                          the national committee   \n",
       "3   nearly eighteen months                              the United Nations   \n",
       "4                  Tuesday                                       Frankford   \n",
       "5                        1                   Anne Arundel General Hospital   \n",
       "6                yesterday  the First Federal Savings and Loan association   \n",
       "7                     1917            the State Board of Medical Examiners   \n",
       "8             25 years ago                    the House of Representatives   \n",
       "9                 20 years                             the Rules Committee   \n",
       "10               yesterday                    the United States Government   \n",
       "11                 June 25                                        Liberace   \n",
       "12               two years                                    Army Reserve   \n",
       "13   the sixteenth century                                         sonatas   \n",
       "\n",
       "                                                                                              context  \n",
       "0           rejected a constitutional amendment to allow legislators to vote on pay raises for future  \n",
       "1                                                                           as a senator , a fight on  \n",
       "2                                                                                             term on  \n",
       "3                                                      of work on the question of the organization of  \n",
       "4                                                                                that the bids on the  \n",
       "5                                                                 , was pronounced dead on arrival at  \n",
       "6   on a suppressed federal warrant charging him with embezzling an undetermined amount of money from  \n",
       "7                                                                                     , and served on  \n",
       "8                                    and now on the President 's staff as liaison representative with  \n",
       "9                                                                         he has enjoyed his power on  \n",
       "10                                                                                       on behalf of  \n",
       "11                                                                                         article on  \n",
       "12                          honorably on Active Duty I was not required to participate in any further  \n",
       "13         ) and continue strong long after everyone else had gone on to the baroque basso continuo ,  "
      ]
     },
     "execution_count": 14,
     "metadata": {},
     "output_type": "execute_result"
    }
   ],
   "source": [
    "df5 = between_2_entities('DATE', 'ORG', 'on')\n",
    "df5"
   ]
  },
  {
   "cell_type": "code",
   "execution_count": null,
   "metadata": {},
   "outputs": [],
   "source": []
  }
 ],
 "metadata": {
  "colab": {
   "collapsed_sections": [],
   "name": "NER Exercise 1.ipynb",
   "provenance": []
  },
  "kernelspec": {
   "display_name": "Python 3",
   "language": "python",
   "name": "python3"
  },
  "language_info": {
   "codemirror_mode": {
    "name": "ipython",
    "version": 3
   },
   "file_extension": ".py",
   "mimetype": "text/x-python",
   "name": "python",
   "nbconvert_exporter": "python",
   "pygments_lexer": "ipython3",
   "version": "3.6.10"
  }
 },
 "nbformat": 4,
 "nbformat_minor": 1
}
