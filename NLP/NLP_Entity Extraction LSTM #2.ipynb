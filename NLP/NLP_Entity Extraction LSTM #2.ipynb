{
 "cells": [
  {
   "cell_type": "markdown",
   "metadata": {
    "colab_type": "text",
    "id": "HhhgpxxSl8Ka"
   },
   "source": [
    "# NER Workshop Exercise 2: Training a Custom NER Algorithm\n",
    "\n",
    "**In this exercise, we will train our own RNN-based Named Entity Recognition algorithm, using the CoNLL-2003 tagged dataset.**\n",
    "\n",
    "## Part 1: Loading CoNLL-2003 data\n",
    "\n",
    "<b>The [CoNLL-2003](https://www.clips.uantwerpen.be/conll2003/ner/) shared task was a joint effort by academics to provide approaches to named entity recognition, using a tagged dataset of named entities in English and German. We will be using the tagged English data from CoNLL-2003, found in the accompanying file *conll2003.zip*.\n",
    "\n",
    "After uploading this file to the current directory, access the data as follows:</b>"
   ]
  },
  {
   "cell_type": "code",
   "execution_count": 1,
   "metadata": {
    "ExecuteTime": {
     "end_time": "2020-07-01T18:58:23.721390Z",
     "start_time": "2020-07-01T18:58:17.597098Z"
    }
   },
   "outputs": [
    {
     "name": "stderr",
     "output_type": "stream",
     "text": [
      "Using TensorFlow backend.\n"
     ]
    }
   ],
   "source": [
    "import nltk\n",
    "from nltk import FreqDist\n",
    "from nltk import word_tokenize\n",
    "from itertools import chain\n",
    "import numpy as np\n",
    "from keras.models import Sequential\n",
    "from keras.layers import Dense, LSTM, Embedding, TimeDistributed, Bidirectional\n",
    "import pandas as pd\n",
    "from keras.preprocessing.sequence import pad_sequences \n",
    "from tensorflow.keras.utils import to_categorical\n",
    "import matplotlib.pyplot as plt\n",
    "from keras.models import Model\n",
    "from keras.layers import Input, concatenate"
   ]
  },
  {
   "cell_type": "code",
   "execution_count": 2,
   "metadata": {
    "ExecuteTime": {
     "end_time": "2020-07-01T18:58:23.727734Z",
     "start_time": "2020-07-01T18:58:23.723654Z"
    },
    "colab": {
     "base_uri": "https://localhost:8080/",
     "height": 51
    },
    "colab_type": "code",
    "executionInfo": {
     "elapsed": 7978,
     "status": "ok",
     "timestamp": 1565061676526,
     "user": {
      "displayName": "Morris Alper",
      "photoUrl": "https://lh3.googleusercontent.com/--_gcOdCIoAM/AAAAAAAAAAI/AAAAAAAAFCI/ar-HeAB3FNk/s64/photo.jpg",
      "userId": "15842932163458061285"
     },
     "user_tz": -180
    },
    "id": "FuXHLev_7DzL",
    "outputId": "32d06446-b0d8-4cbe-ced3-082d60ebea8f"
   },
   "outputs": [],
   "source": [
    "# ! unzip conll2003.zip"
   ]
  },
  {
   "cell_type": "code",
   "execution_count": 3,
   "metadata": {
    "ExecuteTime": {
     "end_time": "2020-07-01T18:58:24.753109Z",
     "start_time": "2020-07-01T18:58:23.730871Z"
    },
    "colab": {},
    "colab_type": "code",
    "id": "PiEEWY2Gd6B4"
   },
   "outputs": [],
   "source": [
    "\n",
    "def read_conll(filename):\n",
    "    df = pd.read_csv(filename,\n",
    "                     sep = ' ', header = None, keep_default_na = False,\n",
    "                     names = ['TOKEN', 'POS', 'CHUNK', 'NE'],\n",
    "                     quoting = 3, skip_blank_lines = False)\n",
    "    df['SENTENCE'] = (df.TOKEN == '').cumsum()\n",
    "    return df[df.TOKEN != '']\n",
    "\n",
    "\n",
    "train_df = read_conll('conll2003/train.txt')\n",
    "valid_df = read_conll('conll2003/valid.txt')\n",
    "test_df = read_conll('conll2003/test.txt')"
   ]
  },
  {
   "cell_type": "markdown",
   "metadata": {
    "colab_type": "text",
    "id": "TUC6Fe3IfeyU"
   },
   "source": [
    "**Note that the CoNLL-2003 data contains part-of-speech (POS) and chunk tags, but we will only be using the token text and named entity (NE) tags that are provided.**\n",
    "\n",
    "### Questions:\n",
    "####  1. What percentages of the CoNLL-2003 data are training, validation, and testing data? (calculate directly)"
   ]
  },
  {
   "cell_type": "code",
   "execution_count": 4,
   "metadata": {
    "ExecuteTime": {
     "end_time": "2020-07-01T18:58:24.770545Z",
     "start_time": "2020-07-01T18:58:24.756059Z"
    }
   },
   "outputs": [
    {
     "name": "stdout",
     "output_type": "stream",
     "text": [
      "percentages of the CoNLL-2003 data are:\n",
      "       training   67.55600027740076%,\n",
      "       validation 17.033066830465206%,\n",
      "       testing    15.410932892134038%\n"
     ]
    }
   ],
   "source": [
    "common = len(train_df)+len(valid_df)+len(test_df)\n",
    "print(f'percentages of the CoNLL-2003 data are:\\n \\\n",
    "      training   {len(train_df)/common*100}%,\\n \\\n",
    "      validation {len(valid_df)/common*100}%,\\n \\\n",
    "      testing    {len(test_df)/common*100}%')"
   ]
  },
  {
   "cell_type": "markdown",
   "metadata": {},
   "source": [
    "\n",
    " #### 2. What do the tags in column 'NE' mean?"
   ]
  },
  {
   "cell_type": "code",
   "execution_count": 5,
   "metadata": {
    "ExecuteTime": {
     "end_time": "2020-07-01T18:58:24.818869Z",
     "start_time": "2020-07-01T18:58:24.780633Z"
    },
    "scrolled": true
   },
   "outputs": [
    {
     "data": {
      "text/html": [
       "<div>\n",
       "<style scoped>\n",
       "    .dataframe tbody tr th:only-of-type {\n",
       "        vertical-align: middle;\n",
       "    }\n",
       "\n",
       "    .dataframe tbody tr th {\n",
       "        vertical-align: top;\n",
       "    }\n",
       "\n",
       "    .dataframe thead th {\n",
       "        text-align: right;\n",
       "    }\n",
       "</style>\n",
       "<table border=\"1\" class=\"dataframe\">\n",
       "  <thead>\n",
       "    <tr style=\"text-align: right;\">\n",
       "      <th></th>\n",
       "      <th>TOKEN</th>\n",
       "      <th>POS</th>\n",
       "      <th>CHUNK</th>\n",
       "      <th>NE</th>\n",
       "      <th>SENTENCE</th>\n",
       "    </tr>\n",
       "  </thead>\n",
       "  <tbody>\n",
       "    <tr>\n",
       "      <th>0</th>\n",
       "      <td>-DOCSTART-</td>\n",
       "      <td>-X-</td>\n",
       "      <td>-X-</td>\n",
       "      <td>O</td>\n",
       "      <td>0</td>\n",
       "    </tr>\n",
       "    <tr>\n",
       "      <th>2</th>\n",
       "      <td>EU</td>\n",
       "      <td>NNP</td>\n",
       "      <td>B-NP</td>\n",
       "      <td>B-ORG</td>\n",
       "      <td>1</td>\n",
       "    </tr>\n",
       "    <tr>\n",
       "      <th>3</th>\n",
       "      <td>rejects</td>\n",
       "      <td>VBZ</td>\n",
       "      <td>B-VP</td>\n",
       "      <td>O</td>\n",
       "      <td>1</td>\n",
       "    </tr>\n",
       "    <tr>\n",
       "      <th>4</th>\n",
       "      <td>German</td>\n",
       "      <td>JJ</td>\n",
       "      <td>B-NP</td>\n",
       "      <td>B-MISC</td>\n",
       "      <td>1</td>\n",
       "    </tr>\n",
       "    <tr>\n",
       "      <th>5</th>\n",
       "      <td>call</td>\n",
       "      <td>NN</td>\n",
       "      <td>I-NP</td>\n",
       "      <td>O</td>\n",
       "      <td>1</td>\n",
       "    </tr>\n",
       "  </tbody>\n",
       "</table>\n",
       "</div>"
      ],
      "text/plain": [
       "        TOKEN  POS CHUNK      NE  SENTENCE\n",
       "0  -DOCSTART-  -X-   -X-       O         0\n",
       "2          EU  NNP  B-NP   B-ORG         1\n",
       "3     rejects  VBZ  B-VP       O         1\n",
       "4      German   JJ  B-NP  B-MISC         1\n",
       "5        call   NN  I-NP       O         1"
      ]
     },
     "execution_count": 5,
     "metadata": {},
     "output_type": "execute_result"
    }
   ],
   "source": [
    "train_df.head()"
   ]
  },
  {
   "cell_type": "code",
   "execution_count": 6,
   "metadata": {
    "ExecuteTime": {
     "end_time": "2020-07-01T18:58:24.839892Z",
     "start_time": "2020-07-01T18:58:24.820469Z"
    }
   },
   "outputs": [
    {
     "data": {
      "text/plain": [
       "array(['O', 'B-ORG', 'B-MISC', 'B-PER', 'I-PER', 'B-LOC', 'I-ORG',\n",
       "       'I-MISC', 'I-LOC'], dtype=object)"
      ]
     },
     "execution_count": 6,
     "metadata": {},
     "output_type": "execute_result"
    }
   ],
   "source": [
    "train_df.NE.unique()"
   ]
  },
  {
   "cell_type": "markdown",
   "metadata": {},
   "source": [
    "I-TYPE  means that the word is inside a phrase <br>B-TYPE means that the word starts a new phrase."
   ]
  },
  {
   "cell_type": "markdown",
   "metadata": {
    "colab_type": "text",
    "id": "Dt8U2DEdgpV4"
   },
   "source": [
    "## Part 2: Feature calculation\n",
    "\n",
    "**In order to learn named entity recognition using RNNs, we must transform our input and output into numeric vectors by calculating relevant features. For our basic NER algorithm, we will simply use word indices as input and one-hot embeddings of NER tags as output.**\n",
    "\n",
    "### Questions:\n",
    "\n",
    "#### 3. Save a list of the 5000 most common word tokens (values from column 'TOKEN') in our training data as a list 'vocab', and save a list of all unique entity tags (values from column 'NE') as a list 'ne_tags'. \n"
   ]
  },
  {
   "cell_type": "code",
   "execution_count": 7,
   "metadata": {
    "ExecuteTime": {
     "end_time": "2020-07-01T18:58:24.911596Z",
     "start_time": "2020-07-01T18:58:24.841403Z"
    }
   },
   "outputs": [
    {
     "data": {
      "text/plain": [
       "['O', 'B-ORG', 'B-MISC', 'B-PER', 'I-PER', 'B-LOC', 'I-ORG', 'I-MISC', 'I-LOC']"
      ]
     },
     "execution_count": 7,
     "metadata": {},
     "output_type": "execute_result"
    }
   ],
   "source": [
    "vocab = list(train_df.TOKEN.value_counts(ascending=False)[:5000].index)\n",
    "ne_tags = list(train_df.NE.unique())\n",
    "ne_tags"
   ]
  },
  {
   "cell_type": "markdown",
   "metadata": {},
   "source": [
    "#### 4. Create a function token2index(token) that takes in the value of a word token and returns a unique integer. It should return 1 for any token which is not found in 'vocab' (i.e. which is out-of-vocabulary) and a number >= 2 for every token found in 'vocab'.\n"
   ]
  },
  {
   "cell_type": "code",
   "execution_count": 8,
   "metadata": {
    "ExecuteTime": {
     "end_time": "2020-07-01T18:58:24.922305Z",
     "start_time": "2020-07-01T18:58:24.913745Z"
    }
   },
   "outputs": [
    {
     "data": {
      "text/plain": [
       "(2, 1)"
      ]
     },
     "execution_count": 8,
     "metadata": {},
     "output_type": "execute_result"
    }
   ],
   "source": [
    "def token2index(token):\n",
    "    if token not in (vocab):\n",
    "        return 1\n",
    "    else:\n",
    "        return vocab.index(token)+2\n",
    "    \n",
    "#function check\n",
    "token2index('.'),token2index('token')"
   ]
  },
  {
   "cell_type": "markdown",
   "metadata": {},
   "source": [
    "#### 5. Create a function ne_tag2index(ne_tag) which returns a unique integer >= 1 for every entity tag.\n"
   ]
  },
  {
   "cell_type": "code",
   "execution_count": 9,
   "metadata": {
    "ExecuteTime": {
     "end_time": "2020-07-01T18:58:24.930663Z",
     "start_time": "2020-07-01T18:58:24.923970Z"
    }
   },
   "outputs": [
    {
     "data": {
      "text/plain": [
       "(1, 2)"
      ]
     },
     "execution_count": 9,
     "metadata": {},
     "output_type": "execute_result"
    }
   ],
   "source": [
    "def ne_tag2index(ne_tag):\n",
    "    return ne_tags.index(ne_tag)+1\n",
    "\n",
    "#function check\n",
    "ne_tag2index('O'), ne_tag2index('B-ORG') "
   ]
  },
  {
   "cell_type": "markdown",
   "metadata": {},
   "source": [
    "#### 6. Add new columns 'token_index' and 'ne_index' to the CoNLL data DataFrames containing the values of token2index() and ne_tag2index() for each token and entity tag.\n"
   ]
  },
  {
   "cell_type": "code",
   "execution_count": 10,
   "metadata": {
    "ExecuteTime": {
     "end_time": "2020-07-01T18:58:33.724294Z",
     "start_time": "2020-07-01T18:58:24.932011Z"
    }
   },
   "outputs": [
    {
     "data": {
      "text/html": [
       "<div>\n",
       "<style scoped>\n",
       "    .dataframe tbody tr th:only-of-type {\n",
       "        vertical-align: middle;\n",
       "    }\n",
       "\n",
       "    .dataframe tbody tr th {\n",
       "        vertical-align: top;\n",
       "    }\n",
       "\n",
       "    .dataframe thead th {\n",
       "        text-align: right;\n",
       "    }\n",
       "</style>\n",
       "<table border=\"1\" class=\"dataframe\">\n",
       "  <thead>\n",
       "    <tr style=\"text-align: right;\">\n",
       "      <th></th>\n",
       "      <th>TOKEN</th>\n",
       "      <th>POS</th>\n",
       "      <th>CHUNK</th>\n",
       "      <th>NE</th>\n",
       "      <th>SENTENCE</th>\n",
       "      <th>token_index</th>\n",
       "      <th>ne_index</th>\n",
       "    </tr>\n",
       "  </thead>\n",
       "  <tbody>\n",
       "    <tr>\n",
       "      <th>0</th>\n",
       "      <td>-DOCSTART-</td>\n",
       "      <td>-X-</td>\n",
       "      <td>-X-</td>\n",
       "      <td>O</td>\n",
       "      <td>0</td>\n",
       "      <td>22</td>\n",
       "      <td>1</td>\n",
       "    </tr>\n",
       "    <tr>\n",
       "      <th>2</th>\n",
       "      <td>SOCCER</td>\n",
       "      <td>NN</td>\n",
       "      <td>B-NP</td>\n",
       "      <td>O</td>\n",
       "      <td>1</td>\n",
       "      <td>126</td>\n",
       "      <td>1</td>\n",
       "    </tr>\n",
       "    <tr>\n",
       "      <th>3</th>\n",
       "      <td>-</td>\n",
       "      <td>:</td>\n",
       "      <td>O</td>\n",
       "      <td>O</td>\n",
       "      <td>1</td>\n",
       "      <td>18</td>\n",
       "      <td>1</td>\n",
       "    </tr>\n",
       "    <tr>\n",
       "      <th>4</th>\n",
       "      <td>JAPAN</td>\n",
       "      <td>NNP</td>\n",
       "      <td>B-NP</td>\n",
       "      <td>B-LOC</td>\n",
       "      <td>1</td>\n",
       "      <td>1</td>\n",
       "      <td>6</td>\n",
       "    </tr>\n",
       "    <tr>\n",
       "      <th>5</th>\n",
       "      <td>GET</td>\n",
       "      <td>VB</td>\n",
       "      <td>B-VP</td>\n",
       "      <td>O</td>\n",
       "      <td>1</td>\n",
       "      <td>1</td>\n",
       "      <td>1</td>\n",
       "    </tr>\n",
       "    <tr>\n",
       "      <th>...</th>\n",
       "      <td>...</td>\n",
       "      <td>...</td>\n",
       "      <td>...</td>\n",
       "      <td>...</td>\n",
       "      <td>...</td>\n",
       "      <td>...</td>\n",
       "      <td>...</td>\n",
       "    </tr>\n",
       "    <tr>\n",
       "      <th>50344</th>\n",
       "      <td>younger</td>\n",
       "      <td>JJR</td>\n",
       "      <td>I-NP</td>\n",
       "      <td>O</td>\n",
       "      <td>3683</td>\n",
       "      <td>1</td>\n",
       "      <td>1</td>\n",
       "    </tr>\n",
       "    <tr>\n",
       "      <th>50345</th>\n",
       "      <td>brother</td>\n",
       "      <td>NN</td>\n",
       "      <td>I-NP</td>\n",
       "      <td>O</td>\n",
       "      <td>3683</td>\n",
       "      <td>1</td>\n",
       "      <td>1</td>\n",
       "    </tr>\n",
       "    <tr>\n",
       "      <th>50346</th>\n",
       "      <td>,</td>\n",
       "      <td>,</td>\n",
       "      <td>O</td>\n",
       "      <td>O</td>\n",
       "      <td>3683</td>\n",
       "      <td>3</td>\n",
       "      <td>1</td>\n",
       "    </tr>\n",
       "    <tr>\n",
       "      <th>50347</th>\n",
       "      <td>Bobby</td>\n",
       "      <td>NNP</td>\n",
       "      <td>B-NP</td>\n",
       "      <td>B-PER</td>\n",
       "      <td>3683</td>\n",
       "      <td>4343</td>\n",
       "      <td>4</td>\n",
       "    </tr>\n",
       "    <tr>\n",
       "      <th>50348</th>\n",
       "      <td>.</td>\n",
       "      <td>.</td>\n",
       "      <td>O</td>\n",
       "      <td>O</td>\n",
       "      <td>3683</td>\n",
       "      <td>2</td>\n",
       "      <td>1</td>\n",
       "    </tr>\n",
       "  </tbody>\n",
       "</table>\n",
       "<p>46666 rows × 7 columns</p>\n",
       "</div>"
      ],
      "text/plain": [
       "            TOKEN  POS CHUNK     NE  SENTENCE  token_index  ne_index\n",
       "0      -DOCSTART-  -X-   -X-      O         0           22         1\n",
       "2          SOCCER   NN  B-NP      O         1          126         1\n",
       "3               -    :     O      O         1           18         1\n",
       "4           JAPAN  NNP  B-NP  B-LOC         1            1         6\n",
       "5             GET   VB  B-VP      O         1            1         1\n",
       "...           ...  ...   ...    ...       ...          ...       ...\n",
       "50344     younger  JJR  I-NP      O      3683            1         1\n",
       "50345     brother   NN  I-NP      O      3683            1         1\n",
       "50346           ,    ,     O      O      3683            3         1\n",
       "50347       Bobby  NNP  B-NP  B-PER      3683         4343         4\n",
       "50348           .    .     O      O      3683            2         1\n",
       "\n",
       "[46666 rows x 7 columns]"
      ]
     },
     "execution_count": 10,
     "metadata": {},
     "output_type": "execute_result"
    }
   ],
   "source": [
    "train_df['token_index'] = train_df['TOKEN'].apply(token2index)\n",
    "valid_df['token_index'] = valid_df['TOKEN'].apply(token2index)\n",
    "test_df['token_index'] = test_df['TOKEN'].apply(token2index)\n",
    "\n",
    "train_df['ne_index'] = train_df['NE'].apply(ne_tag2index)\n",
    "valid_df['ne_index'] = valid_df['NE'].apply(ne_tag2index)\n",
    "test_df['ne_index'] = test_df['NE'].apply(ne_tag2index)\n",
    "test_df"
   ]
  },
  {
   "cell_type": "markdown",
   "metadata": {},
   "source": [
    "#### 7. Generate training data feature matrix X_train of size (14987, 50) as follows:\n",
    "  * <b>Use train_df.groupby('SENTENCE').token_index.apply(list) to get a list of lists of token indices, one list for each sentence.\n",
    "  * Use pad_sequences() from keras.preprocessing.sequence to pad every list of token indices with the value '0' at the beginning so they are all of length 50.</b>\n"
   ]
  },
  {
   "cell_type": "code",
   "execution_count": 11,
   "metadata": {
    "ExecuteTime": {
     "end_time": "2020-07-01T18:58:33.727181Z",
     "start_time": "2020-07-01T18:58:33.725482Z"
    }
   },
   "outputs": [],
   "source": [
    "maxlen=50\n"
   ]
  },
  {
   "cell_type": "code",
   "execution_count": 12,
   "metadata": {
    "ExecuteTime": {
     "end_time": "2020-07-01T18:58:35.237187Z",
     "start_time": "2020-07-01T18:58:33.728700Z"
    }
   },
   "outputs": [
    {
     "data": {
      "text/plain": [
       "(14987, 50)"
      ]
     },
     "execution_count": 12,
     "metadata": {},
     "output_type": "execute_result"
    }
   ],
   "source": [
    "X_group = train_df.groupby('SENTENCE').token_index.apply(list)\n",
    "X_train = pad_sequences(X_group, maxlen=maxlen, padding='pre', value=0)\n",
    "X_train.shape"
   ]
  },
  {
   "cell_type": "markdown",
   "metadata": {},
   "source": [
    "#### 8. Generate output data feature matrix Y_train of size (14987, 50, 10) by applying the same method to the entity token indices (column 'ne_index'), and then one-hot encoding using to_categorical() from keras.utils.\n"
   ]
  },
  {
   "cell_type": "code",
   "execution_count": 13,
   "metadata": {
    "ExecuteTime": {
     "end_time": "2020-07-01T18:58:36.990576Z",
     "start_time": "2020-07-01T18:58:35.238579Z"
    }
   },
   "outputs": [
    {
     "data": {
      "text/plain": [
       "(14987, 50, 10)"
      ]
     },
     "execution_count": 13,
     "metadata": {},
     "output_type": "execute_result"
    }
   ],
   "source": [
    "Y_group = train_df.groupby('SENTENCE').ne_index.apply(list)\n",
    "Y_pad = pad_sequences(Y_group,maxlen=maxlen, padding='pre', value=0).tolist()\n",
    "Y_train = to_categorical(Y_pad, num_classes=10)\n",
    "Y_train.shape"
   ]
  },
  {
   "cell_type": "markdown",
   "metadata": {},
   "source": [
    "#### 9. Apply 7-8 on the validation and testing data as well to generate matrices X_valid, Y_valid, X_test, Y_test.\n",
    "\n",
    "X_valid"
   ]
  },
  {
   "cell_type": "code",
   "execution_count": 14,
   "metadata": {
    "ExecuteTime": {
     "end_time": "2020-07-01T18:58:37.407580Z",
     "start_time": "2020-07-01T18:58:36.992003Z"
    }
   },
   "outputs": [
    {
     "data": {
      "text/plain": [
       "(3466, 50)"
      ]
     },
     "execution_count": 14,
     "metadata": {},
     "output_type": "execute_result"
    }
   ],
   "source": [
    "X_group_valid = valid_df.groupby('SENTENCE').token_index.apply(list)\n",
    "X_valid = pad_sequences(X_group_valid, maxlen=maxlen, padding='pre', value=0)\n",
    "X_valid.shape"
   ]
  },
  {
   "cell_type": "markdown",
   "metadata": {},
   "source": [
    "Y_valid"
   ]
  },
  {
   "cell_type": "code",
   "execution_count": 15,
   "metadata": {
    "ExecuteTime": {
     "end_time": "2020-07-01T18:58:37.823496Z",
     "start_time": "2020-07-01T18:58:37.409365Z"
    }
   },
   "outputs": [
    {
     "data": {
      "text/plain": [
       "(3466, 50, 10)"
      ]
     },
     "execution_count": 15,
     "metadata": {},
     "output_type": "execute_result"
    }
   ],
   "source": [
    "Y_group_valid = valid_df.groupby('SENTENCE').ne_index.apply(list)\n",
    "Y_pad_valid = pad_sequences(Y_group_valid,maxlen=maxlen, padding='pre', value=0).tolist()\n",
    "Y_valid = to_categorical(Y_pad_valid, num_classes=Y_train.shape[2])\n",
    "Y_valid.shape"
   ]
  },
  {
   "cell_type": "markdown",
   "metadata": {},
   "source": [
    "X_test"
   ]
  },
  {
   "cell_type": "code",
   "execution_count": 16,
   "metadata": {
    "ExecuteTime": {
     "end_time": "2020-07-01T18:58:38.206731Z",
     "start_time": "2020-07-01T18:58:37.824669Z"
    }
   },
   "outputs": [
    {
     "data": {
      "text/plain": [
       "(3684, 50)"
      ]
     },
     "execution_count": 16,
     "metadata": {},
     "output_type": "execute_result"
    }
   ],
   "source": [
    "X_group_test = test_df.groupby('SENTENCE').token_index.apply(list)\n",
    "X_test = pad_sequences(X_group_test, maxlen=maxlen, padding='pre', value=0)\n",
    "X_test.shape"
   ]
  },
  {
   "cell_type": "markdown",
   "metadata": {},
   "source": [
    "Y_test"
   ]
  },
  {
   "cell_type": "code",
   "execution_count": 17,
   "metadata": {
    "ExecuteTime": {
     "end_time": "2020-07-01T18:58:38.802663Z",
     "start_time": "2020-07-01T18:58:38.210453Z"
    }
   },
   "outputs": [
    {
     "data": {
      "text/plain": [
       "(3684, 50, 10)"
      ]
     },
     "execution_count": 17,
     "metadata": {},
     "output_type": "execute_result"
    }
   ],
   "source": [
    "Y_group_test = test_df.groupby('SENTENCE').ne_index.apply(list)\n",
    "Y_pad_test = pad_sequences(Y_group_test,maxlen=maxlen, padding='pre', value=0).tolist()\n",
    "Y_test = to_categorical(Y_pad_test, num_classes=Y_train.shape[2])\n",
    "Y_test.shape"
   ]
  },
  {
   "cell_type": "markdown",
   "metadata": {
    "colab_type": "text",
    "id": "GhYllqeCrrCE"
   },
   "source": [
    "## Part 3: Building and training the model\n",
    "\n",
    "**Now we are ready to build our network that will predict NER tags from the inputted words. The architecture will be roughly similar to our previous exercise on RNNs.**\n",
    "\n",
    "**The following imports will help you:**"
   ]
  },
  {
   "cell_type": "markdown",
   "metadata": {
    "colab_type": "text",
    "id": "Q4VXf9qRt9oy"
   },
   "source": [
    "### Questions:\n",
    "\n",
    "#### 10. Build a sequential model 'model', and add the following layers with *model.add()*:\n",
    "  * <b>Embedding -- use embedding dimension 200, and make sure to set *input_length = 50* and *mask_zero = True* (to ignore the padding indices).\n",
    "  * LSTM -- use hidden state dimension 128, and return the hidden state at each time step (*return_sequences = True*)\n",
    "  * Fully-connected layer (*Dense()*) with softmax activation. Make sure that this is wrapped in *TimeDistributed()* so that it is applied to the output of our LSTM at each time step. Hint: The output dimension of *Dense* is the number of possible output labels, including the padding label '0'.\n",
    "\n",
    "  Compile the model (*model.compile()*) with loss function 'categorical_crossentropy' and optimizer 'adam', and print a summary of the model (*model.summary()*). What is the expected shape of input for the model? (Hint: see *model.input_shape*, where *None* means that any number is allowed.)</b>\n"
   ]
  },
  {
   "cell_type": "code",
   "execution_count": 18,
   "metadata": {
    "ExecuteTime": {
     "end_time": "2020-07-01T18:58:38.808977Z",
     "start_time": "2020-07-01T18:58:38.803968Z"
    }
   },
   "outputs": [],
   "source": [
    "# len(vocab)+2,X_train.max()+1  (5002, 5002)"
   ]
  },
  {
   "cell_type": "code",
   "execution_count": 19,
   "metadata": {
    "ExecuteTime": {
     "end_time": "2020-07-01T18:58:39.272114Z",
     "start_time": "2020-07-01T18:58:38.812681Z"
    }
   },
   "outputs": [
    {
     "data": {
      "text/plain": [
       "((None, 50), (None, 50, 10))"
      ]
     },
     "execution_count": 19,
     "metadata": {},
     "output_type": "execute_result"
    }
   ],
   "source": [
    "def get_model(flag=False):\n",
    "    model = Sequential()\n",
    "\n",
    "    model.add(Embedding(input_dim=len(vocab)+2, \n",
    "                        output_dim=200, \n",
    "                        input_length = maxlen,\n",
    "                        mask_zero = True,\n",
    "                        name =\"layer1\"))\n",
    "    if not flag:\n",
    "\n",
    "        model.add(LSTM(128, \n",
    "                  return_sequences = True,\n",
    "                  name=\"layer2\"))\n",
    "    else:\n",
    "        model.add(Bidirectional(LSTM(128, \n",
    "                                     return_sequences=True,\n",
    "                                     name=\"layer2\")))\n",
    "\n",
    "    model.add(TimeDistributed(Dense(Y_train.shape[2],\n",
    "                                    activation = \"softmax\",\n",
    "                                    name =\"layer3\")))\n",
    "    return model\n",
    "\n",
    "model = get_model()\n",
    "model.compile(optimizer='adam', loss='categorical_crossentropy')\n",
    "\n",
    "model.input_shape, model.output_shape"
   ]
  },
  {
   "cell_type": "code",
   "execution_count": 20,
   "metadata": {
    "ExecuteTime": {
     "end_time": "2020-07-01T18:58:39.301330Z",
     "start_time": "2020-07-01T18:58:39.283625Z"
    }
   },
   "outputs": [
    {
     "name": "stdout",
     "output_type": "stream",
     "text": [
      "Model: \"sequential_1\"\n",
      "_________________________________________________________________\n",
      "Layer (type)                 Output Shape              Param #   \n",
      "=================================================================\n",
      "layer1 (Embedding)           (None, 50, 200)           1000400   \n",
      "_________________________________________________________________\n",
      "layer2 (LSTM)                (None, 50, 128)           168448    \n",
      "_________________________________________________________________\n",
      "time_distributed_1 (TimeDist (None, 50, 10)            1290      \n",
      "=================================================================\n",
      "Total params: 1,170,138\n",
      "Trainable params: 1,170,138\n",
      "Non-trainable params: 0\n",
      "_________________________________________________________________\n"
     ]
    }
   ],
   "source": [
    "model.summary()"
   ]
  },
  {
   "cell_type": "markdown",
   "metadata": {},
   "source": [
    "#### 11. Run the code below in (A) to train the model, changing the number of epochs so the model learns until it starts overfitting. \n"
   ]
  },
  {
   "cell_type": "code",
   "execution_count": 21,
   "metadata": {
    "ExecuteTime": {
     "end_time": "2020-07-01T19:01:12.187820Z",
     "start_time": "2020-07-01T18:58:39.307879Z"
    },
    "colab": {},
    "colab_type": "code",
    "id": "16f1A0w_zL-k"
   },
   "outputs": [
    {
     "name": "stderr",
     "output_type": "stream",
     "text": [
      "/home/gal/anaconda3/lib/python3.6/site-packages/tensorflow/python/framework/indexed_slices.py:434: UserWarning: Converting sparse IndexedSlices to a dense Tensor of unknown shape. This may consume a large amount of memory.\n",
      "  \"Converting sparse IndexedSlices to a dense Tensor of unknown shape. \"\n"
     ]
    },
    {
     "name": "stdout",
     "output_type": "stream",
     "text": [
      "Train on 14987 samples, validate on 3466 samples\n",
      "Epoch 1/4\n",
      "14987/14987 [==============================] - 35s 2ms/step - loss: 0.2435 - val_loss: 0.1580\n",
      "Epoch 2/4\n",
      "14987/14987 [==============================] - 26s 2ms/step - loss: 0.1128 - val_loss: 0.1078\n",
      "Epoch 3/4\n",
      "14987/14987 [==============================] - 42s 3ms/step - loss: 0.0778 - val_loss: 0.0806\n",
      "Epoch 4/4\n",
      "14987/14987 [==============================] - 49s 3ms/step - loss: 0.0540 - val_loss: 0.0682\n"
     ]
    },
    {
     "data": {
      "text/plain": [
       "<keras.callbacks.callbacks.History at 0x7fbf080cb9b0>"
      ]
     },
     "execution_count": 21,
     "metadata": {},
     "output_type": "execute_result"
    }
   ],
   "source": [
    "## (A) - for question 11\n",
    "model.fit(X_train, Y_train, \n",
    "          epochs = 4, \n",
    "          batch_size = 128, \n",
    "          validation_data = (X_valid, Y_valid))"
   ]
  },
  {
   "cell_type": "code",
   "execution_count": 22,
   "metadata": {
    "ExecuteTime": {
     "end_time": "2020-07-01T19:07:42.177414Z",
     "start_time": "2020-07-01T19:01:12.196007Z"
    },
    "scrolled": false
   },
   "outputs": [
    {
     "name": "stdout",
     "output_type": "stream",
     "text": [
      "Train on 14987 samples, validate on 3466 samples\n",
      "Epoch 1/10\n",
      "14987/14987 [==============================] - 45s 3ms/step - loss: 0.2420 - val_loss: 0.1588\n",
      "Epoch 2/10\n",
      "14987/14987 [==============================] - 38s 3ms/step - loss: 0.1139 - val_loss: 0.1111\n",
      "Epoch 3/10\n",
      "14987/14987 [==============================] - 46s 3ms/step - loss: 0.0811 - val_loss: 0.0810\n",
      "Epoch 4/10\n",
      "14987/14987 [==============================] - 48s 3ms/step - loss: 0.0549 - val_loss: 0.0660\n",
      "Epoch 5/10\n",
      "14987/14987 [==============================] - 44s 3ms/step - loss: 0.0438 - val_loss: 0.0608\n",
      "Epoch 6/10\n",
      "14987/14987 [==============================] - 38s 3ms/step - loss: 0.0384 - val_loss: 0.0594\n",
      "Epoch 7/10\n",
      "14987/14987 [==============================] - 37s 2ms/step - loss: 0.0350 - val_loss: 0.0612\n",
      "Epoch 8/10\n",
      "14987/14987 [==============================] - 38s 3ms/step - loss: 0.0323 - val_loss: 0.0599\n",
      "Epoch 9/10\n",
      "14987/14987 [==============================] - 27s 2ms/step - loss: 0.0305 - val_loss: 0.0598\n",
      "Epoch 10/10\n",
      "14987/14987 [==============================] - 27s 2ms/step - loss: 0.0286 - val_loss: 0.0632\n"
     ]
    }
   ],
   "source": [
    "model1 = get_model()\n",
    "model1.compile(optimizer='adam', loss='categorical_crossentropy')\n",
    "history = model1.fit(X_train, Y_train, \n",
    "          epochs = 10, \n",
    "          batch_size = 128, \n",
    "          validation_data = (X_valid, Y_valid))"
   ]
  },
  {
   "cell_type": "markdown",
   "metadata": {},
   "source": [
    "#### How many epochs did you use for training (until it starts overfitting)?"
   ]
  },
  {
   "cell_type": "code",
   "execution_count": 23,
   "metadata": {
    "ExecuteTime": {
     "end_time": "2020-07-01T19:07:42.430250Z",
     "start_time": "2020-07-01T19:07:42.189857Z"
    },
    "scrolled": true
   },
   "outputs": [
    {
     "data": {
      "image/png": "[encoded data removed]",
      "text/plain": [
       "<Figure size 1080x288 with 1 Axes>"
      ]
     },
     "metadata": {
      "needs_background": "light"
     },
     "output_type": "display_data"
    }
   ],
   "source": [
    "#plot the loss\n",
    "plt.figure(figsize=(15,4))\n",
    "plt.plot(history.history['loss'],'r', label='loss')\n",
    "plt.plot(history.history['val_loss'],'g--', label = 'val_loss')\n",
    "plt.xticks(range(0,11,1))\n",
    "plt.xlim(0,10)\n",
    "plt.xlabel('Epoch')\n",
    "plt.ylabel('loss')\n",
    "plt.title('The loss vs val_loss LSTM ')\n",
    "plt.legend(loc='best');"
   ]
  },
  {
   "cell_type": "markdown",
   "metadata": {},
   "source": [
    "We used 10 epoch for training the model: on the plot above overfitting appears in the point 3-4 epoch"
   ]
  },
  {
   "cell_type": "markdown",
   "metadata": {},
   "source": [
    "#### 12. Create a model *model2* that is the same as *model* but with the LSTM layer wrapped by *Bidirectional()*, so the model becomes a BiLSTM model. "
   ]
  },
  {
   "cell_type": "code",
   "execution_count": 24,
   "metadata": {
    "ExecuteTime": {
     "end_time": "2020-07-01T19:07:42.690043Z",
     "start_time": "2020-07-01T19:07:42.432844Z"
    }
   },
   "outputs": [
    {
     "data": {
      "text/plain": [
       "((None, 50), (None, 50, 10))"
      ]
     },
     "execution_count": 24,
     "metadata": {},
     "output_type": "execute_result"
    }
   ],
   "source": [
    "model2 = get_model(flag=True)\n",
    "\n",
    "model2.input_shape, model2.output_shape"
   ]
  },
  {
   "cell_type": "code",
   "execution_count": 25,
   "metadata": {
    "ExecuteTime": {
     "end_time": "2020-07-01T19:07:42.697836Z",
     "start_time": "2020-07-01T19:07:42.691777Z"
    }
   },
   "outputs": [
    {
     "name": "stdout",
     "output_type": "stream",
     "text": [
      "Model: \"sequential_3\"\n",
      "_________________________________________________________________\n",
      "Layer (type)                 Output Shape              Param #   \n",
      "=================================================================\n",
      "layer1 (Embedding)           (None, 50, 200)           1000400   \n",
      "_________________________________________________________________\n",
      "bidirectional_1 (Bidirection (None, 50, 256)           336896    \n",
      "_________________________________________________________________\n",
      "time_distributed_3 (TimeDist (None, 50, 10)            2570      \n",
      "=================================================================\n",
      "Total params: 1,339,866\n",
      "Trainable params: 1,339,866\n",
      "Non-trainable params: 0\n",
      "_________________________________________________________________\n"
     ]
    }
   ],
   "source": [
    "model2.summary()"
   ]
  },
  {
   "cell_type": "code",
   "execution_count": 26,
   "metadata": {
    "ExecuteTime": {
     "end_time": "2020-07-01T19:18:17.988109Z",
     "start_time": "2020-07-01T19:07:42.699685Z"
    },
    "scrolled": false
   },
   "outputs": [
    {
     "name": "stderr",
     "output_type": "stream",
     "text": [
      "/home/gal/anaconda3/lib/python3.6/site-packages/tensorflow/python/framework/indexed_slices.py:434: UserWarning: Converting sparse IndexedSlices to a dense Tensor of unknown shape. This may consume a large amount of memory.\n",
      "  \"Converting sparse IndexedSlices to a dense Tensor of unknown shape. \"\n"
     ]
    },
    {
     "name": "stdout",
     "output_type": "stream",
     "text": [
      "Train on 14987 samples, validate on 3466 samples\n",
      "Epoch 1/10\n",
      "14987/14987 [==============================] - 51s 3ms/step - loss: 0.2257 - val_loss: 0.1460\n",
      "Epoch 2/10\n",
      "14987/14987 [==============================] - 79s 5ms/step - loss: 0.1010 - val_loss: 0.0926\n",
      "Epoch 3/10\n",
      "14987/14987 [==============================] - 62s 4ms/step - loss: 0.0568 - val_loss: 0.0637\n",
      "Epoch 4/10\n",
      "14987/14987 [==============================] - 58s 4ms/step - loss: 0.0379 - val_loss: 0.0551\n",
      "Epoch 5/10\n",
      "14987/14987 [==============================] - 63s 4ms/step - loss: 0.0296 - val_loss: 0.0578\n",
      "Epoch 6/10\n",
      "14987/14987 [==============================] - 65s 4ms/step - loss: 0.0248 - val_loss: 0.0482\n",
      "Epoch 7/10\n",
      "14987/14987 [==============================] - 57s 4ms/step - loss: 0.0208 - val_loss: 0.0504\n",
      "Epoch 8/10\n",
      "14987/14987 [==============================] - 52s 3ms/step - loss: 0.0176 - val_loss: 0.0502\n",
      "Epoch 9/10\n",
      "14987/14987 [==============================] - 75s 5ms/step - loss: 0.0154 - val_loss: 0.0491\n",
      "Epoch 10/10\n",
      "14987/14987 [==============================] - 70s 5ms/step - loss: 0.0136 - val_loss: 0.0525\n"
     ]
    }
   ],
   "source": [
    "model2.compile(optimizer='adam', loss='categorical_crossentropy')\n",
    "history2 = model2.fit(X_train, Y_train, \n",
    "                      epochs = 10, \n",
    "                      batch_size = 128, \n",
    "                      validation_data = (X_valid, Y_valid))"
   ]
  },
  {
   "cell_type": "markdown",
   "metadata": {},
   "source": [
    "#### How does this change the final validation loss? \n"
   ]
  },
  {
   "cell_type": "code",
   "execution_count": 27,
   "metadata": {
    "ExecuteTime": {
     "end_time": "2020-07-01T19:18:18.201726Z",
     "start_time": "2020-07-01T19:18:17.990587Z"
    }
   },
   "outputs": [
    {
     "data": {
      "image/png": "[encoded data removed]",
      "text/plain": [
       "<Figure size 1080x288 with 1 Axes>"
      ]
     },
     "metadata": {
      "needs_background": "light"
     },
     "output_type": "display_data"
    }
   ],
   "source": [
    "#plot the loss\n",
    "plt.figure(figsize=(15,4))\n",
    "plt.plot(history2.history['loss'],'r', label='loss')\n",
    "plt.plot(history2.history['val_loss'],'g--', label = 'val_loss')\n",
    "plt.xticks(range(0,11,1))\n",
    "plt.xlim(0,10)\n",
    "plt.xlabel('Epoch')\n",
    "plt.ylabel('loss')\n",
    "plt.title('The loss vs val_loss Bidirectional LSTM')\n",
    "plt.legend(loc='best');"
   ]
  },
  {
   "cell_type": "markdown",
   "metadata": {},
   "source": [
    "#### Does the model improve?"
   ]
  },
  {
   "cell_type": "markdown",
   "metadata": {},
   "source": [
    "No, we got the same difference in values loss vs val_loss  and the model still overfitting in the point 3-4 epoch"
   ]
  },
  {
   "cell_type": "markdown",
   "metadata": {},
   "source": [
    "#### 13. Compare the performance of the two models on the test set data X_test and Y_test (Hint: use model.evaluate())."
   ]
  },
  {
   "cell_type": "code",
   "execution_count": 28,
   "metadata": {
    "ExecuteTime": {
     "end_time": "2020-07-01T19:18:20.755194Z",
     "start_time": "2020-07-01T19:18:18.203827Z"
    }
   },
   "outputs": [
    {
     "name": "stdout",
     "output_type": "stream",
     "text": [
      "3684/3684 [==============================] - 3s 690us/step\n"
     ]
    },
    {
     "data": {
      "text/plain": [
       "0.07203169134683123"
      ]
     },
     "execution_count": 28,
     "metadata": {},
     "output_type": "execute_result"
    }
   ],
   "source": [
    "model1.evaluate(X_test, Y_test, batch_size=128)"
   ]
  },
  {
   "cell_type": "code",
   "execution_count": 29,
   "metadata": {
    "ExecuteTime": {
     "end_time": "2020-07-01T19:18:23.979523Z",
     "start_time": "2020-07-01T19:18:20.762638Z"
    }
   },
   "outputs": [
    {
     "name": "stdout",
     "output_type": "stream",
     "text": [
      "3684/3684 [==============================] - 3s 870us/step\n"
     ]
    },
    {
     "data": {
      "text/plain": [
       "0.06587858334685252"
      ]
     },
     "execution_count": 29,
     "metadata": {},
     "output_type": "execute_result"
    }
   ],
   "source": [
    "model2.evaluate(X_test, Y_test, batch_size=128)"
   ]
  },
  {
   "cell_type": "markdown",
   "metadata": {},
   "source": [
    "Well, we see, that model2, Bidirectional LSTM, shows better results in loss metric, but not so much"
   ]
  },
  {
   "cell_type": "markdown",
   "metadata": {
    "colab_type": "text",
    "id": "F0q7o8wJzUOb"
   },
   "source": [
    "## Bonus 1: Running on custom input\n",
    "\n"
   ]
  },
  {
   "cell_type": "code",
   "execution_count": 30,
   "metadata": {
    "ExecuteTime": {
     "end_time": "2020-07-01T19:18:23.986272Z",
     "start_time": "2020-07-01T19:18:23.981822Z"
    },
    "colab": {},
    "colab_type": "code",
    "id": "5dXPLnjyzV7z"
   },
   "outputs": [],
   "source": [
    "test_sentences = [\n",
    "  \"This is a test.\",\n",
    "  \"I live in the United States.\",\n",
    "  \"Israel is a country in the Middle East.\",\n",
    "  \"UK joins US in Gulf mission after Iran taunts American allies\",\n",
    "  \"The project was funded by the Portuguese Foundation for Science and Technology and the Israel Cancer Research Fund.\"\n",
    "]"
   ]
  },
  {
   "cell_type": "markdown",
   "metadata": {},
   "source": [
    "### Bonus question 1:\n",
    "\n",
    "#### What does your model predict as NER tags for the following test sentences?\n",
    "\n",
    "#### Hint: Try using the following pipeline on each sentence:\n",
    "\n",
    "* <b>Tokenize with nltk.word_tokenize()\n",
    "* Convert to array of indices with word2index() defined above\n",
    "* Pad to length 50 with pad_sequences() from Keras\n",
    "* Predict probabilities of NER tags with model2.predict()\n",
    "* Find maximum likelihood tags using np.argmax(), and ignore padding values</b>"
   ]
  },
  {
   "cell_type": "code",
   "execution_count": 31,
   "metadata": {
    "ExecuteTime": {
     "end_time": "2020-07-01T19:18:24.360237Z",
     "start_time": "2020-07-01T19:18:23.988436Z"
    }
   },
   "outputs": [],
   "source": [
    "tokens = []\n",
    "vectors = []\n",
    "for sent in (test_sentences):\n",
    "    token = nltk.word_tokenize(sent)\n",
    "    tokens.append(token)\n",
    "    vectors.append([token2index(w) for w in token])\n",
    "pad_seq = pad_sequences(vectors, maxlen=maxlen, padding='pre', value=0)\n",
    "pred = model2.predict(pad_seq)"
   ]
  },
  {
   "cell_type": "markdown",
   "metadata": {},
   "source": [
    "Convert to words and tags"
   ]
  },
  {
   "cell_type": "code",
   "execution_count": 32,
   "metadata": {
    "ExecuteTime": {
     "end_time": "2020-07-01T19:18:24.374796Z",
     "start_time": "2020-07-01T19:18:24.365684Z"
    },
    "scrolled": true
   },
   "outputs": [],
   "source": [
    "test_tags = []\n",
    "\n",
    "#range of the set's lengh\n",
    "for n in range(len(test_sentences)):\n",
    "    \n",
    "    #this list should be defined incide 1-st for-loop\n",
    "    sent_tags =[]\n",
    "    \n",
    "    # diff between padded and original sentences\n",
    "    word_indx = maxlen - len(tokens[n]) \n",
    "\n",
    "    #go by tokens ignoring zeros\n",
    "    for w in range(word_indx, len(pred[n])):\n",
    "        \n",
    "        #recover real tag index\n",
    "        pred_tags_idx = np.argmax(pred[n][w],axis=0) - 1\n",
    "        sent_tags.append(ne_tags[pred_tags_idx])\n",
    "    test_tags.append(sent_tags)"
   ]
  },
  {
   "cell_type": "code",
   "execution_count": 33,
   "metadata": {
    "ExecuteTime": {
     "end_time": "2020-07-01T19:18:24.383155Z",
     "start_time": "2020-07-01T19:18:24.376598Z"
    }
   },
   "outputs": [
    {
     "name": "stdout",
     "output_type": "stream",
     "text": [
      "This is a test . \n",
      " O , O , O , O , O \n",
      "\n",
      "I live in the United States . \n",
      " O , O , O , O , B-LOC , I-LOC , O \n",
      "\n",
      "Israel is a country in the Middle East . \n",
      " B-LOC , O , O , O , O , O , B-LOC , I-LOC , O \n",
      "\n",
      "UK joins US in Gulf mission after Iran taunts American allies \n",
      " B-LOC , O , B-LOC , O , B-LOC , O , O , B-LOC , O , B-MISC , I-LOC \n",
      "\n",
      "The project was funded by the Portuguese Foundation for Science and Technology and the Israel Cancer Research Fund . \n",
      " O , O , O , O , O , O , B-MISC , O , O , O , O , O , O , O , B-LOC , O , I-ORG , I-ORG , O \n",
      "\n"
     ]
    }
   ],
   "source": [
    "for i, ne in enumerate(test_tags):\n",
    "    print(\" \".join(tokens[i]),'\\n',\" , \".join(ne),'\\n')   "
   ]
  },
  {
   "cell_type": "markdown",
   "metadata": {
    "colab_type": "text",
    "id": "LuKz5eC8zXvj"
   },
   "source": [
    "## Bonus 2: Adding features\n",
    "\n",
    "### Bonus question 2:\n",
    "\n",
    "<b>In (B) below, add code to add a new column 'SHAPE' to the dataset. This column should represent the shape of the word token by:\n",
    "* Replacing all capital letters with 'X'\n",
    "* Replacing all lowercase letters with 'x'\n",
    "* Replacing all digits with 'd'\n",
    "\n",
    "For example, we should have the following:\n",
    "\n",
    "* 'house' => 'xxxxx'\n",
    "* 'Apple' => 'Xxxxx'\n",
    "* 'R2D2' => 'XdXd'\n",
    "* 'U.K.' => 'X.X.'\n",
    "\n",
    "Hint: for a Pandas series. you can use series.str.replace() to easily replace text.</b>"
   ]
  },
  {
   "cell_type": "code",
   "execution_count": 34,
   "metadata": {
    "ExecuteTime": {
     "end_time": "2020-07-01T19:18:25.370501Z",
     "start_time": "2020-07-01T19:18:24.385217Z"
    },
    "colab": {},
    "colab_type": "code",
    "id": "uLvg69DT0T6Q"
   },
   "outputs": [
    {
     "data": {
      "text/html": [
       "<div>\n",
       "<style scoped>\n",
       "    .dataframe tbody tr th:only-of-type {\n",
       "        vertical-align: middle;\n",
       "    }\n",
       "\n",
       "    .dataframe tbody tr th {\n",
       "        vertical-align: top;\n",
       "    }\n",
       "\n",
       "    .dataframe thead th {\n",
       "        text-align: right;\n",
       "    }\n",
       "</style>\n",
       "<table border=\"1\" class=\"dataframe\">\n",
       "  <thead>\n",
       "    <tr style=\"text-align: right;\">\n",
       "      <th></th>\n",
       "      <th>TOKEN</th>\n",
       "      <th>POS</th>\n",
       "      <th>CHUNK</th>\n",
       "      <th>NE</th>\n",
       "      <th>SENTENCE</th>\n",
       "      <th>token_index</th>\n",
       "      <th>ne_index</th>\n",
       "      <th>SHAPE</th>\n",
       "    </tr>\n",
       "  </thead>\n",
       "  <tbody>\n",
       "    <tr>\n",
       "      <th>0</th>\n",
       "      <td>-DOCSTART-</td>\n",
       "      <td>-X-</td>\n",
       "      <td>-X-</td>\n",
       "      <td>O</td>\n",
       "      <td>0</td>\n",
       "      <td>22</td>\n",
       "      <td>1</td>\n",
       "      <td>-XXXXXXXX-</td>\n",
       "    </tr>\n",
       "    <tr>\n",
       "      <th>2</th>\n",
       "      <td>SOCCER</td>\n",
       "      <td>NN</td>\n",
       "      <td>B-NP</td>\n",
       "      <td>O</td>\n",
       "      <td>1</td>\n",
       "      <td>126</td>\n",
       "      <td>1</td>\n",
       "      <td>XXXXXX</td>\n",
       "    </tr>\n",
       "    <tr>\n",
       "      <th>3</th>\n",
       "      <td>-</td>\n",
       "      <td>:</td>\n",
       "      <td>O</td>\n",
       "      <td>O</td>\n",
       "      <td>1</td>\n",
       "      <td>18</td>\n",
       "      <td>1</td>\n",
       "      <td>-</td>\n",
       "    </tr>\n",
       "    <tr>\n",
       "      <th>4</th>\n",
       "      <td>JAPAN</td>\n",
       "      <td>NNP</td>\n",
       "      <td>B-NP</td>\n",
       "      <td>B-LOC</td>\n",
       "      <td>1</td>\n",
       "      <td>1</td>\n",
       "      <td>6</td>\n",
       "      <td>XXXXX</td>\n",
       "    </tr>\n",
       "    <tr>\n",
       "      <th>5</th>\n",
       "      <td>GET</td>\n",
       "      <td>VB</td>\n",
       "      <td>B-VP</td>\n",
       "      <td>O</td>\n",
       "      <td>1</td>\n",
       "      <td>1</td>\n",
       "      <td>1</td>\n",
       "      <td>XXX</td>\n",
       "    </tr>\n",
       "    <tr>\n",
       "      <th>...</th>\n",
       "      <td>...</td>\n",
       "      <td>...</td>\n",
       "      <td>...</td>\n",
       "      <td>...</td>\n",
       "      <td>...</td>\n",
       "      <td>...</td>\n",
       "      <td>...</td>\n",
       "      <td>...</td>\n",
       "    </tr>\n",
       "    <tr>\n",
       "      <th>50344</th>\n",
       "      <td>younger</td>\n",
       "      <td>JJR</td>\n",
       "      <td>I-NP</td>\n",
       "      <td>O</td>\n",
       "      <td>3683</td>\n",
       "      <td>1</td>\n",
       "      <td>1</td>\n",
       "      <td>xxxxxxx</td>\n",
       "    </tr>\n",
       "    <tr>\n",
       "      <th>50345</th>\n",
       "      <td>brother</td>\n",
       "      <td>NN</td>\n",
       "      <td>I-NP</td>\n",
       "      <td>O</td>\n",
       "      <td>3683</td>\n",
       "      <td>1</td>\n",
       "      <td>1</td>\n",
       "      <td>xxxxxxx</td>\n",
       "    </tr>\n",
       "    <tr>\n",
       "      <th>50346</th>\n",
       "      <td>,</td>\n",
       "      <td>,</td>\n",
       "      <td>O</td>\n",
       "      <td>O</td>\n",
       "      <td>3683</td>\n",
       "      <td>3</td>\n",
       "      <td>1</td>\n",
       "      <td>,</td>\n",
       "    </tr>\n",
       "    <tr>\n",
       "      <th>50347</th>\n",
       "      <td>Bobby</td>\n",
       "      <td>NNP</td>\n",
       "      <td>B-NP</td>\n",
       "      <td>B-PER</td>\n",
       "      <td>3683</td>\n",
       "      <td>4343</td>\n",
       "      <td>4</td>\n",
       "      <td>Xxxxx</td>\n",
       "    </tr>\n",
       "    <tr>\n",
       "      <th>50348</th>\n",
       "      <td>.</td>\n",
       "      <td>.</td>\n",
       "      <td>O</td>\n",
       "      <td>O</td>\n",
       "      <td>3683</td>\n",
       "      <td>2</td>\n",
       "      <td>1</td>\n",
       "      <td>.</td>\n",
       "    </tr>\n",
       "  </tbody>\n",
       "</table>\n",
       "<p>46666 rows × 8 columns</p>\n",
       "</div>"
      ],
      "text/plain": [
       "            TOKEN  POS CHUNK     NE  SENTENCE  token_index  ne_index  \\\n",
       "0      -DOCSTART-  -X-   -X-      O         0           22         1   \n",
       "2          SOCCER   NN  B-NP      O         1          126         1   \n",
       "3               -    :     O      O         1           18         1   \n",
       "4           JAPAN  NNP  B-NP  B-LOC         1            1         6   \n",
       "5             GET   VB  B-VP      O         1            1         1   \n",
       "...           ...  ...   ...    ...       ...          ...       ...   \n",
       "50344     younger  JJR  I-NP      O      3683            1         1   \n",
       "50345     brother   NN  I-NP      O      3683            1         1   \n",
       "50346           ,    ,     O      O      3683            3         1   \n",
       "50347       Bobby  NNP  B-NP  B-PER      3683         4343         4   \n",
       "50348           .    .     O      O      3683            2         1   \n",
       "\n",
       "            SHAPE  \n",
       "0      -XXXXXXXX-  \n",
       "2          XXXXXX  \n",
       "3               -  \n",
       "4           XXXXX  \n",
       "5             XXX  \n",
       "...           ...  \n",
       "50344     xxxxxxx  \n",
       "50345     xxxxxxx  \n",
       "50346           ,  \n",
       "50347       Xxxxx  \n",
       "50348           .  \n",
       "\n",
       "[46666 rows x 8 columns]"
      ]
     },
     "execution_count": 34,
     "metadata": {},
     "output_type": "execute_result"
    }
   ],
   "source": [
    "def series2shape(series):\n",
    "  ## (B) -- add bonus question code here\n",
    "    series = series.str.replace('[A-Z]', 'X')\n",
    "    series = series.str.replace('[a-z]', 'x')\n",
    "    series = series.str.replace('\\d', 'd')\n",
    "    return series\n",
    "\n",
    "train_df['SHAPE'] = series2shape(train_df.TOKEN)\n",
    "valid_df['SHAPE'] = series2shape(valid_df.TOKEN)\n",
    "test_df['SHAPE'] = series2shape(test_df.TOKEN)\n",
    "test_df"
   ]
  },
  {
   "cell_type": "markdown",
   "metadata": {
    "colab_type": "text",
    "id": "-OTRRNls0m0k"
   },
   "source": [
    "**Once you complete this, run the following code to see how adding this as a feature improves the performance of the model. For simplicity we only use the top 100 word shapes.**"
   ]
  },
  {
   "cell_type": "code",
   "execution_count": 35,
   "metadata": {
    "ExecuteTime": {
     "end_time": "2020-07-01T19:18:34.701741Z",
     "start_time": "2020-07-01T19:18:25.372524Z"
    },
    "colab": {},
    "colab_type": "code",
    "id": "3uHWVLy7-SCb"
   },
   "outputs": [],
   "source": [
    "shape_vocab = [w for w, f in FreqDist(train_df.SHAPE).most_common(n = 100)]\n",
    "shape_set = set(shape_vocab)\n",
    "\n",
    "def shape2index(shape):\n",
    "    if shape in shape_set:\n",
    "        return shape_vocab.index(shape) + 2\n",
    "    else: # out-of-vocabulary shape\n",
    "        return 1\n",
    "\n",
    "n_words = 50\n",
    "\n",
    "def df2features2(df):\n",
    "    df['shape_index'] = df.SHAPE.apply(shape2index)\n",
    "    token_index_lists = df.groupby('SENTENCE').token_index.apply(list)\n",
    "    ne_index_lists = df.groupby('SENTENCE').ne_index.apply(list)\n",
    "    shape_index_lists = df.groupby('SENTENCE').ne_index.apply(list)\n",
    "    X = np.stack([\n",
    "      pad_sequences(token_index_lists, maxlen = n_words, value = 0),\n",
    "      pad_sequences(shape_index_lists, maxlen = n_words, value = 0)\n",
    "  ])\n",
    "    Y = to_categorical(pad_sequences(ne_index_lists, maxlen = n_words, value = 0))\n",
    "    return X, Y\n",
    "\n",
    "X2_train, Y2_train = df2features2(train_df)\n",
    "X2_valid, Y2_valid = df2features2(valid_df)\n",
    "X2_test, Y2_test = df2features2(test_df)"
   ]
  },
  {
   "cell_type": "code",
   "execution_count": 36,
   "metadata": {
    "ExecuteTime": {
     "end_time": "2020-07-01T19:18:35.122465Z",
     "start_time": "2020-07-01T19:18:34.703871Z"
    },
    "colab": {},
    "colab_type": "code",
    "id": "rAGrKU9K2lAB"
   },
   "outputs": [],
   "source": [
    "input1 = Input(shape = (50,))\n",
    "input2 = Input(shape = (50,))\n",
    "embedded1 = Embedding(\n",
    "    len(vocab) + 2, 200,\n",
    "    input_length = 50, mask_zero = True)(input1)\n",
    "embedded2 = Embedding(\n",
    "    len(shape_vocab) + 2, 8,\n",
    "    input_length = 50, mask_zero = True)(input2)\n",
    "x = concatenate([embedded1, embedded2])\n",
    "x = Bidirectional(LSTM(128, return_sequences = True))(x)\n",
    "output = TimeDistributed(Dense(len(ne_tags) + 1, activation = 'softmax'))(x)\n",
    "model3 = Model(inputs = [input1, input2], outputs = [output])\n",
    "model3.compile(loss = 'categorical_crossentropy', optimizer = 'adam')"
   ]
  },
  {
   "cell_type": "code",
   "execution_count": 37,
   "metadata": {
    "ExecuteTime": {
     "end_time": "2020-07-01T19:24:53.084478Z",
     "start_time": "2020-07-01T19:18:35.125319Z"
    },
    "colab": {},
    "colab_type": "code",
    "id": "GT-44jlr-UYD"
   },
   "outputs": [
    {
     "name": "stderr",
     "output_type": "stream",
     "text": [
      "/home/gal/anaconda3/lib/python3.6/site-packages/tensorflow/python/framework/indexed_slices.py:434: UserWarning: Converting sparse IndexedSlices to a dense Tensor of unknown shape. This may consume a large amount of memory.\n",
      "  \"Converting sparse IndexedSlices to a dense Tensor of unknown shape. \"\n"
     ]
    },
    {
     "name": "stdout",
     "output_type": "stream",
     "text": [
      "Train on 14987 samples, validate on 3466 samples\n",
      "Epoch 1/5\n",
      "14987/14987 [==============================] - 72s 5ms/step - loss: 0.2153 - val_loss: 0.1220\n",
      "Epoch 2/5\n",
      "14987/14987 [==============================] - 67s 4ms/step - loss: 0.0689 - val_loss: 0.0390\n",
      "Epoch 3/5\n",
      "14987/14987 [==============================] - 72s 5ms/step - loss: 0.0177 - val_loss: 0.0111\n",
      "Epoch 4/5\n",
      "14987/14987 [==============================] - 79s 5ms/step - loss: 0.0049 - val_loss: 0.0045\n",
      "Epoch 5/5\n",
      "14987/14987 [==============================] - 84s 6ms/step - loss: 0.0020 - val_loss: 0.0027\n"
     ]
    },
    {
     "data": {
      "text/plain": [
       "<keras.callbacks.callbacks.History at 0x7fbef0869b70>"
      ]
     },
     "execution_count": 37,
     "metadata": {},
     "output_type": "execute_result"
    }
   ],
   "source": [
    "model3.fit(\n",
    "    [X2_train[0], X2_train[1]],\n",
    "    Y2_train, epochs = 5, batch_size = 128,\n",
    "    validation_data = ([X2_valid[0], X2_valid[1]], Y2_valid))"
   ]
  },
  {
   "cell_type": "code",
   "execution_count": 38,
   "metadata": {
    "ExecuteTime": {
     "end_time": "2020-07-01T19:25:04.402128Z",
     "start_time": "2020-07-01T19:24:53.086131Z"
    },
    "colab": {},
    "colab_type": "code",
    "id": "WdkqGaVz-WS7"
   },
   "outputs": [
    {
     "name": "stdout",
     "output_type": "stream",
     "text": [
      "Model3 loss on test data:\n",
      "3684/3684 [==============================] - 11s 3ms/step\n"
     ]
    },
    {
     "data": {
      "text/plain": [
       "0.003337758025088743"
      ]
     },
     "execution_count": 38,
     "metadata": {},
     "output_type": "execute_result"
    }
   ],
   "source": [
    "print(\"Model3 loss on test data:\")\n",
    "model3.evaluate([X2_test[0], X2_test[1]], Y2_test)"
   ]
  },
  {
   "cell_type": "markdown",
   "metadata": {},
   "source": [
    "**How does the final loss change?**"
   ]
  },
  {
   "cell_type": "markdown",
   "metadata": {},
   "source": [
    "WOW!!! ಠ_ಥ\n",
    "\n",
    "The final loss decreased very much: we got better result == 0.0045 comparing with previous bidirectional lstm == 0.0654\n",
    "\n",
    "But we got this 'very nice' result only because we were working with only 3 most common characters X, x and d, the rest chars are sintax"
   ]
  },
  {
   "cell_type": "code",
   "execution_count": null,
   "metadata": {},
   "outputs": [],
   "source": []
  }
 ],
 "metadata": {
  "accelerator": "GPU",
  "colab": {
   "collapsed_sections": [],
   "machine_shape": "hm",
   "name": "NER Exercise 2.ipynb",
   "provenance": [],
   "toc_visible": true
  },
  "kernelspec": {
   "display_name": "Python 3",
   "language": "python",
   "name": "python3"
  },
  "language_info": {
   "codemirror_mode": {
    "name": "ipython",
    "version": 3
   },
   "file_extension": ".py",
   "mimetype": "text/x-python",
   "name": "python",
   "nbconvert_exporter": "python",
   "pygments_lexer": "ipython3",
   "version": "3.6.10"
  }
 },
 "nbformat": 4,
 "nbformat_minor": 1
}
