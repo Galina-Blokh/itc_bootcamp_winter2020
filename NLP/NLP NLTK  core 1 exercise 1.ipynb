{
 "cells": [
  {
   "cell_type": "code",
   "execution_count": 2,
   "metadata": {
    "ExecuteTime": {
     "end_time": "2020-06-05T21:46:33.077693Z",
     "start_time": "2020-06-05T21:46:33.040198Z"
    },
    "code_folding": []
   },
   "outputs": [
    {
     "name": "stderr",
     "output_type": "stream",
     "text": [
      "[nltk_data] Error loading brown: <urlopen error [Errno -2] Name or\n",
      "[nltk_data]     service not known>\n",
      "[nltk_data] Error loading stopwords: <urlopen error [Errno -2] Name or\n",
      "[nltk_data]     service not known>\n"
     ]
    },
    {
     "data": {
      "text/plain": [
       "False"
      ]
     },
     "execution_count": 2,
     "metadata": {},
     "output_type": "execute_result"
    }
   ],
   "source": [
    "import nltk\n",
    "from nltk.corpus import brown\n",
    "nltk.download('brown')\n",
    "from nltk.tokenize import word_tokenize\n",
    "import numpy as np\n",
    "from wordcloud import WordCloud, STOPWORDS\n",
    "from nltk.corpus import stopwords \n",
    "nltk.download('stopwords')"
   ]
  },
  {
   "cell_type": "markdown",
   "metadata": {
    "colab_type": "text",
    "id": "qqhe-V-vsBfg"
   },
   "source": [
    "# Exercise 1: Cracking the code\n",
    "\n",
    "**In this exercise, we will practice our string manipulation skills and <br>intuition about language by working with jumbled text.**"
   ]
  },
  {
   "cell_type": "markdown",
   "metadata": {
    "colab_type": "text",
    "id": "SQ9iUzEztg43"
   },
   "source": [
    "**One of the most simple ways to obfuscate text is the substitution cipher <br>called *ROT13* (*rotate by 13*). In ROT13, each English letter is substituted <br>by the letter 13 places away from it in the English alphabet, as illustrated below:**\n",
    "\n",
    "\n",
    "![alt text](https://upload.wikimedia.org/wikipedia/commons/3/33/ROT13_table_with_example.svg)\n",
    "\n",
    "## Questions:\n",
    "\n",
    "### 1. Write a Python function *rot13* to return the ROT13-encoding of lowercase <br>English letters in the given input text. You may keep uppercase letters unchanged. <br>What is the ROT13 encoding of the string \"Hello world!\" ?\n",
    "**sourse link:**<br>https://en.wikipedia.org/wiki/ROT13<br>https://www.geeksforgeeks.org/rot13-cipher/<br>https://blog.finxter.com/how-to-use-rot13-in-python/<br>https://stackoverflow.com/questions/3269686/short-rot13-function-python/36715312"
   ]
  },
  {
   "cell_type": "code",
   "execution_count": 3,
   "metadata": {
    "ExecuteTime": {
     "end_time": "2020-06-05T21:46:35.303046Z",
     "start_time": "2020-06-05T21:46:35.286201Z"
    }
   },
   "outputs": [],
   "source": [
    "def rot13(s):\n",
    "    chars = \"AaBbCcDdEeFfGgHhIiJjKkLlMmNnOoPpQqRrSsTtUuVvWwXxYyZz\"\n",
    "    trans = chars[26:]+chars[:26]\n",
    "    rot_char = lambda c: trans[chars.find(c)] if chars.find(c) > -1 else c\n",
    "    return ''.join(rot_char(c) for c in s)"
   ]
  },
  {
   "cell_type": "code",
   "execution_count": 4,
   "metadata": {
    "ExecuteTime": {
     "end_time": "2020-06-05T21:46:36.516453Z",
     "start_time": "2020-06-05T21:46:36.507129Z"
    },
    "scrolled": true
   },
   "outputs": [
    {
     "data": {
      "text/plain": [
       "'Uryyb Jbeyq!'"
      ]
     },
     "execution_count": 4,
     "metadata": {},
     "output_type": "execute_result"
    }
   ],
   "source": [
    "rot13('Hello World!')"
   ]
  },
  {
   "cell_type": "markdown",
   "metadata": {},
   "source": [
    "### 2. What is output when you apply the function rot13 twice to the above string? Why?\n"
   ]
  },
  {
   "cell_type": "code",
   "execution_count": 5,
   "metadata": {
    "ExecuteTime": {
     "end_time": "2020-06-05T21:46:40.085621Z",
     "start_time": "2020-06-05T21:46:40.076690Z"
    }
   },
   "outputs": [
    {
     "data": {
      "text/plain": [
       "'Hello World!'"
      ]
     },
     "execution_count": 5,
     "metadata": {},
     "output_type": "execute_result"
    }
   ],
   "source": [
    "rot13(rot13('Hello World!'))"
   ]
  },
  {
   "cell_type": "markdown",
   "metadata": {
    "ExecuteTime": {
     "end_time": "2020-06-05T18:19:26.175697Z",
     "start_time": "2020-06-05T18:19:26.170352Z"
    }
   },
   "source": [
    "$ROT_{13}(ROT_{13}(x)) = x$ for any basic Latin-alphabet text x.\n",
    "In other words, two successive applications of <br>ROT13 restore the original text (in mathematics, this is sometimes called an involution; in cryptography,<br> a reciprocal cipher).(c)Wiki"
   ]
  },
  {
   "cell_type": "markdown",
   "metadata": {},
   "source": [
    "### 3. Write a function is_rot13 which determines if a lowercase word is <br>encoded in ROT13 when this can be determined. It should return True on words that <br>are clearly encoded in ROT13 and False on words that are clearly not,<br> as in these examples:\n",
    "\n",
    " * **is_rot13(\"hello\") => False**\n",
    " * **is_rot13(\"uryyb\") => True**\n",
    " * **is_rot13(\"guvf\") => True**\n",
    "\n",
    "   **Note that this function is a binary classifier. <br>Hint: How many times does each word occur in NLTK's Brown corpus data? (*nltk.corpus.brown*)**\n"
   ]
  },
  {
   "cell_type": "code",
   "execution_count": 6,
   "metadata": {
    "ExecuteTime": {
     "end_time": "2020-06-05T21:46:47.540807Z",
     "start_time": "2020-06-05T21:46:43.509307Z"
    }
   },
   "outputs": [],
   "source": [
    "brown_words = [w.lower() for w in brown.words()]\n",
    "stop_words = [w.lower() for w in stopwords.words('english')]"
   ]
  },
  {
   "cell_type": "code",
   "execution_count": 7,
   "metadata": {
    "ExecuteTime": {
     "end_time": "2020-06-05T21:46:47.560829Z",
     "start_time": "2020-06-05T21:46:47.543888Z"
    }
   },
   "outputs": [],
   "source": [
    "def is_rot13(s):\n",
    "    return s not in brown_words\n",
    "  \n",
    "# thanks a lot for hints - it really helped"
   ]
  },
  {
   "cell_type": "code",
   "execution_count": 8,
   "metadata": {
    "ExecuteTime": {
     "end_time": "2020-06-05T21:46:47.677649Z",
     "start_time": "2020-06-05T21:46:47.567156Z"
    }
   },
   "outputs": [
    {
     "name": "stdout",
     "output_type": "stream",
     "text": [
      "False\n",
      "True\n",
      "True\n"
     ]
    }
   ],
   "source": [
    "print(is_rot13(\"hello\"))\n",
    "print(is_rot13(\"uryyb\"))\n",
    "print(is_rot13(\"guvf\"))"
   ]
  },
  {
   "cell_type": "markdown",
   "metadata": {},
   "source": [
    "\n",
    "### 4. Write a function *decode_if_rot13* that decodes text that was jumbled <br>with rot13, and returns plaintext unchanged. <br>For example, it should return the following:\n",
    "\n",
    "  * **decode_if_rot13(\"uryyb\") => \"hello\"**\n",
    "  * **decode_if_rot13(\"hello\") => \"hello\"**\n",
    "  * **decode_if_rot13(\"guvf vf n grfg\") => \"this is a test\"**\n",
    "  * **decode_if_rot13(\"vg vf abjurer gb or frra\") => \"it is nowhere to be seen\"**\n",
    "  * **decode_if_rot13(\"this is a pyrex vessel\") => \"this is a pyrex vessel\"**\n",
    "\n",
    "\n",
    "*** Hints: You may use NLTK's *word_tokenize* function to split the string <br>into word tokens, and then use collections.<br>Counter and NLTK's Brown corpus data (*nltk.corpus.brown*).**"
   ]
  },
  {
   "cell_type": "code",
   "execution_count": 9,
   "metadata": {
    "ExecuteTime": {
     "end_time": "2020-06-05T21:46:47.710438Z",
     "start_time": "2020-06-05T21:46:47.684222Z"
    }
   },
   "outputs": [],
   "source": [
    "def decode_if_rot13(s):\n",
    "    se = word_tokenize(s)\n",
    "    sentence = [is_rot13(x) for x in se if x not in stop_words and len(x) > 1]\n",
    "    if   all(sentence):\n",
    "        return ' '.join([rot13(x) for x in se])\n",
    "    else:\n",
    "        return s "
   ]
  },
  {
   "cell_type": "code",
   "execution_count": 10,
   "metadata": {
    "ExecuteTime": {
     "end_time": "2020-06-05T21:46:48.488354Z",
     "start_time": "2020-06-05T21:46:48.083437Z"
    }
   },
   "outputs": [
    {
     "name": "stdout",
     "output_type": "stream",
     "text": [
      "hello\n",
      "hello\n",
      "this is a test\n",
      "it is nowhere to be seen\n",
      "this is a pyrex vessel\n"
     ]
    }
   ],
   "source": [
    "print(decode_if_rot13(\"uryyb\"))\n",
    "print(decode_if_rot13(\"hello\"))\n",
    "print(decode_if_rot13(\"guvf vf n grfg\"))\n",
    "print(decode_if_rot13(\"vg vf abjurer gb or frra\"))\n",
    "print(decode_if_rot13(\"this is a pyrex vessel\"))"
   ]
  },
  {
   "cell_type": "code",
   "execution_count": null,
   "metadata": {},
   "outputs": [],
   "source": []
  }
 ],
 "metadata": {
  "colab": {
   "collapsed_sections": [],
   "name": "NLP Core 1 Exercise 1.ipynb",
   "provenance": []
  },
  "kernelspec": {
   "display_name": "Python 3",
   "language": "python",
   "name": "python3"
  },
  "language_info": {
   "codemirror_mode": {
    "name": "ipython",
    "version": 3
   },
   "file_extension": ".py",
   "mimetype": "text/x-python",
   "name": "python",
   "nbconvert_exporter": "python",
   "pygments_lexer": "ipython3",
   "version": "3.6.10"
  },
  "latex_envs": {
   "LaTeX_envs_menu_present": true,
   "autoclose": false,
   "autocomplete": true,
   "bibliofile": "biblio.bib",
   "cite_by": "apalike",
   "current_citInitial": 1,
   "eqLabelWithNumbers": true,
   "eqNumInitial": 1,
   "hotkeys": {
    "equation": "Ctrl-E",
    "itemize": "Ctrl-I"
   },
   "labels_anchors": false,
   "latex_user_defs": false,
   "report_style_numbering": false,
   "user_envs_cfg": false
  }
 },
 "nbformat": 4,
 "nbformat_minor": 1
}
