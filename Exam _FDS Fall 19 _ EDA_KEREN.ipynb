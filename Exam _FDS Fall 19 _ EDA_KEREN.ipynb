{
 "cells": [
  {
   "cell_type": "markdown",
   "metadata": {},
   "source": [
    "# Exam #2 Retake - FDS FALL 19' - EDA, Statistics and Preprocessing"
   ]
  },
  {
   "cell_type": "markdown",
   "metadata": {},
   "source": [
    "For this part, you will work with a census data set. Please find the data file and the data dictionary attached."
   ]
  },
  {
   "cell_type": "markdown",
   "metadata": {},
   "source": [
    "<div class=\"alert alert-warning\">\n",
    "<b>Important:</b> Make sure you follow what we learned regarding what should be done on the train set and what should be done on the test set\n",
    "</div>"
   ]
  },
  {
   "cell_type": "markdown",
   "metadata": {
    "ExecuteTime": {
     "end_time": "2019-06-05T15:59:12.067914Z",
     "start_time": "2019-06-05T15:59:12.050000Z"
    }
   },
   "source": [
    "<div class=\"alert alert-info\">\n",
    "<b>Note:</b> You should submit the answers to this question in a report format - everything you do should be documented, you should track the changes to the shape of your dataset, explain the business thought behind your decisions and make everything super clear\n",
    "</div>"
   ]
  },
  {
   "cell_type": "markdown",
   "metadata": {
    "ExecuteTime": {
     "end_time": "2019-12-05T10:18:56.341767Z",
     "start_time": "2019-12-05T10:18:56.330797Z"
    }
   },
   "source": [
    "<div class=\"alert alert-warning\">\n",
    "<b>Important:</b> Do not perform actions that are not neccessary. Make sure there is a thought behind each step you take\n",
    "</div>"
   ]
  },
  {
   "cell_type": "markdown",
   "metadata": {},
   "source": [
    "**Here are some packages you will need:**"
   ]
  },
  {
   "cell_type": "code",
   "execution_count": 1,
   "metadata": {
    "ExecuteTime": {
     "end_time": "2019-12-09T14:01:12.157998Z",
     "start_time": "2019-12-09T14:01:12.154032Z"
    }
   },
   "outputs": [],
   "source": [
    "import matplotlib.pyplot as plt\n",
    "import seaborn as sns\n",
    "import pandas as pd\n",
    "import numpy as np\n",
    "from sklearn.model_selection import TimeSeriesSplit\n",
    "from sklearn.preprocessing import StandardScaler\n",
    "import itertools\n",
    "from sklearn.linear_model import LinearRegression\n",
    "from sklearn.metrics import mean_squared_error\n",
    "from math import sqrt\n",
    "import warnings\n",
    "warnings.filterwarnings('ignore')"
   ]
  },
  {
   "cell_type": "markdown",
   "metadata": {},
   "source": [
    "**Here are some helper functions for your use:**"
   ]
  },
  {
   "cell_type": "code",
   "execution_count": 2,
   "metadata": {
    "ExecuteTime": {
     "end_time": "2019-12-09T14:01:13.086298Z",
     "start_time": "2019-12-09T14:01:13.081312Z"
    }
   },
   "outputs": [],
   "source": [
    "def get_redundant_binary_cols(data, threshold):\n",
    "    '''\n",
    "    This function gets a pandas DataFrame, and a threshold (% of data), \n",
    "    and returns the list of binary features from that dataframe that have \n",
    "    above threshold amount of samples with the same value, and thus\n",
    "    should be considered redundant. \n",
    "    '''\n",
    "    \n",
    "    bool_cols = [col for col in data \\\n",
    "             if pd.Series(data[col].unique()).isin([0, 1]).all()]\n",
    "    return [x for x in bool_cols if data[x].value_counts()[0] \\\n",
    "                                                > threshold * len(X_train)] + \\\n",
    "                    [x for x in bool_cols if data[x].value_counts()[1] \\\n",
    "                                                > threshold * len(X_train)]"
   ]
  },
  {
   "cell_type": "markdown",
   "metadata": {
    "ExecuteTime": {
     "end_time": "2019-12-05T10:04:18.495000Z",
     "start_time": "2019-12-05T10:04:18.488975Z"
    }
   },
   "source": [
    "`pd.to_datetime(df.Date)`: will transfer a string column to a date type"
   ]
  },
  {
   "cell_type": "markdown",
   "metadata": {},
   "source": [
    "**Questions:**\n",
    "\n",
    "1. Read the data file and present summary statistics, datatype per column and NA status for each column. \n",
    "\n",
    "1.b. Perform data integrity checks if needed (Don't do more than two columns)"
   ]
  },
  {
   "cell_type": "code",
   "execution_count": 55,
   "metadata": {
    "ExecuteTime": {
     "end_time": "2019-12-09T14:01:14.761365Z",
     "start_time": "2019-12-09T14:01:14.758372Z"
    }
   },
   "outputs": [
    {
     "data": {
      "text/html": [
       "<div>\n",
       "<style scoped>\n",
       "    .dataframe tbody tr th:only-of-type {\n",
       "        vertical-align: middle;\n",
       "    }\n",
       "\n",
       "    .dataframe tbody tr th {\n",
       "        vertical-align: top;\n",
       "    }\n",
       "\n",
       "    .dataframe thead th {\n",
       "        text-align: right;\n",
       "    }\n",
       "</style>\n",
       "<table border=\"1\" class=\"dataframe\">\n",
       "  <thead>\n",
       "    <tr style=\"text-align: right;\">\n",
       "      <th></th>\n",
       "      <th>Unnamed: 0</th>\n",
       "      <th>age</th>\n",
       "      <th>workclass</th>\n",
       "      <th>fnlwgt</th>\n",
       "      <th>education</th>\n",
       "      <th>education-num</th>\n",
       "      <th>marital-status</th>\n",
       "      <th>occupation</th>\n",
       "      <th>relationship</th>\n",
       "      <th>race</th>\n",
       "      <th>sex</th>\n",
       "      <th>capital-gain</th>\n",
       "      <th>capital-loss</th>\n",
       "      <th>hours-per-week</th>\n",
       "      <th>native-country</th>\n",
       "      <th>income</th>\n",
       "    </tr>\n",
       "  </thead>\n",
       "  <tbody>\n",
       "    <tr>\n",
       "      <td>0</td>\n",
       "      <td>0</td>\n",
       "      <td>39</td>\n",
       "      <td>State-gov</td>\n",
       "      <td>77516</td>\n",
       "      <td>Bachelors</td>\n",
       "      <td>13</td>\n",
       "      <td>Never-married</td>\n",
       "      <td>Adm-clerical</td>\n",
       "      <td>Not-in-family</td>\n",
       "      <td>White</td>\n",
       "      <td>Male</td>\n",
       "      <td>2174</td>\n",
       "      <td>0</td>\n",
       "      <td>40</td>\n",
       "      <td>United-States</td>\n",
       "      <td>&lt;=50K</td>\n",
       "    </tr>\n",
       "    <tr>\n",
       "      <td>1</td>\n",
       "      <td>1</td>\n",
       "      <td>50</td>\n",
       "      <td>Self-emp-not-inc</td>\n",
       "      <td>83311</td>\n",
       "      <td>Bachelors</td>\n",
       "      <td>13</td>\n",
       "      <td>Married-civ-spouse</td>\n",
       "      <td>Exec-managerial</td>\n",
       "      <td>Husband</td>\n",
       "      <td>White</td>\n",
       "      <td>Male</td>\n",
       "      <td>0</td>\n",
       "      <td>0</td>\n",
       "      <td>13</td>\n",
       "      <td>United-States</td>\n",
       "      <td>&lt;=50K</td>\n",
       "    </tr>\n",
       "    <tr>\n",
       "      <td>2</td>\n",
       "      <td>2</td>\n",
       "      <td>38</td>\n",
       "      <td>Private</td>\n",
       "      <td>215646</td>\n",
       "      <td>HS-grad</td>\n",
       "      <td>9</td>\n",
       "      <td>Divorced</td>\n",
       "      <td>Handlers-cleaners</td>\n",
       "      <td>Not-in-family</td>\n",
       "      <td>White</td>\n",
       "      <td>Male</td>\n",
       "      <td>0</td>\n",
       "      <td>0</td>\n",
       "      <td>40</td>\n",
       "      <td>United-States</td>\n",
       "      <td>&lt;=50K</td>\n",
       "    </tr>\n",
       "    <tr>\n",
       "      <td>3</td>\n",
       "      <td>3</td>\n",
       "      <td>53</td>\n",
       "      <td>Private</td>\n",
       "      <td>234721</td>\n",
       "      <td>11th</td>\n",
       "      <td>7</td>\n",
       "      <td>Married-civ-spouse</td>\n",
       "      <td>Handlers-cleaners</td>\n",
       "      <td>Husband</td>\n",
       "      <td>Black</td>\n",
       "      <td>Male</td>\n",
       "      <td>0</td>\n",
       "      <td>0</td>\n",
       "      <td>40</td>\n",
       "      <td>United-States</td>\n",
       "      <td>&lt;=50K</td>\n",
       "    </tr>\n",
       "    <tr>\n",
       "      <td>4</td>\n",
       "      <td>4</td>\n",
       "      <td>28</td>\n",
       "      <td>Private</td>\n",
       "      <td>338409</td>\n",
       "      <td>Bachelors</td>\n",
       "      <td>13</td>\n",
       "      <td>Married-civ-spouse</td>\n",
       "      <td>Prof-specialty</td>\n",
       "      <td>Wife</td>\n",
       "      <td>Black</td>\n",
       "      <td>Female</td>\n",
       "      <td>0</td>\n",
       "      <td>0</td>\n",
       "      <td>40</td>\n",
       "      <td>Cuba</td>\n",
       "      <td>&lt;=50K</td>\n",
       "    </tr>\n",
       "  </tbody>\n",
       "</table>\n",
       "</div>"
      ],
      "text/plain": [
       "   Unnamed: 0  age          workclass  fnlwgt   education  education-num  \\\n",
       "0           0   39          State-gov   77516   Bachelors             13   \n",
       "1           1   50   Self-emp-not-inc   83311   Bachelors             13   \n",
       "2           2   38            Private  215646     HS-grad              9   \n",
       "3           3   53            Private  234721        11th              7   \n",
       "4           4   28            Private  338409   Bachelors             13   \n",
       "\n",
       "        marital-status          occupation    relationship    race      sex  \\\n",
       "0        Never-married        Adm-clerical   Not-in-family   White     Male   \n",
       "1   Married-civ-spouse     Exec-managerial         Husband   White     Male   \n",
       "2             Divorced   Handlers-cleaners   Not-in-family   White     Male   \n",
       "3   Married-civ-spouse   Handlers-cleaners         Husband   Black     Male   \n",
       "4   Married-civ-spouse      Prof-specialty            Wife   Black   Female   \n",
       "\n",
       "   capital-gain  capital-loss  hours-per-week  native-country  income  \n",
       "0          2174             0              40   United-States   <=50K  \n",
       "1             0             0              13   United-States   <=50K  \n",
       "2             0             0              40   United-States   <=50K  \n",
       "3             0             0              40   United-States   <=50K  \n",
       "4             0             0              40            Cuba   <=50K  "
      ]
     },
     "execution_count": 55,
     "metadata": {},
     "output_type": "execute_result"
    }
   ],
   "source": [
    "df = pd.read_csv(\"adult_data.csv\")\n",
    "df.head()"
   ]
  },
  {
   "cell_type": "code",
   "execution_count": 56,
   "metadata": {},
   "outputs": [
    {
     "data": {
      "text/plain": [
       "(32561, 16)"
      ]
     },
     "execution_count": 56,
     "metadata": {},
     "output_type": "execute_result"
    }
   ],
   "source": [
    "df.shape"
   ]
  },
  {
   "cell_type": "code",
   "execution_count": 57,
   "metadata": {},
   "outputs": [
    {
     "data": {
      "text/plain": [
       "Index(['Unnamed: 0', 'age', 'workclass', 'fnlwgt', 'education',\n",
       "       'education-num', 'marital-status', 'occupation', 'relationship', 'race',\n",
       "       'sex', 'capital-gain', 'capital-loss', 'hours-per-week',\n",
       "       'native-country', 'income'],\n",
       "      dtype='object')"
      ]
     },
     "execution_count": 57,
     "metadata": {},
     "output_type": "execute_result"
    }
   ],
   "source": [
    "df.columns"
   ]
  },
  {
   "cell_type": "code",
   "execution_count": 6,
   "metadata": {},
   "outputs": [
    {
     "name": "stdout",
     "output_type": "stream",
     "text": [
      "<class 'pandas.core.frame.DataFrame'>\n",
      "RangeIndex: 32561 entries, 0 to 32560\n",
      "Data columns (total 16 columns):\n",
      "Unnamed: 0        32561 non-null int64\n",
      "age               32561 non-null int64\n",
      "workclass         32561 non-null object\n",
      "fnlwgt            32561 non-null int64\n",
      "education         32561 non-null object\n",
      "education-num     32561 non-null int64\n",
      "marital-status    32561 non-null object\n",
      "occupation        32561 non-null object\n",
      "relationship      32561 non-null object\n",
      "race              32561 non-null object\n",
      "sex               32561 non-null object\n",
      "capital-gain      32561 non-null int64\n",
      "capital-loss      32561 non-null int64\n",
      "hours-per-week    32561 non-null int64\n",
      "native-country    32561 non-null object\n",
      "income            32561 non-null object\n",
      "dtypes: int64(7), object(9)\n",
      "memory usage: 4.0+ MB\n"
     ]
    }
   ],
   "source": [
    "df.info()"
   ]
  },
  {
   "cell_type": "markdown",
   "metadata": {},
   "source": [
    "We can see there are non NAN's in our data, which is great"
   ]
  },
  {
   "cell_type": "code",
   "execution_count": 58,
   "metadata": {},
   "outputs": [
    {
     "data": {
      "text/plain": [
       "Unnamed: 0        0\n",
       "age               0\n",
       "workclass         0\n",
       "fnlwgt            0\n",
       "education         0\n",
       "education-num     0\n",
       "marital-status    0\n",
       "occupation        0\n",
       "relationship      0\n",
       "race              0\n",
       "sex               0\n",
       "capital-gain      0\n",
       "capital-loss      0\n",
       "hours-per-week    0\n",
       "native-country    0\n",
       "income            0\n",
       "dtype: int64"
      ]
     },
     "execution_count": 58,
     "metadata": {},
     "output_type": "execute_result"
    }
   ],
   "source": [
    "df.isna().sum()"
   ]
  },
  {
   "cell_type": "code",
   "execution_count": 8,
   "metadata": {},
   "outputs": [
    {
     "data": {
      "text/html": [
       "<div>\n",
       "<style scoped>\n",
       "    .dataframe tbody tr th:only-of-type {\n",
       "        vertical-align: middle;\n",
       "    }\n",
       "\n",
       "    .dataframe tbody tr th {\n",
       "        vertical-align: top;\n",
       "    }\n",
       "\n",
       "    .dataframe thead th {\n",
       "        text-align: right;\n",
       "    }\n",
       "</style>\n",
       "<table border=\"1\" class=\"dataframe\">\n",
       "  <thead>\n",
       "    <tr style=\"text-align: right;\">\n",
       "      <th></th>\n",
       "      <th>Unnamed: 0</th>\n",
       "      <th>age</th>\n",
       "      <th>fnlwgt</th>\n",
       "      <th>education-num</th>\n",
       "      <th>capital-gain</th>\n",
       "      <th>capital-loss</th>\n",
       "      <th>hours-per-week</th>\n",
       "    </tr>\n",
       "  </thead>\n",
       "  <tbody>\n",
       "    <tr>\n",
       "      <td>count</td>\n",
       "      <td>32561.000000</td>\n",
       "      <td>32561.000000</td>\n",
       "      <td>3.256100e+04</td>\n",
       "      <td>32561.000000</td>\n",
       "      <td>32561.000000</td>\n",
       "      <td>32561.000000</td>\n",
       "      <td>32561.000000</td>\n",
       "    </tr>\n",
       "    <tr>\n",
       "      <td>mean</td>\n",
       "      <td>16280.000000</td>\n",
       "      <td>38.581647</td>\n",
       "      <td>1.897784e+05</td>\n",
       "      <td>10.080679</td>\n",
       "      <td>1077.648844</td>\n",
       "      <td>87.303830</td>\n",
       "      <td>40.437456</td>\n",
       "    </tr>\n",
       "    <tr>\n",
       "      <td>std</td>\n",
       "      <td>9399.695394</td>\n",
       "      <td>13.640433</td>\n",
       "      <td>1.055500e+05</td>\n",
       "      <td>2.572720</td>\n",
       "      <td>7385.292085</td>\n",
       "      <td>402.960219</td>\n",
       "      <td>12.347429</td>\n",
       "    </tr>\n",
       "    <tr>\n",
       "      <td>min</td>\n",
       "      <td>0.000000</td>\n",
       "      <td>17.000000</td>\n",
       "      <td>1.228500e+04</td>\n",
       "      <td>1.000000</td>\n",
       "      <td>0.000000</td>\n",
       "      <td>0.000000</td>\n",
       "      <td>1.000000</td>\n",
       "    </tr>\n",
       "    <tr>\n",
       "      <td>25%</td>\n",
       "      <td>8140.000000</td>\n",
       "      <td>28.000000</td>\n",
       "      <td>1.178270e+05</td>\n",
       "      <td>9.000000</td>\n",
       "      <td>0.000000</td>\n",
       "      <td>0.000000</td>\n",
       "      <td>40.000000</td>\n",
       "    </tr>\n",
       "    <tr>\n",
       "      <td>50%</td>\n",
       "      <td>16280.000000</td>\n",
       "      <td>37.000000</td>\n",
       "      <td>1.783560e+05</td>\n",
       "      <td>10.000000</td>\n",
       "      <td>0.000000</td>\n",
       "      <td>0.000000</td>\n",
       "      <td>40.000000</td>\n",
       "    </tr>\n",
       "    <tr>\n",
       "      <td>75%</td>\n",
       "      <td>24420.000000</td>\n",
       "      <td>48.000000</td>\n",
       "      <td>2.370510e+05</td>\n",
       "      <td>12.000000</td>\n",
       "      <td>0.000000</td>\n",
       "      <td>0.000000</td>\n",
       "      <td>45.000000</td>\n",
       "    </tr>\n",
       "    <tr>\n",
       "      <td>max</td>\n",
       "      <td>32560.000000</td>\n",
       "      <td>90.000000</td>\n",
       "      <td>1.484705e+06</td>\n",
       "      <td>16.000000</td>\n",
       "      <td>99999.000000</td>\n",
       "      <td>4356.000000</td>\n",
       "      <td>99.000000</td>\n",
       "    </tr>\n",
       "  </tbody>\n",
       "</table>\n",
       "</div>"
      ],
      "text/plain": [
       "         Unnamed: 0           age        fnlwgt  education-num  capital-gain  \\\n",
       "count  32561.000000  32561.000000  3.256100e+04   32561.000000  32561.000000   \n",
       "mean   16280.000000     38.581647  1.897784e+05      10.080679   1077.648844   \n",
       "std     9399.695394     13.640433  1.055500e+05       2.572720   7385.292085   \n",
       "min        0.000000     17.000000  1.228500e+04       1.000000      0.000000   \n",
       "25%     8140.000000     28.000000  1.178270e+05       9.000000      0.000000   \n",
       "50%    16280.000000     37.000000  1.783560e+05      10.000000      0.000000   \n",
       "75%    24420.000000     48.000000  2.370510e+05      12.000000      0.000000   \n",
       "max    32560.000000     90.000000  1.484705e+06      16.000000  99999.000000   \n",
       "\n",
       "       capital-loss  hours-per-week  \n",
       "count  32561.000000    32561.000000  \n",
       "mean      87.303830       40.437456  \n",
       "std      402.960219       12.347429  \n",
       "min        0.000000        1.000000  \n",
       "25%        0.000000       40.000000  \n",
       "50%        0.000000       40.000000  \n",
       "75%        0.000000       45.000000  \n",
       "max     4356.000000       99.000000  "
      ]
     },
     "execution_count": 8,
     "metadata": {},
     "output_type": "execute_result"
    }
   ],
   "source": [
    "df.describe()"
   ]
  },
  {
   "cell_type": "markdown",
   "metadata": {},
   "source": [
    "We can see that the capital_gain columns on one hand has ~1077 as the mean, but zero as the median which raises a flag that \n",
    "there may be many zeros in this set which are not related to the actual data. Same thing for capital loss. Lets use a bubble-plot to gain more information."
   ]
  },
  {
   "cell_type": "code",
   "execution_count": 9,
   "metadata": {},
   "outputs": [
    {
     "data": {
      "text/html": [
       "<div>\n",
       "<style scoped>\n",
       "    .dataframe tbody tr th:only-of-type {\n",
       "        vertical-align: middle;\n",
       "    }\n",
       "\n",
       "    .dataframe tbody tr th {\n",
       "        vertical-align: top;\n",
       "    }\n",
       "\n",
       "    .dataframe thead th {\n",
       "        text-align: right;\n",
       "    }\n",
       "</style>\n",
       "<table border=\"1\" class=\"dataframe\">\n",
       "  <thead>\n",
       "    <tr style=\"text-align: right;\">\n",
       "      <th></th>\n",
       "      <th>0</th>\n",
       "      <th>1</th>\n",
       "      <th>2</th>\n",
       "      <th>3</th>\n",
       "      <th>4</th>\n",
       "    </tr>\n",
       "  </thead>\n",
       "  <tbody>\n",
       "    <tr>\n",
       "      <td>Unnamed: 0</td>\n",
       "      <td>2047: 0%</td>\n",
       "      <td>32069: 0%</td>\n",
       "      <td>5416: 0%</td>\n",
       "      <td>7465: 0%</td>\n",
       "      <td>1322: 0%</td>\n",
       "    </tr>\n",
       "    <tr>\n",
       "      <td>age</td>\n",
       "      <td>36: 3%</td>\n",
       "      <td>31: 3%</td>\n",
       "      <td>34: 3%</td>\n",
       "      <td>23: 3%</td>\n",
       "      <td>35: 3%</td>\n",
       "    </tr>\n",
       "    <tr>\n",
       "      <td>workclass</td>\n",
       "      <td>Private: 70%</td>\n",
       "      <td>Self-emp-not-inc: 8%</td>\n",
       "      <td>Local-gov: 6%</td>\n",
       "      <td>?: 6%</td>\n",
       "      <td>State-gov: 4%</td>\n",
       "    </tr>\n",
       "    <tr>\n",
       "      <td>fnlwgt</td>\n",
       "      <td>164190: 0%</td>\n",
       "      <td>203488: 0%</td>\n",
       "      <td>123011: 0%</td>\n",
       "      <td>113364: 0%</td>\n",
       "      <td>121124: 0%</td>\n",
       "    </tr>\n",
       "    <tr>\n",
       "      <td>education</td>\n",
       "      <td>HS-grad: 32%</td>\n",
       "      <td>Some-college: 22%</td>\n",
       "      <td>Bachelors: 16%</td>\n",
       "      <td>Masters: 5%</td>\n",
       "      <td>Assoc-voc: 4%</td>\n",
       "    </tr>\n",
       "    <tr>\n",
       "      <td>education-num</td>\n",
       "      <td>9: 32%</td>\n",
       "      <td>10: 22%</td>\n",
       "      <td>13: 16%</td>\n",
       "      <td>14: 5%</td>\n",
       "      <td>11: 4%</td>\n",
       "    </tr>\n",
       "    <tr>\n",
       "      <td>marital-status</td>\n",
       "      <td>Married-civ-spouse: 46%</td>\n",
       "      <td>Never-married: 33%</td>\n",
       "      <td>Divorced: 14%</td>\n",
       "      <td>Separated: 3%</td>\n",
       "      <td>Widowed: 3%</td>\n",
       "    </tr>\n",
       "    <tr>\n",
       "      <td>occupation</td>\n",
       "      <td>Prof-specialty: 13%</td>\n",
       "      <td>Craft-repair: 13%</td>\n",
       "      <td>Exec-managerial: 12%</td>\n",
       "      <td>Adm-clerical: 12%</td>\n",
       "      <td>Sales: 11%</td>\n",
       "    </tr>\n",
       "    <tr>\n",
       "      <td>relationship</td>\n",
       "      <td>Husband: 41%</td>\n",
       "      <td>Not-in-family: 26%</td>\n",
       "      <td>Own-child: 16%</td>\n",
       "      <td>Unmarried: 11%</td>\n",
       "      <td>Wife: 5%</td>\n",
       "    </tr>\n",
       "    <tr>\n",
       "      <td>race</td>\n",
       "      <td>White: 85%</td>\n",
       "      <td>Black: 10%</td>\n",
       "      <td>Asian-Pac-Islander: 3%</td>\n",
       "      <td>Amer-Indian-Eskimo: 1%</td>\n",
       "      <td>Other: 1%</td>\n",
       "    </tr>\n",
       "    <tr>\n",
       "      <td>sex</td>\n",
       "      <td>Male: 67%</td>\n",
       "      <td>Female: 33%</td>\n",
       "      <td>None</td>\n",
       "      <td>None</td>\n",
       "      <td>None</td>\n",
       "    </tr>\n",
       "    <tr>\n",
       "      <td>capital-gain</td>\n",
       "      <td>0: 92%</td>\n",
       "      <td>15024: 1%</td>\n",
       "      <td>7688: 1%</td>\n",
       "      <td>7298: 1%</td>\n",
       "      <td>99999: 0%</td>\n",
       "    </tr>\n",
       "    <tr>\n",
       "      <td>capital-loss</td>\n",
       "      <td>0: 95%</td>\n",
       "      <td>1902: 1%</td>\n",
       "      <td>1977: 1%</td>\n",
       "      <td>1887: 0%</td>\n",
       "      <td>1848: 0%</td>\n",
       "    </tr>\n",
       "    <tr>\n",
       "      <td>hours-per-week</td>\n",
       "      <td>40: 47%</td>\n",
       "      <td>50: 9%</td>\n",
       "      <td>45: 6%</td>\n",
       "      <td>60: 5%</td>\n",
       "      <td>35: 4%</td>\n",
       "    </tr>\n",
       "    <tr>\n",
       "      <td>native-country</td>\n",
       "      <td>United-States: 90%</td>\n",
       "      <td>Mexico: 2%</td>\n",
       "      <td>?: 2%</td>\n",
       "      <td>Philippines: 1%</td>\n",
       "      <td>Germany: 0%</td>\n",
       "    </tr>\n",
       "    <tr>\n",
       "      <td>income</td>\n",
       "      <td>&lt;=50K: 76%</td>\n",
       "      <td>&gt;50K: 24%</td>\n",
       "      <td>None</td>\n",
       "      <td>None</td>\n",
       "      <td>None</td>\n",
       "    </tr>\n",
       "  </tbody>\n",
       "</table>\n",
       "</div>"
      ],
      "text/plain": [
       "                                       0                      1  \\\n",
       "Unnamed: 0                      2047: 0%              32069: 0%   \n",
       "age                               36: 3%                 31: 3%   \n",
       "workclass                   Private: 70%   Self-emp-not-inc: 8%   \n",
       "fnlwgt                        164190: 0%             203488: 0%   \n",
       "education                   HS-grad: 32%      Some-college: 22%   \n",
       "education-num                     9: 32%                10: 22%   \n",
       "marital-status   Married-civ-spouse: 46%     Never-married: 33%   \n",
       "occupation           Prof-specialty: 13%      Craft-repair: 13%   \n",
       "relationship                Husband: 41%     Not-in-family: 26%   \n",
       "race                          White: 85%             Black: 10%   \n",
       "sex                            Male: 67%            Female: 33%   \n",
       "capital-gain                      0: 92%              15024: 1%   \n",
       "capital-loss                      0: 95%               1902: 1%   \n",
       "hours-per-week                   40: 47%                 50: 9%   \n",
       "native-country        United-States: 90%             Mexico: 2%   \n",
       "income                        <=50K: 76%              >50K: 24%   \n",
       "\n",
       "                                      2                        3  \\\n",
       "Unnamed: 0                     5416: 0%                 7465: 0%   \n",
       "age                              34: 3%                   23: 3%   \n",
       "workclass                 Local-gov: 6%                    ?: 6%   \n",
       "fnlwgt                       123011: 0%               113364: 0%   \n",
       "education                Bachelors: 16%              Masters: 5%   \n",
       "education-num                   13: 16%                   14: 5%   \n",
       "marital-status            Divorced: 14%            Separated: 3%   \n",
       "occupation         Exec-managerial: 12%        Adm-clerical: 12%   \n",
       "relationship             Own-child: 16%           Unmarried: 11%   \n",
       "race             Asian-Pac-Islander: 3%   Amer-Indian-Eskimo: 1%   \n",
       "sex                                None                     None   \n",
       "capital-gain                   7688: 1%                 7298: 1%   \n",
       "capital-loss                   1977: 1%                 1887: 0%   \n",
       "hours-per-week                   45: 6%                   60: 5%   \n",
       "native-country                    ?: 2%          Philippines: 1%   \n",
       "income                             None                     None   \n",
       "\n",
       "                             4  \n",
       "Unnamed: 0            1322: 0%  \n",
       "age                     35: 3%  \n",
       "workclass        State-gov: 4%  \n",
       "fnlwgt              121124: 0%  \n",
       "education        Assoc-voc: 4%  \n",
       "education-num           11: 4%  \n",
       "marital-status     Widowed: 3%  \n",
       "occupation          Sales: 11%  \n",
       "relationship          Wife: 5%  \n",
       "race                 Other: 1%  \n",
       "sex                       None  \n",
       "capital-gain         99999: 0%  \n",
       "capital-loss          1848: 0%  \n",
       "hours-per-week          35: 4%  \n",
       "native-country     Germany: 0%  \n",
       "income                    None  "
      ]
     },
     "execution_count": 9,
     "metadata": {},
     "output_type": "execute_result"
    }
   ],
   "source": [
    "from bubble_plot.utils import describe_categorical_values\n",
    "\n",
    "describe_categorical_values(df)"
   ]
  },
  {
   "cell_type": "markdown",
   "metadata": {},
   "source": [
    "Indeed 92% of our capital-gain feature and 95% of our capital-loss are zeros. We will definitely consider removing these columns in the upcoming sections. The Unamed: 0 and fnlwgt columns seem to present no information as the values are different for each column (as an index). We will therefore remove them. We can also see there are no duplicate rows in our data."
   ]
  },
  {
   "cell_type": "code",
   "execution_count": 10,
   "metadata": {},
   "outputs": [
    {
     "data": {
      "text/html": [
       "<div>\n",
       "<style scoped>\n",
       "    .dataframe tbody tr th:only-of-type {\n",
       "        vertical-align: middle;\n",
       "    }\n",
       "\n",
       "    .dataframe tbody tr th {\n",
       "        vertical-align: top;\n",
       "    }\n",
       "\n",
       "    .dataframe thead th {\n",
       "        text-align: right;\n",
       "    }\n",
       "</style>\n",
       "<table border=\"1\" class=\"dataframe\">\n",
       "  <thead>\n",
       "    <tr style=\"text-align: right;\">\n",
       "      <th></th>\n",
       "      <th>Unnamed: 0</th>\n",
       "      <th>age</th>\n",
       "      <th>workclass</th>\n",
       "      <th>fnlwgt</th>\n",
       "      <th>education</th>\n",
       "      <th>education-num</th>\n",
       "      <th>marital-status</th>\n",
       "      <th>occupation</th>\n",
       "      <th>relationship</th>\n",
       "      <th>race</th>\n",
       "      <th>sex</th>\n",
       "      <th>capital-gain</th>\n",
       "      <th>capital-loss</th>\n",
       "      <th>hours-per-week</th>\n",
       "      <th>native-country</th>\n",
       "      <th>income</th>\n",
       "    </tr>\n",
       "  </thead>\n",
       "  <tbody>\n",
       "  </tbody>\n",
       "</table>\n",
       "</div>"
      ],
      "text/plain": [
       "Empty DataFrame\n",
       "Columns: [Unnamed: 0, age, workclass, fnlwgt, education, education-num, marital-status, occupation, relationship, race, sex, capital-gain, capital-loss, hours-per-week, native-country, income]\n",
       "Index: []"
      ]
     },
     "execution_count": 10,
     "metadata": {},
     "output_type": "execute_result"
    }
   ],
   "source": [
    "df[df.duplicated()]"
   ]
  },
  {
   "cell_type": "code",
   "execution_count": 11,
   "metadata": {},
   "outputs": [],
   "source": [
    "df.drop(['Unnamed: 0','fnlwgt'], axis=1,inplace=True)"
   ]
  },
  {
   "cell_type": "markdown",
   "metadata": {},
   "source": [
    "2. We are trying to Predict whether income exceeds $50K/yr, per row in the data (person). According to this research question, define the dependent variable, as well as all the categorical (nominal / ordinal) and continuous features, in a markdown cell"
   ]
  },
  {
   "cell_type": "code",
   "execution_count": 12,
   "metadata": {},
   "outputs": [
    {
     "data": {
      "text/plain": [
       "{'age', 'capital-gain', 'capital-loss', 'education-num', 'hours-per-week'}"
      ]
     },
     "execution_count": 12,
     "metadata": {},
     "output_type": "execute_result"
    }
   ],
   "source": [
    "num_vars = set(df._get_numeric_data().columns)\n",
    "num_vars"
   ]
  },
  {
   "cell_type": "code",
   "execution_count": 13,
   "metadata": {},
   "outputs": [
    {
     "data": {
      "text/plain": [
       "{'education',\n",
       " 'marital-status',\n",
       " 'native-country',\n",
       " 'occupation',\n",
       " 'race',\n",
       " 'relationship',\n",
       " 'sex',\n",
       " 'workclass'}"
      ]
     },
     "execution_count": 13,
     "metadata": {},
     "output_type": "execute_result"
    }
   ],
   "source": [
    "cat_vars = set(df.columns) - num_vars-{'income'}\n",
    "cat_vars"
   ]
  },
  {
   "cell_type": "code",
   "execution_count": 14,
   "metadata": {},
   "outputs": [],
   "source": [
    "target='income'"
   ]
  },
  {
   "cell_type": "markdown",
   "metadata": {
    "ExecuteTime": {
     "end_time": "2019-12-09T14:01:24.752496Z",
     "start_time": "2019-12-09T14:01:24.749447Z"
    }
   },
   "source": [
    "**our research question:**  Predicting whether a person will earn an income of over $50K/yr. Therefore our dependent variable is the income which is a categorical feature\n",
    "\n",
    "**Categorical Features:**\n",
    "\n",
    "Nominal- workclass,marital-status,occupation,relationship,race,native-country,sex\n",
    "\n",
    "Ordinal- education , (also Unnamed: 0 and  fnlwgt which we removed and we assume it is some kind of index)\n",
    "\n",
    "**Numerical Features:**\n",
    "age, education-num,capital-gain,capital-loss,hours-per-week"
   ]
  },
  {
   "cell_type": "code",
   "execution_count": 15,
   "metadata": {},
   "outputs": [
    {
     "data": {
      "text/html": [
       "<div>\n",
       "<style scoped>\n",
       "    .dataframe tbody tr th:only-of-type {\n",
       "        vertical-align: middle;\n",
       "    }\n",
       "\n",
       "    .dataframe tbody tr th {\n",
       "        vertical-align: top;\n",
       "    }\n",
       "\n",
       "    .dataframe thead th {\n",
       "        text-align: right;\n",
       "    }\n",
       "</style>\n",
       "<table border=\"1\" class=\"dataframe\">\n",
       "  <thead>\n",
       "    <tr style=\"text-align: right;\">\n",
       "      <th></th>\n",
       "      <th>age</th>\n",
       "      <th>workclass</th>\n",
       "      <th>education</th>\n",
       "      <th>education-num</th>\n",
       "      <th>marital-status</th>\n",
       "      <th>occupation</th>\n",
       "      <th>relationship</th>\n",
       "      <th>race</th>\n",
       "      <th>sex</th>\n",
       "      <th>capital-gain</th>\n",
       "      <th>capital-loss</th>\n",
       "      <th>hours-per-week</th>\n",
       "      <th>native-country</th>\n",
       "      <th>income</th>\n",
       "    </tr>\n",
       "  </thead>\n",
       "  <tbody>\n",
       "    <tr>\n",
       "      <td>0</td>\n",
       "      <td>39</td>\n",
       "      <td>State-gov</td>\n",
       "      <td>Bachelors</td>\n",
       "      <td>13</td>\n",
       "      <td>Never-married</td>\n",
       "      <td>Adm-clerical</td>\n",
       "      <td>Not-in-family</td>\n",
       "      <td>White</td>\n",
       "      <td>Male</td>\n",
       "      <td>2174</td>\n",
       "      <td>0</td>\n",
       "      <td>40</td>\n",
       "      <td>United-States</td>\n",
       "      <td>&lt;=50K</td>\n",
       "    </tr>\n",
       "    <tr>\n",
       "      <td>1</td>\n",
       "      <td>50</td>\n",
       "      <td>Self-emp-not-inc</td>\n",
       "      <td>Bachelors</td>\n",
       "      <td>13</td>\n",
       "      <td>Married-civ-spouse</td>\n",
       "      <td>Exec-managerial</td>\n",
       "      <td>Husband</td>\n",
       "      <td>White</td>\n",
       "      <td>Male</td>\n",
       "      <td>0</td>\n",
       "      <td>0</td>\n",
       "      <td>13</td>\n",
       "      <td>United-States</td>\n",
       "      <td>&lt;=50K</td>\n",
       "    </tr>\n",
       "    <tr>\n",
       "      <td>2</td>\n",
       "      <td>38</td>\n",
       "      <td>Private</td>\n",
       "      <td>HS-grad</td>\n",
       "      <td>9</td>\n",
       "      <td>Divorced</td>\n",
       "      <td>Handlers-cleaners</td>\n",
       "      <td>Not-in-family</td>\n",
       "      <td>White</td>\n",
       "      <td>Male</td>\n",
       "      <td>0</td>\n",
       "      <td>0</td>\n",
       "      <td>40</td>\n",
       "      <td>United-States</td>\n",
       "      <td>&lt;=50K</td>\n",
       "    </tr>\n",
       "    <tr>\n",
       "      <td>3</td>\n",
       "      <td>53</td>\n",
       "      <td>Private</td>\n",
       "      <td>11th</td>\n",
       "      <td>7</td>\n",
       "      <td>Married-civ-spouse</td>\n",
       "      <td>Handlers-cleaners</td>\n",
       "      <td>Husband</td>\n",
       "      <td>Black</td>\n",
       "      <td>Male</td>\n",
       "      <td>0</td>\n",
       "      <td>0</td>\n",
       "      <td>40</td>\n",
       "      <td>United-States</td>\n",
       "      <td>&lt;=50K</td>\n",
       "    </tr>\n",
       "    <tr>\n",
       "      <td>4</td>\n",
       "      <td>28</td>\n",
       "      <td>Private</td>\n",
       "      <td>Bachelors</td>\n",
       "      <td>13</td>\n",
       "      <td>Married-civ-spouse</td>\n",
       "      <td>Prof-specialty</td>\n",
       "      <td>Wife</td>\n",
       "      <td>Black</td>\n",
       "      <td>Female</td>\n",
       "      <td>0</td>\n",
       "      <td>0</td>\n",
       "      <td>40</td>\n",
       "      <td>Cuba</td>\n",
       "      <td>&lt;=50K</td>\n",
       "    </tr>\n",
       "  </tbody>\n",
       "</table>\n",
       "</div>"
      ],
      "text/plain": [
       "   age          workclass   education  education-num       marital-status  \\\n",
       "0   39          State-gov   Bachelors             13        Never-married   \n",
       "1   50   Self-emp-not-inc   Bachelors             13   Married-civ-spouse   \n",
       "2   38            Private     HS-grad              9             Divorced   \n",
       "3   53            Private        11th              7   Married-civ-spouse   \n",
       "4   28            Private   Bachelors             13   Married-civ-spouse   \n",
       "\n",
       "           occupation    relationship    race      sex  capital-gain  \\\n",
       "0        Adm-clerical   Not-in-family   White     Male          2174   \n",
       "1     Exec-managerial         Husband   White     Male             0   \n",
       "2   Handlers-cleaners   Not-in-family   White     Male             0   \n",
       "3   Handlers-cleaners         Husband   Black     Male             0   \n",
       "4      Prof-specialty            Wife   Black   Female             0   \n",
       "\n",
       "   capital-loss  hours-per-week  native-country  income  \n",
       "0             0              40   United-States   <=50K  \n",
       "1             0              13   United-States   <=50K  \n",
       "2             0              40   United-States   <=50K  \n",
       "3             0              40   United-States   <=50K  \n",
       "4             0              40            Cuba   <=50K  "
      ]
     },
     "execution_count": 15,
     "metadata": {},
     "output_type": "execute_result"
    }
   ],
   "source": [
    "df.head()"
   ]
  },
  {
   "cell_type": "markdown",
   "metadata": {},
   "source": [
    "3. Plot the distribution (density plot / histogram) per feature. Make sure you use the correct plot per type of feature, and that you do not plot categorical features with unique values only."
   ]
  },
  {
   "cell_type": "code",
   "execution_count": 16,
   "metadata": {
    "ExecuteTime": {
     "end_time": "2019-12-09T14:02:18.872626Z",
     "start_time": "2019-12-09T14:02:18.868636Z"
    },
    "scrolled": true
   },
   "outputs": [
    {
     "data": {
      "image/png": "[encoded data removed]",
      "text/plain": [
       "<Figure size 432x432 with 1 Axes>"
      ]
     },
     "metadata": {},
     "output_type": "display_data"
    },
    {
     "data": {
      "image/png": "[encoded data removed]",
      "text/plain": [
       "<Figure size 432x432 with 1 Axes>"
      ]
     },
     "metadata": {},
     "output_type": "display_data"
    },
    {
     "data": {
      "image/png": "[encoded data removed]",
      "text/plain": [
       "<Figure size 432x432 with 1 Axes>"
      ]
     },
     "metadata": {},
     "output_type": "display_data"
    },
    {
     "data": {
      "image/png": "[encoded data removed]",
      "text/plain": [
       "<Figure size 432x432 with 1 Axes>"
      ]
     },
     "metadata": {},
     "output_type": "display_data"
    },
    {
     "data": {
      "image/png": "[encoded data removed]",
      "text/plain": [
       "<Figure size 432x432 with 1 Axes>"
      ]
     },
     "metadata": {},
     "output_type": "display_data"
    },
    {
     "data": {
      "image/png": "[encoded data removed]",
      "text/plain": [
       "<Figure size 432x432 with 1 Axes>"
      ]
     },
     "metadata": {},
     "output_type": "display_data"
    },
    {
     "data": {
      "image/png": "[encoded data removed]",
      "text/plain": [
       "<Figure size 432x432 with 1 Axes>"
      ]
     },
     "metadata": {},
     "output_type": "display_data"
    },
    {
     "data": {
      "image/png": "[encoded data removed]",
      "text/plain": [
       "<Figure size 432x432 with 1 Axes>"
      ]
     },
     "metadata": {},
     "output_type": "display_data"
    },
    {
     "data": {
      "image/png": "[encoded data removed]",
      "text/plain": [
       "<Figure size 432x432 with 1 Axes>"
      ]
     },
     "metadata": {},
     "output_type": "display_data"
    },
    {
     "data": {
      "image/png": "[encoded data removed]",
      "text/plain": [
       "<Figure size 432x432 with 1 Axes>"
      ]
     },
     "metadata": {},
     "output_type": "display_data"
    },
    {
     "data": {
      "image/png": "[encoded data removed]",
      "text/plain": [
       "<Figure size 432x432 with 1 Axes>"
      ]
     },
     "metadata": {},
     "output_type": "display_data"
    },
    {
     "data": {
      "image/png": "[encoded data removed]",
      "text/plain": [
       "<Figure size 432x432 with 1 Axes>"
      ]
     },
     "metadata": {},
     "output_type": "display_data"
    },
    {
     "data": {
      "image/png": "[encoded data removed]",
      "text/plain": [
       "<Figure size 432x432 with 1 Axes>"
      ]
     },
     "metadata": {},
     "output_type": "display_data"
    }
   ],
   "source": [
    "sns.set(style=\"darkgrid\")\n",
    "discrete_features = {'education','marital-status','native-country','occupation','race','relationship','sex','workclass'\\\n",
    "                     ,'education-num'}\n",
    "continuous_features = {'capital-gain', 'capital-loss','hours-per-week','age'}\n",
    "variables=continuous_features.union(discrete_features)\n",
    "for variable in variables:\n",
    "    plt.figure(figsize=(6,6))\n",
    "    if variable in continuous_features:\n",
    "        sns.distplot(df[variable].dropna(),kde=False)\n",
    "    elif variable in discrete_features: \n",
    "        sns.countplot(y=variable, data=df)       \n",
    "    plt.title(f'Distribution of {variable}')\n",
    "    plt.xlabel(variable)\n",
    "    plt.show()"
   ]
  },
  {
   "cell_type": "code",
   "execution_count": 17,
   "metadata": {
    "scrolled": true
   },
   "outputs": [
    {
     "data": {
      "image/png": "[encoded data removed]",
      "text/plain": [
       "<Figure size 432x288 with 1 Axes>"
      ]
     },
     "metadata": {},
     "output_type": "display_data"
    },
    {
     "data": {
      "image/png": "[encoded data removed]",
      "text/plain": [
       "<Figure size 432x288 with 1 Axes>"
      ]
     },
     "metadata": {},
     "output_type": "display_data"
    },
    {
     "data": {
      "image/png": "[encoded data removed]",
      "text/plain": [
       "<Figure size 432x288 with 1 Axes>"
      ]
     },
     "metadata": {},
     "output_type": "display_data"
    },
    {
     "data": {
      "image/png": "[encoded data removed]",
      "text/plain": [
       "<Figure size 432x288 with 1 Axes>"
      ]
     },
     "metadata": {},
     "output_type": "display_data"
    },
    {
     "data": {
      "image/png": "[encoded data removed]",
      "text/plain": [
       "<Figure size 432x288 with 1 Axes>"
      ]
     },
     "metadata": {},
     "output_type": "display_data"
    }
   ],
   "source": [
    "for variable in num_vars:\n",
    "    ax = sns.boxplot(x=df[variable])\n",
    "    plt.title(f'Boxplot of {variable}')\n",
    "    plt.xlabel(variable)\n",
    "    plt.show()"
   ]
  },
  {
   "cell_type": "markdown",
   "metadata": {},
   "source": [
    "4. Split the data to a train set and a test set according to a method of your choice, and specify your business logic behind this choice "
   ]
  },
  {
   "cell_type": "markdown",
   "metadata": {},
   "source": [
    "We will use a random split to split our data, in order to maintain the same distribution of our features among the sets."
   ]
  },
  {
   "cell_type": "code",
   "execution_count": 18,
   "metadata": {
    "ExecuteTime": {
     "end_time": "2019-12-09T14:02:18.945431Z",
     "start_time": "2019-12-09T14:02:18.940444Z"
    }
   },
   "outputs": [],
   "source": [
    "from sklearn.model_selection import train_test_split\n",
    "X = df[cat_vars.union(num_vars)]\n",
    "y = df[target]\n",
    "X_train, X_test, y_train, y_test = train_test_split(X, y, test_size=0.20, random_state=42)\n",
    "set(X_train.index) & set(X_test.index)\n"
   ]
  },
  {
   "cell_type": "code",
   "execution_count": 19,
   "metadata": {},
   "outputs": [
    {
     "data": {
      "text/plain": [
       "(0.7999754307300144, 0.20002456926998557)"
      ]
     },
     "execution_count": 19,
     "metadata": {},
     "output_type": "execute_result"
    }
   ],
   "source": [
    "# Integrity checks\n",
    "(X_train.shape[0] / len(df), X_test.shape[0] / len(df))"
   ]
  },
  {
   "cell_type": "code",
   "execution_count": 20,
   "metadata": {},
   "outputs": [
    {
     "data": {
      "text/plain": [
       "{0,\n",
       " 1,\n",
       " 2,\n",
       " 3,\n",
       " 4,\n",
       " 5,\n",
       " 6,\n",
       " 7,\n",
       " 8,\n",
       " 9,\n",
       " 10,\n",
       " 11,\n",
       " 12,\n",
       " 13,\n",
       " 14,\n",
       " 15,\n",
       " 16,\n",
       " 17,\n",
       " 18,\n",
       " 19,\n",
       " 20,\n",
       " 21,\n",
       " 22,\n",
       " 23,\n",
       " 24,\n",
       " 25,\n",
       " 26,\n",
       " 27,\n",
       " 28,\n",
       " 29,\n",
       " 30,\n",
       " 31,\n",
       " 32,\n",
       " 33,\n",
       " 34,\n",
       " 35,\n",
       " 36,\n",
       " 37,\n",
       " 38,\n",
       " 39,\n",
       " 40,\n",
       " 41,\n",
       " 42,\n",
       " 43,\n",
       " 44,\n",
       " 45,\n",
       " 46,\n",
       " 47,\n",
       " 48,\n",
       " 49,\n",
       " 50,\n",
       " 51,\n",
       " 52,\n",
       " 53,\n",
       " 54,\n",
       " 55,\n",
       " 56,\n",
       " 57,\n",
       " 58,\n",
       " 59,\n",
       " 60,\n",
       " 61,\n",
       " 62,\n",
       " 63,\n",
       " 64,\n",
       " 65,\n",
       " 66,\n",
       " 67,\n",
       " 68,\n",
       " 69,\n",
       " 70,\n",
       " 71,\n",
       " 72,\n",
       " 73,\n",
       " 74,\n",
       " 75,\n",
       " 76,\n",
       " 77,\n",
       " 78,\n",
       " 79,\n",
       " 80,\n",
       " 81,\n",
       " 82,\n",
       " 83,\n",
       " 84,\n",
       " 85,\n",
       " 86,\n",
       " 87,\n",
       " 88,\n",
       " 89,\n",
       " 90,\n",
       " 91,\n",
       " 92,\n",
       " 93,\n",
       " 94,\n",
       " 95,\n",
       " 96,\n",
       " 97,\n",
       " 98,\n",
       " 99,\n",
       " 100,\n",
       " 101,\n",
       " 102,\n",
       " 103,\n",
       " 104,\n",
       " 105,\n",
       " 106,\n",
       " 107,\n",
       " 108,\n",
       " 109,\n",
       " 110,\n",
       " 111,\n",
       " 112,\n",
       " 113,\n",
       " 114,\n",
       " 115,\n",
       " 116,\n",
       " 117,\n",
       " 118,\n",
       " 119,\n",
       " 120,\n",
       " 121,\n",
       " 122,\n",
       " 123,\n",
       " 124,\n",
       " 125,\n",
       " 126,\n",
       " 127,\n",
       " 128,\n",
       " 129,\n",
       " 130,\n",
       " 131,\n",
       " 132,\n",
       " 133,\n",
       " 134,\n",
       " 135,\n",
       " 136,\n",
       " 137,\n",
       " 138,\n",
       " 139,\n",
       " 140,\n",
       " 141,\n",
       " 142,\n",
       " 143,\n",
       " 144,\n",
       " 145,\n",
       " 146,\n",
       " 147,\n",
       " 148,\n",
       " 149,\n",
       " 150,\n",
       " 151,\n",
       " 152,\n",
       " 153,\n",
       " 154,\n",
       " 155,\n",
       " 156,\n",
       " 157,\n",
       " 158,\n",
       " 159,\n",
       " 160,\n",
       " 161,\n",
       " 162,\n",
       " 163,\n",
       " 164,\n",
       " 165,\n",
       " 166,\n",
       " 167,\n",
       " 168,\n",
       " 169,\n",
       " 170,\n",
       " 171,\n",
       " 172,\n",
       " 173,\n",
       " 174,\n",
       " 175,\n",
       " 176,\n",
       " 177,\n",
       " 178,\n",
       " 179,\n",
       " 180,\n",
       " 181,\n",
       " 182,\n",
       " 183,\n",
       " 184,\n",
       " 185,\n",
       " 186,\n",
       " 187,\n",
       " 188,\n",
       " 189,\n",
       " 190,\n",
       " 191,\n",
       " 192,\n",
       " 193,\n",
       " 194,\n",
       " 195,\n",
       " 196,\n",
       " 197,\n",
       " 198,\n",
       " 199,\n",
       " 200,\n",
       " 201,\n",
       " 202,\n",
       " 203,\n",
       " 204,\n",
       " 205,\n",
       " 206,\n",
       " 207,\n",
       " 208,\n",
       " 209,\n",
       " 210,\n",
       " 211,\n",
       " 212,\n",
       " 213,\n",
       " 214,\n",
       " 215,\n",
       " 216,\n",
       " 217,\n",
       " 218,\n",
       " 219,\n",
       " 220,\n",
       " 221,\n",
       " 222,\n",
       " 223,\n",
       " 224,\n",
       " 225,\n",
       " 226,\n",
       " 227,\n",
       " 228,\n",
       " 229,\n",
       " 230,\n",
       " 231,\n",
       " 232,\n",
       " 233,\n",
       " 234,\n",
       " 235,\n",
       " 236,\n",
       " 237,\n",
       " 238,\n",
       " 239,\n",
       " 240,\n",
       " 241,\n",
       " 242,\n",
       " 243,\n",
       " 244,\n",
       " 245,\n",
       " 246,\n",
       " 247,\n",
       " 248,\n",
       " 249,\n",
       " 250,\n",
       " 251,\n",
       " 252,\n",
       " 253,\n",
       " 254,\n",
       " 255,\n",
       " 256,\n",
       " 257,\n",
       " 258,\n",
       " 259,\n",
       " 260,\n",
       " 261,\n",
       " 262,\n",
       " 263,\n",
       " 264,\n",
       " 265,\n",
       " 266,\n",
       " 267,\n",
       " 268,\n",
       " 269,\n",
       " 270,\n",
       " 271,\n",
       " 272,\n",
       " 273,\n",
       " 274,\n",
       " 275,\n",
       " 276,\n",
       " 277,\n",
       " 278,\n",
       " 279,\n",
       " 280,\n",
       " 281,\n",
       " 282,\n",
       " 283,\n",
       " 284,\n",
       " 285,\n",
       " 286,\n",
       " 287,\n",
       " 288,\n",
       " 289,\n",
       " 290,\n",
       " 291,\n",
       " 292,\n",
       " 293,\n",
       " 294,\n",
       " 295,\n",
       " 296,\n",
       " 297,\n",
       " 298,\n",
       " 299,\n",
       " 300,\n",
       " 301,\n",
       " 302,\n",
       " 303,\n",
       " 304,\n",
       " 305,\n",
       " 306,\n",
       " 307,\n",
       " 308,\n",
       " 309,\n",
       " 310,\n",
       " 311,\n",
       " 312,\n",
       " 313,\n",
       " 314,\n",
       " 315,\n",
       " 316,\n",
       " 317,\n",
       " 318,\n",
       " 319,\n",
       " 320,\n",
       " 321,\n",
       " 322,\n",
       " 323,\n",
       " 324,\n",
       " 325,\n",
       " 326,\n",
       " 327,\n",
       " 328,\n",
       " 329,\n",
       " 330,\n",
       " 331,\n",
       " 332,\n",
       " 333,\n",
       " 334,\n",
       " 335,\n",
       " 336,\n",
       " 337,\n",
       " 338,\n",
       " 339,\n",
       " 340,\n",
       " 341,\n",
       " 342,\n",
       " 343,\n",
       " 344,\n",
       " 345,\n",
       " 346,\n",
       " 347,\n",
       " 348,\n",
       " 349,\n",
       " 350,\n",
       " 351,\n",
       " 352,\n",
       " 353,\n",
       " 354,\n",
       " 355,\n",
       " 356,\n",
       " 357,\n",
       " 358,\n",
       " 359,\n",
       " 360,\n",
       " 361,\n",
       " 362,\n",
       " 363,\n",
       " 364,\n",
       " 365,\n",
       " 366,\n",
       " 367,\n",
       " 368,\n",
       " 369,\n",
       " 370,\n",
       " 371,\n",
       " 372,\n",
       " 373,\n",
       " 374,\n",
       " 375,\n",
       " 376,\n",
       " 377,\n",
       " 378,\n",
       " 379,\n",
       " 380,\n",
       " 381,\n",
       " 382,\n",
       " 383,\n",
       " 384,\n",
       " 385,\n",
       " 386,\n",
       " 387,\n",
       " 388,\n",
       " 389,\n",
       " 390,\n",
       " 391,\n",
       " 392,\n",
       " 393,\n",
       " 394,\n",
       " 395,\n",
       " 396,\n",
       " 397,\n",
       " 398,\n",
       " 399,\n",
       " 400,\n",
       " 401,\n",
       " 402,\n",
       " 403,\n",
       " 404,\n",
       " 405,\n",
       " 406,\n",
       " 407,\n",
       " 408,\n",
       " 409,\n",
       " 410,\n",
       " 411,\n",
       " 412,\n",
       " 413,\n",
       " 414,\n",
       " 415,\n",
       " 416,\n",
       " 417,\n",
       " 418,\n",
       " 419,\n",
       " 420,\n",
       " 421,\n",
       " 422,\n",
       " 423,\n",
       " 424,\n",
       " 425,\n",
       " 426,\n",
       " 427,\n",
       " 428,\n",
       " 429,\n",
       " 430,\n",
       " 431,\n",
       " 432,\n",
       " 433,\n",
       " 434,\n",
       " 435,\n",
       " 436,\n",
       " 437,\n",
       " 438,\n",
       " 439,\n",
       " 440,\n",
       " 441,\n",
       " 442,\n",
       " 443,\n",
       " 444,\n",
       " 445,\n",
       " 446,\n",
       " 447,\n",
       " 448,\n",
       " 449,\n",
       " 450,\n",
       " 451,\n",
       " 452,\n",
       " 453,\n",
       " 454,\n",
       " 455,\n",
       " 456,\n",
       " 457,\n",
       " 458,\n",
       " 459,\n",
       " 460,\n",
       " 461,\n",
       " 462,\n",
       " 463,\n",
       " 464,\n",
       " 465,\n",
       " 466,\n",
       " 467,\n",
       " 468,\n",
       " 469,\n",
       " 470,\n",
       " 471,\n",
       " 472,\n",
       " 473,\n",
       " 474,\n",
       " 475,\n",
       " 476,\n",
       " 477,\n",
       " 478,\n",
       " 479,\n",
       " 480,\n",
       " 481,\n",
       " 482,\n",
       " 483,\n",
       " 484,\n",
       " 485,\n",
       " 486,\n",
       " 487,\n",
       " 488,\n",
       " 489,\n",
       " 490,\n",
       " 491,\n",
       " 492,\n",
       " 493,\n",
       " 494,\n",
       " 495,\n",
       " 496,\n",
       " 497,\n",
       " 498,\n",
       " 499,\n",
       " 500,\n",
       " 501,\n",
       " 502,\n",
       " 503,\n",
       " 504,\n",
       " 505,\n",
       " 506,\n",
       " 507,\n",
       " 508,\n",
       " 509,\n",
       " 510,\n",
       " 511,\n",
       " 512,\n",
       " 513,\n",
       " 514,\n",
       " 515,\n",
       " 516,\n",
       " 517,\n",
       " 518,\n",
       " 519,\n",
       " 520,\n",
       " 521,\n",
       " 522,\n",
       " 523,\n",
       " 524,\n",
       " 525,\n",
       " 526,\n",
       " 527,\n",
       " 528,\n",
       " 529,\n",
       " 530,\n",
       " 531,\n",
       " 532,\n",
       " 533,\n",
       " 534,\n",
       " 535,\n",
       " 536,\n",
       " 537,\n",
       " 538,\n",
       " 539,\n",
       " 540,\n",
       " 541,\n",
       " 542,\n",
       " 543,\n",
       " 544,\n",
       " 545,\n",
       " 546,\n",
       " 547,\n",
       " 548,\n",
       " 549,\n",
       " 550,\n",
       " 551,\n",
       " 552,\n",
       " 553,\n",
       " 554,\n",
       " 555,\n",
       " 556,\n",
       " 557,\n",
       " 558,\n",
       " 559,\n",
       " 560,\n",
       " 561,\n",
       " 562,\n",
       " 563,\n",
       " 564,\n",
       " 565,\n",
       " 566,\n",
       " 567,\n",
       " 568,\n",
       " 569,\n",
       " 570,\n",
       " 571,\n",
       " 572,\n",
       " 573,\n",
       " 574,\n",
       " 575,\n",
       " 576,\n",
       " 577,\n",
       " 578,\n",
       " 579,\n",
       " 580,\n",
       " 581,\n",
       " 582,\n",
       " 583,\n",
       " 584,\n",
       " 585,\n",
       " 586,\n",
       " 587,\n",
       " 588,\n",
       " 589,\n",
       " 590,\n",
       " 591,\n",
       " 592,\n",
       " 593,\n",
       " 594,\n",
       " 595,\n",
       " 596,\n",
       " 597,\n",
       " 598,\n",
       " 599,\n",
       " 600,\n",
       " 601,\n",
       " 602,\n",
       " 603,\n",
       " 604,\n",
       " 605,\n",
       " 606,\n",
       " 607,\n",
       " 608,\n",
       " 609,\n",
       " 610,\n",
       " 611,\n",
       " 612,\n",
       " 613,\n",
       " 614,\n",
       " 615,\n",
       " 616,\n",
       " 617,\n",
       " 618,\n",
       " 619,\n",
       " 620,\n",
       " 621,\n",
       " 622,\n",
       " 623,\n",
       " 624,\n",
       " 625,\n",
       " 626,\n",
       " 627,\n",
       " 628,\n",
       " 629,\n",
       " 630,\n",
       " 631,\n",
       " 632,\n",
       " 633,\n",
       " 634,\n",
       " 635,\n",
       " 636,\n",
       " 637,\n",
       " 638,\n",
       " 639,\n",
       " 640,\n",
       " 641,\n",
       " 642,\n",
       " 643,\n",
       " 644,\n",
       " 645,\n",
       " 646,\n",
       " 647,\n",
       " 648,\n",
       " 649,\n",
       " 650,\n",
       " 651,\n",
       " 652,\n",
       " 653,\n",
       " 654,\n",
       " 655,\n",
       " 656,\n",
       " 657,\n",
       " 658,\n",
       " 659,\n",
       " 660,\n",
       " 661,\n",
       " 662,\n",
       " 663,\n",
       " 664,\n",
       " 665,\n",
       " 666,\n",
       " 667,\n",
       " 668,\n",
       " 669,\n",
       " 670,\n",
       " 671,\n",
       " 672,\n",
       " 673,\n",
       " 674,\n",
       " 675,\n",
       " 676,\n",
       " 677,\n",
       " 678,\n",
       " 679,\n",
       " 680,\n",
       " 681,\n",
       " 682,\n",
       " 683,\n",
       " 684,\n",
       " 685,\n",
       " 686,\n",
       " 687,\n",
       " 688,\n",
       " 689,\n",
       " 690,\n",
       " 691,\n",
       " 692,\n",
       " 693,\n",
       " 694,\n",
       " 695,\n",
       " 696,\n",
       " 697,\n",
       " 698,\n",
       " 699,\n",
       " 700,\n",
       " 701,\n",
       " 702,\n",
       " 703,\n",
       " 704,\n",
       " 705,\n",
       " 706,\n",
       " 707,\n",
       " 708,\n",
       " 709,\n",
       " 710,\n",
       " 711,\n",
       " 712,\n",
       " 713,\n",
       " 714,\n",
       " 715,\n",
       " 716,\n",
       " 717,\n",
       " 718,\n",
       " 719,\n",
       " 720,\n",
       " 721,\n",
       " 722,\n",
       " 723,\n",
       " 724,\n",
       " 725,\n",
       " 726,\n",
       " 727,\n",
       " 728,\n",
       " 729,\n",
       " 730,\n",
       " 731,\n",
       " 732,\n",
       " 733,\n",
       " 734,\n",
       " 735,\n",
       " 736,\n",
       " 737,\n",
       " 738,\n",
       " 739,\n",
       " 740,\n",
       " 741,\n",
       " 742,\n",
       " 743,\n",
       " 744,\n",
       " 745,\n",
       " 746,\n",
       " 747,\n",
       " 748,\n",
       " 749,\n",
       " 750,\n",
       " 751,\n",
       " 752,\n",
       " 753,\n",
       " 754,\n",
       " 755,\n",
       " 756,\n",
       " 757,\n",
       " 758,\n",
       " 759,\n",
       " 760,\n",
       " 761,\n",
       " 762,\n",
       " 763,\n",
       " 764,\n",
       " 765,\n",
       " 766,\n",
       " 767,\n",
       " 768,\n",
       " 769,\n",
       " 770,\n",
       " 771,\n",
       " 772,\n",
       " 773,\n",
       " 774,\n",
       " 775,\n",
       " 776,\n",
       " 777,\n",
       " 778,\n",
       " 779,\n",
       " 780,\n",
       " 781,\n",
       " 782,\n",
       " 783,\n",
       " 784,\n",
       " 785,\n",
       " 786,\n",
       " 787,\n",
       " 788,\n",
       " 789,\n",
       " 790,\n",
       " 791,\n",
       " 792,\n",
       " 793,\n",
       " 794,\n",
       " 795,\n",
       " 796,\n",
       " 797,\n",
       " 798,\n",
       " 799,\n",
       " 800,\n",
       " 801,\n",
       " 802,\n",
       " 803,\n",
       " 804,\n",
       " 805,\n",
       " 806,\n",
       " 807,\n",
       " 808,\n",
       " 809,\n",
       " 810,\n",
       " 811,\n",
       " 812,\n",
       " 813,\n",
       " 814,\n",
       " 815,\n",
       " 816,\n",
       " 817,\n",
       " 818,\n",
       " 819,\n",
       " 820,\n",
       " 821,\n",
       " 822,\n",
       " 823,\n",
       " 824,\n",
       " 825,\n",
       " 826,\n",
       " 827,\n",
       " 828,\n",
       " 829,\n",
       " 830,\n",
       " 831,\n",
       " 832,\n",
       " 833,\n",
       " 834,\n",
       " 835,\n",
       " 836,\n",
       " 837,\n",
       " 838,\n",
       " 839,\n",
       " 840,\n",
       " 841,\n",
       " 842,\n",
       " 843,\n",
       " 844,\n",
       " 845,\n",
       " 846,\n",
       " 847,\n",
       " 848,\n",
       " 849,\n",
       " 850,\n",
       " 851,\n",
       " 852,\n",
       " 853,\n",
       " 854,\n",
       " 855,\n",
       " 856,\n",
       " 857,\n",
       " 858,\n",
       " 859,\n",
       " 860,\n",
       " 861,\n",
       " 862,\n",
       " 863,\n",
       " 864,\n",
       " 865,\n",
       " 866,\n",
       " 867,\n",
       " 868,\n",
       " 869,\n",
       " 870,\n",
       " 871,\n",
       " 872,\n",
       " 873,\n",
       " 874,\n",
       " 875,\n",
       " 876,\n",
       " 877,\n",
       " 878,\n",
       " 879,\n",
       " 880,\n",
       " 881,\n",
       " 882,\n",
       " 883,\n",
       " 884,\n",
       " 885,\n",
       " 886,\n",
       " 887,\n",
       " 888,\n",
       " 889,\n",
       " 890,\n",
       " 891,\n",
       " 892,\n",
       " 893,\n",
       " 894,\n",
       " 895,\n",
       " 896,\n",
       " 897,\n",
       " 898,\n",
       " 899,\n",
       " 900,\n",
       " 901,\n",
       " 902,\n",
       " 903,\n",
       " 904,\n",
       " 905,\n",
       " 906,\n",
       " 907,\n",
       " 908,\n",
       " 909,\n",
       " 910,\n",
       " 911,\n",
       " 912,\n",
       " 913,\n",
       " 914,\n",
       " 915,\n",
       " 916,\n",
       " 917,\n",
       " 918,\n",
       " 919,\n",
       " 920,\n",
       " 921,\n",
       " 922,\n",
       " 923,\n",
       " 924,\n",
       " 925,\n",
       " 926,\n",
       " 927,\n",
       " 928,\n",
       " 929,\n",
       " 930,\n",
       " 931,\n",
       " 932,\n",
       " 933,\n",
       " 934,\n",
       " 935,\n",
       " 936,\n",
       " 937,\n",
       " 938,\n",
       " 939,\n",
       " 940,\n",
       " 941,\n",
       " 942,\n",
       " 943,\n",
       " 944,\n",
       " 945,\n",
       " 946,\n",
       " 947,\n",
       " 948,\n",
       " 949,\n",
       " 950,\n",
       " 951,\n",
       " 952,\n",
       " 953,\n",
       " 954,\n",
       " 955,\n",
       " 956,\n",
       " 957,\n",
       " 958,\n",
       " 959,\n",
       " 960,\n",
       " 961,\n",
       " 962,\n",
       " 963,\n",
       " 964,\n",
       " 965,\n",
       " 966,\n",
       " 967,\n",
       " 968,\n",
       " 969,\n",
       " 970,\n",
       " 971,\n",
       " 972,\n",
       " 973,\n",
       " 974,\n",
       " 975,\n",
       " 976,\n",
       " 977,\n",
       " 978,\n",
       " 979,\n",
       " 980,\n",
       " 981,\n",
       " 982,\n",
       " 983,\n",
       " 984,\n",
       " 985,\n",
       " 986,\n",
       " 987,\n",
       " 988,\n",
       " 989,\n",
       " 990,\n",
       " 991,\n",
       " 992,\n",
       " 993,\n",
       " 994,\n",
       " 995,\n",
       " 996,\n",
       " 997,\n",
       " 998,\n",
       " 999,\n",
       " ...}"
      ]
     },
     "execution_count": 20,
     "metadata": {},
     "output_type": "execute_result"
    }
   ],
   "source": [
    "y_train.reset_index(drop=True,inplace=True)\n",
    "X_train.reset_index(drop=True,inplace=True)\n",
    "y_test.reset_index(drop=True,inplace=True)\n",
    "X_test.reset_index(drop=True,inplace=True)"
   ]
  },
  {
   "cell_type": "markdown",
   "metadata": {
    "ExecuteTime": {
     "end_time": "2019-06-11T10:33:50.264087Z",
     "start_time": "2019-06-11T10:33:50.259100Z"
    }
   },
   "source": [
    "## **Take the next steps on <span style=\"color:red\">both datasets</span>, according to the restrictions you learned.**"
   ]
  },
  {
   "cell_type": "markdown",
   "metadata": {},
   "source": [
    "5. Take care of NA values and outliers (if any). Specify the business logic behind your choice."
   ]
  },
  {
   "cell_type": "markdown",
   "metadata": {
    "ExecuteTime": {
     "end_time": "2019-12-09T14:07:12.501626Z",
     "start_time": "2019-12-09T14:07:12.497637Z"
    }
   },
   "source": [
    "We said before that there aren't any NA values, but many zeros in the capital-loss and capital-gain columns which we will treat\n",
    "as NA values. We will remove the capital-loss and capital-gain columns since more than 90% of their values are zeros.\n",
    "\n",
    "In addition the work-class and occupation features have questionmarks (?) values in a large percentage of the data, we will replace them with 'other' so we do not loose data"
   ]
  },
  {
   "cell_type": "code",
   "execution_count": 21,
   "metadata": {},
   "outputs": [
    {
     "data": {
      "text/plain": [
       "0.9533490986149074"
      ]
     },
     "execution_count": 21,
     "metadata": {},
     "output_type": "execute_result"
    }
   ],
   "source": [
    "len(df[df['capital-loss'] == 0])/len(df)"
   ]
  },
  {
   "cell_type": "code",
   "execution_count": 22,
   "metadata": {},
   "outputs": [
    {
     "data": {
      "text/plain": [
       "0.9167101747489328"
      ]
     },
     "execution_count": 22,
     "metadata": {},
     "output_type": "execute_result"
    }
   ],
   "source": [
    "len(df[df['capital-gain'] == 0])/len(df)"
   ]
  },
  {
   "cell_type": "code",
   "execution_count": 23,
   "metadata": {},
   "outputs": [],
   "source": [
    "X_train.drop(columns=['capital-gain'],inplace=True)\n",
    "X_train.drop(columns=['capital-loss'],inplace=True)"
   ]
  },
  {
   "cell_type": "code",
   "execution_count": 24,
   "metadata": {},
   "outputs": [],
   "source": [
    "X_test.drop(columns=['capital-gain'],inplace=True)\n",
    "X_test.drop(columns=['capital-loss'],inplace=True)"
   ]
  },
  {
   "cell_type": "code",
   "execution_count": 25,
   "metadata": {},
   "outputs": [
    {
     "data": {
      "text/plain": [
       " Private             0.695562\n",
       " Self-emp-not-inc    0.078432\n",
       " Local-gov           0.065494\n",
       " ?                   0.055551\n",
       " State-gov           0.040080\n",
       " Self-emp-inc        0.034705\n",
       " Federal-gov         0.029522\n",
       " Without-pay         0.000384\n",
       " Never-worked        0.000269\n",
       "Name: workclass, dtype: float64"
      ]
     },
     "execution_count": 25,
     "metadata": {},
     "output_type": "execute_result"
    }
   ],
   "source": [
    "X_train['workclass'].value_counts()/len(X_train)"
   ]
  },
  {
   "cell_type": "code",
   "execution_count": 26,
   "metadata": {},
   "outputs": [
    {
     "data": {
      "text/plain": [
       " Prof-specialty       0.127150\n",
       " Craft-repair         0.125845\n",
       " Exec-managerial      0.123925\n",
       " Adm-clerical         0.116861\n",
       " Sales                0.112139\n",
       " Other-service        0.100891\n",
       " Machine-op-inspct    0.062346\n",
       " ?                    0.055820\n",
       " Transport-moving     0.049140\n",
       " Handlers-cleaners    0.042115\n",
       " Farming-fishing      0.030751\n",
       " Tech-support         0.028371\n",
       " Protective-serv      0.019694\n",
       " Priv-house-serv      0.004722\n",
       " Armed-Forces         0.000230\n",
       "Name: occupation, dtype: float64"
      ]
     },
     "execution_count": 26,
     "metadata": {},
     "output_type": "execute_result"
    }
   ],
   "source": [
    "X_train['occupation'].value_counts()/len(X_train)"
   ]
  },
  {
   "cell_type": "code",
   "execution_count": 27,
   "metadata": {},
   "outputs": [],
   "source": [
    "X_train['occupation'][X_train['occupation']==' ?']='Other'\n",
    "X_test['occupation'][X_test['occupation']==' ?']='Other'"
   ]
  },
  {
   "cell_type": "code",
   "execution_count": 28,
   "metadata": {},
   "outputs": [],
   "source": [
    "X_train['workclass'][X_train['workclass']==' ?']='Other'\n",
    "X_test['workclass'][X_test['workclass']==' ?']='Other'"
   ]
  },
  {
   "cell_type": "markdown",
   "metadata": {},
   "source": [
    "We can also see that for the native-country feature, about 90% of the values are 'United States', and there is one sub-category which is a questionmark. \n",
    "We will therefore put all 'United States' in 1 bin, and all other states in a 'Other' sub-category"
   ]
  },
  {
   "cell_type": "code",
   "execution_count": 29,
   "metadata": {},
   "outputs": [
    {
     "data": {
      "text/plain": [
       " United-States                 0.894502\n",
       " Mexico                        0.020309\n",
       " ?                             0.017583\n",
       " Philippines                   0.006258\n",
       " Germany                       0.004031\n",
       " Canada                        0.003801\n",
       " Puerto-Rico                   0.003532\n",
       " El-Salvador                   0.003302\n",
       " India                         0.003033\n",
       " England                       0.002918\n",
       " Cuba                          0.002918\n",
       " Jamaica                       0.002611\n",
       " South                         0.002572\n",
       " Dominican-Republic            0.002380\n",
       " Vietnam                       0.002380\n",
       " Italy                         0.002265\n",
       " China                         0.002188\n",
       " Columbia                      0.002035\n",
       " Guatemala                     0.001958\n",
       " Japan                         0.001958\n",
       " Poland                        0.001766\n",
       " Taiwan                        0.001536\n",
       " Haiti                         0.001459\n",
       " Iran                          0.001190\n",
       " Portugal                      0.001190\n",
       " Nicaragua                     0.001037\n",
       " Peru                          0.000998\n",
       " France                        0.000921\n",
       " Ecuador                       0.000883\n",
       " Greece                        0.000845\n",
       " Ireland                       0.000729\n",
       " Cambodia                      0.000614\n",
       " Trinadad&Tobago               0.000614\n",
       " Yugoslavia                    0.000537\n",
       " Laos                          0.000537\n",
       " Outlying-US(Guam-USVI-etc)    0.000537\n",
       " Thailand                      0.000499\n",
       " Hong                          0.000461\n",
       " Hungary                       0.000384\n",
       " Honduras                      0.000346\n",
       " Scotland                      0.000346\n",
       " Holand-Netherlands            0.000038\n",
       "Name: native-country, dtype: float64"
      ]
     },
     "execution_count": 29,
     "metadata": {},
     "output_type": "execute_result"
    }
   ],
   "source": [
    "X_train['native-country'].value_counts()/len(X_train)"
   ]
  },
  {
   "cell_type": "code",
   "execution_count": 30,
   "metadata": {},
   "outputs": [],
   "source": [
    "X_train['native-country']=(X_train['native-country']==' United-States').astype(int)\n",
    "X_test['native-country']=(X_test['native-country']==' United-States').astype(int)"
   ]
  },
  {
   "cell_type": "code",
   "execution_count": 31,
   "metadata": {},
   "outputs": [
    {
     "data": {
      "text/plain": [
       "((26048, 11), (26048,), (6513, 11), (6513,))"
      ]
     },
     "execution_count": 31,
     "metadata": {},
     "output_type": "execute_result"
    }
   ],
   "source": [
    "X_train.shape,y_train.shape,X_test.shape,y_test.shape"
   ]
  },
  {
   "cell_type": "markdown",
   "metadata": {},
   "source": [
    "I addition we will remove rows which contain sub-categorical values containing less than 0.5% of the total category"
   ]
  },
  {
   "cell_type": "code",
   "execution_count": 32,
   "metadata": {},
   "outputs": [],
   "source": [
    "threshold=0.005\n",
    "for param in cat_vars:\n",
    "    keep_values_set=set(X_train[param].value_counts()[(X_train[param].value_counts()/len(X_train)>threshold)].index)\n",
    "    y_train=y_train[X_train[param].isin(keep_values_set).values]\n",
    "    X_train=X_train.iloc[X_train[param].isin(keep_values_set).values]\n",
    "    y_test=y_test[X_test[param].isin(keep_values_set).values]\n",
    "    X_test=X_test.iloc[X_test[param].isin(keep_values_set).values]\n",
    "    y_train.reset_index(drop=True,inplace=True)\n",
    "    X_train.reset_index(drop=True,inplace=True)\n",
    "    y_test.reset_index(drop=True,inplace=True)\n",
    "    X_test.reset_index(drop=True,inplace=True)"
   ]
  },
  {
   "cell_type": "code",
   "execution_count": 33,
   "metadata": {},
   "outputs": [
    {
     "data": {
      "text/plain": [
       "((25843, 11), (25843,), (6467, 11), (6467,))"
      ]
     },
     "execution_count": 33,
     "metadata": {},
     "output_type": "execute_result"
    }
   ],
   "source": [
    "X_train.shape,y_train.shape,X_test.shape,y_test.shape"
   ]
  },
  {
   "cell_type": "markdown",
   "metadata": {},
   "source": [
    "We will remove outliers for the numeric parameters as well, according to the IQR"
   ]
  },
  {
   "cell_type": "code",
   "execution_count": 34,
   "metadata": {},
   "outputs": [],
   "source": [
    "def remove_outlier(df_in, col_name,y,df_test,y_test):\n",
    "    q1 = df_in[col_name].quantile(0.25)\n",
    "    q3 = df_in[col_name].quantile(0.75)\n",
    "    iqr = q3-q1 #Interquartile range\n",
    "    fence_low  = q1-1.5*iqr\n",
    "    fence_high = q3+1.5*iqr\n",
    "    y=y.loc[(df_in[col_name] > fence_low) & (df_in[col_name] < fence_high)]\n",
    "    df_out = df_in.loc[(df_in[col_name] > fence_low) & (df_in[col_name] < fence_high)]\n",
    "    y_test=y_test.loc[(df_test[col_name] > fence_low) & (df_test[col_name] < fence_high)]\n",
    "    df_test= df_test.loc[(df_test[col_name] > fence_low) & (df_test[col_name] < fence_high)]\n",
    "    df_out.reset_index(drop=True,inplace=True)\n",
    "    y.reset_index(drop=True,inplace=True)\n",
    "    df_test.reset_index(drop=True,inplace=True)\n",
    "    y_test.reset_index(drop=True,inplace=True)\n",
    "    return df_out, y,df_test,y_test"
   ]
  },
  {
   "cell_type": "code",
   "execution_count": 35,
   "metadata": {},
   "outputs": [],
   "source": [
    "for param in ['age','education-num']:\n",
    "    X_train, y_train,X_test, y_test=remove_outlier(X_train,'education-num',y_train,X_test,y_test)"
   ]
  },
  {
   "cell_type": "code",
   "execution_count": 36,
   "metadata": {},
   "outputs": [
    {
     "data": {
      "text/plain": [
       "((24950, 11), (24950,), (6248, 11), (6248,))"
      ]
     },
     "execution_count": 36,
     "metadata": {},
     "output_type": "execute_result"
    }
   ],
   "source": [
    "X_train.shape,y_train.shape,X_test.shape,y_test.shape"
   ]
  },
  {
   "cell_type": "markdown",
   "metadata": {},
   "source": [
    "6. Plot the distribution of 3 variables of your choice against the dependent variable - summarize interesting findings if any. One of the chosen features must be numeric, and another one must be categorical. You can choose the third one as you wish."
   ]
  },
  {
   "cell_type": "code",
   "execution_count": 37,
   "metadata": {
    "scrolled": false
   },
   "outputs": [
    {
     "data": {
      "text/plain": [
       "<Figure size 432x288 with 0 Axes>"
      ]
     },
     "metadata": {},
     "output_type": "display_data"
    },
    {
     "data": {
      "image/png": "[encoded data removed]",
      "text/plain": [
       "<Figure size 432x432 with 1 Axes>"
      ]
     },
     "metadata": {},
     "output_type": "display_data"
    },
    {
     "data": {
      "text/plain": [
       "<Figure size 432x288 with 0 Axes>"
      ]
     },
     "metadata": {},
     "output_type": "display_data"
    },
    {
     "data": {
      "image/png": "[encoded data removed]",
      "text/plain": [
       "<Figure size 432x432 with 1 Axes>"
      ]
     },
     "metadata": {},
     "output_type": "display_data"
    }
   ],
   "source": [
    "df_train=X_train.copy()\n",
    "df_train[target]=y_train\n",
    "cat_vars={'sex','education'}\n",
    "\n",
    "for feature in cat_vars:\n",
    "    plt.figure()\n",
    "    ax = df_train.groupby([target, feature]).size().reset_index().pivot(columns=target, \n",
    "                                                                        index=feature, \n",
    "                                                                        values=0)\n",
    "    ax.plot(kind='bar', stacked=True, figsize=(6,6))\n",
    "    plt.legend(loc='upper left', bbox_to_anchor= (1, 1))\n",
    "    plt.title('Distribution of {} against dependent variable {}'.format(feature, target))\n",
    "    plt.show()"
   ]
  },
  {
   "cell_type": "markdown",
   "metadata": {
    "ExecuteTime": {
     "end_time": "2019-12-09T14:07:15.810049Z",
     "start_time": "2019-12-09T14:07:15.807058Z"
    }
   },
   "source": [
    "We can see that in general, men and people with higher education in our data have higher income"
   ]
  },
  {
   "cell_type": "code",
   "execution_count": 38,
   "metadata": {},
   "outputs": [],
   "source": [
    "def display_group_density_plot(df, groupby, on, palette, figsize):\n",
    "    \"\"\"\n",
    "    Displays a density plot by group, given a continuous variable, and a group to split the data by\n",
    "    :param df: DataFrame to display data from\n",
    "    :param groupby: Column name by which plots would be grouped (Categorical, maximum 10 categories)\n",
    "    :param on: Column name of the different density plots\n",
    "    :param palette: Color palette to use for drawing\n",
    "    :param figsize: Figure size\n",
    "    :return: matplotlib.axes._subplots.AxesSubplot object\n",
    "    \"\"\"\n",
    "\n",
    "    if not isinstance(df, pd.core.frame.DataFrame):\n",
    "        raise ValueError('df must be a pandas DataFrame')\n",
    "\n",
    "    if not groupby:\n",
    "        raise ValueError('groupby parameter must be provided')\n",
    "\n",
    "    elif not groupby in df.keys():\n",
    "        raise ValueError(groupby + ' column does not exist in the given DataFrame')\n",
    "\n",
    "    if not on:\n",
    "        raise ValueError('on parameter must be provided')\n",
    "\n",
    "    elif not on in df.keys():\n",
    "        raise ValueError(on + ' column does not exist in the given DataFrame')\n",
    "\n",
    "    if len(set(df[groupby])) > 10:\n",
    "        groups = df[groupby].value_counts().index[:10]\n",
    "\n",
    "    else:\n",
    "        groups = set(df[groupby])\n",
    "\n",
    "    # Get relevant palette\n",
    "    if palette:\n",
    "        palette = palette[:len(groups)]\n",
    "    else:\n",
    "        palette = sns.color_palette()[:len(groups)]\n",
    "\n",
    "    # Plot\n",
    "    fig = plt.figure(figsize=figsize)\n",
    "    ax = fig.add_subplot(111)\n",
    "    ax.legend(bbox_to_anchor=(1.04, 1), loc='upper left')\n",
    "\n",
    "    for value, color in zip(groups, palette):\n",
    "        sns.kdeplot(df.loc[df[groupby] == value][on], \\\n",
    "                    shade=True, color=color, label=value)\n",
    "\n",
    "    ax.set_title(str(\"Distribution of \" + on + \" per \" + groupby + \" group\"),\\\n",
    "                 fontsize=30)\n",
    "    \n",
    "    ax.set_xlabel(on, fontsize=20)\n",
    "    return ax "
   ]
  },
  {
   "cell_type": "code",
   "execution_count": 39,
   "metadata": {},
   "outputs": [
    {
     "name": "stderr",
     "output_type": "stream",
     "text": [
      "No handles with labels found to put in legend.\n"
     ]
    },
    {
     "data": {
      "image/png": "[encoded data removed]",
      "text/plain": [
       "<Figure size 720x360 with 1 Axes>"
      ]
     },
     "metadata": {},
     "output_type": "display_data"
    }
   ],
   "source": [
    "display_group_density_plot(df_train, groupby = \"income\", on = 'age', \\\n",
    "                                           palette = sns.color_palette('Set2'), \n",
    "                           figsize = (10, 5));"
   ]
  },
  {
   "cell_type": "markdown",
   "metadata": {},
   "source": [
    "We can see that we can clearly differentiate between the two distributions therefore the age feature may contribute to our model. In certain ages, up to ~35 years, the average income is relatively lower than about 35 years."
   ]
  },
  {
   "cell_type": "markdown",
   "metadata": {},
   "source": [
    "7. Plot the distribution of 3 independent variables against eachother (3 plots overall), including a color bar for the dependent variable - summarize interesting findings if any. One of the chosen features must be numeric, and another one must be categorical. You can choose the third one as you wish."
   ]
  },
  {
   "cell_type": "code",
   "execution_count": 40,
   "metadata": {},
   "outputs": [
    {
     "data": {
      "text/plain": [
       "' >50K'"
      ]
     },
     "execution_count": 40,
     "metadata": {},
     "output_type": "execute_result"
    }
   ],
   "source": [
    "df['income'][32557]"
   ]
  },
  {
   "cell_type": "code",
   "execution_count": 41,
   "metadata": {
    "ExecuteTime": {
     "end_time": "2019-12-09T14:07:18.531768Z",
     "start_time": "2019-12-09T14:07:18.528776Z"
    }
   },
   "outputs": [
    {
     "data": {
      "image/png": "[encoded data removed]",
      "text/plain": [
       "<Figure size 540x540 with 12 Axes>"
      ]
     },
     "metadata": {},
     "output_type": "display_data"
    }
   ],
   "source": [
    "\n",
    "import numpy as np\n",
    "np.seterr(divide='ignore', invalid='ignore')\n",
    "\n",
    "sns.pairplot(df_train.dropna(), vars=[\"age\",\"sex\",'education'], height=2.5);"
   ]
  },
  {
   "cell_type": "markdown",
   "metadata": {},
   "source": [
    "9. Generate a correlation matrix and plot a heat map of it. What can you say about the correlations?"
   ]
  },
  {
   "cell_type": "code",
   "execution_count": 42,
   "metadata": {
    "ExecuteTime": {
     "end_time": "2019-12-09T14:07:18.874849Z",
     "start_time": "2019-12-09T14:07:18.871858Z"
    }
   },
   "outputs": [
    {
     "data": {
      "text/html": [
       "<style  type=\"text/css\" >\n",
       "    #T_d8503a58_8879_11ea_8993_f8a2d634fb4brow0_col0 {\n",
       "            color:  green;\n",
       "        }    #T_d8503a58_8879_11ea_8993_f8a2d634fb4brow0_col1 {\n",
       "            color:  black;\n",
       "        }    #T_d8503a58_8879_11ea_8993_f8a2d634fb4brow0_col2 {\n",
       "            color:  black;\n",
       "        }    #T_d8503a58_8879_11ea_8993_f8a2d634fb4brow0_col3 {\n",
       "            color:  black;\n",
       "        }    #T_d8503a58_8879_11ea_8993_f8a2d634fb4brow0_col4 {\n",
       "            color:  black;\n",
       "        }    #T_d8503a58_8879_11ea_8993_f8a2d634fb4brow1_col0 {\n",
       "            color:  black;\n",
       "        }    #T_d8503a58_8879_11ea_8993_f8a2d634fb4brow1_col1 {\n",
       "            color:  green;\n",
       "        }    #T_d8503a58_8879_11ea_8993_f8a2d634fb4brow1_col2 {\n",
       "            color:  black;\n",
       "        }    #T_d8503a58_8879_11ea_8993_f8a2d634fb4brow1_col3 {\n",
       "            color:  black;\n",
       "        }    #T_d8503a58_8879_11ea_8993_f8a2d634fb4brow1_col4 {\n",
       "            color:  black;\n",
       "        }    #T_d8503a58_8879_11ea_8993_f8a2d634fb4brow2_col0 {\n",
       "            color:  black;\n",
       "        }    #T_d8503a58_8879_11ea_8993_f8a2d634fb4brow2_col1 {\n",
       "            color:  black;\n",
       "        }    #T_d8503a58_8879_11ea_8993_f8a2d634fb4brow2_col2 {\n",
       "            color:  green;\n",
       "        }    #T_d8503a58_8879_11ea_8993_f8a2d634fb4brow2_col3 {\n",
       "            color:  black;\n",
       "        }    #T_d8503a58_8879_11ea_8993_f8a2d634fb4brow2_col4 {\n",
       "            color:  black;\n",
       "        }    #T_d8503a58_8879_11ea_8993_f8a2d634fb4brow3_col0 {\n",
       "            color:  black;\n",
       "        }    #T_d8503a58_8879_11ea_8993_f8a2d634fb4brow3_col1 {\n",
       "            color:  black;\n",
       "        }    #T_d8503a58_8879_11ea_8993_f8a2d634fb4brow3_col2 {\n",
       "            color:  black;\n",
       "        }    #T_d8503a58_8879_11ea_8993_f8a2d634fb4brow3_col3 {\n",
       "            color:  green;\n",
       "        }    #T_d8503a58_8879_11ea_8993_f8a2d634fb4brow3_col4 {\n",
       "            color:  black;\n",
       "        }    #T_d8503a58_8879_11ea_8993_f8a2d634fb4brow4_col0 {\n",
       "            color:  black;\n",
       "        }    #T_d8503a58_8879_11ea_8993_f8a2d634fb4brow4_col1 {\n",
       "            color:  black;\n",
       "        }    #T_d8503a58_8879_11ea_8993_f8a2d634fb4brow4_col2 {\n",
       "            color:  black;\n",
       "        }    #T_d8503a58_8879_11ea_8993_f8a2d634fb4brow4_col3 {\n",
       "            color:  black;\n",
       "        }    #T_d8503a58_8879_11ea_8993_f8a2d634fb4brow4_col4 {\n",
       "            color:  green;\n",
       "        }</style><table id=\"T_d8503a58_8879_11ea_8993_f8a2d634fb4b\" ><thead>    <tr>        <th class=\"blank level0\" ></th>        <th class=\"col_heading level0 col0\" >hours-per-week</th>        <th class=\"col_heading level0 col1\" >education-num</th>        <th class=\"col_heading level0 col2\" >native-country</th>        <th class=\"col_heading level0 col3\" >age</th>        <th class=\"col_heading level0 col4\" >income</th>    </tr></thead><tbody>\n",
       "                <tr>\n",
       "                        <th id=\"T_d8503a58_8879_11ea_8993_f8a2d634fb4blevel0_row0\" class=\"row_heading level0 row0\" >hours-per-week</th>\n",
       "                        <td id=\"T_d8503a58_8879_11ea_8993_f8a2d634fb4brow0_col0\" class=\"data row0 col0\" >1</td>\n",
       "                        <td id=\"T_d8503a58_8879_11ea_8993_f8a2d634fb4brow0_col1\" class=\"data row0 col1\" >0.159583</td>\n",
       "                        <td id=\"T_d8503a58_8879_11ea_8993_f8a2d634fb4brow0_col2\" class=\"data row0 col2\" >0.00108058</td>\n",
       "                        <td id=\"T_d8503a58_8879_11ea_8993_f8a2d634fb4brow0_col3\" class=\"data row0 col3\" >0.0920903</td>\n",
       "                        <td id=\"T_d8503a58_8879_11ea_8993_f8a2d634fb4brow0_col4\" class=\"data row0 col4\" >0.231441</td>\n",
       "            </tr>\n",
       "            <tr>\n",
       "                        <th id=\"T_d8503a58_8879_11ea_8993_f8a2d634fb4blevel0_row1\" class=\"row_heading level0 row1\" >education-num</th>\n",
       "                        <td id=\"T_d8503a58_8879_11ea_8993_f8a2d634fb4brow1_col0\" class=\"data row1 col0\" >0.159583</td>\n",
       "                        <td id=\"T_d8503a58_8879_11ea_8993_f8a2d634fb4brow1_col1\" class=\"data row1 col1\" >1</td>\n",
       "                        <td id=\"T_d8503a58_8879_11ea_8993_f8a2d634fb4brow1_col2\" class=\"data row1 col2\" >-0.0269404</td>\n",
       "                        <td id=\"T_d8503a58_8879_11ea_8993_f8a2d634fb4brow1_col3\" class=\"data row1 col3\" >0.113221</td>\n",
       "                        <td id=\"T_d8503a58_8879_11ea_8993_f8a2d634fb4brow1_col4\" class=\"data row1 col4\" >0.340235</td>\n",
       "            </tr>\n",
       "            <tr>\n",
       "                        <th id=\"T_d8503a58_8879_11ea_8993_f8a2d634fb4blevel0_row2\" class=\"row_heading level0 row2\" >native-country</th>\n",
       "                        <td id=\"T_d8503a58_8879_11ea_8993_f8a2d634fb4brow2_col0\" class=\"data row2 col0\" >0.00108058</td>\n",
       "                        <td id=\"T_d8503a58_8879_11ea_8993_f8a2d634fb4brow2_col1\" class=\"data row2 col1\" >-0.0269404</td>\n",
       "                        <td id=\"T_d8503a58_8879_11ea_8993_f8a2d634fb4brow2_col2\" class=\"data row2 col2\" >1</td>\n",
       "                        <td id=\"T_d8503a58_8879_11ea_8993_f8a2d634fb4brow2_col3\" class=\"data row2 col3\" >0.015327</td>\n",
       "                        <td id=\"T_d8503a58_8879_11ea_8993_f8a2d634fb4brow2_col4\" class=\"data row2 col4\" >0.0169913</td>\n",
       "            </tr>\n",
       "            <tr>\n",
       "                        <th id=\"T_d8503a58_8879_11ea_8993_f8a2d634fb4blevel0_row3\" class=\"row_heading level0 row3\" >age</th>\n",
       "                        <td id=\"T_d8503a58_8879_11ea_8993_f8a2d634fb4brow3_col0\" class=\"data row3 col0\" >0.0920903</td>\n",
       "                        <td id=\"T_d8503a58_8879_11ea_8993_f8a2d634fb4brow3_col1\" class=\"data row3 col1\" >0.113221</td>\n",
       "                        <td id=\"T_d8503a58_8879_11ea_8993_f8a2d634fb4brow3_col2\" class=\"data row3 col2\" >0.015327</td>\n",
       "                        <td id=\"T_d8503a58_8879_11ea_8993_f8a2d634fb4brow3_col3\" class=\"data row3 col3\" >1</td>\n",
       "                        <td id=\"T_d8503a58_8879_11ea_8993_f8a2d634fb4brow3_col4\" class=\"data row3 col4\" >0.255422</td>\n",
       "            </tr>\n",
       "            <tr>\n",
       "                        <th id=\"T_d8503a58_8879_11ea_8993_f8a2d634fb4blevel0_row4\" class=\"row_heading level0 row4\" >income</th>\n",
       "                        <td id=\"T_d8503a58_8879_11ea_8993_f8a2d634fb4brow4_col0\" class=\"data row4 col0\" >0.231441</td>\n",
       "                        <td id=\"T_d8503a58_8879_11ea_8993_f8a2d634fb4brow4_col1\" class=\"data row4 col1\" >0.340235</td>\n",
       "                        <td id=\"T_d8503a58_8879_11ea_8993_f8a2d634fb4brow4_col2\" class=\"data row4 col2\" >0.0169913</td>\n",
       "                        <td id=\"T_d8503a58_8879_11ea_8993_f8a2d634fb4brow4_col3\" class=\"data row4 col3\" >0.255422</td>\n",
       "                        <td id=\"T_d8503a58_8879_11ea_8993_f8a2d634fb4brow4_col4\" class=\"data row4 col4\" >1</td>\n",
       "            </tr>\n",
       "    </tbody></table>"
      ],
      "text/plain": [
       "<pandas.io.formats.style.Styler at 0x181fdd37448>"
      ]
     },
     "execution_count": 42,
     "metadata": {},
     "output_type": "execute_result"
    }
   ],
   "source": [
    "df_train=X_train.copy()\n",
    "df_train[target]=y_train\n",
    "df_train['income']=(df_train['income']==' >50K').astype(int)\n",
    "def color_map(val):\n",
    "    color = 'red' if float(val) < -0.4 else 'green' if float(val) > 0.4  else 'black'\n",
    "    return 'color: %s' % color\n",
    "\n",
    "corr = df_train.corr()\n",
    "df_styled = corr.style.applymap(color_map)\n",
    "df_styled"
   ]
  },
  {
   "cell_type": "code",
   "execution_count": 43,
   "metadata": {},
   "outputs": [
    {
     "data": {
      "text/plain": [
       "<Figure size 432x288 with 0 Axes>"
      ]
     },
     "metadata": {},
     "output_type": "display_data"
    },
    {
     "data": {
      "image/png": "[encoded data removed]",
      "text/plain": [
       "<Figure size 360x360 with 2 Axes>"
      ]
     },
     "metadata": {},
     "output_type": "display_data"
    }
   ],
   "source": [
    "plt.figure()\n",
    "plt.figure(figsize=(5, 5))\n",
    "y_train=df_train['income']\n",
    "sns.heatmap(pd.concat([X_train, y_train], axis =1).corr(), annot=True, fmt=\".2f\", vmin=-1, vmax=1)\n",
    "plt.xlim(0,5)\n",
    "plt.ylim(0,5);"
   ]
  },
  {
   "cell_type": "markdown",
   "metadata": {},
   "source": [
    "We can see the education feature has the highest correlation to the income"
   ]
  },
  {
   "cell_type": "code",
   "execution_count": 44,
   "metadata": {},
   "outputs": [
    {
     "data": {
      "text/plain": [
       "Index(['hours-per-week', 'education-num', 'education', 'native-country',\n",
       "       'race', 'age', 'workclass', 'relationship', 'sex', 'occupation',\n",
       "       'marital-status'],\n",
       "      dtype='object')"
      ]
     },
     "execution_count": 44,
     "metadata": {},
     "output_type": "execute_result"
    }
   ],
   "source": [
    "X_train.columns"
   ]
  },
  {
   "cell_type": "markdown",
   "metadata": {},
   "source": [
    "11. Deal with 3 of the categorical features (prepare them for a model)"
   ]
  },
  {
   "cell_type": "code",
   "execution_count": 45,
   "metadata": {
    "ExecuteTime": {
     "end_time": "2019-12-09T14:07:23.088574Z",
     "start_time": "2019-12-09T14:07:23.084584Z"
    }
   },
   "outputs": [],
   "source": [
    "X_train = pd.get_dummies(X_train, columns=[\"relationship\",\"native-country\",\"workclass\"]).copy()"
   ]
  },
  {
   "cell_type": "code",
   "execution_count": 46,
   "metadata": {},
   "outputs": [],
   "source": [
    "X_test = pd.get_dummies(X_test, columns=[\"relationship\",\"native-country\",\"workclass\"]).copy()"
   ]
  },
  {
   "cell_type": "markdown",
   "metadata": {},
   "source": [
    "12. Deal with numerical features"
   ]
  },
  {
   "cell_type": "code",
   "execution_count": 47,
   "metadata": {
    "ExecuteTime": {
     "end_time": "2019-12-09T14:07:23.232191Z",
     "start_time": "2019-12-09T14:07:23.228202Z"
    }
   },
   "outputs": [
    {
     "name": "stdout",
     "output_type": "stream",
     "text": [
      "MinMaxScaler(copy=True, feature_range=(0, 1))\n"
     ]
    }
   ],
   "source": [
    "from sklearn.preprocessing import StandardScaler, MinMaxScaler\n",
    "mm_scaler = MinMaxScaler()\n",
    "print(mm_scaler.fit(X_train._get_numeric_data()))\n",
    "X_train[X_train._get_numeric_data().columns.values]=mm_scaler.transform(X_train._get_numeric_data())\n",
    "X_test[X_test._get_numeric_data().columns.values]=mm_scaler.transform(X_test._get_numeric_data())"
   ]
  },
  {
   "cell_type": "code",
   "execution_count": 48,
   "metadata": {},
   "outputs": [
    {
     "data": {
      "text/html": [
       "<div>\n",
       "<style scoped>\n",
       "    .dataframe tbody tr th:only-of-type {\n",
       "        vertical-align: middle;\n",
       "    }\n",
       "\n",
       "    .dataframe tbody tr th {\n",
       "        vertical-align: top;\n",
       "    }\n",
       "\n",
       "    .dataframe thead th {\n",
       "        text-align: right;\n",
       "    }\n",
       "</style>\n",
       "<table border=\"1\" class=\"dataframe\">\n",
       "  <thead>\n",
       "    <tr style=\"text-align: right;\">\n",
       "      <th></th>\n",
       "      <th>hours-per-week</th>\n",
       "      <th>education-num</th>\n",
       "      <th>education</th>\n",
       "      <th>race</th>\n",
       "      <th>age</th>\n",
       "      <th>sex</th>\n",
       "      <th>occupation</th>\n",
       "      <th>marital-status</th>\n",
       "      <th>relationship_ Husband</th>\n",
       "      <th>relationship_ Not-in-family</th>\n",
       "      <th>...</th>\n",
       "      <th>relationship_ Wife</th>\n",
       "      <th>native-country_0</th>\n",
       "      <th>native-country_1</th>\n",
       "      <th>workclass_ Federal-gov</th>\n",
       "      <th>workclass_ Local-gov</th>\n",
       "      <th>workclass_ Private</th>\n",
       "      <th>workclass_ Self-emp-inc</th>\n",
       "      <th>workclass_ Self-emp-not-inc</th>\n",
       "      <th>workclass_ State-gov</th>\n",
       "      <th>workclass_Other</th>\n",
       "    </tr>\n",
       "  </thead>\n",
       "  <tbody>\n",
       "    <tr>\n",
       "      <td>0</td>\n",
       "      <td>0.500000</td>\n",
       "      <td>0.727273</td>\n",
       "      <td>Bachelors</td>\n",
       "      <td>White</td>\n",
       "      <td>0.219178</td>\n",
       "      <td>Female</td>\n",
       "      <td>Prof-specialty</td>\n",
       "      <td>Never-married</td>\n",
       "      <td>0.0</td>\n",
       "      <td>1.0</td>\n",
       "      <td>...</td>\n",
       "      <td>0.0</td>\n",
       "      <td>0.0</td>\n",
       "      <td>1.0</td>\n",
       "      <td>0.0</td>\n",
       "      <td>1.0</td>\n",
       "      <td>0.0</td>\n",
       "      <td>0.0</td>\n",
       "      <td>0.0</td>\n",
       "      <td>0.0</td>\n",
       "      <td>0.0</td>\n",
       "    </tr>\n",
       "    <tr>\n",
       "      <td>1</td>\n",
       "      <td>0.500000</td>\n",
       "      <td>0.545455</td>\n",
       "      <td>Assoc-voc</td>\n",
       "      <td>White</td>\n",
       "      <td>0.260274</td>\n",
       "      <td>Male</td>\n",
       "      <td>Exec-managerial</td>\n",
       "      <td>Married-civ-spouse</td>\n",
       "      <td>1.0</td>\n",
       "      <td>0.0</td>\n",
       "      <td>...</td>\n",
       "      <td>0.0</td>\n",
       "      <td>0.0</td>\n",
       "      <td>1.0</td>\n",
       "      <td>0.0</td>\n",
       "      <td>0.0</td>\n",
       "      <td>1.0</td>\n",
       "      <td>0.0</td>\n",
       "      <td>0.0</td>\n",
       "      <td>0.0</td>\n",
       "      <td>0.0</td>\n",
       "    </tr>\n",
       "    <tr>\n",
       "      <td>2</td>\n",
       "      <td>0.397959</td>\n",
       "      <td>0.000000</td>\n",
       "      <td>9th</td>\n",
       "      <td>White</td>\n",
       "      <td>0.561644</td>\n",
       "      <td>Male</td>\n",
       "      <td>Craft-repair</td>\n",
       "      <td>Separated</td>\n",
       "      <td>0.0</td>\n",
       "      <td>1.0</td>\n",
       "      <td>...</td>\n",
       "      <td>0.0</td>\n",
       "      <td>0.0</td>\n",
       "      <td>1.0</td>\n",
       "      <td>0.0</td>\n",
       "      <td>0.0</td>\n",
       "      <td>0.0</td>\n",
       "      <td>0.0</td>\n",
       "      <td>1.0</td>\n",
       "      <td>0.0</td>\n",
       "      <td>0.0</td>\n",
       "    </tr>\n",
       "    <tr>\n",
       "      <td>3</td>\n",
       "      <td>0.459184</td>\n",
       "      <td>0.545455</td>\n",
       "      <td>Assoc-voc</td>\n",
       "      <td>White</td>\n",
       "      <td>0.054795</td>\n",
       "      <td>Male</td>\n",
       "      <td>Farming-fishing</td>\n",
       "      <td>Married-civ-spouse</td>\n",
       "      <td>1.0</td>\n",
       "      <td>0.0</td>\n",
       "      <td>...</td>\n",
       "      <td>0.0</td>\n",
       "      <td>0.0</td>\n",
       "      <td>1.0</td>\n",
       "      <td>0.0</td>\n",
       "      <td>0.0</td>\n",
       "      <td>1.0</td>\n",
       "      <td>0.0</td>\n",
       "      <td>0.0</td>\n",
       "      <td>0.0</td>\n",
       "      <td>0.0</td>\n",
       "    </tr>\n",
       "    <tr>\n",
       "      <td>4</td>\n",
       "      <td>0.397959</td>\n",
       "      <td>0.454545</td>\n",
       "      <td>Some-college</td>\n",
       "      <td>White</td>\n",
       "      <td>0.136986</td>\n",
       "      <td>Male</td>\n",
       "      <td>Other-service</td>\n",
       "      <td>Divorced</td>\n",
       "      <td>0.0</td>\n",
       "      <td>1.0</td>\n",
       "      <td>...</td>\n",
       "      <td>0.0</td>\n",
       "      <td>0.0</td>\n",
       "      <td>1.0</td>\n",
       "      <td>0.0</td>\n",
       "      <td>0.0</td>\n",
       "      <td>1.0</td>\n",
       "      <td>0.0</td>\n",
       "      <td>0.0</td>\n",
       "      <td>0.0</td>\n",
       "      <td>0.0</td>\n",
       "    </tr>\n",
       "  </tbody>\n",
       "</table>\n",
       "<p>5 rows × 23 columns</p>\n",
       "</div>"
      ],
      "text/plain": [
       "   hours-per-week  education-num      education    race       age      sex  \\\n",
       "0        0.500000       0.727273      Bachelors   White  0.219178   Female   \n",
       "1        0.500000       0.545455      Assoc-voc   White  0.260274     Male   \n",
       "2        0.397959       0.000000            9th   White  0.561644     Male   \n",
       "3        0.459184       0.545455      Assoc-voc   White  0.054795     Male   \n",
       "4        0.397959       0.454545   Some-college   White  0.136986     Male   \n",
       "\n",
       "         occupation       marital-status  relationship_ Husband  \\\n",
       "0    Prof-specialty        Never-married                    0.0   \n",
       "1   Exec-managerial   Married-civ-spouse                    1.0   \n",
       "2      Craft-repair            Separated                    0.0   \n",
       "3   Farming-fishing   Married-civ-spouse                    1.0   \n",
       "4     Other-service             Divorced                    0.0   \n",
       "\n",
       "   relationship_ Not-in-family  ...  relationship_ Wife  native-country_0  \\\n",
       "0                          1.0  ...                 0.0               0.0   \n",
       "1                          0.0  ...                 0.0               0.0   \n",
       "2                          1.0  ...                 0.0               0.0   \n",
       "3                          0.0  ...                 0.0               0.0   \n",
       "4                          1.0  ...                 0.0               0.0   \n",
       "\n",
       "   native-country_1  workclass_ Federal-gov  workclass_ Local-gov  \\\n",
       "0               1.0                     0.0                   1.0   \n",
       "1               1.0                     0.0                   0.0   \n",
       "2               1.0                     0.0                   0.0   \n",
       "3               1.0                     0.0                   0.0   \n",
       "4               1.0                     0.0                   0.0   \n",
       "\n",
       "   workclass_ Private  workclass_ Self-emp-inc  workclass_ Self-emp-not-inc  \\\n",
       "0                 0.0                      0.0                          0.0   \n",
       "1                 1.0                      0.0                          0.0   \n",
       "2                 0.0                      0.0                          1.0   \n",
       "3                 1.0                      0.0                          0.0   \n",
       "4                 1.0                      0.0                          0.0   \n",
       "\n",
       "   workclass_ State-gov  workclass_Other  \n",
       "0                   0.0              0.0  \n",
       "1                   0.0              0.0  \n",
       "2                   0.0              0.0  \n",
       "3                   0.0              0.0  \n",
       "4                   0.0              0.0  \n",
       "\n",
       "[5 rows x 23 columns]"
      ]
     },
     "execution_count": 48,
     "metadata": {},
     "output_type": "execute_result"
    }
   ],
   "source": [
    "X_train.head()"
   ]
  },
  {
   "cell_type": "markdown",
   "metadata": {},
   "source": [
    "13. Select features according to the correlations and other criteria (cardinality, value distribution, % of similar values in the column, drop ids, etc...) - see helper function. By selecting features we mean - drop any unwanted features. **Make sure you are left only with features that we can you in a model**"
   ]
  },
  {
   "cell_type": "markdown",
   "metadata": {},
   "source": [
    "I will first remove columns which are redundant, meaning have low cardinality"
   ]
  },
  {
   "cell_type": "code",
   "execution_count": 49,
   "metadata": {
    "ExecuteTime": {
     "end_time": "2019-12-09T13:50:23.166642Z",
     "start_time": "2019-12-09T13:50:23.162656Z"
    }
   },
   "outputs": [
    {
     "data": {
      "text/plain": [
       "['relationship_ Other-relative',\n",
       " 'relationship_ Wife',\n",
       " 'native-country_0',\n",
       " 'workclass_ Federal-gov',\n",
       " 'workclass_ Local-gov',\n",
       " 'workclass_ Self-emp-inc',\n",
       " 'workclass_ Self-emp-not-inc',\n",
       " 'workclass_ State-gov',\n",
       " 'workclass_Other',\n",
       " 'native-country_1']"
      ]
     },
     "execution_count": 49,
     "metadata": {},
     "output_type": "execute_result"
    }
   ],
   "source": [
    "redundant_cols=get_redundant_binary_cols(X_train, 0.9)\n",
    "redundant_cols"
   ]
  },
  {
   "cell_type": "code",
   "execution_count": 50,
   "metadata": {},
   "outputs": [],
   "source": [
    "X_train.drop(redundant_cols, axis=1,inplace=True)\n",
    "X_test.drop(redundant_cols, axis=1,inplace=True)"
   ]
  },
  {
   "cell_type": "code",
   "execution_count": 51,
   "metadata": {},
   "outputs": [
    {
     "data": {
      "text/html": [
       "<style  type=\"text/css\" >\n",
       "    #T_d89af2f6_8879_11ea_b42b_f8a2d634fb4brow0_col0 {\n",
       "            color:  green;\n",
       "        }    #T_d89af2f6_8879_11ea_b42b_f8a2d634fb4brow0_col1 {\n",
       "            color:  black;\n",
       "        }    #T_d89af2f6_8879_11ea_b42b_f8a2d634fb4brow0_col2 {\n",
       "            color:  black;\n",
       "        }    #T_d89af2f6_8879_11ea_b42b_f8a2d634fb4brow0_col3 {\n",
       "            color:  black;\n",
       "        }    #T_d89af2f6_8879_11ea_b42b_f8a2d634fb4brow0_col4 {\n",
       "            color:  black;\n",
       "        }    #T_d89af2f6_8879_11ea_b42b_f8a2d634fb4brow0_col5 {\n",
       "            color:  black;\n",
       "        }    #T_d89af2f6_8879_11ea_b42b_f8a2d634fb4brow0_col6 {\n",
       "            color:  black;\n",
       "        }    #T_d89af2f6_8879_11ea_b42b_f8a2d634fb4brow0_col7 {\n",
       "            color:  black;\n",
       "        }    #T_d89af2f6_8879_11ea_b42b_f8a2d634fb4brow0_col8 {\n",
       "            color:  black;\n",
       "        }    #T_d89af2f6_8879_11ea_b42b_f8a2d634fb4brow1_col0 {\n",
       "            color:  black;\n",
       "        }    #T_d89af2f6_8879_11ea_b42b_f8a2d634fb4brow1_col1 {\n",
       "            color:  green;\n",
       "        }    #T_d89af2f6_8879_11ea_b42b_f8a2d634fb4brow1_col2 {\n",
       "            color:  black;\n",
       "        }    #T_d89af2f6_8879_11ea_b42b_f8a2d634fb4brow1_col3 {\n",
       "            color:  black;\n",
       "        }    #T_d89af2f6_8879_11ea_b42b_f8a2d634fb4brow1_col4 {\n",
       "            color:  black;\n",
       "        }    #T_d89af2f6_8879_11ea_b42b_f8a2d634fb4brow1_col5 {\n",
       "            color:  black;\n",
       "        }    #T_d89af2f6_8879_11ea_b42b_f8a2d634fb4brow1_col6 {\n",
       "            color:  black;\n",
       "        }    #T_d89af2f6_8879_11ea_b42b_f8a2d634fb4brow1_col7 {\n",
       "            color:  black;\n",
       "        }    #T_d89af2f6_8879_11ea_b42b_f8a2d634fb4brow1_col8 {\n",
       "            color:  black;\n",
       "        }    #T_d89af2f6_8879_11ea_b42b_f8a2d634fb4brow2_col0 {\n",
       "            color:  black;\n",
       "        }    #T_d89af2f6_8879_11ea_b42b_f8a2d634fb4brow2_col1 {\n",
       "            color:  black;\n",
       "        }    #T_d89af2f6_8879_11ea_b42b_f8a2d634fb4brow2_col2 {\n",
       "            color:  green;\n",
       "        }    #T_d89af2f6_8879_11ea_b42b_f8a2d634fb4brow2_col3 {\n",
       "            color:  black;\n",
       "        }    #T_d89af2f6_8879_11ea_b42b_f8a2d634fb4brow2_col4 {\n",
       "            color:  black;\n",
       "        }    #T_d89af2f6_8879_11ea_b42b_f8a2d634fb4brow2_col5 {\n",
       "            color:  red;\n",
       "        }    #T_d89af2f6_8879_11ea_b42b_f8a2d634fb4brow2_col6 {\n",
       "            color:  black;\n",
       "        }    #T_d89af2f6_8879_11ea_b42b_f8a2d634fb4brow2_col7 {\n",
       "            color:  black;\n",
       "        }    #T_d89af2f6_8879_11ea_b42b_f8a2d634fb4brow2_col8 {\n",
       "            color:  black;\n",
       "        }    #T_d89af2f6_8879_11ea_b42b_f8a2d634fb4brow3_col0 {\n",
       "            color:  black;\n",
       "        }    #T_d89af2f6_8879_11ea_b42b_f8a2d634fb4brow3_col1 {\n",
       "            color:  black;\n",
       "        }    #T_d89af2f6_8879_11ea_b42b_f8a2d634fb4brow3_col2 {\n",
       "            color:  black;\n",
       "        }    #T_d89af2f6_8879_11ea_b42b_f8a2d634fb4brow3_col3 {\n",
       "            color:  green;\n",
       "        }    #T_d89af2f6_8879_11ea_b42b_f8a2d634fb4brow3_col4 {\n",
       "            color:  red;\n",
       "        }    #T_d89af2f6_8879_11ea_b42b_f8a2d634fb4brow3_col5 {\n",
       "            color:  black;\n",
       "        }    #T_d89af2f6_8879_11ea_b42b_f8a2d634fb4brow3_col6 {\n",
       "            color:  black;\n",
       "        }    #T_d89af2f6_8879_11ea_b42b_f8a2d634fb4brow3_col7 {\n",
       "            color:  black;\n",
       "        }    #T_d89af2f6_8879_11ea_b42b_f8a2d634fb4brow3_col8 {\n",
       "            color:  green;\n",
       "        }    #T_d89af2f6_8879_11ea_b42b_f8a2d634fb4brow4_col0 {\n",
       "            color:  black;\n",
       "        }    #T_d89af2f6_8879_11ea_b42b_f8a2d634fb4brow4_col1 {\n",
       "            color:  black;\n",
       "        }    #T_d89af2f6_8879_11ea_b42b_f8a2d634fb4brow4_col2 {\n",
       "            color:  black;\n",
       "        }    #T_d89af2f6_8879_11ea_b42b_f8a2d634fb4brow4_col3 {\n",
       "            color:  red;\n",
       "        }    #T_d89af2f6_8879_11ea_b42b_f8a2d634fb4brow4_col4 {\n",
       "            color:  green;\n",
       "        }    #T_d89af2f6_8879_11ea_b42b_f8a2d634fb4brow4_col5 {\n",
       "            color:  black;\n",
       "        }    #T_d89af2f6_8879_11ea_b42b_f8a2d634fb4brow4_col6 {\n",
       "            color:  black;\n",
       "        }    #T_d89af2f6_8879_11ea_b42b_f8a2d634fb4brow4_col7 {\n",
       "            color:  black;\n",
       "        }    #T_d89af2f6_8879_11ea_b42b_f8a2d634fb4brow4_col8 {\n",
       "            color:  black;\n",
       "        }    #T_d89af2f6_8879_11ea_b42b_f8a2d634fb4brow5_col0 {\n",
       "            color:  black;\n",
       "        }    #T_d89af2f6_8879_11ea_b42b_f8a2d634fb4brow5_col1 {\n",
       "            color:  black;\n",
       "        }    #T_d89af2f6_8879_11ea_b42b_f8a2d634fb4brow5_col2 {\n",
       "            color:  red;\n",
       "        }    #T_d89af2f6_8879_11ea_b42b_f8a2d634fb4brow5_col3 {\n",
       "            color:  black;\n",
       "        }    #T_d89af2f6_8879_11ea_b42b_f8a2d634fb4brow5_col4 {\n",
       "            color:  black;\n",
       "        }    #T_d89af2f6_8879_11ea_b42b_f8a2d634fb4brow5_col5 {\n",
       "            color:  green;\n",
       "        }    #T_d89af2f6_8879_11ea_b42b_f8a2d634fb4brow5_col6 {\n",
       "            color:  black;\n",
       "        }    #T_d89af2f6_8879_11ea_b42b_f8a2d634fb4brow5_col7 {\n",
       "            color:  black;\n",
       "        }    #T_d89af2f6_8879_11ea_b42b_f8a2d634fb4brow5_col8 {\n",
       "            color:  black;\n",
       "        }    #T_d89af2f6_8879_11ea_b42b_f8a2d634fb4brow6_col0 {\n",
       "            color:  black;\n",
       "        }    #T_d89af2f6_8879_11ea_b42b_f8a2d634fb4brow6_col1 {\n",
       "            color:  black;\n",
       "        }    #T_d89af2f6_8879_11ea_b42b_f8a2d634fb4brow6_col2 {\n",
       "            color:  black;\n",
       "        }    #T_d89af2f6_8879_11ea_b42b_f8a2d634fb4brow6_col3 {\n",
       "            color:  black;\n",
       "        }    #T_d89af2f6_8879_11ea_b42b_f8a2d634fb4brow6_col4 {\n",
       "            color:  black;\n",
       "        }    #T_d89af2f6_8879_11ea_b42b_f8a2d634fb4brow6_col5 {\n",
       "            color:  black;\n",
       "        }    #T_d89af2f6_8879_11ea_b42b_f8a2d634fb4brow6_col6 {\n",
       "            color:  green;\n",
       "        }    #T_d89af2f6_8879_11ea_b42b_f8a2d634fb4brow6_col7 {\n",
       "            color:  black;\n",
       "        }    #T_d89af2f6_8879_11ea_b42b_f8a2d634fb4brow6_col8 {\n",
       "            color:  black;\n",
       "        }    #T_d89af2f6_8879_11ea_b42b_f8a2d634fb4brow7_col0 {\n",
       "            color:  black;\n",
       "        }    #T_d89af2f6_8879_11ea_b42b_f8a2d634fb4brow7_col1 {\n",
       "            color:  black;\n",
       "        }    #T_d89af2f6_8879_11ea_b42b_f8a2d634fb4brow7_col2 {\n",
       "            color:  black;\n",
       "        }    #T_d89af2f6_8879_11ea_b42b_f8a2d634fb4brow7_col3 {\n",
       "            color:  black;\n",
       "        }    #T_d89af2f6_8879_11ea_b42b_f8a2d634fb4brow7_col4 {\n",
       "            color:  black;\n",
       "        }    #T_d89af2f6_8879_11ea_b42b_f8a2d634fb4brow7_col5 {\n",
       "            color:  black;\n",
       "        }    #T_d89af2f6_8879_11ea_b42b_f8a2d634fb4brow7_col6 {\n",
       "            color:  black;\n",
       "        }    #T_d89af2f6_8879_11ea_b42b_f8a2d634fb4brow7_col7 {\n",
       "            color:  green;\n",
       "        }    #T_d89af2f6_8879_11ea_b42b_f8a2d634fb4brow7_col8 {\n",
       "            color:  black;\n",
       "        }    #T_d89af2f6_8879_11ea_b42b_f8a2d634fb4brow8_col0 {\n",
       "            color:  black;\n",
       "        }    #T_d89af2f6_8879_11ea_b42b_f8a2d634fb4brow8_col1 {\n",
       "            color:  black;\n",
       "        }    #T_d89af2f6_8879_11ea_b42b_f8a2d634fb4brow8_col2 {\n",
       "            color:  black;\n",
       "        }    #T_d89af2f6_8879_11ea_b42b_f8a2d634fb4brow8_col3 {\n",
       "            color:  green;\n",
       "        }    #T_d89af2f6_8879_11ea_b42b_f8a2d634fb4brow8_col4 {\n",
       "            color:  black;\n",
       "        }    #T_d89af2f6_8879_11ea_b42b_f8a2d634fb4brow8_col5 {\n",
       "            color:  black;\n",
       "        }    #T_d89af2f6_8879_11ea_b42b_f8a2d634fb4brow8_col6 {\n",
       "            color:  black;\n",
       "        }    #T_d89af2f6_8879_11ea_b42b_f8a2d634fb4brow8_col7 {\n",
       "            color:  black;\n",
       "        }    #T_d89af2f6_8879_11ea_b42b_f8a2d634fb4brow8_col8 {\n",
       "            color:  green;\n",
       "        }</style><table id=\"T_d89af2f6_8879_11ea_b42b_f8a2d634fb4b\" ><thead>    <tr>        <th class=\"blank level0\" ></th>        <th class=\"col_heading level0 col0\" >hours-per-week</th>        <th class=\"col_heading level0 col1\" >education-num</th>        <th class=\"col_heading level0 col2\" >age</th>        <th class=\"col_heading level0 col3\" >relationship_ Husband</th>        <th class=\"col_heading level0 col4\" >relationship_ Not-in-family</th>        <th class=\"col_heading level0 col5\" >relationship_ Own-child</th>        <th class=\"col_heading level0 col6\" >relationship_ Unmarried</th>        <th class=\"col_heading level0 col7\" >workclass_ Private</th>        <th class=\"col_heading level0 col8\" >income</th>    </tr></thead><tbody>\n",
       "                <tr>\n",
       "                        <th id=\"T_d89af2f6_8879_11ea_b42b_f8a2d634fb4blevel0_row0\" class=\"row_heading level0 row0\" >hours-per-week</th>\n",
       "                        <td id=\"T_d89af2f6_8879_11ea_b42b_f8a2d634fb4brow0_col0\" class=\"data row0 col0\" >1</td>\n",
       "                        <td id=\"T_d89af2f6_8879_11ea_b42b_f8a2d634fb4brow0_col1\" class=\"data row0 col1\" >0.159583</td>\n",
       "                        <td id=\"T_d89af2f6_8879_11ea_b42b_f8a2d634fb4brow0_col2\" class=\"data row0 col2\" >0.0920903</td>\n",
       "                        <td id=\"T_d89af2f6_8879_11ea_b42b_f8a2d634fb4brow0_col3\" class=\"data row0 col3\" >0.255193</td>\n",
       "                        <td id=\"T_d89af2f6_8879_11ea_b42b_f8a2d634fb4brow0_col4\" class=\"data row0 col4\" >0.00621039</td>\n",
       "                        <td id=\"T_d89af2f6_8879_11ea_b42b_f8a2d634fb4brow0_col5\" class=\"data row0 col5\" >-0.262213</td>\n",
       "                        <td id=\"T_d89af2f6_8879_11ea_b42b_f8a2d634fb4brow0_col6\" class=\"data row0 col6\" >-0.030535</td>\n",
       "                        <td id=\"T_d89af2f6_8879_11ea_b42b_f8a2d634fb4brow0_col7\" class=\"data row0 col7\" >-0.0239374</td>\n",
       "                        <td id=\"T_d89af2f6_8879_11ea_b42b_f8a2d634fb4brow0_col8\" class=\"data row0 col8\" >0.231441</td>\n",
       "            </tr>\n",
       "            <tr>\n",
       "                        <th id=\"T_d89af2f6_8879_11ea_b42b_f8a2d634fb4blevel0_row1\" class=\"row_heading level0 row1\" >education-num</th>\n",
       "                        <td id=\"T_d89af2f6_8879_11ea_b42b_f8a2d634fb4brow1_col0\" class=\"data row1 col0\" >0.159583</td>\n",
       "                        <td id=\"T_d89af2f6_8879_11ea_b42b_f8a2d634fb4brow1_col1\" class=\"data row1 col1\" >1</td>\n",
       "                        <td id=\"T_d89af2f6_8879_11ea_b42b_f8a2d634fb4brow1_col2\" class=\"data row1 col2\" >0.113221</td>\n",
       "                        <td id=\"T_d89af2f6_8879_11ea_b42b_f8a2d634fb4brow1_col3\" class=\"data row1 col3\" >0.106951</td>\n",
       "                        <td id=\"T_d89af2f6_8879_11ea_b42b_f8a2d634fb4brow1_col4\" class=\"data row1 col4\" >0.0606203</td>\n",
       "                        <td id=\"T_d89af2f6_8879_11ea_b42b_f8a2d634fb4brow1_col5\" class=\"data row1 col5\" >-0.149758</td>\n",
       "                        <td id=\"T_d89af2f6_8879_11ea_b42b_f8a2d634fb4brow1_col6\" class=\"data row1 col6\" >-0.0645874</td>\n",
       "                        <td id=\"T_d89af2f6_8879_11ea_b42b_f8a2d634fb4brow1_col7\" class=\"data row1 col7\" >-0.132274</td>\n",
       "                        <td id=\"T_d89af2f6_8879_11ea_b42b_f8a2d634fb4brow1_col8\" class=\"data row1 col8\" >0.340235</td>\n",
       "            </tr>\n",
       "            <tr>\n",
       "                        <th id=\"T_d89af2f6_8879_11ea_b42b_f8a2d634fb4blevel0_row2\" class=\"row_heading level0 row2\" >age</th>\n",
       "                        <td id=\"T_d89af2f6_8879_11ea_b42b_f8a2d634fb4brow2_col0\" class=\"data row2 col0\" >0.0920903</td>\n",
       "                        <td id=\"T_d89af2f6_8879_11ea_b42b_f8a2d634fb4brow2_col1\" class=\"data row2 col1\" >0.113221</td>\n",
       "                        <td id=\"T_d89af2f6_8879_11ea_b42b_f8a2d634fb4brow2_col2\" class=\"data row2 col2\" >1</td>\n",
       "                        <td id=\"T_d89af2f6_8879_11ea_b42b_f8a2d634fb4brow2_col3\" class=\"data row2 col3\" >0.325386</td>\n",
       "                        <td id=\"T_d89af2f6_8879_11ea_b42b_f8a2d634fb4brow2_col4\" class=\"data row2 col4\" >-0.00845492</td>\n",
       "                        <td id=\"T_d89af2f6_8879_11ea_b42b_f8a2d634fb4brow2_col5\" class=\"data row2 col5\" >-0.441828</td>\n",
       "                        <td id=\"T_d89af2f6_8879_11ea_b42b_f8a2d634fb4brow2_col6\" class=\"data row2 col6\" >0.0405417</td>\n",
       "                        <td id=\"T_d89af2f6_8879_11ea_b42b_f8a2d634fb4brow2_col7\" class=\"data row2 col7\" >-0.202469</td>\n",
       "                        <td id=\"T_d89af2f6_8879_11ea_b42b_f8a2d634fb4brow2_col8\" class=\"data row2 col8\" >0.255422</td>\n",
       "            </tr>\n",
       "            <tr>\n",
       "                        <th id=\"T_d89af2f6_8879_11ea_b42b_f8a2d634fb4blevel0_row3\" class=\"row_heading level0 row3\" >relationship_ Husband</th>\n",
       "                        <td id=\"T_d89af2f6_8879_11ea_b42b_f8a2d634fb4brow3_col0\" class=\"data row3 col0\" >0.255193</td>\n",
       "                        <td id=\"T_d89af2f6_8879_11ea_b42b_f8a2d634fb4brow3_col1\" class=\"data row3 col1\" >0.106951</td>\n",
       "                        <td id=\"T_d89af2f6_8879_11ea_b42b_f8a2d634fb4brow3_col2\" class=\"data row3 col2\" >0.325386</td>\n",
       "                        <td id=\"T_d89af2f6_8879_11ea_b42b_f8a2d634fb4brow3_col3\" class=\"data row3 col3\" >1</td>\n",
       "                        <td id=\"T_d89af2f6_8879_11ea_b42b_f8a2d634fb4brow3_col4\" class=\"data row3 col4\" >-0.482987</td>\n",
       "                        <td id=\"T_d89af2f6_8879_11ea_b42b_f8a2d634fb4brow3_col5\" class=\"data row3 col5\" >-0.359667</td>\n",
       "                        <td id=\"T_d89af2f6_8879_11ea_b42b_f8a2d634fb4brow3_col6\" class=\"data row3 col6\" >-0.282749</td>\n",
       "                        <td id=\"T_d89af2f6_8879_11ea_b42b_f8a2d634fb4brow3_col7\" class=\"data row3 col7\" >-0.0812983</td>\n",
       "                        <td id=\"T_d89af2f6_8879_11ea_b42b_f8a2d634fb4brow3_col8\" class=\"data row3 col8\" >0.410527</td>\n",
       "            </tr>\n",
       "            <tr>\n",
       "                        <th id=\"T_d89af2f6_8879_11ea_b42b_f8a2d634fb4blevel0_row4\" class=\"row_heading level0 row4\" >relationship_ Not-in-family</th>\n",
       "                        <td id=\"T_d89af2f6_8879_11ea_b42b_f8a2d634fb4brow4_col0\" class=\"data row4 col0\" >0.00621039</td>\n",
       "                        <td id=\"T_d89af2f6_8879_11ea_b42b_f8a2d634fb4brow4_col1\" class=\"data row4 col1\" >0.0606203</td>\n",
       "                        <td id=\"T_d89af2f6_8879_11ea_b42b_f8a2d634fb4brow4_col2\" class=\"data row4 col2\" >-0.00845492</td>\n",
       "                        <td id=\"T_d89af2f6_8879_11ea_b42b_f8a2d634fb4brow4_col3\" class=\"data row4 col3\" >-0.482987</td>\n",
       "                        <td id=\"T_d89af2f6_8879_11ea_b42b_f8a2d634fb4brow4_col4\" class=\"data row4 col4\" >1</td>\n",
       "                        <td id=\"T_d89af2f6_8879_11ea_b42b_f8a2d634fb4brow4_col5\" class=\"data row4 col5\" >-0.253424</td>\n",
       "                        <td id=\"T_d89af2f6_8879_11ea_b42b_f8a2d634fb4brow4_col6\" class=\"data row4 col6\" >-0.199227</td>\n",
       "                        <td id=\"T_d89af2f6_8879_11ea_b42b_f8a2d634fb4brow4_col7\" class=\"data row4 col7\" >0.0309412</td>\n",
       "                        <td id=\"T_d89af2f6_8879_11ea_b42b_f8a2d634fb4brow4_col8\" class=\"data row4 col8\" >-0.194613</td>\n",
       "            </tr>\n",
       "            <tr>\n",
       "                        <th id=\"T_d89af2f6_8879_11ea_b42b_f8a2d634fb4blevel0_row5\" class=\"row_heading level0 row5\" >relationship_ Own-child</th>\n",
       "                        <td id=\"T_d89af2f6_8879_11ea_b42b_f8a2d634fb4brow5_col0\" class=\"data row5 col0\" >-0.262213</td>\n",
       "                        <td id=\"T_d89af2f6_8879_11ea_b42b_f8a2d634fb4brow5_col1\" class=\"data row5 col1\" >-0.149758</td>\n",
       "                        <td id=\"T_d89af2f6_8879_11ea_b42b_f8a2d634fb4brow5_col2\" class=\"data row5 col2\" >-0.441828</td>\n",
       "                        <td id=\"T_d89af2f6_8879_11ea_b42b_f8a2d634fb4brow5_col3\" class=\"data row5 col3\" >-0.359667</td>\n",
       "                        <td id=\"T_d89af2f6_8879_11ea_b42b_f8a2d634fb4brow5_col4\" class=\"data row5 col4\" >-0.253424</td>\n",
       "                        <td id=\"T_d89af2f6_8879_11ea_b42b_f8a2d634fb4brow5_col5\" class=\"data row5 col5\" >1</td>\n",
       "                        <td id=\"T_d89af2f6_8879_11ea_b42b_f8a2d634fb4brow5_col6\" class=\"data row5 col6\" >-0.148359</td>\n",
       "                        <td id=\"T_d89af2f6_8879_11ea_b42b_f8a2d634fb4brow5_col7\" class=\"data row5 col7\" >0.0667959</td>\n",
       "                        <td id=\"T_d89af2f6_8879_11ea_b42b_f8a2d634fb4brow5_col8\" class=\"data row5 col8\" >-0.237391</td>\n",
       "            </tr>\n",
       "            <tr>\n",
       "                        <th id=\"T_d89af2f6_8879_11ea_b42b_f8a2d634fb4blevel0_row6\" class=\"row_heading level0 row6\" >relationship_ Unmarried</th>\n",
       "                        <td id=\"T_d89af2f6_8879_11ea_b42b_f8a2d634fb4brow6_col0\" class=\"data row6 col0\" >-0.030535</td>\n",
       "                        <td id=\"T_d89af2f6_8879_11ea_b42b_f8a2d634fb4brow6_col1\" class=\"data row6 col1\" >-0.0645874</td>\n",
       "                        <td id=\"T_d89af2f6_8879_11ea_b42b_f8a2d634fb4brow6_col2\" class=\"data row6 col2\" >0.0405417</td>\n",
       "                        <td id=\"T_d89af2f6_8879_11ea_b42b_f8a2d634fb4brow6_col3\" class=\"data row6 col3\" >-0.282749</td>\n",
       "                        <td id=\"T_d89af2f6_8879_11ea_b42b_f8a2d634fb4brow6_col4\" class=\"data row6 col4\" >-0.199227</td>\n",
       "                        <td id=\"T_d89af2f6_8879_11ea_b42b_f8a2d634fb4brow6_col5\" class=\"data row6 col5\" >-0.148359</td>\n",
       "                        <td id=\"T_d89af2f6_8879_11ea_b42b_f8a2d634fb4brow6_col6\" class=\"data row6 col6\" >1</td>\n",
       "                        <td id=\"T_d89af2f6_8879_11ea_b42b_f8a2d634fb4brow6_col7\" class=\"data row6 col7\" >0.0131264</td>\n",
       "                        <td id=\"T_d89af2f6_8879_11ea_b42b_f8a2d634fb4brow6_col8\" class=\"data row6 col8\" >-0.144461</td>\n",
       "            </tr>\n",
       "            <tr>\n",
       "                        <th id=\"T_d89af2f6_8879_11ea_b42b_f8a2d634fb4blevel0_row7\" class=\"row_heading level0 row7\" >workclass_ Private</th>\n",
       "                        <td id=\"T_d89af2f6_8879_11ea_b42b_f8a2d634fb4brow7_col0\" class=\"data row7 col0\" >-0.0239374</td>\n",
       "                        <td id=\"T_d89af2f6_8879_11ea_b42b_f8a2d634fb4brow7_col1\" class=\"data row7 col1\" >-0.132274</td>\n",
       "                        <td id=\"T_d89af2f6_8879_11ea_b42b_f8a2d634fb4brow7_col2\" class=\"data row7 col2\" >-0.202469</td>\n",
       "                        <td id=\"T_d89af2f6_8879_11ea_b42b_f8a2d634fb4brow7_col3\" class=\"data row7 col3\" >-0.0812983</td>\n",
       "                        <td id=\"T_d89af2f6_8879_11ea_b42b_f8a2d634fb4brow7_col4\" class=\"data row7 col4\" >0.0309412</td>\n",
       "                        <td id=\"T_d89af2f6_8879_11ea_b42b_f8a2d634fb4brow7_col5\" class=\"data row7 col5\" >0.0667959</td>\n",
       "                        <td id=\"T_d89af2f6_8879_11ea_b42b_f8a2d634fb4brow7_col6\" class=\"data row7 col6\" >0.0131264</td>\n",
       "                        <td id=\"T_d89af2f6_8879_11ea_b42b_f8a2d634fb4brow7_col7\" class=\"data row7 col7\" >1</td>\n",
       "                        <td id=\"T_d89af2f6_8879_11ea_b42b_f8a2d634fb4brow7_col8\" class=\"data row7 col8\" >-0.0763278</td>\n",
       "            </tr>\n",
       "            <tr>\n",
       "                        <th id=\"T_d89af2f6_8879_11ea_b42b_f8a2d634fb4blevel0_row8\" class=\"row_heading level0 row8\" >income</th>\n",
       "                        <td id=\"T_d89af2f6_8879_11ea_b42b_f8a2d634fb4brow8_col0\" class=\"data row8 col0\" >0.231441</td>\n",
       "                        <td id=\"T_d89af2f6_8879_11ea_b42b_f8a2d634fb4brow8_col1\" class=\"data row8 col1\" >0.340235</td>\n",
       "                        <td id=\"T_d89af2f6_8879_11ea_b42b_f8a2d634fb4brow8_col2\" class=\"data row8 col2\" >0.255422</td>\n",
       "                        <td id=\"T_d89af2f6_8879_11ea_b42b_f8a2d634fb4brow8_col3\" class=\"data row8 col3\" >0.410527</td>\n",
       "                        <td id=\"T_d89af2f6_8879_11ea_b42b_f8a2d634fb4brow8_col4\" class=\"data row8 col4\" >-0.194613</td>\n",
       "                        <td id=\"T_d89af2f6_8879_11ea_b42b_f8a2d634fb4brow8_col5\" class=\"data row8 col5\" >-0.237391</td>\n",
       "                        <td id=\"T_d89af2f6_8879_11ea_b42b_f8a2d634fb4brow8_col6\" class=\"data row8 col6\" >-0.144461</td>\n",
       "                        <td id=\"T_d89af2f6_8879_11ea_b42b_f8a2d634fb4brow8_col7\" class=\"data row8 col7\" >-0.0763278</td>\n",
       "                        <td id=\"T_d89af2f6_8879_11ea_b42b_f8a2d634fb4brow8_col8\" class=\"data row8 col8\" >1</td>\n",
       "            </tr>\n",
       "    </tbody></table>"
      ],
      "text/plain": [
       "<pandas.io.formats.style.Styler at 0x181fe77c248>"
      ]
     },
     "execution_count": 51,
     "metadata": {},
     "output_type": "execute_result"
    }
   ],
   "source": [
    "df_train=X_train\n",
    "df_train['income']=y_train\n",
    "corr = df_train.corr()\n",
    "df_styled = corr.style.applymap(color_map)\n",
    "df_styled"
   ]
  },
  {
   "cell_type": "markdown",
   "metadata": {},
   "source": [
    "By the correlation matrix we can see the education_num and relationship_husband have the highest correlation to the income.\n",
    "We can also see some features are correlated as relationship_own_child and age, which makes sense.\n",
    "I would consider removing the workclass_private feature which as very low low correlation to the income."
   ]
  },
  {
   "cell_type": "code",
   "execution_count": 52,
   "metadata": {},
   "outputs": [],
   "source": [
    "redundant_cols=['workclass_ Private','relationship_ Husband']\n",
    "X_train.drop(redundant_cols, axis=1,inplace=True)\n",
    "X_test.drop(redundant_cols, axis=1,inplace=True)\n",
    "X_train.drop(['income'], axis=1,inplace=True)"
   ]
  },
  {
   "cell_type": "code",
   "execution_count": 53,
   "metadata": {},
   "outputs": [
    {
     "data": {
      "text/plain": [
       "Index(['hours-per-week', 'education-num', 'education', 'race', 'age', 'sex',\n",
       "       'occupation', 'marital-status', 'relationship_ Not-in-family',\n",
       "       'relationship_ Own-child', 'relationship_ Unmarried'],\n",
       "      dtype='object')"
      ]
     },
     "execution_count": 53,
     "metadata": {},
     "output_type": "execute_result"
    }
   ],
   "source": [
    "X_train.columns"
   ]
  },
  {
   "cell_type": "code",
   "execution_count": 54,
   "metadata": {},
   "outputs": [
    {
     "data": {
      "text/plain": [
       "Index(['hours-per-week', 'education-num', 'education', 'race', 'age', 'sex',\n",
       "       'occupation', 'marital-status', 'relationship_ Not-in-family',\n",
       "       'relationship_ Own-child', 'relationship_ Unmarried'],\n",
       "      dtype='object')"
      ]
     },
     "execution_count": 54,
     "metadata": {},
     "output_type": "execute_result"
    }
   ],
   "source": [
    "X_test.columns"
   ]
  },
  {
   "cell_type": "code",
   "execution_count": null,
   "metadata": {},
   "outputs": [],
   "source": []
  }
 ],
 "metadata": {
  "kernelspec": {
   "display_name": "Python 3",
   "language": "python",
   "name": "python3"
  },
  "language_info": {
   "codemirror_mode": {
    "name": "ipython",
    "version": 3
   },
   "file_extension": ".py",
   "mimetype": "text/x-python",
   "name": "python",
   "nbconvert_exporter": "python",
   "pygments_lexer": "ipython3",
   "version": "3.6.10"
  },
  "latex_envs": {
   "LaTeX_envs_menu_present": true,
   "autoclose": false,
   "autocomplete": true,
   "bibliofile": "biblio.bib",
   "cite_by": "apalike",
   "current_citInitial": 1,
   "eqLabelWithNumbers": true,
   "eqNumInitial": 1,
   "hotkeys": {
    "equation": "Ctrl-E",
    "itemize": "Ctrl-I"
   },
   "labels_anchors": false,
   "latex_user_defs": false,
   "report_style_numbering": false,
   "user_envs_cfg": false
  },
  "toc": {
   "base_numbering": 1,
   "nav_menu": {},
   "number_sections": true,
   "sideBar": true,
   "skip_h1_title": false,
   "title_cell": "Table of Contents",
   "title_sidebar": "Contents",
   "toc_cell": false,
   "toc_position": {},
   "toc_section_display": true,
   "toc_window_display": false
  }
 },
 "nbformat": 4,
 "nbformat_minor": 2
}
