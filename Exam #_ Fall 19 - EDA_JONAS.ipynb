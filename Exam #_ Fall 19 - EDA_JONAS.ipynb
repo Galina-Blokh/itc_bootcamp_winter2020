{
 "cells": [
  {
   "cell_type": "markdown",
   "metadata": {},
   "source": [
    "# Exam #2 Retake - FDS FALL 19' - EDA, Statistics and Preprocessing"
   ]
  },
  {
   "cell_type": "markdown",
   "metadata": {},
   "source": [
    "For this part, you will work with a census data set. Please find the data file and the data dictionary attached."
   ]
  },
  {
   "cell_type": "markdown",
   "metadata": {},
   "source": [
    "<div class=\"alert alert-warning\">\n",
    "<b>Important:</b> Make sure you follow what we learned regarding what should be done on the train set and what should be done on the test set\n",
    "</div>"
   ]
  },
  {
   "cell_type": "markdown",
   "metadata": {
    "ExecuteTime": {
     "end_time": "2019-06-05T15:59:12.067914Z",
     "start_time": "2019-06-05T15:59:12.050000Z"
    }
   },
   "source": [
    "<div class=\"alert alert-info\">\n",
    "<b>Note:</b> You should submit the answers to this question in a report format - everything you do should be documented, you should track the changes to the shape of your dataset, explain the business thought behind your decisions and make everything super clear\n",
    "</div>"
   ]
  },
  {
   "cell_type": "markdown",
   "metadata": {
    "ExecuteTime": {
     "end_time": "2019-12-05T10:18:56.341767Z",
     "start_time": "2019-12-05T10:18:56.330797Z"
    }
   },
   "source": [
    "<div class=\"alert alert-warning\">\n",
    "<b>Important:</b> Do not perform actions that are not neccessary. Make sure there is a thought behind each step you take\n",
    "</div>"
   ]
  },
  {
   "cell_type": "markdown",
   "metadata": {},
   "source": [
    "**Here are some packages you will need:**"
   ]
  },
  {
   "cell_type": "code",
   "execution_count": 1,
   "metadata": {
    "ExecuteTime": {
     "end_time": "2020-04-27T11:04:52.975134Z",
     "start_time": "2020-04-27T11:04:39.895052Z"
    }
   },
   "outputs": [],
   "source": [
    "import matplotlib.pyplot as plt\n",
    "import seaborn as sns\n",
    "import pandas as pd\n",
    "import numpy as np\n",
    "from sklearn.model_selection import TimeSeriesSplit\n",
    "from sklearn.preprocessing import StandardScaler\n",
    "import itertools\n",
    "from sklearn.linear_model import LinearRegression\n",
    "from sklearn.metrics import mean_squared_error\n",
    "from math import sqrt"
   ]
  },
  {
   "cell_type": "markdown",
   "metadata": {},
   "source": [
    "**Here are some helper functions for your use:**"
   ]
  },
  {
   "cell_type": "code",
   "execution_count": 2,
   "metadata": {
    "ExecuteTime": {
     "end_time": "2020-04-27T11:04:52.990069Z",
     "start_time": "2020-04-27T11:04:52.979076Z"
    }
   },
   "outputs": [],
   "source": [
    "def get_redundant_binary_cols(data, threshold):\n",
    "    '''\n",
    "    This function gets a pandas DataFrame, and a threshold (% of data), \n",
    "    and returns the list of binary features from that dataframe that have \n",
    "    above threshold amount of samples with the same value, and thus\n",
    "    should be considered redundant. \n",
    "    '''\n",
    "    \n",
    "    bool_cols = [col for col in data \\\n",
    "             if pd.Series(data[col].unique()).isin([0, 1]).all()]\n",
    "    return [x for x in bool_cols if data[x].value_counts()[0] \\\n",
    "                                                > threshold * len(X_train)] + \\\n",
    "                    [x for x in bool_cols if data[x].value_counts()[1] \\\n",
    "                                                > threshold * len(X_train)]"
   ]
  },
  {
   "cell_type": "markdown",
   "metadata": {
    "ExecuteTime": {
     "end_time": "2019-12-05T10:04:18.495000Z",
     "start_time": "2019-12-05T10:04:18.488975Z"
    }
   },
   "source": [
    "`pd.to_datetime(df.Date)`: will transfer a string column to a date type"
   ]
  },
  {
   "cell_type": "markdown",
   "metadata": {},
   "source": [
    "**Questions:**\n",
    "\n",
    "1. Read the data file and present summary statistics, datatype per column and NA status for each column. \n",
    "\n",
    "1.b. Perform data integrity checks if needed (Don't do more than two columns)"
   ]
  },
  {
   "cell_type": "code",
   "execution_count": 3,
   "metadata": {
    "ExecuteTime": {
     "end_time": "2020-04-27T11:04:53.198951Z",
     "start_time": "2020-04-27T11:04:52.996063Z"
    }
   },
   "outputs": [],
   "source": [
    "df = pd.read_csv('adult_data.csv')"
   ]
  },
  {
   "cell_type": "code",
   "execution_count": 4,
   "metadata": {
    "ExecuteTime": {
     "end_time": "2020-04-27T11:04:53.212944Z",
     "start_time": "2020-04-27T11:04:53.201950Z"
    }
   },
   "outputs": [
    {
     "data": {
      "text/plain": [
       "(32561, 16)"
      ]
     },
     "execution_count": 4,
     "metadata": {},
     "output_type": "execute_result"
    }
   ],
   "source": [
    "df.shape # data size"
   ]
  },
  {
   "cell_type": "code",
   "execution_count": 5,
   "metadata": {
    "ExecuteTime": {
     "end_time": "2020-04-27T11:04:53.279906Z",
     "start_time": "2020-04-27T11:04:53.216941Z"
    },
    "scrolled": true
   },
   "outputs": [
    {
     "data": {
      "text/html": [
       "<div>\n",
       "<style scoped>\n",
       "    .dataframe tbody tr th:only-of-type {\n",
       "        vertical-align: middle;\n",
       "    }\n",
       "\n",
       "    .dataframe tbody tr th {\n",
       "        vertical-align: top;\n",
       "    }\n",
       "\n",
       "    .dataframe thead th {\n",
       "        text-align: right;\n",
       "    }\n",
       "</style>\n",
       "<table border=\"1\" class=\"dataframe\">\n",
       "  <thead>\n",
       "    <tr style=\"text-align: right;\">\n",
       "      <th></th>\n",
       "      <th>Unnamed: 0</th>\n",
       "      <th>age</th>\n",
       "      <th>workclass</th>\n",
       "      <th>fnlwgt</th>\n",
       "      <th>education</th>\n",
       "      <th>education-num</th>\n",
       "      <th>marital-status</th>\n",
       "      <th>occupation</th>\n",
       "      <th>relationship</th>\n",
       "      <th>race</th>\n",
       "      <th>sex</th>\n",
       "      <th>capital-gain</th>\n",
       "      <th>capital-loss</th>\n",
       "      <th>hours-per-week</th>\n",
       "      <th>native-country</th>\n",
       "      <th>income</th>\n",
       "    </tr>\n",
       "  </thead>\n",
       "  <tbody>\n",
       "    <tr>\n",
       "      <th>0</th>\n",
       "      <td>0</td>\n",
       "      <td>39</td>\n",
       "      <td>State-gov</td>\n",
       "      <td>77516</td>\n",
       "      <td>Bachelors</td>\n",
       "      <td>13</td>\n",
       "      <td>Never-married</td>\n",
       "      <td>Adm-clerical</td>\n",
       "      <td>Not-in-family</td>\n",
       "      <td>White</td>\n",
       "      <td>Male</td>\n",
       "      <td>2174</td>\n",
       "      <td>0</td>\n",
       "      <td>40</td>\n",
       "      <td>United-States</td>\n",
       "      <td>&lt;=50K</td>\n",
       "    </tr>\n",
       "    <tr>\n",
       "      <th>1</th>\n",
       "      <td>1</td>\n",
       "      <td>50</td>\n",
       "      <td>Self-emp-not-inc</td>\n",
       "      <td>83311</td>\n",
       "      <td>Bachelors</td>\n",
       "      <td>13</td>\n",
       "      <td>Married-civ-spouse</td>\n",
       "      <td>Exec-managerial</td>\n",
       "      <td>Husband</td>\n",
       "      <td>White</td>\n",
       "      <td>Male</td>\n",
       "      <td>0</td>\n",
       "      <td>0</td>\n",
       "      <td>13</td>\n",
       "      <td>United-States</td>\n",
       "      <td>&lt;=50K</td>\n",
       "    </tr>\n",
       "    <tr>\n",
       "      <th>2</th>\n",
       "      <td>2</td>\n",
       "      <td>38</td>\n",
       "      <td>Private</td>\n",
       "      <td>215646</td>\n",
       "      <td>HS-grad</td>\n",
       "      <td>9</td>\n",
       "      <td>Divorced</td>\n",
       "      <td>Handlers-cleaners</td>\n",
       "      <td>Not-in-family</td>\n",
       "      <td>White</td>\n",
       "      <td>Male</td>\n",
       "      <td>0</td>\n",
       "      <td>0</td>\n",
       "      <td>40</td>\n",
       "      <td>United-States</td>\n",
       "      <td>&lt;=50K</td>\n",
       "    </tr>\n",
       "    <tr>\n",
       "      <th>3</th>\n",
       "      <td>3</td>\n",
       "      <td>53</td>\n",
       "      <td>Private</td>\n",
       "      <td>234721</td>\n",
       "      <td>11th</td>\n",
       "      <td>7</td>\n",
       "      <td>Married-civ-spouse</td>\n",
       "      <td>Handlers-cleaners</td>\n",
       "      <td>Husband</td>\n",
       "      <td>Black</td>\n",
       "      <td>Male</td>\n",
       "      <td>0</td>\n",
       "      <td>0</td>\n",
       "      <td>40</td>\n",
       "      <td>United-States</td>\n",
       "      <td>&lt;=50K</td>\n",
       "    </tr>\n",
       "    <tr>\n",
       "      <th>4</th>\n",
       "      <td>4</td>\n",
       "      <td>28</td>\n",
       "      <td>Private</td>\n",
       "      <td>338409</td>\n",
       "      <td>Bachelors</td>\n",
       "      <td>13</td>\n",
       "      <td>Married-civ-spouse</td>\n",
       "      <td>Prof-specialty</td>\n",
       "      <td>Wife</td>\n",
       "      <td>Black</td>\n",
       "      <td>Female</td>\n",
       "      <td>0</td>\n",
       "      <td>0</td>\n",
       "      <td>40</td>\n",
       "      <td>Cuba</td>\n",
       "      <td>&lt;=50K</td>\n",
       "    </tr>\n",
       "  </tbody>\n",
       "</table>\n",
       "</div>"
      ],
      "text/plain": [
       "   Unnamed: 0  age          workclass  fnlwgt   education  education-num  \\\n",
       "0           0   39          State-gov   77516   Bachelors             13   \n",
       "1           1   50   Self-emp-not-inc   83311   Bachelors             13   \n",
       "2           2   38            Private  215646     HS-grad              9   \n",
       "3           3   53            Private  234721        11th              7   \n",
       "4           4   28            Private  338409   Bachelors             13   \n",
       "\n",
       "        marital-status          occupation    relationship    race      sex  \\\n",
       "0        Never-married        Adm-clerical   Not-in-family   White     Male   \n",
       "1   Married-civ-spouse     Exec-managerial         Husband   White     Male   \n",
       "2             Divorced   Handlers-cleaners   Not-in-family   White     Male   \n",
       "3   Married-civ-spouse   Handlers-cleaners         Husband   Black     Male   \n",
       "4   Married-civ-spouse      Prof-specialty            Wife   Black   Female   \n",
       "\n",
       "   capital-gain  capital-loss  hours-per-week  native-country  income  \n",
       "0          2174             0              40   United-States   <=50K  \n",
       "1             0             0              13   United-States   <=50K  \n",
       "2             0             0              40   United-States   <=50K  \n",
       "3             0             0              40   United-States   <=50K  \n",
       "4             0             0              40            Cuba   <=50K  "
      ]
     },
     "execution_count": 5,
     "metadata": {},
     "output_type": "execute_result"
    }
   ],
   "source": [
    "df.head()  # getting the first 5 rows from our data to see how it look"
   ]
  },
  {
   "cell_type": "code",
   "execution_count": 6,
   "metadata": {
    "ExecuteTime": {
     "end_time": "2020-04-27T11:04:53.351866Z",
     "start_time": "2020-04-27T11:04:53.283903Z"
    }
   },
   "outputs": [
    {
     "name": "stdout",
     "output_type": "stream",
     "text": [
      "<class 'pandas.core.frame.DataFrame'>\n",
      "RangeIndex: 32561 entries, 0 to 32560\n",
      "Data columns (total 16 columns):\n",
      " #   Column          Non-Null Count  Dtype \n",
      "---  ------          --------------  ----- \n",
      " 0   Unnamed: 0      32561 non-null  int64 \n",
      " 1   age             32561 non-null  int64 \n",
      " 2   workclass       32561 non-null  object\n",
      " 3   fnlwgt          32561 non-null  int64 \n",
      " 4   education       32561 non-null  object\n",
      " 5   education-num   32561 non-null  int64 \n",
      " 6   marital-status  32561 non-null  object\n",
      " 7   occupation      32561 non-null  object\n",
      " 8   relationship    32561 non-null  object\n",
      " 9   race            32561 non-null  object\n",
      " 10  sex             32561 non-null  object\n",
      " 11  capital-gain    32561 non-null  int64 \n",
      " 12  capital-loss    32561 non-null  int64 \n",
      " 13  hours-per-week  32561 non-null  int64 \n",
      " 14  native-country  32561 non-null  object\n",
      " 15  income          32561 non-null  object\n",
      "dtypes: int64(7), object(9)\n",
      "memory usage: 4.0+ MB\n"
     ]
    }
   ],
   "source": [
    "df.info()  # data type for each row"
   ]
  },
  {
   "cell_type": "code",
   "execution_count": 7,
   "metadata": {
    "ExecuteTime": {
     "end_time": "2020-04-27T11:04:53.449223Z",
     "start_time": "2020-04-27T11:04:53.354863Z"
    },
    "scrolled": true
   },
   "outputs": [
    {
     "data": {
      "text/html": [
       "<div>\n",
       "<style scoped>\n",
       "    .dataframe tbody tr th:only-of-type {\n",
       "        vertical-align: middle;\n",
       "    }\n",
       "\n",
       "    .dataframe tbody tr th {\n",
       "        vertical-align: top;\n",
       "    }\n",
       "\n",
       "    .dataframe thead th {\n",
       "        text-align: right;\n",
       "    }\n",
       "</style>\n",
       "<table border=\"1\" class=\"dataframe\">\n",
       "  <thead>\n",
       "    <tr style=\"text-align: right;\">\n",
       "      <th></th>\n",
       "      <th>Unnamed: 0</th>\n",
       "      <th>age</th>\n",
       "      <th>fnlwgt</th>\n",
       "      <th>education-num</th>\n",
       "      <th>capital-gain</th>\n",
       "      <th>capital-loss</th>\n",
       "      <th>hours-per-week</th>\n",
       "    </tr>\n",
       "  </thead>\n",
       "  <tbody>\n",
       "    <tr>\n",
       "      <th>count</th>\n",
       "      <td>32561.000000</td>\n",
       "      <td>32561.000000</td>\n",
       "      <td>3.256100e+04</td>\n",
       "      <td>32561.000000</td>\n",
       "      <td>32561.000000</td>\n",
       "      <td>32561.000000</td>\n",
       "      <td>32561.000000</td>\n",
       "    </tr>\n",
       "    <tr>\n",
       "      <th>mean</th>\n",
       "      <td>16280.000000</td>\n",
       "      <td>38.581647</td>\n",
       "      <td>1.897784e+05</td>\n",
       "      <td>10.080679</td>\n",
       "      <td>1077.648844</td>\n",
       "      <td>87.303830</td>\n",
       "      <td>40.437456</td>\n",
       "    </tr>\n",
       "    <tr>\n",
       "      <th>std</th>\n",
       "      <td>9399.695394</td>\n",
       "      <td>13.640433</td>\n",
       "      <td>1.055500e+05</td>\n",
       "      <td>2.572720</td>\n",
       "      <td>7385.292085</td>\n",
       "      <td>402.960219</td>\n",
       "      <td>12.347429</td>\n",
       "    </tr>\n",
       "    <tr>\n",
       "      <th>min</th>\n",
       "      <td>0.000000</td>\n",
       "      <td>17.000000</td>\n",
       "      <td>1.228500e+04</td>\n",
       "      <td>1.000000</td>\n",
       "      <td>0.000000</td>\n",
       "      <td>0.000000</td>\n",
       "      <td>1.000000</td>\n",
       "    </tr>\n",
       "    <tr>\n",
       "      <th>25%</th>\n",
       "      <td>8140.000000</td>\n",
       "      <td>28.000000</td>\n",
       "      <td>1.178270e+05</td>\n",
       "      <td>9.000000</td>\n",
       "      <td>0.000000</td>\n",
       "      <td>0.000000</td>\n",
       "      <td>40.000000</td>\n",
       "    </tr>\n",
       "    <tr>\n",
       "      <th>50%</th>\n",
       "      <td>16280.000000</td>\n",
       "      <td>37.000000</td>\n",
       "      <td>1.783560e+05</td>\n",
       "      <td>10.000000</td>\n",
       "      <td>0.000000</td>\n",
       "      <td>0.000000</td>\n",
       "      <td>40.000000</td>\n",
       "    </tr>\n",
       "    <tr>\n",
       "      <th>75%</th>\n",
       "      <td>24420.000000</td>\n",
       "      <td>48.000000</td>\n",
       "      <td>2.370510e+05</td>\n",
       "      <td>12.000000</td>\n",
       "      <td>0.000000</td>\n",
       "      <td>0.000000</td>\n",
       "      <td>45.000000</td>\n",
       "    </tr>\n",
       "    <tr>\n",
       "      <th>max</th>\n",
       "      <td>32560.000000</td>\n",
       "      <td>90.000000</td>\n",
       "      <td>1.484705e+06</td>\n",
       "      <td>16.000000</td>\n",
       "      <td>99999.000000</td>\n",
       "      <td>4356.000000</td>\n",
       "      <td>99.000000</td>\n",
       "    </tr>\n",
       "  </tbody>\n",
       "</table>\n",
       "</div>"
      ],
      "text/plain": [
       "         Unnamed: 0           age        fnlwgt  education-num  capital-gain  \\\n",
       "count  32561.000000  32561.000000  3.256100e+04   32561.000000  32561.000000   \n",
       "mean   16280.000000     38.581647  1.897784e+05      10.080679   1077.648844   \n",
       "std     9399.695394     13.640433  1.055500e+05       2.572720   7385.292085   \n",
       "min        0.000000     17.000000  1.228500e+04       1.000000      0.000000   \n",
       "25%     8140.000000     28.000000  1.178270e+05       9.000000      0.000000   \n",
       "50%    16280.000000     37.000000  1.783560e+05      10.000000      0.000000   \n",
       "75%    24420.000000     48.000000  2.370510e+05      12.000000      0.000000   \n",
       "max    32560.000000     90.000000  1.484705e+06      16.000000  99999.000000   \n",
       "\n",
       "       capital-loss  hours-per-week  \n",
       "count  32561.000000    32561.000000  \n",
       "mean      87.303830       40.437456  \n",
       "std      402.960219       12.347429  \n",
       "min        0.000000        1.000000  \n",
       "25%        0.000000       40.000000  \n",
       "50%        0.000000       40.000000  \n",
       "75%        0.000000       45.000000  \n",
       "max     4356.000000       99.000000  "
      ]
     },
     "execution_count": 7,
     "metadata": {},
     "output_type": "execute_result"
    }
   ],
   "source": [
    "df.describe()  # summary statistics = for numeric columns"
   ]
  },
  {
   "cell_type": "code",
   "execution_count": 8,
   "metadata": {
    "ExecuteTime": {
     "end_time": "2020-04-27T11:04:53.500192Z",
     "start_time": "2020-04-27T11:04:53.454220Z"
    }
   },
   "outputs": [],
   "source": [
    "for col in df:  # checking if there are NaN values by columns, there arent. count will count only not NaN values.\n",
    "    if df.shape[0] - df[col].count() != 0:\n",
    "        print(\"col name:\",col, \"#NaNs:\", df.shape[0]-len(df[col]))"
   ]
  },
  {
   "cell_type": "code",
   "execution_count": 9,
   "metadata": {
    "ExecuteTime": {
     "end_time": "2020-04-27T11:04:53.630127Z",
     "start_time": "2020-04-27T11:04:53.505190Z"
    }
   },
   "outputs": [
    {
     "data": {
      "text/html": [
       "<div>\n",
       "<style scoped>\n",
       "    .dataframe tbody tr th:only-of-type {\n",
       "        vertical-align: middle;\n",
       "    }\n",
       "\n",
       "    .dataframe tbody tr th {\n",
       "        vertical-align: top;\n",
       "    }\n",
       "\n",
       "    .dataframe thead th {\n",
       "        text-align: right;\n",
       "    }\n",
       "</style>\n",
       "<table border=\"1\" class=\"dataframe\">\n",
       "  <thead>\n",
       "    <tr style=\"text-align: right;\">\n",
       "      <th></th>\n",
       "      <th>Unnamed: 0</th>\n",
       "      <th>age</th>\n",
       "      <th>fnlwgt</th>\n",
       "      <th>education-num</th>\n",
       "      <th>capital-gain</th>\n",
       "      <th>capital-loss</th>\n",
       "      <th>hours-per-week</th>\n",
       "    </tr>\n",
       "  </thead>\n",
       "  <tbody>\n",
       "    <tr>\n",
       "      <th>min</th>\n",
       "      <td>0.0</td>\n",
       "      <td>17.0</td>\n",
       "      <td>12285.0</td>\n",
       "      <td>1.0</td>\n",
       "      <td>0.0</td>\n",
       "      <td>0.0</td>\n",
       "      <td>1.0</td>\n",
       "    </tr>\n",
       "    <tr>\n",
       "      <th>max</th>\n",
       "      <td>32560.0</td>\n",
       "      <td>90.0</td>\n",
       "      <td>1484705.0</td>\n",
       "      <td>16.0</td>\n",
       "      <td>99999.0</td>\n",
       "      <td>4356.0</td>\n",
       "      <td>99.0</td>\n",
       "    </tr>\n",
       "  </tbody>\n",
       "</table>\n",
       "</div>"
      ],
      "text/plain": [
       "     Unnamed: 0   age     fnlwgt  education-num  capital-gain  capital-loss  \\\n",
       "min         0.0  17.0    12285.0            1.0           0.0           0.0   \n",
       "max     32560.0  90.0  1484705.0           16.0       99999.0        4356.0   \n",
       "\n",
       "     hours-per-week  \n",
       "min             1.0  \n",
       "max            99.0  "
      ]
     },
     "metadata": {},
     "output_type": "display_data"
    },
    {
     "data": {
      "text/plain": [
       " Private             22696\n",
       " Self-emp-not-inc     2541\n",
       " Local-gov            2093\n",
       " ?                    1836\n",
       " State-gov            1298\n",
       " Self-emp-inc         1116\n",
       " Federal-gov           960\n",
       " Without-pay            14\n",
       " Never-worked            7\n",
       "Name: workclass, dtype: int64"
      ]
     },
     "metadata": {},
     "output_type": "display_data"
    },
    {
     "data": {
      "text/plain": [
       " Husband           13193\n",
       " Not-in-family      8305\n",
       " Own-child          5068\n",
       " Unmarried          3446\n",
       " Wife               1568\n",
       " Other-relative      981\n",
       "Name: relationship, dtype: int64"
      ]
     },
     "execution_count": 9,
     "metadata": {},
     "output_type": "execute_result"
    }
   ],
   "source": [
    "# data integrity for the numeric columns:\n",
    "display(df.describe().loc[['min', 'max']])\n",
    "\n",
    "# we can see that the min age is 17 but the data set is of adults. ill asume adult is over 16.\n",
    "\n",
    "display(df['workclass'].value_counts())\n",
    "# in workcalss we can notice that there is a question mark that probably stands for NaN or unknown\n",
    "\n",
    "df['relationship'].value_counts()\n",
    "# seems legit"
   ]
  },
  {
   "cell_type": "markdown",
   "metadata": {},
   "source": [
    "2. We are trying to Predict whether income exceeds $50K/yr, per row in the data (person). According to this research question, define the dependent variable, as well as all the categorical (nominal / ordinal) and continuous features, in a markdown cell"
   ]
  },
  {
   "cell_type": "markdown",
   "metadata": {
    "ExecuteTime": {
     "end_time": "2019-12-09T14:01:24.752496Z",
     "start_time": "2019-12-09T14:01:24.749447Z"
    }
   },
   "source": [
    "- the dependent variable: \n",
    "    - income\n",
    "- categorical features:\n",
    "    - workclass - ordinal\n",
    "    - education - ordinal\n",
    "    - education-num - ordinal\n",
    "    - marital-status - nominal\n",
    "    - occupation - nominal\n",
    "    - relationship - nominal\n",
    "    - race - nominal\n",
    "    - sex - nominal\n",
    "    - native-country - nominal\n",
    "- numerical features:\n",
    "    - age - discrete\n",
    "    - fnlwgt - continuous \n",
    "    - capital-gain - continuous\n",
    "    - capital-loss - continuous\n",
    "    - hours-per-week - discrete\n",
    "    \n",
    "the feature unnamed is a key/index which is redundant, will be removed"
   ]
  },
  {
   "cell_type": "markdown",
   "metadata": {},
   "source": [
    "3. Plot the distribution (density plot / histogram) per feature. Make sure you use the correct plot per type of feature, and that you do not plot categorical features with unique values only."
   ]
  },
  {
   "cell_type": "code",
   "execution_count": 10,
   "metadata": {
    "ExecuteTime": {
     "end_time": "2020-04-27T11:04:53.786038Z",
     "start_time": "2020-04-27T11:04:53.634126Z"
    }
   },
   "outputs": [
    {
     "data": {
      "text/plain": [
       "(32537, 15)"
      ]
     },
     "metadata": {},
     "output_type": "display_data"
    },
    {
     "data": {
      "text/plain": [
       "(32561, 16)"
      ]
     },
     "metadata": {},
     "output_type": "display_data"
    }
   ],
   "source": [
    "target = 'income'\n",
    "features = df.columns.to_list()  # splitting between my target and features and removing the redundent feature\n",
    "features.remove(target)\n",
    "features.remove('Unnamed: 0')\n",
    "\n",
    "my_df = df[features + [target]].drop_duplicates()\n",
    "display(my_df.shape, df.shape)\n",
    "# we can see that there are few duplicate rows, that were removed.\n",
    "\n",
    "num_col = my_df.select_dtypes('number').columns.to_list()  # getting numeric columns names\n",
    "cat_col = my_df.select_dtypes(['object', 'category']).columns.to_list() # getting categoric columns names\n",
    "cat_col.remove('income')\n",
    "cat_col.remove('native-country')  # has a lot of values, will plot him aside"
   ]
  },
  {
   "cell_type": "code",
   "execution_count": 11,
   "metadata": {
    "ExecuteTime": {
     "end_time": "2020-04-27T11:04:56.609266Z",
     "start_time": "2020-04-27T11:04:53.789037Z"
    },
    "scrolled": false
   },
   "outputs": [
    {
     "data": {
      "image/png": "[encoded data removed]",
      "text/plain": [
       "<Figure size 432x288 with 1 Axes>"
      ]
     },
     "metadata": {
      "needs_background": "light"
     },
     "output_type": "display_data"
    },
    {
     "data": {
      "image/png": "[encoded data removed]",
      "text/plain": [
       "<Figure size 432x288 with 1 Axes>"
      ]
     },
     "metadata": {
      "needs_background": "light"
     },
     "output_type": "display_data"
    },
    {
     "data": {
      "image/png": "[encoded data removed]",
      "text/plain": [
       "<Figure size 432x288 with 1 Axes>"
      ]
     },
     "metadata": {
      "needs_background": "light"
     },
     "output_type": "display_data"
    },
    {
     "data": {
      "image/png": "[encoded data removed]",
      "text/plain": [
       "<Figure size 432x288 with 1 Axes>"
      ]
     },
     "metadata": {
      "needs_background": "light"
     },
     "output_type": "display_data"
    },
    {
     "data": {
      "image/png": "[encoded data removed]",
      "text/plain": [
       "<Figure size 432x288 with 1 Axes>"
      ]
     },
     "metadata": {
      "needs_background": "light"
     },
     "output_type": "display_data"
    },
    {
     "data": {
      "image/png": "[encoded data removed]",
      "text/plain": [
       "<Figure size 432x288 with 1 Axes>"
      ]
     },
     "metadata": {
      "needs_background": "light"
     },
     "output_type": "display_data"
    }
   ],
   "source": [
    "for col in num_col:  \n",
    "    sns.distplot(my_df[col], bins=20)  # plotting the numeric variables (hist with kde)\n",
    "    plt.show()"
   ]
  },
  {
   "cell_type": "code",
   "execution_count": 12,
   "metadata": {
    "ExecuteTime": {
     "end_time": "2020-04-27T11:04:59.588542Z",
     "start_time": "2020-04-27T11:04:56.615263Z"
    },
    "scrolled": false
   },
   "outputs": [
    {
     "data": {
      "image/png": "[encoded data removed]",
      "text/plain": [
       "<Figure size 630x360 with 1 Axes>"
      ]
     },
     "metadata": {
      "needs_background": "light"
     },
     "output_type": "display_data"
    },
    {
     "data": {
      "image/png": "[encoded data removed]",
      "text/plain": [
       "<Figure size 630x360 with 1 Axes>"
      ]
     },
     "metadata": {
      "needs_background": "light"
     },
     "output_type": "display_data"
    },
    {
     "data": {
      "image/png": "[encoded data removed]",
      "text/plain": [
       "<Figure size 630x360 with 1 Axes>"
      ]
     },
     "metadata": {
      "needs_background": "light"
     },
     "output_type": "display_data"
    },
    {
     "data": {
      "image/png": "[encoded data removed]",
      "text/plain": [
       "<Figure size 630x360 with 1 Axes>"
      ]
     },
     "metadata": {
      "needs_background": "light"
     },
     "output_type": "display_data"
    },
    {
     "data": {
      "image/png": "[encoded data removed]",
      "text/plain": [
       "<Figure size 630x360 with 1 Axes>"
      ]
     },
     "metadata": {
      "needs_background": "light"
     },
     "output_type": "display_data"
    },
    {
     "data": {
      "image/png": "[encoded data removed]",
      "text/plain": [
       "<Figure size 630x360 with 1 Axes>"
      ]
     },
     "metadata": {
      "needs_background": "light"
     },
     "output_type": "display_data"
    },
    {
     "data": {
      "image/png": "[encoded data removed]",
      "text/plain": [
       "<Figure size 630x360 with 1 Axes>"
      ]
     },
     "metadata": {
      "needs_background": "light"
     },
     "output_type": "display_data"
    },
    {
     "data": {
      "image/png": "[encoded data removed]",
      "text/plain": [
       "<Figure size 432x288 with 1 Axes>"
      ]
     },
     "metadata": {
      "needs_background": "light"
     },
     "output_type": "display_data"
    }
   ],
   "source": [
    "for col in cat_col:\n",
    "    sns.catplot(y=col, kind='count', data=my_df, aspect=1.75)  # plotting the categorical features\n",
    "    plt.show()\n",
    "\n",
    "plt.figure()\n",
    "my_df['native-country'].value_counts().head(10).plot(kind='barh')  # plotting only top 10 values\n",
    "plt.show()\n",
    "# after a look I can see that also occupation has a question mark in his values."
   ]
  },
  {
   "cell_type": "markdown",
   "metadata": {},
   "source": [
    "4. Split the data to a train set and a test set according to a method of your choice, and specify your business logic behind this choice "
   ]
  },
  {
   "cell_type": "code",
   "execution_count": 13,
   "metadata": {
    "ExecuteTime": {
     "end_time": "2020-04-27T11:04:59.698476Z",
     "start_time": "2020-04-27T11:04:59.591540Z"
    }
   },
   "outputs": [],
   "source": [
    "from sklearn.model_selection import train_test_split\n",
    "\n",
    "X = my_df[features]\n",
    "y = my_df[target]\n",
    "\n",
    "X_train, X_test, y_train, y_test = train_test_split(X, y, test_size=0.25, random_state=23, stratify = my_df['race'])"
   ]
  },
  {
   "cell_type": "markdown",
   "metadata": {},
   "source": [
    "I have decided to split my data in a stratify manner since I believe that race has a big impact on the income.\n",
    "I thought also about stratifying by 'sex' but I believe the ratio will remain almost the same since it is binary column, I will check it as well"
   ]
  },
  {
   "cell_type": "code",
   "execution_count": 14,
   "metadata": {
    "ExecuteTime": {
     "end_time": "2020-04-27T11:04:59.801477Z",
     "start_time": "2020-04-27T11:04:59.701476Z"
    },
    "scrolled": false
   },
   "outputs": [
    {
     "data": {
      "text/plain": [
       "(24402, 14)"
      ]
     },
     "metadata": {},
     "output_type": "display_data"
    },
    {
     "data": {
      "text/plain": [
       "(8135, 14)"
      ]
     },
     "metadata": {},
     "output_type": "display_data"
    },
    {
     "name": "stdout",
     "output_type": "stream",
     "text": [
      "0.7499769493192365 0.2500230506807634\n"
     ]
    },
    {
     "data": {
      "text/plain": [
       " White                 20846\n",
       " Black                  2341\n",
       " Asian-Pac-Islander      779\n",
       " Amer-Indian-Eskimo      233\n",
       " Other                   203\n",
       "Name: race, dtype: int64"
      ]
     },
     "metadata": {},
     "output_type": "display_data"
    },
    {
     "data": {
      "text/plain": [
       " White                 6949\n",
       " Black                  781\n",
       " Asian-Pac-Islander     259\n",
       " Amer-Indian-Eskimo      78\n",
       " Other                   68\n",
       "Name: race, dtype: int64"
      ]
     },
     "metadata": {},
     "output_type": "display_data"
    },
    {
     "name": "stdout",
     "output_type": "stream",
     "text": [
      "checking ratio between the splitted fields of 'race':\n",
      "0.33334932361124436\n",
      "0.3336181119179838\n",
      "0.3324775353016688\n",
      "0.33476394849785407\n",
      "0.33497536945812806\n"
     ]
    },
    {
     "data": {
      "text/plain": [
       "set()"
      ]
     },
     "execution_count": 14,
     "metadata": {},
     "output_type": "execute_result"
    }
   ],
   "source": [
    "# here I am validating my split in various ways\n",
    "\n",
    "display(X_train.shape, X_test.shape)\n",
    "print(X_train.shape[0]/len(X), X_test.shape[0]/len(X))\n",
    "\n",
    "display(X_train['race'].value_counts())\n",
    "display(X_test['race'].value_counts())\n",
    "\n",
    "print(\"checking ratio between the splitted fields of 'race':\")\n",
    "for i, val in enumerate(X_train['race'].value_counts()):\n",
    "    print(X_test['race'].value_counts()[i] / val)\n",
    "\n",
    "set(X_train.index) & set(X_test.index) \n"
   ]
  },
  {
   "cell_type": "code",
   "execution_count": 15,
   "metadata": {
    "ExecuteTime": {
     "end_time": "2020-04-27T11:04:59.870439Z",
     "start_time": "2020-04-27T11:04:59.806476Z"
    }
   },
   "outputs": [
    {
     "data": {
      "text/plain": [
       " Male      16323\n",
       " Female     8079\n",
       "Name: sex, dtype: int64"
      ]
     },
     "metadata": {},
     "output_type": "display_data"
    },
    {
     "data": {
      "text/plain": [
       " Male      5452\n",
       " Female    2683\n",
       "Name: sex, dtype: int64"
      ]
     },
     "metadata": {},
     "output_type": "display_data"
    },
    {
     "name": "stdout",
     "output_type": "stream",
     "text": [
      "0.33400722906328495\n",
      "0.3320955563807402\n"
     ]
    }
   ],
   "source": [
    "display(X_train['sex'].value_counts())\n",
    "display(X_test['sex'].value_counts())\n",
    "\n",
    "for i, val in enumerate(X_train['sex'].value_counts()):\n",
    "    print(X_test['sex'].value_counts()[i] / val)\n",
    "    \n",
    "# seems to be that the ratio also kept in sex, since it is randomly that is what we expect"
   ]
  },
  {
   "cell_type": "markdown",
   "metadata": {
    "ExecuteTime": {
     "end_time": "2019-06-11T10:33:50.264087Z",
     "start_time": "2019-06-11T10:33:50.259100Z"
    }
   },
   "source": [
    "## **Take the next steps on <span style=\"color:red\">both datasets</span>, according to the restrictions you learned.**"
   ]
  },
  {
   "cell_type": "markdown",
   "metadata": {},
   "source": [
    "5. Take care of NA values and outliers (if any). Specify the business logic behind your choice.\n",
    "    - I already checked and there are zero NA values, i will consider the questions mark as unknown."
   ]
  },
  {
   "cell_type": "code",
   "execution_count": 16,
   "metadata": {
    "ExecuteTime": {
     "end_time": "2020-04-27T11:04:59.925408Z",
     "start_time": "2020-04-27T11:04:59.875436Z"
    }
   },
   "outputs": [],
   "source": [
    "import warnings\n",
    "warnings.filterwarnings('ignore')\n",
    "\n",
    "X_train['occupation'] = X_train['occupation'].apply(lambda x: ' unknown' if x==' ?' else x)\n",
    "X_train['workclass'] = X_train['workclass'].apply(lambda x: ' unknown' if x==' ?' else x)\n",
    "X_test['occupation'] = X_test['occupation'].apply(lambda x: ' unknown' if x==' ?' else x)\n",
    "X_test['workclass'] = X_test['workclass'].apply(lambda x: ' unknown' if x==' ?' else x)"
   ]
  },
  {
   "cell_type": "code",
   "execution_count": 17,
   "metadata": {
    "ExecuteTime": {
     "end_time": "2020-04-27T11:04:59.943397Z",
     "start_time": "2020-04-27T11:04:59.933406Z"
    }
   },
   "outputs": [],
   "source": [
    "# X_test['workclass'].value_counts()[3] + X_train['workclass'].value_counts()[3] # checking stuff"
   ]
  },
  {
   "cell_type": "markdown",
   "metadata": {},
   "source": [
    "outliers check:\n",
    "    - It seems that age feature has outliers in the older ages\n",
    "    - I am removing age outliers as most the working community is under 70 yrs\n",
    "    - I will first remove top 2% of age, and then check for outliers again\n",
    "    - age now has no outliers\n",
    "    \n",
    "    - capital gain has a quite obvious outliers, I will remove it as well, top 5%\n",
    "    \n",
    "    - finally I will get rid of the outliers in hours-per-week since there some crazy people working 99 hrs a week, \n",
    "      and magician too that works 1 hour per week"
   ]
  },
  {
   "cell_type": "code",
   "execution_count": 18,
   "metadata": {
    "ExecuteTime": {
     "end_time": "2020-04-27T11:04:59.975378Z",
     "start_time": "2020-04-27T11:04:59.950392Z"
    }
   },
   "outputs": [],
   "source": [
    "X_train = X_train[X_train['age'] < X_train['age'].quantile(0.98)]"
   ]
  },
  {
   "cell_type": "code",
   "execution_count": 19,
   "metadata": {
    "ExecuteTime": {
     "end_time": "2020-04-27T11:04:59.998365Z",
     "start_time": "2020-04-27T11:04:59.981375Z"
    }
   },
   "outputs": [],
   "source": [
    "X_train = X_train[X_train['capital-gain'] < X_train['capital-gain'].quantile(0.95)]"
   ]
  },
  {
   "cell_type": "code",
   "execution_count": 20,
   "metadata": {
    "ExecuteTime": {
     "end_time": "2020-04-27T11:05:00.049338Z",
     "start_time": "2020-04-27T11:05:00.004363Z"
    }
   },
   "outputs": [],
   "source": [
    "X_train = X_train[(X_train['hours-per-week'] < X_train['hours-per-week'].quantile(0.98)) & (X_train['hours-per-week'] > X_train['hours-per-week'].quantile(0.02))]"
   ]
  },
  {
   "cell_type": "code",
   "execution_count": 21,
   "metadata": {
    "ExecuteTime": {
     "end_time": "2020-04-27T11:05:00.093310Z",
     "start_time": "2020-04-27T11:05:00.053333Z"
    }
   },
   "outputs": [
    {
     "data": {
      "text/plain": [
       "(21548, 14)"
      ]
     },
     "execution_count": 21,
     "metadata": {},
     "output_type": "execute_result"
    }
   ],
   "source": [
    "X_train.shape\n",
    "# we can see that we lost around 3000 rows, out of this data is a lot. around 10%."
   ]
  },
  {
   "cell_type": "code",
   "execution_count": 22,
   "metadata": {
    "ExecuteTime": {
     "end_time": "2020-04-27T11:05:01.480016Z",
     "start_time": "2020-04-27T11:05:00.100306Z"
    }
   },
   "outputs": [
    {
     "data": {
      "image/png": "[encoded data removed]",
      "text/plain": [
       "<Figure size 432x288 with 1 Axes>"
      ]
     },
     "metadata": {
      "needs_background": "light"
     },
     "output_type": "display_data"
    },
    {
     "data": {
      "image/png": "[encoded data removed]",
      "text/plain": [
       "<Figure size 432x288 with 1 Axes>"
      ]
     },
     "metadata": {
      "needs_background": "light"
     },
     "output_type": "display_data"
    },
    {
     "data": {
      "image/png": "[encoded data removed]",
      "text/plain": [
       "<Figure size 432x288 with 1 Axes>"
      ]
     },
     "metadata": {
      "needs_background": "light"
     },
     "output_type": "display_data"
    },
    {
     "data": {
      "image/png": "[encoded data removed]",
      "text/plain": [
       "<Figure size 432x288 with 1 Axes>"
      ]
     },
     "metadata": {
      "needs_background": "light"
     },
     "output_type": "display_data"
    },
    {
     "data": {
      "image/png": "[encoded data removed]",
      "text/plain": [
       "<Figure size 432x288 with 1 Axes>"
      ]
     },
     "metadata": {
      "needs_background": "light"
     },
     "output_type": "display_data"
    },
    {
     "data": {
      "image/png": "[encoded data removed]",
      "text/plain": [
       "<Figure size 432x288 with 1 Axes>"
      ]
     },
     "metadata": {
      "needs_background": "light"
     },
     "output_type": "display_data"
    }
   ],
   "source": [
    "for col in X_train:\n",
    "    if col in num_col:\n",
    "        X_train[col].plot(kind='box')\n",
    "        plt.show()"
   ]
  },
  {
   "cell_type": "markdown",
   "metadata": {},
   "source": [
    "6. Plot the distribution of 3 variables of your choice against the dependent variable - summarize interesting findings if any. One of the chosen features must be numeric, and another one must be categorical. You can choose the third one as you wish."
   ]
  },
  {
   "cell_type": "code",
   "execution_count": 23,
   "metadata": {
    "ExecuteTime": {
     "end_time": "2020-04-27T11:05:03.417380Z",
     "start_time": "2020-04-27T11:05:01.487014Z"
    }
   },
   "outputs": [
    {
     "data": {
      "image/png": "[encoded data removed]",
      "text/plain": [
       "<Figure size 1080x504 with 1 Axes>"
      ]
     },
     "metadata": {
      "needs_background": "light"
     },
     "output_type": "display_data"
    }
   ],
   "source": [
    "my_df.groupby('income')['hours-per-week'].plot(kind='kde', figsize=(15, 7))\n",
    "plt.legend()\n",
    "plt.show()\n",
    "\n",
    "# I have plotted the income vs the hours per week\n",
    "# we can see that the majority works arounf 35-40 hrs per week and that most of them will get paid less than 50k "
   ]
  },
  {
   "cell_type": "code",
   "execution_count": 24,
   "metadata": {
    "ExecuteTime": {
     "end_time": "2020-04-27T11:05:03.774431Z",
     "start_time": "2020-04-27T11:05:03.421377Z"
    },
    "scrolled": true
   },
   "outputs": [
    {
     "data": {
      "image/png": "[encoded data removed]",
      "text/plain": [
       "<Figure size 432x288 with 1 Axes>"
      ]
     },
     "metadata": {
      "needs_background": "light"
     },
     "output_type": "display_data"
    }
   ],
   "source": [
    "sns.countplot(X_train['race'],hue=y_train)\n",
    "plt.show()\n",
    "\n",
    "# we know that most of our data is about white people and therefor the majority of info.\n",
    "# we need to check by precent how many white earn more than 50k out of less then 50k\n",
    "# against other races"
   ]
  },
  {
   "cell_type": "code",
   "execution_count": 25,
   "metadata": {
    "ExecuteTime": {
     "end_time": "2020-04-27T11:05:04.429513Z",
     "start_time": "2020-04-27T11:05:03.777428Z"
    }
   },
   "outputs": [
    {
     "data": {
      "image/png": "[encoded data removed]",
      "text/plain": [
       "<Figure size 432x288 with 1 Axes>"
      ]
     },
     "metadata": {
      "needs_background": "light"
     },
     "output_type": "display_data"
    }
   ],
   "source": [
    "sns.barplot(x=X_train['capital-gain'],y=y_train)\n",
    "plt.show()\n",
    "\n",
    "# we can see that the difference in the captial gain is smaller then I expected\n",
    "# probably related to the lifestyle and expenses"
   ]
  },
  {
   "cell_type": "markdown",
   "metadata": {},
   "source": [
    "7. Plot the distribution of 3 independent variables against eachother (3 plots overall), including a color bar for the dependent variable - summarize interesting findings if any. One of the chosen features must be numeric, and another one must be categorical. You can choose the third one as you wish."
   ]
  },
  {
   "cell_type": "code",
   "execution_count": 26,
   "metadata": {
    "ExecuteTime": {
     "end_time": "2020-04-27T11:05:05.816841Z",
     "start_time": "2020-04-27T11:05:04.433510Z"
    },
    "scrolled": true
   },
   "outputs": [
    {
     "data": {
      "image/png": "[encoded data removed]",
      "text/plain": [
       "<Figure size 432x288 with 1 Axes>"
      ]
     },
     "metadata": {},
     "output_type": "display_data"
    }
   ],
   "source": [
    "sns.set(style=\"darkgrid\")\n",
    "sns.barplot(x = X_train['sex'], y = X_train['age'], hue = y_train, estimator=np.median)\n",
    "plt.tight_layout()\n",
    "plt.legend(bbox_to_anchor=(1, 1))\n",
    "plt.show()\n",
    "\n",
    "# I have plotted the sex by age, calculating the median of each group\n",
    "# we can see that the uncertinty level is relativly low (black small rectangel)\n",
    "# more I added the income as well to see how it splits and we can tell that male usualy makes more than women\n",
    "# and that as older you get you will earn more and the difference between men and women will increase."
   ]
  },
  {
   "cell_type": "code",
   "execution_count": 27,
   "metadata": {
    "ExecuteTime": {
     "end_time": "2020-04-27T11:05:10.371356Z",
     "start_time": "2020-04-27T11:05:05.819838Z"
    }
   },
   "outputs": [
    {
     "data": {
      "image/png": "[encoded data removed]",
      "text/plain": [
       "<Figure size 795.225x360 with 1 Axes>"
      ]
     },
     "metadata": {},
     "output_type": "display_data"
    },
    {
     "data": {
      "image/png": "[encoded data removed]",
      "text/plain": [
       "<Figure size 432x288 with 1 Axes>"
      ]
     },
     "metadata": {},
     "output_type": "display_data"
    }
   ],
   "source": [
    "sns.relplot(x='race', y='capital-loss',data=X_train, hue=y_train ,kind=\"scatter\", aspect=2)\n",
    "plt.show()\n",
    "\n",
    "sns.barplot(x = X_train['hours-per-week'], y = X_train['sex'], hue = y_train, estimator=np.mean)\n",
    "plt.tight_layout()\n",
    "plt.legend(bbox_to_anchor=(1, 1))\n",
    "plt.show()\n",
    "\n",
    "# we can see that usually if you work more you earn more, and that males are working more than female - usually."
   ]
  },
  {
   "cell_type": "markdown",
   "metadata": {},
   "source": [
    "9. Generate a correlation matrix and plot a heat map of it. What can you say about the correlations?"
   ]
  },
  {
   "cell_type": "code",
   "execution_count": 28,
   "metadata": {
    "ExecuteTime": {
     "end_time": "2020-04-27T11:05:11.126272Z",
     "start_time": "2020-04-27T11:05:10.374353Z"
    }
   },
   "outputs": [
    {
     "data": {
      "text/html": [
       "<div>\n",
       "<style scoped>\n",
       "    .dataframe tbody tr th:only-of-type {\n",
       "        vertical-align: middle;\n",
       "    }\n",
       "\n",
       "    .dataframe tbody tr th {\n",
       "        vertical-align: top;\n",
       "    }\n",
       "\n",
       "    .dataframe thead th {\n",
       "        text-align: right;\n",
       "    }\n",
       "</style>\n",
       "<table border=\"1\" class=\"dataframe\">\n",
       "  <thead>\n",
       "    <tr style=\"text-align: right;\">\n",
       "      <th></th>\n",
       "      <th>age</th>\n",
       "      <th>fnlwgt</th>\n",
       "      <th>education-num</th>\n",
       "      <th>capital-gain</th>\n",
       "      <th>capital-loss</th>\n",
       "      <th>hours-per-week</th>\n",
       "    </tr>\n",
       "  </thead>\n",
       "  <tbody>\n",
       "    <tr>\n",
       "      <th>age</th>\n",
       "      <td>1.000000</td>\n",
       "      <td>-0.076447</td>\n",
       "      <td>0.036224</td>\n",
       "      <td>0.077676</td>\n",
       "      <td>0.057745</td>\n",
       "      <td>0.068515</td>\n",
       "    </tr>\n",
       "    <tr>\n",
       "      <th>fnlwgt</th>\n",
       "      <td>-0.076447</td>\n",
       "      <td>1.000000</td>\n",
       "      <td>-0.043388</td>\n",
       "      <td>0.000429</td>\n",
       "      <td>-0.010260</td>\n",
       "      <td>-0.018898</td>\n",
       "    </tr>\n",
       "    <tr>\n",
       "      <th>education-num</th>\n",
       "      <td>0.036224</td>\n",
       "      <td>-0.043388</td>\n",
       "      <td>1.000000</td>\n",
       "      <td>0.122664</td>\n",
       "      <td>0.079892</td>\n",
       "      <td>0.148422</td>\n",
       "    </tr>\n",
       "    <tr>\n",
       "      <th>capital-gain</th>\n",
       "      <td>0.077676</td>\n",
       "      <td>0.000429</td>\n",
       "      <td>0.122664</td>\n",
       "      <td>1.000000</td>\n",
       "      <td>-0.031639</td>\n",
       "      <td>0.078408</td>\n",
       "    </tr>\n",
       "    <tr>\n",
       "      <th>capital-loss</th>\n",
       "      <td>0.057745</td>\n",
       "      <td>-0.010260</td>\n",
       "      <td>0.079892</td>\n",
       "      <td>-0.031639</td>\n",
       "      <td>1.000000</td>\n",
       "      <td>0.054229</td>\n",
       "    </tr>\n",
       "    <tr>\n",
       "      <th>hours-per-week</th>\n",
       "      <td>0.068515</td>\n",
       "      <td>-0.018898</td>\n",
       "      <td>0.148422</td>\n",
       "      <td>0.078408</td>\n",
       "      <td>0.054229</td>\n",
       "      <td>1.000000</td>\n",
       "    </tr>\n",
       "  </tbody>\n",
       "</table>\n",
       "</div>"
      ],
      "text/plain": [
       "                     age    fnlwgt  education-num  capital-gain  capital-loss  \\\n",
       "age             1.000000 -0.076447       0.036224      0.077676      0.057745   \n",
       "fnlwgt         -0.076447  1.000000      -0.043388      0.000429     -0.010260   \n",
       "education-num   0.036224 -0.043388       1.000000      0.122664      0.079892   \n",
       "capital-gain    0.077676  0.000429       0.122664      1.000000     -0.031639   \n",
       "capital-loss    0.057745 -0.010260       0.079892     -0.031639      1.000000   \n",
       "hours-per-week  0.068515 -0.018898       0.148422      0.078408      0.054229   \n",
       "\n",
       "                hours-per-week  \n",
       "age                   0.068515  \n",
       "fnlwgt               -0.018898  \n",
       "education-num         0.148422  \n",
       "capital-gain          0.078408  \n",
       "capital-loss          0.054229  \n",
       "hours-per-week        1.000000  "
      ]
     },
     "metadata": {},
     "output_type": "display_data"
    },
    {
     "data": {
      "image/png": "[encoded data removed]",
      "text/plain": [
       "<Figure size 432x288 with 2 Axes>"
      ]
     },
     "metadata": {},
     "output_type": "display_data"
    }
   ],
   "source": [
    "display(my_df.corr())\n",
    "\n",
    "ax = sns.heatmap(my_df.corr(), annot=True, fmt=\".2f\")\n",
    "\n",
    "# we can see that all the numeric features has a low linear correlation with others"
   ]
  },
  {
   "cell_type": "markdown",
   "metadata": {},
   "source": [
    "11. Deal with 3 of the categorical features (prepare them for a model)"
   ]
  },
  {
   "cell_type": "code",
   "execution_count": 29,
   "metadata": {
    "ExecuteTime": {
     "end_time": "2020-04-27T11:05:11.155234Z",
     "start_time": "2020-04-27T11:05:11.131252Z"
    }
   },
   "outputs": [],
   "source": [
    "from sklearn.preprocessing import LabelEncoder\n",
    "\n",
    "le = LabelEncoder()\n",
    "le.fit(X_train['native-country'])\n",
    "X_train['native-country_num'] = le.transform(X_train['native-country'])\n",
    "\n",
    "# I have transformed this categorical feature using the label encoder \n",
    "# since he is nominal and only 3 values need to be accounted for."
   ]
  },
  {
   "cell_type": "code",
   "execution_count": 30,
   "metadata": {
    "ExecuteTime": {
     "end_time": "2020-04-27T11:05:11.175227Z",
     "start_time": "2020-04-27T11:05:11.158233Z"
    }
   },
   "outputs": [],
   "source": [
    "X_test['native-country_num'] = le.transform(X_test['native-country'])"
   ]
  },
  {
   "cell_type": "code",
   "execution_count": 31,
   "metadata": {
    "ExecuteTime": {
     "end_time": "2020-04-27T11:05:11.224195Z",
     "start_time": "2020-04-27T11:05:11.180221Z"
    }
   },
   "outputs": [
    {
     "data": {
      "text/plain": [
       "( Male      14251\n",
       "  Female     7297\n",
       " Name: sex, dtype: int64,\n",
       "  Male      5452\n",
       "  Female    2683\n",
       " Name: sex, dtype: int64)"
      ]
     },
     "execution_count": 31,
     "metadata": {},
     "output_type": "execute_result"
    }
   ],
   "source": [
    "# validating get dummies is the same for both train and test.\n",
    "X_train['sex'].value_counts(), X_test['sex'].value_counts()"
   ]
  },
  {
   "cell_type": "code",
   "execution_count": 32,
   "metadata": {
    "ExecuteTime": {
     "end_time": "2020-04-27T11:05:11.296162Z",
     "start_time": "2020-04-27T11:05:11.227194Z"
    }
   },
   "outputs": [],
   "source": [
    "X_train = pd.get_dummies(X_train, columns=['sex'],drop_first=True)\n",
    "X_test = pd.get_dummies(X_test, columns=['sex'],drop_first=True)"
   ]
  },
  {
   "cell_type": "code",
   "execution_count": 33,
   "metadata": {
    "ExecuteTime": {
     "end_time": "2020-04-27T11:05:11.361048Z",
     "start_time": "2020-04-27T11:05:11.302151Z"
    }
   },
   "outputs": [
    {
     "data": {
      "text/plain": [
       "(1    14251\n",
       " 0     7297\n",
       " Name: sex_ Male, dtype: int64,\n",
       " 1    5452\n",
       " 0    2683\n",
       " Name: sex_ Male, dtype: int64)"
      ]
     },
     "execution_count": 33,
     "metadata": {},
     "output_type": "execute_result"
    }
   ],
   "source": [
    "# I got the same clasification for the dummies.\n",
    "X_train['sex_ Male'].value_counts(), X_test['sex_ Male'].value_counts()"
   ]
  },
  {
   "cell_type": "code",
   "execution_count": 34,
   "metadata": {
    "ExecuteTime": {
     "end_time": "2020-04-27T11:05:11.378037Z",
     "start_time": "2020-04-27T11:05:11.368052Z"
    }
   },
   "outputs": [],
   "source": [
    "# class_names2[\"gender_F\"] = class_names[\"gender\"].apply(lambda x: 1 if x==\"F\" else 0)"
   ]
  },
  {
   "cell_type": "code",
   "execution_count": 35,
   "metadata": {
    "ExecuteTime": {
     "end_time": "2020-04-27T11:05:11.464988Z",
     "start_time": "2020-04-27T11:05:11.384034Z"
    },
    "scrolled": true
   },
   "outputs": [
    {
     "data": {
      "text/html": [
       "<div>\n",
       "<style scoped>\n",
       "    .dataframe tbody tr th:only-of-type {\n",
       "        vertical-align: middle;\n",
       "    }\n",
       "\n",
       "    .dataframe tbody tr th {\n",
       "        vertical-align: top;\n",
       "    }\n",
       "\n",
       "    .dataframe thead th {\n",
       "        text-align: right;\n",
       "    }\n",
       "</style>\n",
       "<table border=\"1\" class=\"dataframe\">\n",
       "  <thead>\n",
       "    <tr style=\"text-align: right;\">\n",
       "      <th></th>\n",
       "      <th>age</th>\n",
       "      <th>workclass</th>\n",
       "      <th>fnlwgt</th>\n",
       "      <th>education</th>\n",
       "      <th>education-num</th>\n",
       "      <th>marital-status</th>\n",
       "      <th>occupation</th>\n",
       "      <th>relationship</th>\n",
       "      <th>race</th>\n",
       "      <th>capital-gain</th>\n",
       "      <th>capital-loss</th>\n",
       "      <th>hours-per-week</th>\n",
       "      <th>native-country</th>\n",
       "      <th>native-country_num</th>\n",
       "      <th>sex_ Male</th>\n",
       "    </tr>\n",
       "  </thead>\n",
       "  <tbody>\n",
       "    <tr>\n",
       "      <th>6719</th>\n",
       "      <td>27</td>\n",
       "      <td>Private</td>\n",
       "      <td>205188</td>\n",
       "      <td>10th</td>\n",
       "      <td>6</td>\n",
       "      <td>Married-civ-spouse</td>\n",
       "      <td>Machine-op-inspct</td>\n",
       "      <td>Husband</td>\n",
       "      <td>White</td>\n",
       "      <td>0</td>\n",
       "      <td>0</td>\n",
       "      <td>40</td>\n",
       "      <td>United-States</td>\n",
       "      <td>39</td>\n",
       "      <td>1</td>\n",
       "    </tr>\n",
       "    <tr>\n",
       "      <th>8430</th>\n",
       "      <td>26</td>\n",
       "      <td>Private</td>\n",
       "      <td>162872</td>\n",
       "      <td>Assoc-acdm</td>\n",
       "      <td>12</td>\n",
       "      <td>Never-married</td>\n",
       "      <td>Prof-specialty</td>\n",
       "      <td>Not-in-family</td>\n",
       "      <td>White</td>\n",
       "      <td>0</td>\n",
       "      <td>0</td>\n",
       "      <td>40</td>\n",
       "      <td>United-States</td>\n",
       "      <td>39</td>\n",
       "      <td>0</td>\n",
       "    </tr>\n",
       "    <tr>\n",
       "      <th>15086</th>\n",
       "      <td>27</td>\n",
       "      <td>Private</td>\n",
       "      <td>113635</td>\n",
       "      <td>HS-grad</td>\n",
       "      <td>9</td>\n",
       "      <td>Never-married</td>\n",
       "      <td>Craft-repair</td>\n",
       "      <td>Not-in-family</td>\n",
       "      <td>White</td>\n",
       "      <td>0</td>\n",
       "      <td>0</td>\n",
       "      <td>35</td>\n",
       "      <td>Ireland</td>\n",
       "      <td>21</td>\n",
       "      <td>1</td>\n",
       "    </tr>\n",
       "    <tr>\n",
       "      <th>1325</th>\n",
       "      <td>17</td>\n",
       "      <td>unknown</td>\n",
       "      <td>138507</td>\n",
       "      <td>10th</td>\n",
       "      <td>6</td>\n",
       "      <td>Never-married</td>\n",
       "      <td>unknown</td>\n",
       "      <td>Own-child</td>\n",
       "      <td>White</td>\n",
       "      <td>0</td>\n",
       "      <td>0</td>\n",
       "      <td>20</td>\n",
       "      <td>United-States</td>\n",
       "      <td>39</td>\n",
       "      <td>1</td>\n",
       "    </tr>\n",
       "    <tr>\n",
       "      <th>1865</th>\n",
       "      <td>60</td>\n",
       "      <td>unknown</td>\n",
       "      <td>386261</td>\n",
       "      <td>Bachelors</td>\n",
       "      <td>13</td>\n",
       "      <td>Married-spouse-absent</td>\n",
       "      <td>unknown</td>\n",
       "      <td>Unmarried</td>\n",
       "      <td>Black</td>\n",
       "      <td>0</td>\n",
       "      <td>0</td>\n",
       "      <td>15</td>\n",
       "      <td>United-States</td>\n",
       "      <td>39</td>\n",
       "      <td>0</td>\n",
       "    </tr>\n",
       "    <tr>\n",
       "      <th>...</th>\n",
       "      <td>...</td>\n",
       "      <td>...</td>\n",
       "      <td>...</td>\n",
       "      <td>...</td>\n",
       "      <td>...</td>\n",
       "      <td>...</td>\n",
       "      <td>...</td>\n",
       "      <td>...</td>\n",
       "      <td>...</td>\n",
       "      <td>...</td>\n",
       "      <td>...</td>\n",
       "      <td>...</td>\n",
       "      <td>...</td>\n",
       "      <td>...</td>\n",
       "      <td>...</td>\n",
       "    </tr>\n",
       "    <tr>\n",
       "      <th>16713</th>\n",
       "      <td>43</td>\n",
       "      <td>Private</td>\n",
       "      <td>148998</td>\n",
       "      <td>HS-grad</td>\n",
       "      <td>9</td>\n",
       "      <td>Divorced</td>\n",
       "      <td>Adm-clerical</td>\n",
       "      <td>Unmarried</td>\n",
       "      <td>White</td>\n",
       "      <td>0</td>\n",
       "      <td>0</td>\n",
       "      <td>40</td>\n",
       "      <td>United-States</td>\n",
       "      <td>39</td>\n",
       "      <td>0</td>\n",
       "    </tr>\n",
       "    <tr>\n",
       "      <th>10493</th>\n",
       "      <td>48</td>\n",
       "      <td>Local-gov</td>\n",
       "      <td>177018</td>\n",
       "      <td>Masters</td>\n",
       "      <td>14</td>\n",
       "      <td>Married-civ-spouse</td>\n",
       "      <td>Prof-specialty</td>\n",
       "      <td>Husband</td>\n",
       "      <td>White</td>\n",
       "      <td>0</td>\n",
       "      <td>0</td>\n",
       "      <td>50</td>\n",
       "      <td>United-States</td>\n",
       "      <td>39</td>\n",
       "      <td>1</td>\n",
       "    </tr>\n",
       "    <tr>\n",
       "      <th>21870</th>\n",
       "      <td>49</td>\n",
       "      <td>Self-emp-not-inc</td>\n",
       "      <td>148254</td>\n",
       "      <td>HS-grad</td>\n",
       "      <td>9</td>\n",
       "      <td>Divorced</td>\n",
       "      <td>Farming-fishing</td>\n",
       "      <td>Not-in-family</td>\n",
       "      <td>White</td>\n",
       "      <td>0</td>\n",
       "      <td>0</td>\n",
       "      <td>28</td>\n",
       "      <td>United-States</td>\n",
       "      <td>39</td>\n",
       "      <td>0</td>\n",
       "    </tr>\n",
       "    <tr>\n",
       "      <th>28435</th>\n",
       "      <td>20</td>\n",
       "      <td>Private</td>\n",
       "      <td>185452</td>\n",
       "      <td>HS-grad</td>\n",
       "      <td>9</td>\n",
       "      <td>Never-married</td>\n",
       "      <td>Adm-clerical</td>\n",
       "      <td>Own-child</td>\n",
       "      <td>White</td>\n",
       "      <td>0</td>\n",
       "      <td>0</td>\n",
       "      <td>40</td>\n",
       "      <td>United-States</td>\n",
       "      <td>39</td>\n",
       "      <td>0</td>\n",
       "    </tr>\n",
       "    <tr>\n",
       "      <th>12794</th>\n",
       "      <td>24</td>\n",
       "      <td>unknown</td>\n",
       "      <td>119156</td>\n",
       "      <td>Bachelors</td>\n",
       "      <td>13</td>\n",
       "      <td>Never-married</td>\n",
       "      <td>unknown</td>\n",
       "      <td>Own-child</td>\n",
       "      <td>White</td>\n",
       "      <td>0</td>\n",
       "      <td>0</td>\n",
       "      <td>40</td>\n",
       "      <td>United-States</td>\n",
       "      <td>39</td>\n",
       "      <td>1</td>\n",
       "    </tr>\n",
       "  </tbody>\n",
       "</table>\n",
       "<p>21548 rows × 15 columns</p>\n",
       "</div>"
      ],
      "text/plain": [
       "       age          workclass  fnlwgt    education  education-num  \\\n",
       "6719    27            Private  205188         10th              6   \n",
       "8430    26            Private  162872   Assoc-acdm             12   \n",
       "15086   27            Private  113635      HS-grad              9   \n",
       "1325    17            unknown  138507         10th              6   \n",
       "1865    60            unknown  386261    Bachelors             13   \n",
       "...    ...                ...     ...          ...            ...   \n",
       "16713   43            Private  148998      HS-grad              9   \n",
       "10493   48          Local-gov  177018      Masters             14   \n",
       "21870   49   Self-emp-not-inc  148254      HS-grad              9   \n",
       "28435   20            Private  185452      HS-grad              9   \n",
       "12794   24            unknown  119156    Bachelors             13   \n",
       "\n",
       "               marital-status          occupation    relationship    race  \\\n",
       "6719       Married-civ-spouse   Machine-op-inspct         Husband   White   \n",
       "8430            Never-married      Prof-specialty   Not-in-family   White   \n",
       "15086           Never-married        Craft-repair   Not-in-family   White   \n",
       "1325            Never-married             unknown       Own-child   White   \n",
       "1865    Married-spouse-absent             unknown       Unmarried   Black   \n",
       "...                       ...                 ...             ...     ...   \n",
       "16713                Divorced        Adm-clerical       Unmarried   White   \n",
       "10493      Married-civ-spouse      Prof-specialty         Husband   White   \n",
       "21870                Divorced     Farming-fishing   Not-in-family   White   \n",
       "28435           Never-married        Adm-clerical       Own-child   White   \n",
       "12794           Never-married             unknown       Own-child   White   \n",
       "\n",
       "       capital-gain  capital-loss  hours-per-week  native-country  \\\n",
       "6719              0             0              40   United-States   \n",
       "8430              0             0              40   United-States   \n",
       "15086             0             0              35         Ireland   \n",
       "1325              0             0              20   United-States   \n",
       "1865              0             0              15   United-States   \n",
       "...             ...           ...             ...             ...   \n",
       "16713             0             0              40   United-States   \n",
       "10493             0             0              50   United-States   \n",
       "21870             0             0              28   United-States   \n",
       "28435             0             0              40   United-States   \n",
       "12794             0             0              40   United-States   \n",
       "\n",
       "       native-country_num  sex_ Male  \n",
       "6719                   39          1  \n",
       "8430                   39          0  \n",
       "15086                  21          1  \n",
       "1325                   39          1  \n",
       "1865                   39          0  \n",
       "...                   ...        ...  \n",
       "16713                  39          0  \n",
       "10493                  39          1  \n",
       "21870                  39          0  \n",
       "28435                  39          0  \n",
       "12794                  39          1  \n",
       "\n",
       "[21548 rows x 15 columns]"
      ]
     },
     "execution_count": 35,
     "metadata": {},
     "output_type": "execute_result"
    }
   ],
   "source": [
    "X_train"
   ]
  },
  {
   "cell_type": "code",
   "execution_count": 36,
   "metadata": {
    "ExecuteTime": {
     "end_time": "2020-04-27T11:05:11.504964Z",
     "start_time": "2020-04-27T11:05:11.468986Z"
    }
   },
   "outputs": [],
   "source": [
    "X_train.drop(columns=['native-country'], inplace=True)\n",
    "X_test.drop(columns=['native-country'], inplace=True)"
   ]
  },
  {
   "cell_type": "code",
   "execution_count": 37,
   "metadata": {
    "ExecuteTime": {
     "end_time": "2020-04-27T11:05:11.536944Z",
     "start_time": "2020-04-27T11:05:11.507966Z"
    }
   },
   "outputs": [],
   "source": [
    "le_race = LabelEncoder()\n",
    "le_race.fit(X_train['race'])\n",
    "X_train['race_num'] = le_race.transform(X_train['race'])\n",
    "X_test['race_num'] = le_race.transform(X_test['race'])"
   ]
  },
  {
   "cell_type": "markdown",
   "metadata": {},
   "source": [
    "12. Deal with numerical features"
   ]
  },
  {
   "cell_type": "code",
   "execution_count": 38,
   "metadata": {
    "ExecuteTime": {
     "end_time": "2020-04-27T11:05:11.554935Z",
     "start_time": "2020-04-27T11:05:11.539946Z"
    }
   },
   "outputs": [],
   "source": [
    "# to the final weight I will do the log transformation since it is right skewed\n",
    "# and we will see afetwards that it is not right skewed anymore\n",
    "\n",
    "X_train['fnlwgt'] = X_train['fnlwgt'].apply(np.log1p)\n",
    "X_test['fnlwgt'] = X_test['fnlwgt'].apply(np.log1p)"
   ]
  },
  {
   "cell_type": "code",
   "execution_count": 39,
   "metadata": {
    "ExecuteTime": {
     "end_time": "2020-04-27T11:05:12.297510Z",
     "start_time": "2020-04-27T11:05:11.558934Z"
    },
    "scrolled": true
   },
   "outputs": [
    {
     "data": {
      "text/plain": [
       "<matplotlib.axes._subplots.AxesSubplot at 0x12f48d03c50>"
      ]
     },
     "execution_count": 39,
     "metadata": {},
     "output_type": "execute_result"
    },
    {
     "data": {
      "image/png": "[encoded data removed]",
      "text/plain": [
       "<Figure size 432x288 with 1 Axes>"
      ]
     },
     "metadata": {},
     "output_type": "display_data"
    }
   ],
   "source": [
    "X_train['fnlwgt'].hist()"
   ]
  },
  {
   "cell_type": "code",
   "execution_count": 40,
   "metadata": {
    "ExecuteTime": {
     "end_time": "2020-04-27T11:05:12.323496Z",
     "start_time": "2020-04-27T11:05:12.300508Z"
    }
   },
   "outputs": [],
   "source": [
    "from sklearn.preprocessing import KBinsDiscretizer\n",
    "\n",
    "est = KBinsDiscretizer(n_bins=5, encode='ordinal', strategy='quantile')\n",
    "est.fit(X_train[['hours-per-week']])\n",
    "X_train['hours-per-week_tr'] = est.transform(X_train[['hours-per-week']])\n",
    "\n",
    "# here I did some binning on the hours per week into 5 bins"
   ]
  },
  {
   "cell_type": "code",
   "execution_count": 41,
   "metadata": {
    "ExecuteTime": {
     "end_time": "2020-04-27T11:05:12.340489Z",
     "start_time": "2020-04-27T11:05:12.326492Z"
    }
   },
   "outputs": [],
   "source": [
    "X_test['hours-per-week_tr'] = est.transform(X_test[['hours-per-week']])"
   ]
  },
  {
   "cell_type": "code",
   "execution_count": 42,
   "metadata": {
    "ExecuteTime": {
     "end_time": "2020-04-27T11:05:12.381461Z",
     "start_time": "2020-04-27T11:05:12.344483Z"
    }
   },
   "outputs": [],
   "source": [
    "from sklearn.preprocessing import MinMaxScaler\n",
    "\n",
    "scaler_lon = MinMaxScaler()\n",
    "scaler_lon.fit(X_train[['capital-gain']])\n",
    "X_train['capital-gain_mm_scale'] = scaler_lon.transform(X_train[['capital-gain']])\n",
    "X_test['capital-gain_mm_scale'] = scaler_lon.transform(X_test[['capital-gain']])\n",
    "\n",
    "# normalized capital gain by min max noramilization as it has large numbers."
   ]
  },
  {
   "cell_type": "markdown",
   "metadata": {},
   "source": [
    "13. Select features according to the correlations and other criteria (cardinality, value distribution, % of similar values in the column, drop ids, etc...) - see helper function. By selecting features we mean - drop any unwanted features. **Make sure you are left only with features that we can you in a model**"
   ]
  },
  {
   "cell_type": "code",
   "execution_count": 43,
   "metadata": {
    "ExecuteTime": {
     "end_time": "2020-04-27T11:05:12.412446Z",
     "start_time": "2020-04-27T11:05:12.390469Z"
    }
   },
   "outputs": [],
   "source": [
    "final_features = ['age', 'sex_ Male', 'race_num', 'fnlwgt', 'capital-gain_mm_scale', 'hours-per-week_tr',\n",
    "                 'education', 'education-num', 'marital-status']\n",
    "X_train = X_train[final_features]\n",
    "X_test = X_test[final_features]\n",
    "\n",
    "# I have removed native country as most of it is in the USA\n",
    "# I have removed relationship as it covered by sex and marital status\n",
    "# I have removed workclass for the same reason as native-country\n",
    "# I have removed ID at the begining of the exam\n",
    "\n",
    "# all other features as sex, race, etc.. has good correlation and will predict the target well in my opinion\n"
   ]
  }
 ],
 "metadata": {
  "kernelspec": {
   "display_name": "Python 3",
   "language": "python",
   "name": "python3"
  },
  "language_info": {
   "codemirror_mode": {
    "name": "ipython",
    "version": 3
   },
   "file_extension": ".py",
   "mimetype": "text/x-python",
   "name": "python",
   "nbconvert_exporter": "python",
   "pygments_lexer": "ipython3",
   "version": "3.6.10"
  },
  "latex_envs": {
   "LaTeX_envs_menu_present": true,
   "autoclose": false,
   "autocomplete": true,
   "bibliofile": "biblio.bib",
   "cite_by": "apalike",
   "current_citInitial": 1,
   "eqLabelWithNumbers": true,
   "eqNumInitial": 1,
   "hotkeys": {
    "equation": "Ctrl-E",
    "itemize": "Ctrl-I"
   },
   "labels_anchors": false,
   "latex_user_defs": false,
   "report_style_numbering": false,
   "user_envs_cfg": false
  },
  "toc": {
   "base_numbering": 1,
   "nav_menu": {},
   "number_sections": true,
   "sideBar": true,
   "skip_h1_title": false,
   "title_cell": "Table of Contents",
   "title_sidebar": "Contents",
   "toc_cell": false,
   "toc_position": {},
   "toc_section_display": true,
   "toc_window_display": false
  }
 },
 "nbformat": 4,
 "nbformat_minor": 2
}
