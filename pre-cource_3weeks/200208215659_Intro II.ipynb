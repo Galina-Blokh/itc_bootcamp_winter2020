{
 "cells": [
  {
   "cell_type": "markdown",
   "metadata": {},
   "source": [
    "# When things go wrong\n",
    "\n",
    "**Follow the instructions below. Once you are done, submit an empty file to Hive**\n",
    "\n",
    "sometimes a cell runs forever or at least past our patience threshold. run the following cell stop it when you've had enough by pressing the stop button or selecting interrupt from the Kernel sub-menu or pressing i, i."
   ]
  },
  {
   "cell_type": "code",
   "execution_count": 1,
   "metadata": {},
   "outputs": [
    {
     "ename": "KeyboardInterrupt",
     "evalue": "",
     "output_type": "error",
     "traceback": [
      "\u001b[1;31m---------------------------------------------------------------------------\u001b[0m",
      "\u001b[1;31mKeyboardInterrupt\u001b[0m                         Traceback (most recent call last)",
      "\u001b[1;32m<ipython-input-1-4d713639fca7>\u001b[0m in \u001b[0;36m<module>\u001b[1;34m()\u001b[0m\n\u001b[0;32m      1\u001b[0m \u001b[0ml\u001b[0m \u001b[1;33m=\u001b[0m \u001b[1;33m[\u001b[0m\u001b[1;33m]\u001b[0m\u001b[1;33m\u001b[0m\u001b[1;33m\u001b[0m\u001b[0m\n\u001b[0;32m      2\u001b[0m \u001b[1;32mfor\u001b[0m \u001b[0mi\u001b[0m \u001b[1;32min\u001b[0m \u001b[0mrange\u001b[0m\u001b[1;33m(\u001b[0m\u001b[0mint\u001b[0m\u001b[1;33m(\u001b[0m\u001b[1;36m1e9\u001b[0m\u001b[1;33m)\u001b[0m\u001b[1;33m)\u001b[0m\u001b[1;33m:\u001b[0m   \u001b[1;31m# iterating to a billion\u001b[0m\u001b[1;33m\u001b[0m\u001b[1;33m\u001b[0m\u001b[0m\n\u001b[1;32m----> 3\u001b[1;33m     \u001b[0ml\u001b[0m\u001b[1;33m.\u001b[0m\u001b[0mappend\u001b[0m\u001b[1;33m(\u001b[0m\u001b[0mi\u001b[0m\u001b[1;33m**\u001b[0m\u001b[1;36m3\u001b[0m\u001b[1;33m)\u001b[0m  \u001b[1;31m# i to the power of 3\u001b[0m\u001b[1;33m\u001b[0m\u001b[1;33m\u001b[0m\u001b[0m\n\u001b[0m",
      "\u001b[1;31mKeyboardInterrupt\u001b[0m: "
     ]
    }
   ],
   "source": [
    "l = []\n",
    "for i in range(int(1e9)):   # iterating to a billion\n",
    "    l.append(i**3)  # i to the power of 3"
   ]
  },
  {
   "cell_type": "markdown",
   "metadata": {},
   "source": [
    "\"there must be a better way to see if our code is going to run forever!\"\n",
    "\n",
    "While I can guarantee that no one can ever guarantee that yor code won't run forever, you may get a very good hunch by profiling it. Profiling is just one of IPython magic functions, they're magic!"
   ]
  },
  {
   "cell_type": "markdown",
   "metadata": {},
   "source": [
    "# Magic functions\n",
    "magic function are specific functions preceded by one or two % signs\n",
    "\n",
    "## %timit - timing a line of code\n",
    "let's say you want to time the following line of code"
   ]
  },
  {
   "cell_type": "code",
   "execution_count": 4,
   "metadata": {},
   "outputs": [],
   "source": [
    "n = 1e6\n",
    "%timeit\n",
    "l = [i**3 for i in range(int(n))]"
   ]
  },
  {
   "cell_type": "markdown",
   "metadata": {},
   "source": [
    "You can simply precede line: `l = [...` with the `%timeit` magic function. Try it now.\n",
    "\n",
    "**note** a word to the wise - don't start with a `n` that is too large otherwise you may wait forever. Start with a small `n` and then increase it to understand the trend."
   ]
  },
  {
   "cell_type": "markdown",
   "metadata": {},
   "source": [
    "## %%timeit - timing a cell\n",
    "sometimes we would like to profile an entire cell. This is easy when using `%%timeit`. Try it for the next cell."
   ]
  },
  {
   "cell_type": "code",
   "execution_count": 9,
   "metadata": {},
   "outputs": [
    {
     "name": "stdout",
     "output_type": "stream",
     "text": [
      "Wall time: 997 µs\n"
     ]
    }
   ],
   "source": [
    "%%time\n",
    "l = []\n",
    "n = 1e3\n",
    "\n",
    "for i in range(int(n)):   \n",
    "    l.append(i**3)  \n",
    "    #362 ms ± 10.8 ms per loop (mean ± std. dev. of 7 runs, 1 loop each)\n",
    "    #313 µs ± 4.04 µs per loop (mean ± std. dev. of 7 runs, 1000 loops each)\n",
    "    '''\n",
    "    Wall time: 0 ns\n",
    "\"\\n3 function calls in 0.000 seconds\\n\\n   Ordered by: internal time\\n\\n   \n",
    "ncalls  tottime  percall  cumtime  percall filename:lineno(function)\\n        \n",
    "1    0.000    0.000    0.000    0.000 {built-in method builtins.exec}\\n        \n",
    "1    0.000    0.000    0.000    0.000 <string>:1(<module>)\\n        \n",
    "1    0.000    0.000    0.000    0.000 {method 'disable' of '_lsprof.Profiler' objects}\\n\"\n",
    "    '''\n",
    "'''\n",
    "3 function calls in 0.000 seconds\n",
    "\n",
    "   Ordered by: internal time\n",
    "\n",
    "   ncalls  tottime  percall  cumtime  percall filename:lineno(function)\n",
    "        1    0.000    0.000    0.000    0.000 {built-in method builtins.exec}\n",
    "        1    0.000    0.000    0.000    0.000 <string>:1(<module>)\n",
    "        1    0.000    0.000    0.000    0.000 {method 'disable' of '_lsprof.Profiler' objects}\n",
    "'''"
   ]
  },
  {
   "cell_type": "markdown",
   "metadata": {},
   "source": [
    "Both %timeit and %%timeit are indeed magical. Among other magical feats they run your code multiple times to get a reliable estimate, but take careful consideration not to over do it. Change `n` to be `1e3`, how does the number of loops change?"
   ]
  },
  {
   "cell_type": "markdown",
   "metadata": {},
   "source": [
    "If you're really interested in profiling you can also check `%time` and `%prun`."
   ]
  },
  {
   "cell_type": "markdown",
   "metadata": {},
   "source": [
    "## accessing the documentation\n",
    "you can access the documentation for any magic function by typing in a code cell succeeded by a question mark. Run the following cell and be amazed."
   ]
  },
  {
   "cell_type": "code",
   "execution_count": 11,
   "metadata": {},
   "outputs": [
    {
     "ename": "SyntaxError",
     "evalue": "(unicode error) 'unicodeescape' codec can't decode bytes in position 2207-2208: truncated \\uXXXX escape (<ipython-input-11-dc39e10dfa36>, line 73)",
     "output_type": "error",
     "traceback": [
      "\u001b[1;36m  File \u001b[1;32m\"<ipython-input-11-dc39e10dfa36>\"\u001b[1;36m, line \u001b[1;32m73\u001b[0m\n\u001b[1;33m    '''\u001b[0m\n\u001b[1;37m      ^\u001b[0m\n\u001b[1;31mSyntaxError\u001b[0m\u001b[1;31m:\u001b[0m (unicode error) 'unicodeescape' codec can't decode bytes in position 2207-2208: truncated \\uXXXX escape\n"
     ]
    }
   ],
   "source": [
    "%timeit?\n",
    "'''\n",
    "Docstring:\n",
    "Time execution of a Python statement or expression\n",
    "\n",
    "Usage, in line mode:\n",
    "  %timeit [-n<N> -r<R> [-t|-c] -q -p<P> -o] statement\n",
    "or in cell mode:\n",
    "  %%timeit [-n<N> -r<R> [-t|-c] -q -p<P> -o] setup_code\n",
    "  code\n",
    "  code...\n",
    "\n",
    "Time execution of a Python statement or expression using the timeit\n",
    "module.  This function can be used both as a line and cell magic:\n",
    "\n",
    "- In line mode you can time a single-line statement (though multiple\n",
    "  ones can be chained with using semicolons).\n",
    "\n",
    "- In cell mode, the statement in the first line is used as setup code\n",
    "  (executed but not timed) and the body of the cell is timed.  The cell\n",
    "  body has access to any variables created in the setup code.\n",
    "\n",
    "Options:\n",
    "-n<N>: execute the given statement <N> times in a loop. If this value\n",
    "is not given, a fitting value is chosen.\n",
    "\n",
    "-r<R>: repeat the loop iteration <R> times and take the best result.\n",
    "Default: 3\n",
    "\n",
    "-t: use time.time to measure the time, which is the default on Unix.\n",
    "This function measures wall time.\n",
    "\n",
    "-c: use time.clock to measure the time, which is the default on\n",
    "Windows and measures wall time. On Unix, resource.getrusage is used\n",
    "instead and returns the CPU user time.\n",
    "\n",
    "-p<P>: use a precision of <P> digits to display the timing result.\n",
    "Default: 3\n",
    "\n",
    "-q: Quiet, do not print result.\n",
    "\n",
    "-o: return a TimeitResult that can be stored in a variable to inspect\n",
    "    the result in more details.\n",
    "\n",
    "\n",
    "Examples\n",
    "--------\n",
    "::\n",
    "\n",
    "  In [1]: %timeit pass\n",
    "  8.26 ns ± 0.12 ns per loop (mean ± std. dev. of 7 runs, 100000000 loops each)\n",
    "\n",
    "  In [2]: u = None\n",
    "\n",
    "  In [3]: %timeit u is None\n",
    "  29.9 ns ± 0.643 ns per loop (mean ± std. dev. of 7 runs, 10000000 loops each)\n",
    "\n",
    "  In [4]: %timeit -r 4 u == None\n",
    "\n",
    "  In [5]: import time\n",
    "\n",
    "  In [6]: %timeit -n1 time.sleep(2)\n",
    "\n",
    "\n",
    "The times reported by %timeit will be slightly higher than those\n",
    "reported by the timeit.py script when variables are accessed. This is\n",
    "due to the fact that %timeit executes the statement in the namespace\n",
    "of the shell, compared with timeit.py, which uses a single setup\n",
    "statement to import function or create variables. Generally, the bias\n",
    "does not matter as long as results from timeit.py are not mixed with\n",
    "those from %timeit.\n",
    "File:      c:\\users\\galin\\anaconda3\\lib\\site-packages\\ipython\\core\\magics\\execution.py\n",
    "'''"
   ]
  },
  {
   "cell_type": "markdown",
   "metadata": {},
   "source": [
    "## All your documentation are belong to us\n",
    "you can get all of the documentation for magic function by using the magic function `%magic` in code cell (magic-ception!). Try it now."
   ]
  },
  {
   "cell_type": "code",
   "execution_count": 12,
   "metadata": {},
   "outputs": [],
   "source": [
    "%magic"
   ]
  },
  {
   "cell_type": "markdown",
   "metadata": {},
   "source": [
    "To get a list of magic functions you can simply type the magic function `%lsmagic` in a code cell. Try it now."
   ]
  },
  {
   "cell_type": "code",
   "execution_count": 13,
   "metadata": {},
   "outputs": [
    {
     "data": {
      "application/json": {
       "cell": {
        "!": "OSMagics",
        "HTML": "Other",
        "SVG": "Other",
        "bash": "Other",
        "capture": "ExecutionMagics",
        "cmd": "Other",
        "debug": "ExecutionMagics",
        "file": "Other",
        "html": "DisplayMagics",
        "javascript": "DisplayMagics",
        "js": "DisplayMagics",
        "latex": "DisplayMagics",
        "markdown": "DisplayMagics",
        "perl": "Other",
        "prun": "ExecutionMagics",
        "pypy": "Other",
        "python": "Other",
        "python2": "Other",
        "python3": "Other",
        "ruby": "Other",
        "script": "ScriptMagics",
        "sh": "Other",
        "svg": "DisplayMagics",
        "sx": "OSMagics",
        "system": "OSMagics",
        "time": "ExecutionMagics",
        "timeit": "ExecutionMagics",
        "writefile": "OSMagics"
       },
       "line": {
        "alias": "OSMagics",
        "alias_magic": "BasicMagics",
        "autocall": "AutoMagics",
        "automagic": "AutoMagics",
        "autosave": "KernelMagics",
        "bookmark": "OSMagics",
        "cd": "OSMagics",
        "clear": "KernelMagics",
        "cls": "KernelMagics",
        "colors": "BasicMagics",
        "config": "ConfigMagics",
        "connect_info": "KernelMagics",
        "copy": "Other",
        "ddir": "Other",
        "debug": "ExecutionMagics",
        "dhist": "OSMagics",
        "dirs": "OSMagics",
        "doctest_mode": "BasicMagics",
        "echo": "Other",
        "ed": "Other",
        "edit": "KernelMagics",
        "env": "OSMagics",
        "gui": "BasicMagics",
        "hist": "Other",
        "history": "HistoryMagics",
        "killbgscripts": "ScriptMagics",
        "ldir": "Other",
        "less": "KernelMagics",
        "load": "CodeMagics",
        "load_ext": "ExtensionMagics",
        "loadpy": "CodeMagics",
        "logoff": "LoggingMagics",
        "logon": "LoggingMagics",
        "logstart": "LoggingMagics",
        "logstate": "LoggingMagics",
        "logstop": "LoggingMagics",
        "ls": "Other",
        "lsmagic": "BasicMagics",
        "macro": "ExecutionMagics",
        "magic": "BasicMagics",
        "matplotlib": "PylabMagics",
        "mkdir": "Other",
        "more": "KernelMagics",
        "notebook": "BasicMagics",
        "page": "BasicMagics",
        "pastebin": "CodeMagics",
        "pdb": "ExecutionMagics",
        "pdef": "NamespaceMagics",
        "pdoc": "NamespaceMagics",
        "pfile": "NamespaceMagics",
        "pinfo": "NamespaceMagics",
        "pinfo2": "NamespaceMagics",
        "pip": "BasicMagics",
        "popd": "OSMagics",
        "pprint": "BasicMagics",
        "precision": "BasicMagics",
        "profile": "BasicMagics",
        "prun": "ExecutionMagics",
        "psearch": "NamespaceMagics",
        "psource": "NamespaceMagics",
        "pushd": "OSMagics",
        "pwd": "OSMagics",
        "pycat": "OSMagics",
        "pylab": "PylabMagics",
        "qtconsole": "KernelMagics",
        "quickref": "BasicMagics",
        "recall": "HistoryMagics",
        "rehashx": "OSMagics",
        "reload_ext": "ExtensionMagics",
        "ren": "Other",
        "rep": "Other",
        "rerun": "HistoryMagics",
        "reset": "NamespaceMagics",
        "reset_selective": "NamespaceMagics",
        "rmdir": "Other",
        "run": "ExecutionMagics",
        "save": "CodeMagics",
        "sc": "OSMagics",
        "set_env": "OSMagics",
        "store": "StoreMagics",
        "sx": "OSMagics",
        "system": "OSMagics",
        "tb": "ExecutionMagics",
        "time": "ExecutionMagics",
        "timeit": "ExecutionMagics",
        "unalias": "OSMagics",
        "unload_ext": "ExtensionMagics",
        "who": "NamespaceMagics",
        "who_ls": "NamespaceMagics",
        "whos": "NamespaceMagics",
        "xdel": "NamespaceMagics",
        "xmode": "BasicMagics"
       }
      },
      "text/plain": [
       "Available line magics:\n",
       "%alias  %alias_magic  %autocall  %automagic  %autosave  %bookmark  %cd  %clear  %cls  %colors  %config  %connect_info  %copy  %ddir  %debug  %dhist  %dirs  %doctest_mode  %echo  %ed  %edit  %env  %gui  %hist  %history  %killbgscripts  %ldir  %less  %load  %load_ext  %loadpy  %logoff  %logon  %logstart  %logstate  %logstop  %ls  %lsmagic  %macro  %magic  %matplotlib  %mkdir  %more  %notebook  %page  %pastebin  %pdb  %pdef  %pdoc  %pfile  %pinfo  %pinfo2  %popd  %pprint  %precision  %profile  %prun  %psearch  %psource  %pushd  %pwd  %pycat  %pylab  %qtconsole  %quickref  %recall  %rehashx  %reload_ext  %ren  %rep  %rerun  %reset  %reset_selective  %rmdir  %run  %save  %sc  %set_env  %store  %sx  %system  %tb  %time  %timeit  %unalias  %unload_ext  %who  %who_ls  %whos  %xdel  %xmode\n",
       "\n",
       "Available cell magics:\n",
       "%%!  %%HTML  %%SVG  %%bash  %%capture  %%cmd  %%debug  %%file  %%html  %%javascript  %%js  %%latex  %%markdown  %%perl  %%prun  %%pypy  %%python  %%python2  %%python3  %%ruby  %%script  %%sh  %%svg  %%sx  %%system  %%time  %%timeit  %%writefile\n",
       "\n",
       "Automagic is ON, % prefix IS NOT needed for line magics."
      ]
     },
     "execution_count": 13,
     "metadata": {},
     "output_type": "execute_result"
    }
   ],
   "source": [
    "%lsmagic"
   ]
  },
  {
   "cell_type": "markdown",
   "metadata": {},
   "source": [
    "## Debugging in Jupyter notebooks \n",
    "a friend of mine wrote a function. It ain't great. Convince yourself by running the next cell."
   ]
  },
  {
   "cell_type": "code",
   "execution_count": null,
   "metadata": {},
   "outputs": [],
   "source": [
    "%pdb on\n",
    "def f(a, b):\n",
    "    return a/b\n",
    "\n",
    "print(f(1, 2))\n",
    "print(f(5, 1))"
   ]
  },
  {
   "cell_type": "markdown",
   "metadata": {},
   "source": [
    "Exceptions, like the beeping sounds your phone makes before it succumbs to batteryless slumber, you need it but you don't have to like it. \n",
    "\n",
    "While this case may seem simple enough to resolve, you may want to debug some code you write in a notebook. Let's try. Precede the code in the previous cell with this magic incantation `%pdb on`, and run the cell again. This will drop you to the pdb debugger at the line where the exception is raised. There you can print variable and run all sorts of simple python commands. To end this magical journey press `quit()` and enter.\n",
    "\n",
    "### opionated\n",
    "while this is cool, and one can master a considerable amount of pdb kong-fu, it does seem like an exercise in futility. Jupyter notebooks are rightly celebrated for ease of prototyping and elegance of presentation. A Jupyter notebook allows you to ignore almost all the boring parts and devote your self to experimenting with new ideas - Science Yo! \n",
    "\n",
    "This is exactly the point, a Jupyter notebook should contain elegant and easily understandable code. To unleash real power you may very well need some real python code behind the scenes doing some logical heavy lifting. This should keep you Jupyter Notebook sleek and easy to use and understand, and keep real debugging where your debugging power is unimaginably greater, in an IDE (Pycharm, Atom, Visual Code).\n",
    "\n",
    "Bottom line: in my humble opinion if you need pdb magic to understand what went wrong, this may be the exact moment to transfer this block code to a dedicated script and spin up an IDE to debug it."
   ]
  },
  {
   "cell_type": "markdown",
   "metadata": {},
   "source": [
    "# Jupyter you complete me\n",
    "to become a fully fledged python ninja, you should really use code completion. In Jupyter Notebook completion is presented in two main forms. \n",
    "1. tab for completion of previously defined functions and variables; python functions imported or built-in; and Jupyter magic functions\n",
    "2. shift-tab for accessing argument names and function documentation."
   ]
  },
  {
   "cell_type": "code",
   "execution_count": null,
   "metadata": {},
   "outputs": [],
   "source": [
    "l = \"Linear regression.ipynb\"   # put your cursor after the i and press tab"
   ]
  },
  {
   "cell_type": "code",
   "execution_count": 1,
   "metadata": {},
   "outputs": [],
   "source": [
    "# run this cell\n",
    "def f(a, b):\n",
    "    \"\"\"\n",
    "    f a useless function that does nothing\n",
    "    a -- a is the first useless argument. you shouldn't care about it\n",
    "    b -- b is the second useless argument. do you see where this is going?\n",
    "\n",
    "    \"\"\"\n",
    "    return None"
   ]
  },
  {
   "cell_type": "code",
   "execution_count": null,
   "metadata": {
    "collapsed": true
   },
   "outputs": [],
   "source": [
    "f() # put your cursor between the parantheses and press shift-tab twice"
   ]
  },
  {
   "cell_type": "code",
   "execution_count": null,
   "metadata": {
    "collapsed": true
   },
   "outputs": [],
   "source": [
    "range() # put your cursor between the parantheses and press shift-tab twice"
   ]
  }
 ],
 "metadata": {
  "kernelspec": {
   "display_name": "Python 3",
   "language": "python",
   "name": "python3"
  },
  "language_info": {
   "codemirror_mode": {
    "name": "ipython",
    "version": 3
   },
   "file_extension": ".py",
   "mimetype": "text/x-python",
   "name": "python",
   "nbconvert_exporter": "python",
   "pygments_lexer": "ipython3",
   "version": "3.6.8"
  },
  "latex_envs": {
   "LaTeX_envs_menu_present": true,
   "autoclose": false,
   "autocomplete": true,
   "bibliofile": "biblio.bib",
   "cite_by": "apalike",
   "current_citInitial": 1,
   "eqLabelWithNumbers": true,
   "eqNumInitial": 1,
   "hotkeys": {
    "equation": "Ctrl-E",
    "itemize": "Ctrl-I"
   },
   "labels_anchors": false,
   "latex_user_defs": false,
   "report_style_numbering": false,
   "user_envs_cfg": false
  },
  "toc": {
   "base_numbering": 1,
   "nav_menu": {},
   "number_sections": true,
   "sideBar": true,
   "skip_h1_title": false,
   "title_cell": "Table of Contents",
   "title_sidebar": "Contents",
   "toc_cell": false,
   "toc_position": {},
   "toc_section_display": true,
   "toc_window_display": false
  }
 },
 "nbformat": 4,
 "nbformat_minor": 2
}
