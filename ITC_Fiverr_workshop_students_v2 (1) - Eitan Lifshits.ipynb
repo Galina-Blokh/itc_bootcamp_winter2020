{
 "cells": [
  {
   "cell_type": "markdown",
   "metadata": {
    "scrolled": true
   },
   "source": [
    "# Fiverr's workshop\n",
    "## Eitan Lifshits | Senior Data Scientist\n",
    "### The goals of the workshop are: \n",
    "* Develope text classification Machine Learning algorithm\n",
    "* Use scikit-learn package in a more advanced and flexible way (mainly Pipeline class)\n",
    "\n",
    "## We'll work on a text classification task including the following steps:\n",
    "1. Load data and make some preliminary explorations\n",
    "2. Data preprocessing\n",
    "3. Feature Extraction\n",
    "4. Train classifier \n",
    "6. Analyze the results\n",
    "\n",
    "For the whole process, we'll use the sklearn Pipeline class to include it all in one class (and train it)\n",
    "\n",
    "Comment: The goal of the workshop is not necessarily getting the highest model performance , but rather try as many pipline features as possible to apply on future projects"
   ]
  },
  {
   "cell_type": "markdown",
   "metadata": {},
   "source": [
    "## Data Description\n",
    "### Tipping project\n",
    "Recognize which buyer is likely to give a tip to his seller after order is done.\n",
    "A buyer and a seller interaction is done through Fiverr's messages platform. The job requirements, explanations and comments are all part of their interaction. If the buyer is really satisfied with the job, he can add tip to the payment. Our goal is to recognize those sellers whom are likely to give a tip by analyzing the messages."
   ]
  },
  {
   "cell_type": "markdown",
   "metadata": {},
   "source": [
    "## In the work shop we'll explore relevant dataset (messages) and build classification algorithms\n",
    "Our focus will be on:\n",
    "* Building a text based classification model\n",
    "* Using Sklearn's Pipelines to build a model including several steps, including preprocessing, dimension reduction and more\n",
    "* Apply grid/random search for hyperparameter optimization\n",
    "* Building a custom step in the pipeline"
   ]
  },
  {
   "cell_type": "code",
   "execution_count": 1,
   "metadata": {
    "ExecuteTime": {
     "end_time": "2020-06-21T07:39:16.628164Z",
     "start_time": "2020-06-21T07:39:16.610463Z"
    }
   },
   "outputs": [],
   "source": [
    "%matplotlib inline\n",
    "import pandas as pd\n",
    "import numpy as np\n",
    "import matplotlib.pyplot as plt"
   ]
  },
  {
   "cell_type": "markdown",
   "metadata": {},
   "source": [
    "## Initial Data Exploration"
   ]
  },
  {
   "cell_type": "code",
   "execution_count": 3,
   "metadata": {
    "ExecuteTime": {
     "end_time": "2020-06-21T07:40:52.049503Z",
     "start_time": "2020-06-21T07:40:51.589739Z"
    }
   },
   "outputs": [
    {
     "data": {
      "text/plain": [
       "(56715, 2)"
      ]
     },
     "execution_count": 3,
     "metadata": {},
     "output_type": "execute_result"
    }
   ],
   "source": [
    "data = pd.read_csv('dataset - Eitan Lifshits.csv')\n",
    "data.shape"
   ]
  },
  {
   "cell_type": "code",
   "execution_count": 6,
   "metadata": {
    "ExecuteTime": {
     "end_time": "2020-06-21T07:44:53.180623Z",
     "start_time": "2020-06-21T07:44:53.142010Z"
    }
   },
   "outputs": [
    {
     "data": {
      "text/html": [
       "<div>\n",
       "<style scoped>\n",
       "    .dataframe tbody tr th:only-of-type {\n",
       "        vertical-align: middle;\n",
       "    }\n",
       "\n",
       "    .dataframe tbody tr th {\n",
       "        vertical-align: top;\n",
       "    }\n",
       "\n",
       "    .dataframe thead th {\n",
       "        text-align: right;\n",
       "    }\n",
       "</style>\n",
       "<table border=\"1\" class=\"dataframe\">\n",
       "  <thead>\n",
       "    <tr style=\"text-align: right;\">\n",
       "      <th></th>\n",
       "      <th>text</th>\n",
       "      <th>label</th>\n",
       "    </tr>\n",
       "  </thead>\n",
       "  <tbody>\n",
       "    <tr>\n",
       "      <th>0</th>\n",
       "      <td>1- ok what about spine dimensions pls? see pre...</td>\n",
       "      <td>0</td>\n",
       "    </tr>\n",
       "    <tr>\n",
       "      <th>1</th>\n",
       "      <td>1. Authentic Guitar Series\\n2. Your source for...</td>\n",
       "      <td>0</td>\n",
       "    </tr>\n",
       "    <tr>\n",
       "      <th>2</th>\n",
       "      <td>1. I am a business and life coach\\r\\n2. Kirkle...</td>\n",
       "      <td>0</td>\n",
       "    </tr>\n",
       "    <tr>\n",
       "      <th>3</th>\n",
       "      <td>1. Lucky Supply\\r\\n2. Paper Plastic Food Servi...</td>\n",
       "      <td>0</td>\n",
       "    </tr>\n",
       "    <tr>\n",
       "      <th>4</th>\n",
       "      <td>392henny\\nThis is my logo if you need another ...</td>\n",
       "      <td>0</td>\n",
       "    </tr>\n",
       "  </tbody>\n",
       "</table>\n",
       "</div>"
      ],
      "text/plain": [
       "                                                text  label\n",
       "0  1- ok what about spine dimensions pls? see pre...      0\n",
       "1  1. Authentic Guitar Series\\n2. Your source for...      0\n",
       "2  1. I am a business and life coach\\r\\n2. Kirkle...      0\n",
       "3  1. Lucky Supply\\r\\n2. Paper Plastic Food Servi...      0\n",
       "4  392henny\\nThis is my logo if you need another ...      0"
      ]
     },
     "execution_count": 6,
     "metadata": {},
     "output_type": "execute_result"
    }
   ],
   "source": [
    "data.head()"
   ]
  },
  {
   "cell_type": "markdown",
   "metadata": {},
   "source": [
    "### Building a dictionary"
   ]
  },
  {
   "cell_type": "code",
   "execution_count": 5,
   "metadata": {
    "ExecuteTime": {
     "end_time": "2020-06-21T07:44:04.390905Z",
     "start_time": "2020-06-21T07:44:04.339706Z"
    }
   },
   "outputs": [
    {
     "data": {
      "text/plain": [
       "0    0.617491\n",
       "1    0.382509\n",
       "Name: label, dtype: float64"
      ]
     },
     "execution_count": 5,
     "metadata": {},
     "output_type": "execute_result"
    }
   ],
   "source": [
    "data['label'].value_counts(normalize=True)"
   ]
  },
  {
   "cell_type": "code",
   "execution_count": 11,
   "metadata": {
    "ExecuteTime": {
     "end_time": "2020-06-21T07:48:04.710911Z",
     "start_time": "2020-06-21T07:48:04.654318Z"
    }
   },
   "outputs": [
    {
     "data": {
      "text/plain": [
       "0        253\n",
       "1        254\n",
       "2        241\n",
       "3        248\n",
       "4        256\n",
       "        ... \n",
       "56710    255\n",
       "56711    507\n",
       "56712    502\n",
       "56713    499\n",
       "56714    755\n",
       "Name: text, Length: 56715, dtype: int64"
      ]
     },
     "execution_count": 11,
     "metadata": {},
     "output_type": "execute_result"
    }
   ],
   "source": [
    "len_char= data['text'].apply(lambda s: len(s))\n",
    "len_char"
   ]
  },
  {
   "cell_type": "code",
   "execution_count": 23,
   "metadata": {
    "ExecuteTime": {
     "end_time": "2020-06-21T07:56:11.055370Z",
     "start_time": "2020-06-21T07:56:10.154805Z"
    }
   },
   "outputs": [
    {
     "data": {
      "image/png": "[encoded data removed]",
      "text/plain": [
       "<Figure size 432x288 with 1 Axes>"
      ]
     },
     "metadata": {
      "needs_background": "light"
     },
     "output_type": "display_data"
    }
   ],
   "source": [
    "len_char[len_char<len_char.quantile(.99)].plot(kind='hist', bins=100);"
   ]
  },
  {
   "cell_type": "code",
   "execution_count": 9,
   "metadata": {
    "ExecuteTime": {
     "end_time": "2020-06-21T07:47:38.757776Z",
     "start_time": "2020-06-21T07:47:38.418773Z"
    }
   },
   "outputs": [
    {
     "data": {
      "text/plain": [
       "0         34\n",
       "1         42\n",
       "2         45\n",
       "3         43\n",
       "4         53\n",
       "        ... \n",
       "56710     55\n",
       "56711     96\n",
       "56712     94\n",
       "56713     97\n",
       "56714    127\n",
       "Name: text, Length: 56715, dtype: int64"
      ]
     },
     "execution_count": 9,
     "metadata": {},
     "output_type": "execute_result"
    }
   ],
   "source": [
    "len_word= data['text'].apply(lambda s: len(s.split()))\n",
    "len_word"
   ]
  },
  {
   "cell_type": "code",
   "execution_count": 22,
   "metadata": {
    "ExecuteTime": {
     "end_time": "2020-06-21T07:55:36.946413Z",
     "start_time": "2020-06-21T07:55:36.344087Z"
    },
    "scrolled": true
   },
   "outputs": [
    {
     "data": {
      "image/png": "[encoded data removed]",
      "text/plain": [
       "<Figure size 432x288 with 1 Axes>"
      ]
     },
     "metadata": {
      "needs_background": "light"
     },
     "output_type": "display_data"
    }
   ],
   "source": [
    "len_word[len_word<len_word.quantile(.99)].plot(kind='hist', bins=100);"
   ]
  },
  {
   "cell_type": "code",
   "execution_count": 15,
   "metadata": {
    "ExecuteTime": {
     "end_time": "2020-06-21T07:49:46.221886Z",
     "start_time": "2020-06-21T07:49:46.198448Z"
    }
   },
   "outputs": [
    {
     "data": {
      "text/plain": [
       "count    56715.000000\n",
       "mean        37.777519\n",
       "std         49.803427\n",
       "min          1.000000\n",
       "25%         13.000000\n",
       "50%         21.000000\n",
       "75%         40.000000\n",
       "max       1108.000000\n",
       "Name: text, dtype: float64"
      ]
     },
     "execution_count": 15,
     "metadata": {},
     "output_type": "execute_result"
    }
   ],
   "source": [
    "len_word.describe()"
   ]
  },
  {
   "cell_type": "code",
   "execution_count": 16,
   "metadata": {
    "ExecuteTime": {
     "end_time": "2020-06-21T07:50:02.333560Z",
     "start_time": "2020-06-21T07:50:02.309567Z"
    }
   },
   "outputs": [
    {
     "data": {
      "text/plain": [
       "count    56715.000000\n",
       "mean       223.521238\n",
       "std        301.520784\n",
       "min          3.000000\n",
       "25%         74.000000\n",
       "50%        117.000000\n",
       "75%        233.000000\n",
       "max       6180.000000\n",
       "Name: text, dtype: float64"
      ]
     },
     "execution_count": 16,
     "metadata": {},
     "output_type": "execute_result"
    }
   ],
   "source": [
    "len_char.describe()"
   ]
  },
  {
   "cell_type": "code",
   "execution_count": 24,
   "metadata": {
    "ExecuteTime": {
     "end_time": "2020-06-21T07:58:49.234265Z",
     "start_time": "2020-06-21T07:58:49.199604Z"
    }
   },
   "outputs": [],
   "source": [
    "data = data[(len_word < len_word.quantile(.99))|(len_char < len_char.quantile(0.99))]"
   ]
  },
  {
   "cell_type": "code",
   "execution_count": 25,
   "metadata": {
    "ExecuteTime": {
     "end_time": "2020-06-21T07:58:50.074294Z",
     "start_time": "2020-06-21T07:58:50.067341Z"
    }
   },
   "outputs": [
    {
     "data": {
      "text/plain": [
       "(56218, 2)"
      ]
     },
     "execution_count": 25,
     "metadata": {},
     "output_type": "execute_result"
    }
   ],
   "source": [
    "data.shape"
   ]
  },
  {
   "cell_type": "markdown",
   "metadata": {},
   "source": [
    "# Basics of sklearn\n",
    "### Sklearn uses 3 main methods:\n",
    "* fit()\n",
    "* transform()\n",
    "* predict()\n",
    "\n",
    "Features related algorithm will usually implement fit() and transform()\n",
    "\n",
    "ML algorithms will usually implement fit() and predict()\n",
    "\n",
    "### Meathods\n",
    "\n",
    "fit(): Learns and save attributes related to the algorithm\n",
    "\n",
    "Examples:\n",
    "\n",
    "* RandomForest: Learns the trees\n",
    "* SVM: Applying stochastic gradient decent to find the plane's coefficients\n",
    "* PCA: Calculates correlation matrix and its eigen vectors\n",
    "\n",
    "transform(): Use the atttribtues saved in fit() to apply on new data\n",
    "\n",
    "Examples:\n",
    "\n",
    "* CountVectorizer: Will create a frequency vectors by the dictionary saved in fit()\n",
    "\n",
    "predict(): Use the atttribtues saved in fit() to apply on new data\n",
    "\n",
    "Examples:\n",
    "\n",
    "RandomForest: Will walk throgh each tree and return the majority class in the resulted leaf (and then the majority vote of those)\n",
    "\n",
    "SVM: Will do inner product between the plane's coefficients and the feature vector and return the sign."
   ]
  },
  {
   "cell_type": "markdown",
   "metadata": {},
   "source": [
    "# Bag of Words and Tfidf feature extraction and linear SVM classifier\n",
    "Quick reminder of BoW and tfidf\n",
    "* BoW: Given a set of documents, creating a NxD matrix structure, where N is the number of documents and D is the vocabulary size. The columns are the feature space and are the vocabulary including all terms in all docs.  \n",
    "So, Element i, j contains the frecuency of term j in document i\n",
    "* Tfidf: A method to assign weights for each document term, taking into consideration the frequency of a term in a documnt (tf) and the frequency of a term accross all documents (df)  \n",
    "* TF: Term Frequency, which measures how frequently a term occurs in a document. Since every document is different in length, it is possible that a term would appear much more times in long documents than shorter ones. Thus, the term frequency is often divided by the document length (aka. the total number of terms in the document) as a way of normalization: \n",
    "\n",
    "TF(t) = (Number of times term t appears in a document) / (Total number of terms in the document).  \n",
    "* IDF: Inverse Document Frequency, which measures how important a term is. While computing TF, all terms are considered equally important. However it is known that certain terms, such as \"is\", \"of\", and \"that\", may appear a lot of times but have little importance. Thus we need to weigh down the frequent terms while scale up the rare ones, by computing the following: \n",
    "\n",
    "IDF(t) = log(Total number of documents / Number of documents with term t in it).  \n",
    "The filnal weight will be: tfidf = tf x idf  \n",
    "\n",
    "Example:  \n",
    "Consider a document containing 100 words wherein the word cat appears 3 times. The term frequency (i.e., tf) for cat is then (3 / 100) = 0.03. Now, assume we have 10 million documents and the word cat appears in one thousand of these. Then, the inverse document frequency (i.e., idf) is calculated as log(10,000,000 / 1,000) = 4. Thus, the Tf-idf weight is the product of these quantities: 0.03 * 4 = 0.12."
   ]
  },
  {
   "cell_type": "code",
   "execution_count": 44,
   "metadata": {
    "ExecuteTime": {
     "end_time": "2020-06-21T08:18:26.685492Z",
     "start_time": "2020-06-21T08:18:26.681361Z"
    }
   },
   "outputs": [],
   "source": [
    "from sklearn.feature_extraction.text import CountVectorizer"
   ]
  },
  {
   "cell_type": "code",
   "execution_count": 47,
   "metadata": {
    "ExecuteTime": {
     "end_time": "2020-06-21T08:19:04.815616Z",
     "start_time": "2020-06-21T08:19:01.479689Z"
    }
   },
   "outputs": [],
   "source": [
    "cv = CountVectorizer()\n",
    "_ = cv.fit(data['text'])"
   ]
  },
  {
   "cell_type": "code",
   "execution_count": 49,
   "metadata": {
    "ExecuteTime": {
     "end_time": "2020-06-21T08:19:27.664305Z",
     "start_time": "2020-06-21T08:19:27.631603Z"
    }
   },
   "outputs": [
    {
     "ename": "AttributeError",
     "evalue": "'CountVectorizer' object has no attribute 'get_features_name'",
     "output_type": "error",
     "traceback": [
      "\u001b[0;31m---------------------------------------------------------------------------\u001b[0m",
      "\u001b[0;31mAttributeError\u001b[0m                            Traceback (most recent call last)",
      "\u001b[0;32m<ipython-input-49-81f6cc4e6af3>\u001b[0m in \u001b[0;36m<module>\u001b[0;34m\u001b[0m\n\u001b[0;32m----> 1\u001b[0;31m \u001b[0mcv\u001b[0m\u001b[0;34m.\u001b[0m\u001b[0mget_features_name\u001b[0m\u001b[0;34m(\u001b[0m\u001b[0;34m)\u001b[0m\u001b[0;34m\u001b[0m\u001b[0;34m\u001b[0m\u001b[0m\n\u001b[0m",
      "\u001b[0;31mAttributeError\u001b[0m: 'CountVectorizer' object has no attribute 'get_features_name'"
     ]
    }
   ],
   "source": [
    "cv.get_features_name()"
   ]
  },
  {
   "cell_type": "code",
   "execution_count": null,
   "metadata": {
    "ExecuteTime": {
     "end_time": "2020-06-21T08:06:40.798014Z",
     "start_time": "2020-06-21T08:06:38.827Z"
    }
   },
   "outputs": [],
   "source": [
    "cv.get.features_name()"
   ]
  },
  {
   "cell_type": "code",
   "execution_count": 31,
   "metadata": {
    "ExecuteTime": {
     "end_time": "2020-06-21T08:06:55.521370Z",
     "start_time": "2020-06-21T08:06:51.966796Z"
    }
   },
   "outputs": [],
   "source": [
    "text_bow = cv.transform(data['text'])"
   ]
  },
  {
   "cell_type": "code",
   "execution_count": null,
   "metadata": {},
   "outputs": [],
   "source": [
    "from sklearn.feature_extraction.text import TfidfTransformer\n"
   ]
  },
  {
   "cell_type": "code",
   "execution_count": 32,
   "metadata": {
    "ExecuteTime": {
     "end_time": "2020-06-21T08:06:55.530125Z",
     "start_time": "2020-06-21T08:06:55.524995Z"
    },
    "scrolled": true
   },
   "outputs": [
    {
     "data": {
      "text/plain": [
       "<56218x78659 sparse matrix of type '<class 'numpy.int64'>'\n",
       "\twith 1485509 stored elements in Compressed Sparse Row format>"
      ]
     },
     "execution_count": 32,
     "metadata": {},
     "output_type": "execute_result"
    }
   ],
   "source": [
    "text_bow"
   ]
  },
  {
   "cell_type": "code",
   "execution_count": 38,
   "metadata": {
    "ExecuteTime": {
     "end_time": "2020-06-21T08:11:19.859436Z",
     "start_time": "2020-06-21T08:11:19.485544Z"
    }
   },
   "outputs": [
    {
     "data": {
      "text/plain": [
       "[('7770991', 3),\n",
       " ('978', 3),\n",
       " ('about', 1),\n",
       " ('and', 1),\n",
       " ('cover', 1),\n",
       " ('different', 1),\n",
       " ('dimensions', 1),\n",
       " ('ebook', 2),\n",
       " ('formats', 1),\n",
       " ('hard', 1),\n",
       " ('hardcover', 1),\n",
       " ('have', 1),\n",
       " ('isbn', 4),\n",
       " ('message', 1),\n",
       " ('note', 1),\n",
       " ('numbers', 1),\n",
       " ('ok', 1),\n",
       " ('paperback', 2),\n",
       " ('pls', 2),\n",
       " ('previous', 1),\n",
       " ('see', 1),\n",
       " ('spine', 1),\n",
       " ('that', 1),\n",
       " ('three', 1),\n",
       " ('what', 1)]"
      ]
     },
     "execution_count": 38,
     "metadata": {},
     "output_type": "execute_result"
    }
   ],
   "source": [
    "indx = np.where(text_bow.getrow(0).toarray()>0)[1]\n",
    "features_names = np.array(cv.get_feature_names())[indx]\n",
    "weights = text_bow.getrow(0).toarray()[0][indx]\n",
    "list(zip(features_names,weights))"
   ]
  },
  {
   "cell_type": "markdown",
   "metadata": {},
   "source": [
    "## Training a classifier\n",
    "Training a Linear SVM model on the Tfidf features"
   ]
  },
  {
   "cell_type": "code",
   "execution_count": 40,
   "metadata": {
    "ExecuteTime": {
     "end_time": "2020-06-21T08:14:08.492566Z",
     "start_time": "2020-06-21T08:14:08.451202Z"
    }
   },
   "outputs": [],
   "source": [
    "tfidf = TfidfTransformer()\n",
    "_ = tfidf.fit(text_bow)"
   ]
  },
  {
   "cell_type": "code",
   "execution_count": 42,
   "metadata": {
    "ExecuteTime": {
     "end_time": "2020-06-21T08:14:44.584906Z",
     "start_time": "2020-06-21T08:14:44.305869Z"
    }
   },
   "outputs": [
    {
     "data": {
      "text/plain": [
       "<56218x78659 sparse matrix of type '<class 'numpy.float64'>'\n",
       "\twith 1485509 stored elements in Compressed Sparse Row format>"
      ]
     },
     "execution_count": 42,
     "metadata": {},
     "output_type": "execute_result"
    }
   ],
   "source": [
    "text_tfidf = tfidf.transform(text_bow)\n",
    "text_tfidf"
   ]
  },
  {
   "cell_type": "code",
   "execution_count": 43,
   "metadata": {
    "ExecuteTime": {
     "end_time": "2020-06-21T08:15:42.097556Z",
     "start_time": "2020-06-21T08:15:41.757256Z"
    },
    "scrolled": false
   },
   "outputs": [
    {
     "data": {
      "text/plain": [
       "[('7770991', 0.5093956238353842),\n",
       " ('978', 0.4364811247495071),\n",
       " ('about', 0.05963267109066773),\n",
       " ('and', 0.026548549692077584),\n",
       " ('cover', 0.07762422503811664),\n",
       " ('different', 0.07337289942922347),\n",
       " ('dimensions', 0.10835037040668807),\n",
       " ('ebook', 0.20762715732894796),\n",
       " ('formats', 0.11610765930932768),\n",
       " ('hard', 0.07694780490673696),\n",
       " ('hardcover', 0.14708480394920348),\n",
       " ('have', 0.03998369007043923),\n",
       " ('isbn', 0.5197798820185454),\n",
       " ('message', 0.0797398946666168),\n",
       " ('note', 0.09224057988285865),\n",
       " ('numbers', 0.10184492725394373),\n",
       " ('ok', 0.07617723624831929),\n",
       " ('paperback', 0.2330908258229687),\n",
       " ('pls', 0.20705906126376264),\n",
       " ('previous', 0.08672161036881967),\n",
       " ('see', 0.05856892378792477),\n",
       " ('spine', 0.12088982699683094),\n",
       " ('that', 0.04096966863211936),\n",
       " ('three', 0.09232967419343056),\n",
       " ('what', 0.051577864907798206)]"
      ]
     },
     "execution_count": 43,
     "metadata": {},
     "output_type": "execute_result"
    }
   ],
   "source": [
    "indx = np.where(text_tfidf.getrow(0).toarray()>0)[1]\n",
    "features_names = np.array(cv.get_feature_names())[indx]\n",
    "weights = text_tfidf.getrow(0).toarray()[0][indx]\n",
    "list(zip(features_names,weights))"
   ]
  },
  {
   "cell_type": "code",
   "execution_count": 52,
   "metadata": {
    "ExecuteTime": {
     "end_time": "2020-06-21T08:22:33.009321Z",
     "start_time": "2020-06-21T08:22:33.000359Z"
    }
   },
   "outputs": [],
   "source": [
    "from sklearn.model_selection import train_test_split\n",
    "from sklearn.metrics import classification_report\n",
    "from sklearn.feature_extraction.text import TfidfVectorizer\n",
    "from sklearn.svm import LinearSVC\n"
   ]
  },
  {
   "cell_type": "code",
   "execution_count": 53,
   "metadata": {
    "ExecuteTime": {
     "end_time": "2020-06-21T08:22:33.638361Z",
     "start_time": "2020-06-21T08:22:33.603646Z"
    }
   },
   "outputs": [],
   "source": [
    "X_train, X_test, y_train, y_test = train_test_split(data['text'],data['label'],test_size=0.3)"
   ]
  },
  {
   "cell_type": "code",
   "execution_count": 54,
   "metadata": {
    "ExecuteTime": {
     "end_time": "2020-06-21T08:22:34.296546Z",
     "start_time": "2020-06-21T08:22:34.287794Z"
    }
   },
   "outputs": [],
   "source": [
    "tfidf = TfidfVectorizer()"
   ]
  },
  {
   "cell_type": "code",
   "execution_count": 55,
   "metadata": {
    "ExecuteTime": {
     "end_time": "2020-06-21T08:22:38.118147Z",
     "start_time": "2020-06-21T08:22:35.099762Z"
    }
   },
   "outputs": [],
   "source": [
    "X_train_tfidf = tfidf.fit_transform(X_train)"
   ]
  },
  {
   "cell_type": "code",
   "execution_count": null,
   "metadata": {},
   "outputs": [],
   "source": [
    "model=LinearSVC(X_test)"
   ]
  },
  {
   "cell_type": "markdown",
   "metadata": {},
   "source": [
    "## Using pipeline to include both steps in one object\n",
    "The idea of pipeline is to allow creating a full model cycle in one class constructs of several steps, where the output of each step is the input of the consecutive one (until the predict step)"
   ]
  },
  {
   "cell_type": "code",
   "execution_count": 3,
   "metadata": {},
   "outputs": [],
   "source": [
    "from sklearn.pipeline import Pipeline"
   ]
  },
  {
   "cell_type": "code",
   "execution_count": null,
   "metadata": {},
   "outputs": [],
   "source": [
    "pipeline = "
   ]
  },
  {
   "cell_type": "markdown",
   "metadata": {},
   "source": [
    "### Try different hyperparameters"
   ]
  },
  {
   "cell_type": "code",
   "execution_count": null,
   "metadata": {},
   "outputs": [],
   "source": []
  },
  {
   "cell_type": "code",
   "execution_count": null,
   "metadata": {},
   "outputs": [],
   "source": []
  },
  {
   "cell_type": "markdown",
   "metadata": {},
   "source": [
    "### Huperparameter optimization"
   ]
  },
  {
   "cell_type": "code",
   "execution_count": 4,
   "metadata": {},
   "outputs": [],
   "source": [
    "from sklearn.model_selection import GridSearchCV"
   ]
  },
  {
   "cell_type": "code",
   "execution_count": null,
   "metadata": {},
   "outputs": [],
   "source": [
    "param_grid = {\n",
    "    'tfidf__min_df': list(range(1, 4)),\n",
    "    'tfidf__ngram_range': [(1, 1), (1, 2)],\n",
    "    'tfidf__stop_words': [None, 'english'],\n",
    "    'clf__C': [1, 10, 100]\n",
    "}"
   ]
  },
  {
   "cell_type": "code",
   "execution_count": null,
   "metadata": {},
   "outputs": [],
   "source": []
  },
  {
   "cell_type": "markdown",
   "metadata": {},
   "source": [
    "## Building custom classes for pipeline\n"
   ]
  },
  {
   "cell_type": "code",
   "execution_count": 5,
   "metadata": {},
   "outputs": [],
   "source": [
    "# A general sklearn class structure\n",
    "from sklearn.base import BaseEstimator\n",
    "\n",
    "class CustomTransformer(BaseEstimator):\n",
    "    \"\"\"\n",
    "    a general class for creating a machine learning step in the machine learning pipeline\n",
    "    \"\"\"\n",
    "    def __init__(self):\n",
    "        \"\"\"\n",
    "        constructor\n",
    "        \"\"\"\n",
    "\n",
    "    def fit(self, X, y=None, **kwargs):\n",
    "        \"\"\"\n",
    "        an abstract method that is used to fit the step and to learn by examples\n",
    "        :param X: features - Dataframe\n",
    "        :param y: target vector - Series\n",
    "        :param kwargs: free parameters - dictionary\n",
    "        :return: self: the class object - an instance of the transformer - Transformer\n",
    "        \"\"\"\n",
    "        pass\n",
    "\n",
    "    def transform(self, X, y=None, **kwargs):\n",
    "        \"\"\"\n",
    "        an abstract method that is used to transform according to what happend in the fit method\n",
    "        :param X: features - Dataframe\n",
    "        :param y: target vector - Series\n",
    "        :param kwargs: free parameters - dictionary\n",
    "        :return: X: the transformed data - Dataframe\n",
    "        \"\"\"\n",
    "        pass"
   ]
  },
  {
   "cell_type": "markdown",
   "metadata": {},
   "source": [
    "### Lets create a stemming step\n",
    "Stemming means normalizing a word into its stem\n",
    "\n",
    "E.g: walking, walkers, walks ==> walk"
   ]
  },
  {
   "cell_type": "code",
   "execution_count": null,
   "metadata": {},
   "outputs": [],
   "source": []
  },
  {
   "cell_type": "code",
   "execution_count": null,
   "metadata": {},
   "outputs": [],
   "source": []
  },
  {
   "cell_type": "code",
   "execution_count": null,
   "metadata": {},
   "outputs": [],
   "source": []
  },
  {
   "cell_type": "markdown",
   "metadata": {},
   "source": [
    "## Using Embedding features\n",
    "So far we used simple dictionary based features.\n",
    "\n",
    "We can also create an embbeding layer to transform the texts into embedding features\n",
    "\n",
    "There are many embedding algorithms, but we'll use Word2Vec to create our embedding layer and implement it as a pipeline step"
   ]
  },
  {
   "cell_type": "markdown",
   "metadata": {},
   "source": [
    "## Word2Vec algorithm\n",
    "Creating a new space in selected dimension (usualy much smaller than the dictionary), where related words are closed to each other.\n",
    "Representing each word in our dictionary as a new vector of numbers."
   ]
  },
  {
   "cell_type": "code",
   "execution_count": 6,
   "metadata": {},
   "outputs": [],
   "source": [
    "from gensim.models import Word2Vec"
   ]
  },
  {
   "cell_type": "code",
   "execution_count": null,
   "metadata": {},
   "outputs": [],
   "source": []
  },
  {
   "cell_type": "code",
   "execution_count": null,
   "metadata": {},
   "outputs": [],
   "source": []
  },
  {
   "cell_type": "markdown",
   "metadata": {},
   "source": [
    "## Building the Word2Vec embedding layer"
   ]
  },
  {
   "cell_type": "code",
   "execution_count": 7,
   "metadata": {},
   "outputs": [],
   "source": [
    "class Embedding(BaseEstimator):\n",
    "    def __init__(self, size=100, window=5):\n",
    "        self.analyzer = TfidfVectorizer().build_analyzer()\n",
    "        self.size = size\n",
    "        self.window = window\n",
    "        self.wv = None\n",
    "\n",
    "    def fit(self, X, y=None):\n",
    "        # implement here\n",
    "        return self\n",
    "\n",
    "    def transform(self, X, y=None):\n",
    "        # implement here\n",
    "        return self\n",
    "        \n",
    "    def _get_embedding_vector(self, text):\n",
    "        vecs = []\n",
    "        for term in self.analyzer(text):\n",
    "            if term in self.wv:\n",
    "                vecs.append(self.wv[term])\n",
    "        if vecs:\n",
    "            return np.vstack(vecs).mean(0).tolist()\n",
    "        else:\n",
    "            return [0] * 100"
   ]
  },
  {
   "cell_type": "code",
   "execution_count": null,
   "metadata": {},
   "outputs": [],
   "source": []
  },
  {
   "cell_type": "markdown",
   "metadata": {},
   "source": [
    "## Building your own Pipeline\n",
    "Some additional classes:\n",
    "\n",
    "TruncatedSVD - Dimensionality reduction\n",
    "* import: from sklearn.decomposition import TruncatedSVD\n",
    "* should be used after Feature Extraction step like Tfidf/hashing transformation\n",
    "* hyperparameter: n_components\n",
    "\n",
    "HashingVectorizer - Dimensionality reduction / Feature Extraction\n",
    "* import: from sklearn.feature_extraction.text import HashingVectorizer\n",
    "* hyperparameter: n_features, stop_words"
   ]
  },
  {
   "cell_type": "code",
   "execution_count": null,
   "metadata": {},
   "outputs": [],
   "source": []
  }
 ],
 "metadata": {
  "kernelspec": {
   "display_name": "Python 3",
   "language": "python",
   "name": "python3"
  },
  "language_info": {
   "codemirror_mode": {
    "name": "ipython",
    "version": 3
   },
   "file_extension": ".py",
   "mimetype": "text/x-python",
   "name": "python",
   "nbconvert_exporter": "python",
   "pygments_lexer": "ipython3",
   "version": "3.6.10"
  }
 },
 "nbformat": 4,
 "nbformat_minor": 2
}
