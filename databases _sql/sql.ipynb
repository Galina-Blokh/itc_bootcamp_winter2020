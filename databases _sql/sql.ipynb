{
 "cells": [
  {
   "cell_type": "markdown",
   "metadata": {},
   "source": [
    "# SQL WORKSHOP"
   ]
  },
  {
   "cell_type": "markdown",
   "metadata": {},
   "source": [
    "<img src=\"https://s-media-cache-ak0.pinimg.com/originals/d0/b3/18/d0b318cdecf5daaec01357ede40f6d10.jpg\">"
   ]
  },
  {
   "cell_type": "code",
   "execution_count": 2,
   "metadata": {},
   "outputs": [],
   "source": [
    "%matplotlib inline\n",
    "import sqlite3\n",
    "import pandas as pd\n",
    "import seaborn as sns\n",
    "from matplotlib import pyplot as plt\n",
    "# DB_FILENAME = 'porto.db'\n",
    "DB_NAME = 'my_trip.db'"
   ]
  },
  {
   "cell_type": "markdown",
   "metadata": {},
   "source": [
    "# QUERIES"
   ]
  },
  {
   "cell_type": "markdown",
   "metadata": {},
   "source": [
    "## Q1\n",
    "what is the maximum, minimum and average trip lengths (in minutes)?\n",
    "can you do it with just one query? \n",
    "\n",
    "here is a good refresher: https://swcarpentry.github.io/sql-novice-survey/06-agg/ "
   ]
  },
  {
   "cell_type": "code",
   "execution_count": null,
   "metadata": {},
   "outputs": [],
   "source": []
  },
  {
   "cell_type": "code",
   "execution_count": 5,
   "metadata": {},
   "outputs": [
    {
     "name": "stdout",
     "output_type": "stream",
     "text": [
      "The maximum 119, minimum 2 and average 12.00299756660264 trip lengths (in minutes)\n",
      "312 ms ± 0 ns per loop (mean ± std. dev. of 1 run, 1 loop each)\n"
     ]
    }
   ],
   "source": [
    "%%timeit -n1 -r1\n",
    "# what is the maximum, minimum and average trip lengths (in minutes)?\n",
    "# trip_lengths_in_minutes = (nb_points)*15/60\n",
    "with sqlite3.connect(DB_NAME) as con:\n",
    "    cur = con.cursor()\n",
    "    cur.execute('''SELECT MAX((nb_points)*15/60),\n",
    "                         MIN((nb_points)*15/60), \n",
    "                         AVG((nb_points)*15/60) \n",
    "                         FROM trips ''')\n",
    "    res = cur.fetchall()\n",
    "    con.commit()\n",
    "print('The maximum {}, minimum {} and average {} trip lengths (in minutes)'.format(res[0][0],res[0][1],res[0][2]))"
   ]
  },
  {
   "cell_type": "markdown",
   "metadata": {},
   "source": [
    "## Q2\n",
    "what is the percentage of trips that took longer than average?\n",
    "\n",
    "**using only sql**\n",
    "\n",
    "hint: use a subquery"
   ]
  },
  {
   "cell_type": "code",
   "execution_count": 6,
   "metadata": {},
   "outputs": [
    {
     "name": "stdout",
     "output_type": "stream",
     "text": [
      " The percentage of trips that took longer than average is: 35%\n",
      "494 ms ± 0 ns per loop (mean ± std. dev. of 1 run, 1 loop each)\n"
     ]
    }
   ],
   "source": [
    "%%timeit -n1 -r1\n",
    "with sqlite3.connect(DB_NAME) as con:\n",
    "    cur = con.cursor()\n",
    "    cur.execute(''' SELECT COUNT(nb_points*15/60)*100/(SELECT COUNT(nb_points*15/60) \n",
    "                    FROM trips) FROM trips\n",
    "                    WHERE nb_points*15/60 > (SELECT AVG(nb_points*15/60) FROM trips ) ''')\n",
    "    res = cur.fetchall()\n",
    "print(\" The percentage of trips that took longer than average is: {}%\".format(res[0][0]))"
   ]
  },
  {
   "cell_type": "markdown",
   "metadata": {},
   "source": [
    "## Q3\n",
    "Find all taxi ids with more than 6500 trips \n",
    "\n",
    "hint: use the HAVING clause"
   ]
  },
  {
   "cell_type": "code",
   "execution_count": 7,
   "metadata": {},
   "outputs": [
    {
     "name": "stdout",
     "output_type": "stream",
     "text": [
      "____________________\n",
      "taxi ids  | trip_count\n",
      "__________________\n",
      "(20000089, 6842)\n",
      "(20000129, 7036)\n",
      "(20000307, 7202)\n",
      "(20000364, 6995)\n",
      "(20000403, 6855)\n",
      "(20000424, 6874)\n",
      "(20000483, 7560)\n",
      "(20000492, 7054)\n",
      "(20000529, 6882)\n",
      "(20000621, 7223)\n",
      "724 ms ± 0 ns per loop (mean ± std. dev. of 1 run, 1 loop each)\n"
     ]
    }
   ],
   "source": [
    "%%timeit -n1 -r1\n",
    "with sqlite3.connect(DB_NAME) as con:\n",
    "    cur = con.cursor()\n",
    "    cur.execute(''' SELECT taxi_id , \n",
    "                       COUNT(trip_id) as count_trips\n",
    "                       FROM trips \n",
    "                       GROUP BY taxi_id \n",
    "                       HAVING count_trips > 6500''')\n",
    "\n",
    "print('____________________\\ntaxi ids  | trip_count\\n__________________')\n",
    "[print(row) for row in cur.fetchall()]\n"
   ]
  },
  {
   "cell_type": "markdown",
   "metadata": {},
   "source": [
    "## Q4\n",
    "#### Find all taxi pairs with the same number of total trips. Note that the pair should be unique. \n",
    "#### You can't have taxis 1 and 2 and taxis 2 and 1 in the same result set since pairs are invariant to order. \n",
    "Use only SQL."
   ]
  },
  {
   "cell_type": "code",
   "execution_count": 44,
   "metadata": {},
   "outputs": [
    {
     "name": "stdout",
     "output_type": "stream",
     "text": [
      "________________\n",
      "taxi_1 id| taxi_2 id\n",
      "__________________\n",
      "20000002 | 20000321\n",
      "20000032 | 20000100\n",
      "20000046 | 20000562\n",
      "20000075 | 20000092\n",
      "20000084 | 20000346\n",
      "20000084 | 20000452\n",
      "20000086 | 20000231\n",
      "20000107 | 20000126\n",
      "20000119 | 20000146\n",
      "20000148 | 20000610\n",
      "20000173 | 20000360\n",
      "20000186 | 20000607\n",
      "20000263 | 20000304\n",
      "20000271 | 20000392\n",
      "20000273 | 20000436\n",
      "20000310 | 20000680\n",
      "20000331 | 20000674\n",
      "20000346 | 20000452\n",
      "20000347 | 20000608\n",
      "20000467 | 20000549\n",
      "20000477 | 20000547\n",
      "20000506 | 20000596\n",
      "1.31 s ± 0 ns per loop (mean ± std. dev. of 1 run, 1 loop each)\n"
     ]
    }
   ],
   "source": [
    "%%timeit -n1 -r1\n",
    "with sqlite3.connect(DB_NAME) as con:\n",
    "    cur = con.cursor()\n",
    "    cur.execute(''' SELECT distinct taxi_1.taxi_id, taxi_2.taxi_id \n",
    "                    FROM (SELECT taxi_id, COUNT(trip_id) AS count_trips FROM trips GROUP BY taxi_id) AS taxi_1\n",
    "                    JOIN \n",
    "                    (SELECT taxi_id, COUNT(trip_id) as count_trips from trips GROUP BY taxi_id) as taxi_2\n",
    "                    ON taxi_1.count_trips = taxi_2.count_trips\n",
    "                    WHERE (taxi_1.taxi_id !=  taxi_2.taxi_id ) and (taxi_2.taxi_id !=  taxi_1.taxi_id ) and \n",
    "                    (taxi_1.taxi_id <  taxi_2.taxi_id )''')\n",
    "                      \n",
    "\n",
    "    \n",
    "        \n",
    "print('________________\\ntaxi_1 id| taxi_2 id\\n__________________')\n",
    "[ print(str(row[0])+' | '+str(row[1])) for row in cur.fetchall() ]\n"
   ]
  },
  {
   "cell_type": "markdown",
   "metadata": {},
   "source": [
    "## Q5\n",
    "What are top 10 rarest and most common trip lengths in minutes in the database? How many of each?"
   ]
  },
  {
   "cell_type": "code",
   "execution_count": 9,
   "metadata": {},
   "outputs": [
    {
     "name": "stdout",
     "output_type": "stream",
     "text": [
      "top 10 most rarest trips lengths in minutes\n",
      "\n",
      "________________\n",
      "lenth min| count\n",
      "__________________\n",
      "118      | 36\n",
      "119      | 43\n",
      "117      | 50\n",
      "110      | 51\n",
      "115      | 53\n",
      "116      | 53\n",
      "109      | 54\n",
      "107      | 55\n",
      "111      | 55\n",
      "113      | 58\n",
      "664 ms ± 0 ns per loop (mean ± std. dev. of 1 run, 1 loop each)\n"
     ]
    }
   ],
   "source": [
    "%%timeit -n1 -r1\n",
    "with sqlite3.connect(DB_NAME) as con:\n",
    "    \n",
    "    cur = con.cursor()#(nb_points)*15/60\n",
    "    cur.execute('''SELECT nb_points*15/60, COUNT(nb_points*15/60) as rarest \n",
    "                   FROM     trips\n",
    "                   GROUP BY nb_points*15/60\n",
    "                   ORDER BY rarest \n",
    "                   LIMIT    10''')\n",
    "print('top 10 most rarest trips lengths in minutes\\n')\n",
    "print('________________\\nlenth min| count\\n__________________')\n",
    "[ print(str(row[0])+'      | '+str(row[1])) for row in cur.fetchall() ]\n"
   ]
  },
  {
   "cell_type": "code",
   "execution_count": 10,
   "metadata": {},
   "outputs": [
    {
     "name": "stdout",
     "output_type": "stream",
     "text": [
      "top 10 most common trips lengths in minutes\n",
      "\n",
      "________________\n",
      "lenth min| count\n",
      "__________________\n",
      "8        | 131287\n",
      "9        | 128104\n",
      "7        | 126250\n",
      "10        | 120152\n",
      "6        | 118073\n",
      "11        | 110198\n",
      "5        | 100314\n",
      "12        | 99515\n",
      "13        | 88071\n",
      "14        | 76315\n",
      "635 ms ± 0 ns per loop (mean ± std. dev. of 1 run, 1 loop each)\n"
     ]
    }
   ],
   "source": [
    "%%timeit -n1 -r1\n",
    "with sqlite3.connect(DB_NAME) as con:\n",
    "    \n",
    "    cur = con.cursor()#(nb_points)*15/60\n",
    "\n",
    "    cur.execute('''SELECT nb_points*15/60, COUNT(nb_points*15/60) as rarest \n",
    "                   FROM     trips\n",
    "                   GROUP BY nb_points*15/60\n",
    "                   ORDER BY rarest DESC\n",
    "                   LIMIT    10''')\n",
    "\n",
    "print('top 10 most common trips lengths in minutes\\n')\n",
    "print('________________\\nlenth min| count\\n__________________')\n",
    "[ print(str(row[0])+'        | '+str(row[1])) for row in cur.fetchall() ]\n"
   ]
  },
  {
   "cell_type": "markdown",
   "metadata": {},
   "source": [
    "# Indices Exercises"
   ]
  },
  {
   "cell_type": "markdown",
   "metadata": {},
   "source": [
    "##  I1"
   ]
  },
  {
   "cell_type": "markdown",
   "metadata": {},
   "source": [
    "Get the cooridnates of the trip with id `7`. Use `%%timeit` magic to measure the time per iteration "
   ]
  },
  {
   "cell_type": "code",
   "execution_count": 11,
   "metadata": {},
   "outputs": [
    {
     "name": "stdout",
     "output_type": "stream",
     "text": [
      "_______________________\n",
      "lon       | lat\n",
      "__________________\n",
      "-8.617563 | 41.146182\n",
      "-8.617527 | 41.145849\n",
      "-8.616978 | 41.144832\n",
      "-8.615754 | 41.145426\n",
      "-8.615745 | 41.145408\n",
      "-8.615466 | 41.145714\n",
      "-8.615142 | 41.147046\n",
      "-8.615142 | 41.147118\n",
      "-8.61579 | 41.147298\n",
      "-8.617455 | 41.147235\n",
      "-8.617716 | 41.147217\n",
      "-8.618013 | 41.147505\n",
      "-8.618796 | 41.148603\n",
      "-8.619948 | 41.148468\n",
      "-8.620758 | 41.148927\n",
      "-8.621055 | 41.150565\n",
      "-8.620893 | 41.152284\n",
      "-8.621001 | 41.154246\n",
      "-8.620821 | 41.15547\n",
      "-8.620848 | 41.155452\n",
      "-8.620812 | 41.155803\n",
      "-8.62092 | 41.157225\n",
      "-8.622819 | 41.158242\n",
      "-8.624682 | 41.159475\n",
      "-8.624664 | 41.159718\n",
      "-8.624691 | 41.160492\n",
      "-8.624709 | 41.161563\n",
      "-8.624718 | 41.161563\n",
      "-8.624727 | 41.161554\n",
      "-8.624736 | 41.161545\n",
      "-8.624736 | 41.161536\n",
      "-8.624736 | 41.161536\n",
      "-8.624727 | 41.161545\n",
      "-8.6247 | 41.161554\n",
      "11.9 ms ± 0 ns per loop (mean ± std. dev. of 1 run, 1 loop each)\n"
     ]
    }
   ],
   "source": [
    "%%timeit -n1 -r1\n",
    "with sqlite3.connect(DB_NAME) as con:\n",
    "    cur = con.cursor()\n",
    "    cur.execute('''SELECT lon, lat \n",
    "                FROM coords\n",
    "                WHERE trip_id == 7''')\n",
    "print('_______________________\\nlon       | lat\\n__________________')\n",
    "[ print(str(row[0])+' | '+str(row[1])) for row in cur.fetchall() ]\n"
   ]
  },
  {
   "cell_type": "markdown",
   "metadata": {},
   "source": [
    "## I2"
   ]
  },
  {
   "cell_type": "markdown",
   "metadata": {},
   "source": [
    "Add an index on the column `trip_id` in the table `coords`. Here is a reference: http://www.sqlitetutorial.net/sqlite-index/\n",
    "patient. This may take some time - be patient. \n"
   ]
  },
  {
   "cell_type": "code",
   "execution_count": 12,
   "metadata": {},
   "outputs": [
    {
     "ename": "OperationalError",
     "evalue": "index index_trip_id already exists",
     "output_type": "error",
     "traceback": [
      "\u001b[0;31m---------------------------------------------------------------------------\u001b[0m",
      "\u001b[0;31mOperationalError\u001b[0m                          Traceback (most recent call last)",
      "\u001b[0;32m<ipython-input-12-cb70c15ed70d>\u001b[0m in \u001b[0;36m<module>\u001b[0;34m\u001b[0m\n\u001b[0;32m----> 1\u001b[0;31m \u001b[0mget_ipython\u001b[0m\u001b[0;34m(\u001b[0m\u001b[0;34m)\u001b[0m\u001b[0;34m.\u001b[0m\u001b[0mrun_cell_magic\u001b[0m\u001b[0;34m(\u001b[0m\u001b[0;34m'timeit'\u001b[0m\u001b[0;34m,\u001b[0m \u001b[0;34m'-n1 -r1'\u001b[0m\u001b[0;34m,\u001b[0m \u001b[0;34m\"with sqlite3.connect(DB_NAME) as con:\\n    cur = con.cursor()\\n    cur.execute('''CREATE INDEX index_trip_id\\n                ON coords (trip_id)''')\\n\"\u001b[0m\u001b[0;34m)\u001b[0m\u001b[0;34m\u001b[0m\u001b[0;34m\u001b[0m\u001b[0m\n\u001b[0m",
      "\u001b[0;32m~/anaconda3/lib/python3.6/site-packages/IPython/core/interactiveshell.py\u001b[0m in \u001b[0;36mrun_cell_magic\u001b[0;34m(self, magic_name, line, cell)\u001b[0m\n\u001b[1;32m   2360\u001b[0m             \u001b[0;32mwith\u001b[0m \u001b[0mself\u001b[0m\u001b[0;34m.\u001b[0m\u001b[0mbuiltin_trap\u001b[0m\u001b[0;34m:\u001b[0m\u001b[0;34m\u001b[0m\u001b[0;34m\u001b[0m\u001b[0m\n\u001b[1;32m   2361\u001b[0m                 \u001b[0margs\u001b[0m \u001b[0;34m=\u001b[0m \u001b[0;34m(\u001b[0m\u001b[0mmagic_arg_s\u001b[0m\u001b[0;34m,\u001b[0m \u001b[0mcell\u001b[0m\u001b[0;34m)\u001b[0m\u001b[0;34m\u001b[0m\u001b[0;34m\u001b[0m\u001b[0m\n\u001b[0;32m-> 2362\u001b[0;31m                 \u001b[0mresult\u001b[0m \u001b[0;34m=\u001b[0m \u001b[0mfn\u001b[0m\u001b[0;34m(\u001b[0m\u001b[0;34m*\u001b[0m\u001b[0margs\u001b[0m\u001b[0;34m,\u001b[0m \u001b[0;34m**\u001b[0m\u001b[0mkwargs\u001b[0m\u001b[0;34m)\u001b[0m\u001b[0;34m\u001b[0m\u001b[0;34m\u001b[0m\u001b[0m\n\u001b[0m\u001b[1;32m   2363\u001b[0m             \u001b[0;32mreturn\u001b[0m \u001b[0mresult\u001b[0m\u001b[0;34m\u001b[0m\u001b[0;34m\u001b[0m\u001b[0m\n\u001b[1;32m   2364\u001b[0m \u001b[0;34m\u001b[0m\u001b[0m\n",
      "\u001b[0;32m<decorator-gen-60>\u001b[0m in \u001b[0;36mtimeit\u001b[0;34m(self, line, cell, local_ns)\u001b[0m\n",
      "\u001b[0;32m~/anaconda3/lib/python3.6/site-packages/IPython/core/magic.py\u001b[0m in \u001b[0;36m<lambda>\u001b[0;34m(f, *a, **k)\u001b[0m\n\u001b[1;32m    185\u001b[0m     \u001b[0;31m# but it's overkill for just that one bit of state.\u001b[0m\u001b[0;34m\u001b[0m\u001b[0;34m\u001b[0m\u001b[0;34m\u001b[0m\u001b[0m\n\u001b[1;32m    186\u001b[0m     \u001b[0;32mdef\u001b[0m \u001b[0mmagic_deco\u001b[0m\u001b[0;34m(\u001b[0m\u001b[0marg\u001b[0m\u001b[0;34m)\u001b[0m\u001b[0;34m:\u001b[0m\u001b[0;34m\u001b[0m\u001b[0;34m\u001b[0m\u001b[0m\n\u001b[0;32m--> 187\u001b[0;31m         \u001b[0mcall\u001b[0m \u001b[0;34m=\u001b[0m \u001b[0;32mlambda\u001b[0m \u001b[0mf\u001b[0m\u001b[0;34m,\u001b[0m \u001b[0;34m*\u001b[0m\u001b[0ma\u001b[0m\u001b[0;34m,\u001b[0m \u001b[0;34m**\u001b[0m\u001b[0mk\u001b[0m\u001b[0;34m:\u001b[0m \u001b[0mf\u001b[0m\u001b[0;34m(\u001b[0m\u001b[0;34m*\u001b[0m\u001b[0ma\u001b[0m\u001b[0;34m,\u001b[0m \u001b[0;34m**\u001b[0m\u001b[0mk\u001b[0m\u001b[0;34m)\u001b[0m\u001b[0;34m\u001b[0m\u001b[0;34m\u001b[0m\u001b[0m\n\u001b[0m\u001b[1;32m    188\u001b[0m \u001b[0;34m\u001b[0m\u001b[0m\n\u001b[1;32m    189\u001b[0m         \u001b[0;32mif\u001b[0m \u001b[0mcallable\u001b[0m\u001b[0;34m(\u001b[0m\u001b[0marg\u001b[0m\u001b[0;34m)\u001b[0m\u001b[0;34m:\u001b[0m\u001b[0;34m\u001b[0m\u001b[0;34m\u001b[0m\u001b[0m\n",
      "\u001b[0;32m~/anaconda3/lib/python3.6/site-packages/IPython/core/magics/execution.py\u001b[0m in \u001b[0;36mtimeit\u001b[0;34m(self, line, cell, local_ns)\u001b[0m\n\u001b[1;32m   1162\u001b[0m                     \u001b[0;32mbreak\u001b[0m\u001b[0;34m\u001b[0m\u001b[0;34m\u001b[0m\u001b[0m\n\u001b[1;32m   1163\u001b[0m \u001b[0;34m\u001b[0m\u001b[0m\n\u001b[0;32m-> 1164\u001b[0;31m         \u001b[0mall_runs\u001b[0m \u001b[0;34m=\u001b[0m \u001b[0mtimer\u001b[0m\u001b[0;34m.\u001b[0m\u001b[0mrepeat\u001b[0m\u001b[0;34m(\u001b[0m\u001b[0mrepeat\u001b[0m\u001b[0;34m,\u001b[0m \u001b[0mnumber\u001b[0m\u001b[0;34m)\u001b[0m\u001b[0;34m\u001b[0m\u001b[0;34m\u001b[0m\u001b[0m\n\u001b[0m\u001b[1;32m   1165\u001b[0m         \u001b[0mbest\u001b[0m \u001b[0;34m=\u001b[0m \u001b[0mmin\u001b[0m\u001b[0;34m(\u001b[0m\u001b[0mall_runs\u001b[0m\u001b[0;34m)\u001b[0m \u001b[0;34m/\u001b[0m \u001b[0mnumber\u001b[0m\u001b[0;34m\u001b[0m\u001b[0;34m\u001b[0m\u001b[0m\n\u001b[1;32m   1166\u001b[0m         \u001b[0mworst\u001b[0m \u001b[0;34m=\u001b[0m \u001b[0mmax\u001b[0m\u001b[0;34m(\u001b[0m\u001b[0mall_runs\u001b[0m\u001b[0;34m)\u001b[0m \u001b[0;34m/\u001b[0m \u001b[0mnumber\u001b[0m\u001b[0;34m\u001b[0m\u001b[0;34m\u001b[0m\u001b[0m\n",
      "\u001b[0;32m~/anaconda3/lib/python3.6/timeit.py\u001b[0m in \u001b[0;36mrepeat\u001b[0;34m(self, repeat, number)\u001b[0m\n\u001b[1;32m    204\u001b[0m         \u001b[0mr\u001b[0m \u001b[0;34m=\u001b[0m \u001b[0;34m[\u001b[0m\u001b[0;34m]\u001b[0m\u001b[0;34m\u001b[0m\u001b[0;34m\u001b[0m\u001b[0m\n\u001b[1;32m    205\u001b[0m         \u001b[0;32mfor\u001b[0m \u001b[0mi\u001b[0m \u001b[0;32min\u001b[0m \u001b[0mrange\u001b[0m\u001b[0;34m(\u001b[0m\u001b[0mrepeat\u001b[0m\u001b[0;34m)\u001b[0m\u001b[0;34m:\u001b[0m\u001b[0;34m\u001b[0m\u001b[0;34m\u001b[0m\u001b[0m\n\u001b[0;32m--> 206\u001b[0;31m             \u001b[0mt\u001b[0m \u001b[0;34m=\u001b[0m \u001b[0mself\u001b[0m\u001b[0;34m.\u001b[0m\u001b[0mtimeit\u001b[0m\u001b[0;34m(\u001b[0m\u001b[0mnumber\u001b[0m\u001b[0;34m)\u001b[0m\u001b[0;34m\u001b[0m\u001b[0;34m\u001b[0m\u001b[0m\n\u001b[0m\u001b[1;32m    207\u001b[0m             \u001b[0mr\u001b[0m\u001b[0;34m.\u001b[0m\u001b[0mappend\u001b[0m\u001b[0;34m(\u001b[0m\u001b[0mt\u001b[0m\u001b[0;34m)\u001b[0m\u001b[0;34m\u001b[0m\u001b[0;34m\u001b[0m\u001b[0m\n\u001b[1;32m    208\u001b[0m         \u001b[0;32mreturn\u001b[0m \u001b[0mr\u001b[0m\u001b[0;34m\u001b[0m\u001b[0;34m\u001b[0m\u001b[0m\n",
      "\u001b[0;32m~/anaconda3/lib/python3.6/site-packages/IPython/core/magics/execution.py\u001b[0m in \u001b[0;36mtimeit\u001b[0;34m(self, number)\u001b[0m\n\u001b[1;32m    167\u001b[0m         \u001b[0mgc\u001b[0m\u001b[0;34m.\u001b[0m\u001b[0mdisable\u001b[0m\u001b[0;34m(\u001b[0m\u001b[0;34m)\u001b[0m\u001b[0;34m\u001b[0m\u001b[0;34m\u001b[0m\u001b[0m\n\u001b[1;32m    168\u001b[0m         \u001b[0;32mtry\u001b[0m\u001b[0;34m:\u001b[0m\u001b[0;34m\u001b[0m\u001b[0;34m\u001b[0m\u001b[0m\n\u001b[0;32m--> 169\u001b[0;31m             \u001b[0mtiming\u001b[0m \u001b[0;34m=\u001b[0m \u001b[0mself\u001b[0m\u001b[0;34m.\u001b[0m\u001b[0minner\u001b[0m\u001b[0;34m(\u001b[0m\u001b[0mit\u001b[0m\u001b[0;34m,\u001b[0m \u001b[0mself\u001b[0m\u001b[0;34m.\u001b[0m\u001b[0mtimer\u001b[0m\u001b[0;34m)\u001b[0m\u001b[0;34m\u001b[0m\u001b[0;34m\u001b[0m\u001b[0m\n\u001b[0m\u001b[1;32m    170\u001b[0m         \u001b[0;32mfinally\u001b[0m\u001b[0;34m:\u001b[0m\u001b[0;34m\u001b[0m\u001b[0;34m\u001b[0m\u001b[0m\n\u001b[1;32m    171\u001b[0m             \u001b[0;32mif\u001b[0m \u001b[0mgcold\u001b[0m\u001b[0;34m:\u001b[0m\u001b[0;34m\u001b[0m\u001b[0;34m\u001b[0m\u001b[0m\n",
      "\u001b[0;32m<magic-timeit>\u001b[0m in \u001b[0;36minner\u001b[0;34m(_it, _timer)\u001b[0m\n",
      "\u001b[0;31mOperationalError\u001b[0m: index index_trip_id already exists"
     ]
    }
   ],
   "source": [
    "%%timeit -n1 -r1\n",
    "with sqlite3.connect(DB_NAME) as con:\n",
    "    cur = con.cursor()\n",
    "    cur.execute('''CREATE INDEX index_trip_id\n",
    "                ON coords (trip_id)''')\n"
   ]
  },
  {
   "cell_type": "markdown",
   "metadata": {},
   "source": [
    "Rerun the timing perfomrance test from the previous question. What is the difference? \n"
   ]
  },
  {
   "cell_type": "code",
   "execution_count": 30,
   "metadata": {},
   "outputs": [
    {
     "name": "stdout",
     "output_type": "stream",
     "text": [
      "_______________________\n",
      "lon       | lat\n",
      "__________________\n",
      "-8.617563 | 41.146182\n",
      "-8.617527 | 41.145849\n",
      "-8.616978 | 41.144832\n",
      "-8.615754 | 41.145426\n",
      "-8.615745 | 41.145408\n",
      "-8.615466 | 41.145714\n",
      "-8.615142 | 41.147046\n",
      "-8.615142 | 41.147118\n",
      "-8.61579 | 41.147298\n",
      "-8.617455 | 41.147235\n",
      "-8.617716 | 41.147217\n",
      "-8.618013 | 41.147505\n",
      "-8.618796 | 41.148603\n",
      "-8.619948 | 41.148468\n",
      "-8.620758 | 41.148927\n",
      "-8.621055 | 41.150565\n",
      "-8.620893 | 41.152284\n",
      "-8.621001 | 41.154246\n",
      "-8.620821 | 41.15547\n",
      "-8.620848 | 41.155452\n",
      "-8.620812 | 41.155803\n",
      "-8.62092 | 41.157225\n",
      "-8.622819 | 41.158242\n",
      "-8.624682 | 41.159475\n",
      "-8.624664 | 41.159718\n",
      "-8.624691 | 41.160492\n",
      "-8.624709 | 41.161563\n",
      "-8.624718 | 41.161563\n",
      "-8.624727 | 41.161554\n",
      "-8.624736 | 41.161545\n",
      "-8.624736 | 41.161536\n",
      "-8.624736 | 41.161536\n",
      "-8.624727 | 41.161545\n",
      "-8.6247 | 41.161554\n",
      "6.92 ms ± 0 ns per loop (mean ± std. dev. of 1 run, 1 loop each)\n"
     ]
    }
   ],
   "source": [
    "%%timeit -n1 -r1\n",
    "with sqlite3.connect(DB_NAME) as con:\n",
    "    cur = con.cursor()\n",
    "\n",
    "    cur.execute('''SELECT lon, lat \n",
    "                FROM coords\n",
    "                WHERE trip_id == 7''')\n",
    "print('_______________________\\nlon       | lat\\n__________________')\n",
    "[ print(str(row[0])+' | '+str(row[1])) for row in cur.fetchall() ]\n"
   ]
  },
  {
   "cell_type": "markdown",
   "metadata": {},
   "source": [
    "## I3\n"
   ]
  },
  {
   "cell_type": "markdown",
   "metadata": {},
   "source": [
    "Add a `start_dow` column with the day of the week the trip started in."
   ]
  },
  {
   "cell_type": "code",
   "execution_count": 72,
   "metadata": {},
   "outputs": [],
   "source": [
    "cur.execute(\"\"\"ALTER TABLE trips ADD COLUMN start_dow CHAR(10)\"\"\")\n",
    "con.commit()\n",
    "cur.execute(\"UPDATE trips SET start_dow = strftime('%w', start_ts, 'unixepoch')\")\n",
    "con.commit()"
   ]
  },
  {
   "cell_type": "code",
   "execution_count": 197,
   "metadata": {
    "scrolled": true
   },
   "outputs": [
    {
     "name": "stdout",
     "output_type": "stream",
     "text": [
      "(0, 'trip_id', 'INTEGER', 0, None, 1)\n",
      "(1, 'taxi_id', 'INTEGER', 0, None, 0)\n",
      "(2, 'day_type', 'CHAR(1)', 0, None, 0)\n",
      "(3, 'missing_data', 'BOLLEAN', 0, None, 0)\n",
      "(4, 'start_ts', 'INTEGER', 0, None, 0)\n",
      "(5, 'start_year', 'INTEGER', 0, None, 0)\n",
      "(6, 'start_month', 'INTEGER', 0, None, 0)\n",
      "(7, 'start_day', 'INTEGER', 0, None, 0)\n",
      "(8, 'start_hour', 'INTEGER', 0, None, 0)\n",
      "(9, 'nb_points', 'INTEGER', 0, None, 0)\n",
      "(10, 'dist_km', 'FLOAT', 0, None, 0)\n",
      "(11, 'is_birthday', 'BOOLEAN', 0, None, 0)\n",
      "(12, 'is_before_13', 'BOOLEAN', 0, None, 0)\n",
      "(13, 'start_dow', 'CHAR(10)', 0, None, 0)\n",
      "coords\n",
      "(0, 'trip_id', 'INTEGER', 0, None, 0)\n",
      "(1, 'sample_id', 'INTEGER', 0, None, 1)\n",
      "(2, 'lon', 'FLOAT', 0, None, 0)\n",
      "(3, 'lat', 'FLOAT', 0, None, 0)\n",
      "(4, 'dist', 'FLOAT', 0, None, 0)\n",
      "6.64 ms ± 0 ns per loop (mean ± std. dev. of 1 run, 1 loop each)\n"
     ]
    }
   ],
   "source": [
    "%%timeit -n1 -r1\n",
    "# columns info\n",
    "cur = con.cursor()\n",
    "cur.execute('''PRAGMA table_info(trips);''')\n",
    "[print(row) for row in cur.fetchall()]\n",
    "con.commit()\n",
    "print('coords')\n",
    "cur = con.cursor()\n",
    "cur.execute('''PRAGMA table_info(coords);''')\n",
    "[print(row) for row in cur.fetchall()]\n",
    "con.commit()"
   ]
  },
  {
   "cell_type": "markdown",
   "metadata": {},
   "source": [
    "Count the number of trips per day of the week and hour. Visualize in a heat map (use seaborn's heatmap, https://seaborn.pydata.org/generated/seaborn.heatmap.html)"
   ]
  },
  {
   "cell_type": "code",
   "execution_count": 64,
   "metadata": {
    "scrolled": true
   },
   "outputs": [
    {
     "data": {
      "text/html": [
       "<div>\n",
       "<style scoped>\n",
       "    .dataframe tbody tr th:only-of-type {\n",
       "        vertical-align: middle;\n",
       "    }\n",
       "\n",
       "    .dataframe tbody tr th {\n",
       "        vertical-align: top;\n",
       "    }\n",
       "\n",
       "    .dataframe thead th {\n",
       "        text-align: right;\n",
       "    }\n",
       "</style>\n",
       "<table border=\"1\" class=\"dataframe\">\n",
       "  <thead>\n",
       "    <tr style=\"text-align: right;\">\n",
       "      <th></th>\n",
       "      <th>trip_count</th>\n",
       "      <th>week_day</th>\n",
       "      <th>hour</th>\n",
       "    </tr>\n",
       "  </thead>\n",
       "  <tbody>\n",
       "    <tr>\n",
       "      <th>0</th>\n",
       "      <td>6660</td>\n",
       "      <td>0</td>\n",
       "      <td>0</td>\n",
       "    </tr>\n",
       "    <tr>\n",
       "      <th>1</th>\n",
       "      <td>5246</td>\n",
       "      <td>0</td>\n",
       "      <td>1</td>\n",
       "    </tr>\n",
       "    <tr>\n",
       "      <th>2</th>\n",
       "      <td>7281</td>\n",
       "      <td>0</td>\n",
       "      <td>2</td>\n",
       "    </tr>\n",
       "    <tr>\n",
       "      <th>3</th>\n",
       "      <td>13186</td>\n",
       "      <td>0</td>\n",
       "      <td>3</td>\n",
       "    </tr>\n",
       "    <tr>\n",
       "      <th>4</th>\n",
       "      <td>14171</td>\n",
       "      <td>0</td>\n",
       "      <td>4</td>\n",
       "    </tr>\n",
       "    <tr>\n",
       "      <th>...</th>\n",
       "      <td>...</td>\n",
       "      <td>...</td>\n",
       "      <td>...</td>\n",
       "    </tr>\n",
       "    <tr>\n",
       "      <th>163</th>\n",
       "      <td>8855</td>\n",
       "      <td>6</td>\n",
       "      <td>19</td>\n",
       "    </tr>\n",
       "    <tr>\n",
       "      <th>164</th>\n",
       "      <td>9283</td>\n",
       "      <td>6</td>\n",
       "      <td>20</td>\n",
       "    </tr>\n",
       "    <tr>\n",
       "      <th>165</th>\n",
       "      <td>9943</td>\n",
       "      <td>6</td>\n",
       "      <td>21</td>\n",
       "    </tr>\n",
       "    <tr>\n",
       "      <th>166</th>\n",
       "      <td>10903</td>\n",
       "      <td>6</td>\n",
       "      <td>22</td>\n",
       "    </tr>\n",
       "    <tr>\n",
       "      <th>167</th>\n",
       "      <td>11499</td>\n",
       "      <td>6</td>\n",
       "      <td>23</td>\n",
       "    </tr>\n",
       "  </tbody>\n",
       "</table>\n",
       "<p>168 rows × 3 columns</p>\n",
       "</div>"
      ],
      "text/plain": [
       "     trip_count week_day  hour\n",
       "0          6660        0     0\n",
       "1          5246        0     1\n",
       "2          7281        0     2\n",
       "3         13186        0     3\n",
       "4         14171        0     4\n",
       "..          ...      ...   ...\n",
       "163        8855        6    19\n",
       "164        9283        6    20\n",
       "165        9943        6    21\n",
       "166       10903        6    22\n",
       "167       11499        6    23\n",
       "\n",
       "[168 rows x 3 columns]"
      ]
     },
     "execution_count": 64,
     "metadata": {},
     "output_type": "execute_result"
    }
   ],
   "source": [
    "with sqlite3.connect(DB_NAME) as con:\n",
    "    cur = con.cursor()\n",
    "   \n",
    "    cur.execute('''SELECT COUNT(trip_id) as trip_count, start_dow, start_hour \n",
    "                    FROM trips\n",
    "                    GROUP BY start_dow, start_hour''')\n",
    "    result = cur.fetchall() \n",
    "\n",
    "df = pd.DataFrame(data=result, columns=['trip_count', 'week_day', 'hour'])\n",
    "df"
   ]
  },
  {
   "cell_type": "code",
   "execution_count": 87,
   "metadata": {
    "scrolled": true
   },
   "outputs": [
    {
     "data": {
      "image/png": "[encoded data removed]",
      "text/plain": [
       "<Figure size 432x288 with 2 Axes>"
      ]
     },
     "metadata": {
      "needs_background": "light"
     },
     "output_type": "display_data"
    }
   ],
   "source": [
    "\n",
    "sns.heatmap(df.corr(),cmap=\"YlGnBu\")\n",
    "plt.title(\"Correlation btwn trip count and  day hour\", fontsize=14)\n",
    "plt.show()\n"
   ]
  },
  {
   "cell_type": "code",
   "execution_count": 84,
   "metadata": {},
   "outputs": [
    {
     "data": {
      "image/png": "[encoded data removed]",
      "text/plain": [
       "<Figure size 1800x720 with 2 Axes>"
      ]
     },
     "metadata": {
      "needs_background": "light"
     },
     "output_type": "display_data"
    }
   ],
   "source": [
    "df_plot = df.pivot( \"week_day\",\"hour\", \"trip_count\")\n",
    "f, ax = plt.subplots(figsize=(25, 10))\n",
    "ax = sns.heatmap(df_plot.to_numpy(dtype = float),cmap=\"YlGnBu\")\n",
    "plt.xlabel('hour',fontsize=18)\n",
    "plt.ylabel('week_day',fontsize=18)\n",
    "plt.title(\"Count of the number of trips per day of the week and hour.\", fontsize=25)\n",
    "plt.show()\n",
    "\n",
    "\n"
   ]
  },
  {
   "cell_type": "markdown",
   "metadata": {},
   "source": [
    " Find the average coordinate that trips started for each hour and day of the week"
   ]
  },
  {
   "cell_type": "code",
   "execution_count": 89,
   "metadata": {},
   "outputs": [
    {
     "data": {
      "text/html": [
       "<div>\n",
       "<style scoped>\n",
       "    .dataframe tbody tr th:only-of-type {\n",
       "        vertical-align: middle;\n",
       "    }\n",
       "\n",
       "    .dataframe tbody tr th {\n",
       "        vertical-align: top;\n",
       "    }\n",
       "\n",
       "    .dataframe thead th {\n",
       "        text-align: right;\n",
       "    }\n",
       "</style>\n",
       "<table border=\"1\" class=\"dataframe\">\n",
       "  <thead>\n",
       "    <tr style=\"text-align: right;\">\n",
       "      <th></th>\n",
       "      <th>avg_lon</th>\n",
       "      <th>avg_lat</th>\n",
       "      <th>week_day</th>\n",
       "      <th>hour</th>\n",
       "    </tr>\n",
       "  </thead>\n",
       "  <tbody>\n",
       "    <tr>\n",
       "      <th>0</th>\n",
       "      <td>-8.612694</td>\n",
       "      <td>41.153694</td>\n",
       "      <td>0</td>\n",
       "      <td>0</td>\n",
       "    </tr>\n",
       "    <tr>\n",
       "      <th>1</th>\n",
       "      <td>-8.615759</td>\n",
       "      <td>41.154113</td>\n",
       "      <td>0</td>\n",
       "      <td>1</td>\n",
       "    </tr>\n",
       "    <tr>\n",
       "      <th>2</th>\n",
       "      <td>-8.617802</td>\n",
       "      <td>41.155621</td>\n",
       "      <td>0</td>\n",
       "      <td>2</td>\n",
       "    </tr>\n",
       "    <tr>\n",
       "      <th>3</th>\n",
       "      <td>-8.619527</td>\n",
       "      <td>41.155738</td>\n",
       "      <td>0</td>\n",
       "      <td>3</td>\n",
       "    </tr>\n",
       "    <tr>\n",
       "      <th>4</th>\n",
       "      <td>-8.619102</td>\n",
       "      <td>41.154029</td>\n",
       "      <td>0</td>\n",
       "      <td>4</td>\n",
       "    </tr>\n",
       "    <tr>\n",
       "      <th>...</th>\n",
       "      <td>...</td>\n",
       "      <td>...</td>\n",
       "      <td>...</td>\n",
       "      <td>...</td>\n",
       "    </tr>\n",
       "    <tr>\n",
       "      <th>163</th>\n",
       "      <td>-8.617752</td>\n",
       "      <td>41.155679</td>\n",
       "      <td>6</td>\n",
       "      <td>19</td>\n",
       "    </tr>\n",
       "    <tr>\n",
       "      <th>164</th>\n",
       "      <td>-8.617567</td>\n",
       "      <td>41.155411</td>\n",
       "      <td>6</td>\n",
       "      <td>20</td>\n",
       "    </tr>\n",
       "    <tr>\n",
       "      <th>165</th>\n",
       "      <td>-8.617447</td>\n",
       "      <td>41.155375</td>\n",
       "      <td>6</td>\n",
       "      <td>21</td>\n",
       "    </tr>\n",
       "    <tr>\n",
       "      <th>166</th>\n",
       "      <td>-8.618075</td>\n",
       "      <td>41.156735</td>\n",
       "      <td>6</td>\n",
       "      <td>22</td>\n",
       "    </tr>\n",
       "    <tr>\n",
       "      <th>167</th>\n",
       "      <td>-8.619475</td>\n",
       "      <td>41.156767</td>\n",
       "      <td>6</td>\n",
       "      <td>23</td>\n",
       "    </tr>\n",
       "  </tbody>\n",
       "</table>\n",
       "<p>168 rows × 4 columns</p>\n",
       "</div>"
      ],
      "text/plain": [
       "      avg_lon    avg_lat week_day  hour\n",
       "0   -8.612694  41.153694        0     0\n",
       "1   -8.615759  41.154113        0     1\n",
       "2   -8.617802  41.155621        0     2\n",
       "3   -8.619527  41.155738        0     3\n",
       "4   -8.619102  41.154029        0     4\n",
       "..        ...        ...      ...   ...\n",
       "163 -8.617752  41.155679        6    19\n",
       "164 -8.617567  41.155411        6    20\n",
       "165 -8.617447  41.155375        6    21\n",
       "166 -8.618075  41.156735        6    22\n",
       "167 -8.619475  41.156767        6    23\n",
       "\n",
       "[168 rows x 4 columns]"
      ]
     },
     "execution_count": 89,
     "metadata": {},
     "output_type": "execute_result"
    }
   ],
   "source": [
    "cur = con.cursor()\n",
    "\n",
    "cur.execute('''SELECT AVG(lon), AVG(lat), start_dow, start_hour \n",
    "                FROM trips\n",
    "                JOIN \n",
    "                (SELECT MIN(sample_id), trip_id, lat, lon FROM coords GROUP BY trip_id) as start_coords \n",
    "                ON start_coords.trip_id == trips.trip_id\n",
    "                GROUP BY start_dow, start_hour''')\n",
    "res = cur.fetchall()\n",
    "df = pd.DataFrame(data=res, columns=['avg_lon', 'avg_lat', 'week_day', 'hour'])\n",
    "df"
   ]
  },
  {
   "cell_type": "markdown",
   "metadata": {
    "collapsed": true
   },
   "source": [
    "Visualize the mean start coordinates in a scatter plot - change the color based on the hour of the day"
   ]
  },
  {
   "cell_type": "code",
   "execution_count": 96,
   "metadata": {},
   "outputs": [
    {
     "data": {
      "image/png": "[encoded data removed]",
      "text/plain": [
       "<Figure size 720x576 with 1 Axes>"
      ]
     },
     "metadata": {
      "needs_background": "light"
     },
     "output_type": "display_data"
    }
   ],
   "source": [
    "df_hour = df[['avg_lat', 'avg_lon', 'hour']]\n",
    "\n",
    "f_hour, ax = plt.subplots(figsize=(10, 8))\n",
    "groups = df_hour.groupby('hour')\n",
    "\n",
    "for name, group in groups:\n",
    "    group = group.reset_index()\n",
    "    ax.scatter( group.avg_lon,group.avg_lat, label = name, alpha=0.6, s = 15)\n",
    "\n",
    "plt.legend(bbox_to_anchor=(1.25,1), borderaxespad=0,fancybox=True, \n",
    "           shadow=True, ncol=1, title = \"Hour of the day\")\n",
    "plt.xlabel('latitude',fontsize=12)\n",
    "plt.ylabel('longitude',fontsize=12)\n",
    "plt.title(\"Mean coordinates of start trip based on the hour of the day\",fontsize=15)\n",
    "plt.show()"
   ]
  },
  {
   "cell_type": "markdown",
   "metadata": {},
   "source": [
    "Visualize the mean start coordinates in a scatter plot - change the color based on the day of the week"
   ]
  },
  {
   "cell_type": "code",
   "execution_count": 99,
   "metadata": {},
   "outputs": [
    {
     "data": {
      "image/png": "[encoded data removed]",
      "text/plain": [
       "<Figure size 720x576 with 1 Axes>"
      ]
     },
     "metadata": {
      "needs_background": "light"
     },
     "output_type": "display_data"
    }
   ],
   "source": [
    "df_hour = df[['avg_lat', 'avg_lon', 'week_day']]\n",
    "\n",
    "f_hour, ax= plt.subplots(figsize=(10, 8))\n",
    "groups = df_hour.groupby('week_day')\n",
    "\n",
    "for name, group in groups:\n",
    "    group = group.reset_index()\n",
    "    ax.scatter( group.avg_lon,group.avg_lat, label = name, alpha=0.6, s = 15)\n",
    "\n",
    "plt.legend(loc='upper center', bbox_to_anchor=(1.1,1),\n",
    "           fancybox=True, shadow=True, ncol=1, title = \"day of week\")\n",
    "plt.xlabel('latitude',fontsize=12)\n",
    "plt.ylabel('longitude',fontsize=12)\n",
    "plt.title(\"Mean coordinates of start trip based on the week day\",fontsize=15)\n",
    "plt.show()"
   ]
  },
  {
   "cell_type": "markdown",
   "metadata": {},
   "source": [
    " Find the average coordinate that trips ended for each hour and day of the week"
   ]
  },
  {
   "cell_type": "code",
   "execution_count": 51,
   "metadata": {},
   "outputs": [
    {
     "data": {
      "text/html": [
       "<div>\n",
       "<style scoped>\n",
       "    .dataframe tbody tr th:only-of-type {\n",
       "        vertical-align: middle;\n",
       "    }\n",
       "\n",
       "    .dataframe tbody tr th {\n",
       "        vertical-align: top;\n",
       "    }\n",
       "\n",
       "    .dataframe thead th {\n",
       "        text-align: right;\n",
       "    }\n",
       "</style>\n",
       "<table border=\"1\" class=\"dataframe\">\n",
       "  <thead>\n",
       "    <tr style=\"text-align: right;\">\n",
       "      <th></th>\n",
       "      <th>avg_lon</th>\n",
       "      <th>avg_lat</th>\n",
       "      <th>week_day</th>\n",
       "      <th>hour</th>\n",
       "    </tr>\n",
       "  </thead>\n",
       "  <tbody>\n",
       "    <tr>\n",
       "      <th>0</th>\n",
       "      <td>-8.617466</td>\n",
       "      <td>41.159183</td>\n",
       "      <td>0</td>\n",
       "      <td>0</td>\n",
       "    </tr>\n",
       "    <tr>\n",
       "      <th>1</th>\n",
       "      <td>-8.617847</td>\n",
       "      <td>41.159598</td>\n",
       "      <td>0</td>\n",
       "      <td>1</td>\n",
       "    </tr>\n",
       "    <tr>\n",
       "      <th>2</th>\n",
       "      <td>-8.618615</td>\n",
       "      <td>41.158002</td>\n",
       "      <td>0</td>\n",
       "      <td>2</td>\n",
       "    </tr>\n",
       "    <tr>\n",
       "      <th>3</th>\n",
       "      <td>-8.620123</td>\n",
       "      <td>41.157146</td>\n",
       "      <td>0</td>\n",
       "      <td>3</td>\n",
       "    </tr>\n",
       "    <tr>\n",
       "      <th>4</th>\n",
       "      <td>-8.620476</td>\n",
       "      <td>41.158218</td>\n",
       "      <td>0</td>\n",
       "      <td>4</td>\n",
       "    </tr>\n",
       "    <tr>\n",
       "      <th>...</th>\n",
       "      <td>...</td>\n",
       "      <td>...</td>\n",
       "      <td>...</td>\n",
       "      <td>...</td>\n",
       "    </tr>\n",
       "    <tr>\n",
       "      <th>163</th>\n",
       "      <td>-8.618621</td>\n",
       "      <td>41.158783</td>\n",
       "      <td>6</td>\n",
       "      <td>19</td>\n",
       "    </tr>\n",
       "    <tr>\n",
       "      <th>164</th>\n",
       "      <td>-8.619683</td>\n",
       "      <td>41.159254</td>\n",
       "      <td>6</td>\n",
       "      <td>20</td>\n",
       "    </tr>\n",
       "    <tr>\n",
       "      <th>165</th>\n",
       "      <td>-8.620477</td>\n",
       "      <td>41.158747</td>\n",
       "      <td>6</td>\n",
       "      <td>21</td>\n",
       "    </tr>\n",
       "    <tr>\n",
       "      <th>166</th>\n",
       "      <td>-8.620219</td>\n",
       "      <td>41.157916</td>\n",
       "      <td>6</td>\n",
       "      <td>22</td>\n",
       "    </tr>\n",
       "    <tr>\n",
       "      <th>167</th>\n",
       "      <td>-8.619779</td>\n",
       "      <td>41.156103</td>\n",
       "      <td>6</td>\n",
       "      <td>23</td>\n",
       "    </tr>\n",
       "  </tbody>\n",
       "</table>\n",
       "<p>168 rows × 4 columns</p>\n",
       "</div>"
      ],
      "text/plain": [
       "      avg_lon    avg_lat week_day  hour\n",
       "0   -8.617466  41.159183        0     0\n",
       "1   -8.617847  41.159598        0     1\n",
       "2   -8.618615  41.158002        0     2\n",
       "3   -8.620123  41.157146        0     3\n",
       "4   -8.620476  41.158218        0     4\n",
       "..        ...        ...      ...   ...\n",
       "163 -8.618621  41.158783        6    19\n",
       "164 -8.619683  41.159254        6    20\n",
       "165 -8.620477  41.158747        6    21\n",
       "166 -8.620219  41.157916        6    22\n",
       "167 -8.619779  41.156103        6    23\n",
       "\n",
       "[168 rows x 4 columns]"
      ]
     },
     "execution_count": 51,
     "metadata": {},
     "output_type": "execute_result"
    }
   ],
   "source": [
    "cur = con.cursor()\n",
    "\n",
    "cur.execute('''SELECT AVG(lon), AVG(lat),start_dow, start_hour \n",
    "                FROM trips\n",
    "                JOIN (SELECT MAX(sample_id), trip_id, lat, lon FROM coords GROUP BY trip_id) as end_coords \n",
    "                ON end_coords.trip_id == trips.trip_id\n",
    "                GROUP BY start_dow, start_hour''')\n",
    "res = cur.fetchall()\n",
    "df = pd.DataFrame(data=res, columns=['avg_lon', 'avg_lat', 'week_day', 'hour'])\n",
    "df"
   ]
  },
  {
   "cell_type": "markdown",
   "metadata": {},
   "source": [
    "Visualize the mean end coordinates in a scatter plot - change the color based on the hour of the day"
   ]
  },
  {
   "cell_type": "code",
   "execution_count": 101,
   "metadata": {},
   "outputs": [
    {
     "data": {
      "image/png": "[encoded data removed]",
      "text/plain": [
       "<Figure size 720x576 with 1 Axes>"
      ]
     },
     "metadata": {
      "needs_background": "light"
     },
     "output_type": "display_data"
    }
   ],
   "source": [
    "df_hour = df[['avg_lon', 'avg_lat', 'week_day', 'hour']]\n",
    "\n",
    "f_hour, ax= plt.subplots(figsize=(10, 8))\n",
    "groups = df_hour.groupby('hour')\n",
    "\n",
    "for name, group in groups:\n",
    "    group = group.reset_index()\n",
    "    ax.scatter( group.avg_lon,group.avg_lat, label = name, alpha=0.6, s = 15)\n",
    "\n",
    "plt.legend(loc='upper center', bbox_to_anchor=(1.1,1),\n",
    "           fancybox=True, shadow=True, ncol=1, title = \"day hour\")\n",
    "plt.xlabel('latitude',fontsize=12)\n",
    "plt.ylabel('longitude',fontsize=12)\n",
    "plt.title(\"Mean coordinates of end trip based on the day hour\",fontsize=15)\n",
    "plt.show()"
   ]
  },
  {
   "cell_type": "markdown",
   "metadata": {},
   "source": [
    "Visualize the mean end coordinates in a scatter plot - change the color based on the day of the week"
   ]
  },
  {
   "cell_type": "code",
   "execution_count": 102,
   "metadata": {},
   "outputs": [
    {
     "data": {
      "image/png": "[encoded data removed]",
      "text/plain": [
       "<Figure size 720x576 with 1 Axes>"
      ]
     },
     "metadata": {
      "needs_background": "light"
     },
     "output_type": "display_data"
    }
   ],
   "source": [
    "df_hour = df[['avg_lon', 'avg_lat', 'week_day', 'hour']]\n",
    "\n",
    "f_hour, ax= plt.subplots(figsize=(10, 8))\n",
    "groups = df_hour.groupby('week_day')\n",
    "\n",
    "for name, group in groups:\n",
    "    group = group.reset_index()\n",
    "    ax.scatter( group.avg_lon,group.avg_lat, label = name, alpha=0.6, s = 15)\n",
    "\n",
    "plt.legend(loc='upper center', bbox_to_anchor=(1.1,1),\n",
    "           fancybox=True, shadow=True, ncol=1, title = \"day of week\")\n",
    "plt.xlabel('latitude',fontsize=12)\n",
    "plt.ylabel('longitude',fontsize=12)\n",
    "plt.title(\"Mean coordinates of end trip based on the week day\",fontsize=15)\n",
    "plt.show()"
   ]
  },
  {
   "cell_type": "markdown",
   "metadata": {},
   "source": [
    "## BONUS"
   ]
  },
  {
   "cell_type": "markdown",
   "metadata": {
    "collapsed": true
   },
   "source": [
    "Visualize the mean movement for each hour of the day (lines from start to finish)"
   ]
  },
  {
   "cell_type": "code",
   "execution_count": 60,
   "metadata": {},
   "outputs": [
    {
     "data": {
      "text/html": [
       "<div>\n",
       "<style scoped>\n",
       "    .dataframe tbody tr th:only-of-type {\n",
       "        vertical-align: middle;\n",
       "    }\n",
       "\n",
       "    .dataframe tbody tr th {\n",
       "        vertical-align: top;\n",
       "    }\n",
       "\n",
       "    .dataframe thead th {\n",
       "        text-align: right;\n",
       "    }\n",
       "</style>\n",
       "<table border=\"1\" class=\"dataframe\">\n",
       "  <thead>\n",
       "    <tr style=\"text-align: right;\">\n",
       "      <th></th>\n",
       "      <th>avg_lon</th>\n",
       "      <th>avg_lat</th>\n",
       "      <th>week_day</th>\n",
       "      <th>hour</th>\n",
       "    </tr>\n",
       "  </thead>\n",
       "  <tbody>\n",
       "    <tr>\n",
       "      <th>0</th>\n",
       "      <td>-8.612694</td>\n",
       "      <td>41.153694</td>\n",
       "      <td>0</td>\n",
       "      <td>0</td>\n",
       "    </tr>\n",
       "    <tr>\n",
       "      <th>1</th>\n",
       "      <td>-8.615759</td>\n",
       "      <td>41.154113</td>\n",
       "      <td>0</td>\n",
       "      <td>1</td>\n",
       "    </tr>\n",
       "    <tr>\n",
       "      <th>2</th>\n",
       "      <td>-8.617802</td>\n",
       "      <td>41.155621</td>\n",
       "      <td>0</td>\n",
       "      <td>2</td>\n",
       "    </tr>\n",
       "    <tr>\n",
       "      <th>3</th>\n",
       "      <td>-8.619527</td>\n",
       "      <td>41.155738</td>\n",
       "      <td>0</td>\n",
       "      <td>3</td>\n",
       "    </tr>\n",
       "    <tr>\n",
       "      <th>4</th>\n",
       "      <td>-8.619102</td>\n",
       "      <td>41.154029</td>\n",
       "      <td>0</td>\n",
       "      <td>4</td>\n",
       "    </tr>\n",
       "    <tr>\n",
       "      <th>...</th>\n",
       "      <td>...</td>\n",
       "      <td>...</td>\n",
       "      <td>...</td>\n",
       "      <td>...</td>\n",
       "    </tr>\n",
       "    <tr>\n",
       "      <th>163</th>\n",
       "      <td>-8.617752</td>\n",
       "      <td>41.155679</td>\n",
       "      <td>6</td>\n",
       "      <td>19</td>\n",
       "    </tr>\n",
       "    <tr>\n",
       "      <th>164</th>\n",
       "      <td>-8.617567</td>\n",
       "      <td>41.155411</td>\n",
       "      <td>6</td>\n",
       "      <td>20</td>\n",
       "    </tr>\n",
       "    <tr>\n",
       "      <th>165</th>\n",
       "      <td>-8.617447</td>\n",
       "      <td>41.155375</td>\n",
       "      <td>6</td>\n",
       "      <td>21</td>\n",
       "    </tr>\n",
       "    <tr>\n",
       "      <th>166</th>\n",
       "      <td>-8.618075</td>\n",
       "      <td>41.156735</td>\n",
       "      <td>6</td>\n",
       "      <td>22</td>\n",
       "    </tr>\n",
       "    <tr>\n",
       "      <th>167</th>\n",
       "      <td>-8.619475</td>\n",
       "      <td>41.156767</td>\n",
       "      <td>6</td>\n",
       "      <td>23</td>\n",
       "    </tr>\n",
       "  </tbody>\n",
       "</table>\n",
       "<p>168 rows × 4 columns</p>\n",
       "</div>"
      ],
      "text/plain": [
       "      avg_lon    avg_lat week_day  hour\n",
       "0   -8.612694  41.153694        0     0\n",
       "1   -8.615759  41.154113        0     1\n",
       "2   -8.617802  41.155621        0     2\n",
       "3   -8.619527  41.155738        0     3\n",
       "4   -8.619102  41.154029        0     4\n",
       "..        ...        ...      ...   ...\n",
       "163 -8.617752  41.155679        6    19\n",
       "164 -8.617567  41.155411        6    20\n",
       "165 -8.617447  41.155375        6    21\n",
       "166 -8.618075  41.156735        6    22\n",
       "167 -8.619475  41.156767        6    23\n",
       "\n",
       "[168 rows x 4 columns]"
      ]
     },
     "execution_count": 60,
     "metadata": {},
     "output_type": "execute_result"
    }
   ],
   "source": [
    "cur = con.cursor()\n",
    "\n",
    "cur.execute('''SELECT AVG(lon), AVG(lat),start_dow, start_hour \n",
    "                FROM trips\n",
    "                JOIN (SELECT AVG(sample_id), trip_id, lat, lon FROM coords GROUP BY trip_id) as avg_coords \n",
    "                ON avg_coords.trip_id == trips.trip_id\n",
    "                GROUP BY start_dow, start_hour''')\n",
    "res = cur.fetchall()\n",
    "df = pd.DataFrame(data=res, columns=['avg_lon', 'avg_lat', 'week_day', 'hour'])\n",
    "df"
   ]
  },
  {
   "cell_type": "code",
   "execution_count": 103,
   "metadata": {},
   "outputs": [
    {
     "data": {
      "image/png": "[encoded data removed]",
      "text/plain": [
       "<Figure size 720x576 with 1 Axes>"
      ]
     },
     "metadata": {
      "needs_background": "light"
     },
     "output_type": "display_data"
    }
   ],
   "source": [
    "df_hour = df[['avg_lon', 'avg_lat', 'week_day', 'hour']]\n",
    "\n",
    "f_hour, ax= plt.subplots(figsize=(10, 8))\n",
    "groups = df_hour.groupby('week_day')\n",
    "\n",
    "for name, group in groups:\n",
    "    group = group.reset_index()\n",
    "    ax.scatter( group.avg_lon,group.avg_lat, label = name, alpha=0.6, s = 15)\n",
    "\n",
    "plt.legend(loc='upper center', bbox_to_anchor=(1.1,1),\n",
    "           fancybox=True, shadow=True, ncol=1, title = \"day of week\")\n",
    "plt.xlabel('latitude',fontsize=12)\n",
    "plt.ylabel('longitude',fontsize=12)\n",
    "plt.title(\"Mean coordinates of mean trip based on the week day\", fontsize=15)\n",
    "plt.show()"
   ]
  },
  {
   "cell_type": "code",
   "execution_count": null,
   "metadata": {},
   "outputs": [],
   "source": []
  }
 ],
 "metadata": {
  "anaconda-cloud": {},
  "kernelspec": {
   "display_name": "Python 3",
   "language": "python",
   "name": "python3"
  },
  "language_info": {
   "codemirror_mode": {
    "name": "ipython",
    "version": 3
   },
   "file_extension": ".py",
   "mimetype": "text/x-python",
   "name": "python",
   "nbconvert_exporter": "python",
   "pygments_lexer": "ipython3",
   "version": "3.6.10"
  },
  "latex_envs": {
   "LaTeX_envs_menu_present": true,
   "autoclose": false,
   "autocomplete": true,
   "bibliofile": "biblio.bib",
   "cite_by": "apalike",
   "current_citInitial": 1,
   "eqLabelWithNumbers": true,
   "eqNumInitial": 1,
   "hotkeys": {
    "equation": "Ctrl-E",
    "itemize": "Ctrl-I"
   },
   "labels_anchors": false,
   "latex_user_defs": false,
   "report_style_numbering": false,
   "user_envs_cfg": false
  },
  "toc": {
   "base_numbering": 1,
   "nav_menu": {},
   "number_sections": true,
   "sideBar": true,
   "skip_h1_title": false,
   "title_cell": "Table of Contents",
   "title_sidebar": "Contents",
   "toc_cell": false,
   "toc_position": {},
   "toc_section_display": true,
   "toc_window_display": false
  }
 },
 "nbformat": 4,
 "nbformat_minor": 1
}
