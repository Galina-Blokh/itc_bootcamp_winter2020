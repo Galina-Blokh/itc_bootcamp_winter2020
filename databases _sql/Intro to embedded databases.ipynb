{
 "cells": [
  {
   "cell_type": "markdown",
   "metadata": {},
   "source": [
    "# EMBEDDED DATASET WORKSHOP"
   ]
  },
  {
   "cell_type": "markdown",
   "metadata": {},
   "source": [
    "<img src=\"https://s-media-cache-ak0.pinimg.com/originals/d0/b3/18/d0b318cdecf5daaec01357ede40f6d10.jpg\">"
   ]
  },
  {
   "cell_type": "markdown",
   "metadata": {},
   "source": [
    "## Download the data"
   ]
  },
  {
   "cell_type": "markdown",
   "metadata": {},
   "source": [
    "Download th e ECML/PKDD 15 data page https://public-itc.s3-us-west-1.amazonaws.com/datasets/PKDD+15%3A+Taxi+Trajectory+Prediction/train.csv.zip data file. You will also find the description of columns. "
   ]
  },
  {
   "cell_type": "markdown",
   "metadata": {},
   "source": [
    "# Q1\n",
    "Using `ZipFile` from the `zipfile` print 10 lines of zipped data, without unzipping the file. Decode each line so it is not in original not bytes form but a utf string. \n",
    "\n",
    "\n",
    "Note: The entire dataset should not be loaded into memory throughout this exersice. "
   ]
  },
  {
   "cell_type": "code",
   "execution_count": 196,
   "metadata": {
    "ExecuteTime": {
     "end_time": "2018-04-24T13:59:58.675593Z",
     "start_time": "2018-04-24T13:59:58.655257Z"
    }
   },
   "outputs": [
    {
     "name": "stdout",
     "output_type": "stream",
     "text": [
      "\"TRIP_ID\",\"CALL_TYPE\",\"ORIGIN_CALL\",\"ORIGIN_STAND\",\"TAXI_ID\",\"TIMESTAMP\",\"DAY_TYPE\",\"MISSING_DATA\",\"POLYLINE\"\n",
      "\n",
      "\"1372636858620000589\",\"C\",\"\",\"\",\"20000589\",\"1372636858\",\"A\",\"False\",\"[[-8.618643,41.141412],[-8.618499,41.141376],[-8.620326,41.14251],[-8.622153,41.143815],[-8.623953,41.144373],[-8.62668,41.144778],[-8.627373,41.144697],[-8.630226,41.14521],[-8.632746,41.14692],[-8.631738,41.148225],[-8.629938,41.150385],[-8.62911,41.151213],[-8.629128,41.15124],[-8.628786,41.152203],[-8.628687,41.152374],[-8.628759,41.152518],[-8.630838,41.15268],[-8.632323,41.153022],[-8.631144,41.154489],[-8.630829,41.154507],[-8.630829,41.154516],[-8.630829,41.154498],[-8.630838,41.154489]]\"\n",
      "\n",
      "\"1372637303620000596\",\"B\",\"\",\"7\",\"20000596\",\"1372637303\",\"A\",\"False\",\"[[-8.639847,41.159826],[-8.640351,41.159871],[-8.642196,41.160114],[-8.644455,41.160492],[-8.646921,41.160951],[-8.649999,41.161491],[-8.653167,41.162031],[-8.656434,41.16258],[-8.660178,41.163192],[-8.663112,41.163687],[-8.666235,41.1642],[-8.669169,41.164704],[-8.670852,41.165136],[-8.670942,41.166576],[-8.66961,41.167962],[-8.668098,41.168988],[-8.66664,41.170005],[-8.665767,41.170635],[-8.66574,41.170671]]\"\n",
      "\n",
      "\"1372636951620000320\",\"C\",\"\",\"\",\"20000320\",\"1372636951\",\"A\",\"False\",\"[[-8.612964,41.140359],[-8.613378,41.14035],[-8.614215,41.140278],[-8.614773,41.140368],[-8.615907,41.140449],[-8.616609,41.140602],[-8.618472,41.141412],[-8.620623,41.142789],[-8.622558,41.144094],[-8.62506,41.144805],[-8.627436,41.144733],[-8.630082,41.145174],[-8.6319,41.146461],[-8.632584,41.147316],[-8.631252,41.148774],[-8.629713,41.150628],[-8.628804,41.152077],[-8.628579,41.152464],[-8.62875,41.152662],[-8.630424,41.15277],[-8.632683,41.152779],[-8.635131,41.152563],[-8.637705,41.153013],[-8.64036,41.15358],[-8.642205,41.154021],[-8.644068,41.154507],[-8.646453,41.154336],[-8.648613,41.1543],[-8.649504,41.154336],[-8.649837,41.154354],[-8.649837,41.1543],[-8.649882,41.154282],[-8.649936,41.1543],[-8.6499,41.154264],[-8.599383,41.141736],[-8.59653,41.140566],[-8.65008,41.154291],[-8.650395,41.153814],[-8.650377,41.153832],[-8.650359,41.153787],[-8.649891,41.153166],[-8.649369,41.152572],[-8.649198,41.152374],[-8.649711,41.151213],[-8.649117,41.150466],[-8.649117,41.149062],[-8.648613,41.148261],[-8.648424,41.148225],[-8.647587,41.148405],[-8.64594,41.148414],[-8.643861,41.148135],[-8.642763,41.148027],[-8.640918,41.14836],[-8.637759,41.148351],[-8.635338,41.147964],[-8.633277,41.147172],[-8.631513,41.146146],[-8.629776,41.14503],[-8.627814,41.144643],[-8.625996,41.144769],[-8.624088,41.144463],[-8.621325,41.143401],[-8.619444,41.141961],[-8.617365,41.140863],[-8.61597,41.14053]]\"\n",
      "\n",
      "\"1372636854620000520\",\"C\",\"\",\"\",\"20000520\",\"1372636854\",\"A\",\"False\",\"[[-8.574678,41.151951],[-8.574705,41.151942],[-8.574696,41.151933],[-8.57466,41.15196],[-8.574723,41.151933],[-8.574714,41.151924],[-8.574714,41.151924],[-8.575164,41.150934],[-8.577135,41.150232],[-8.57853,41.148639],[-8.579745,41.147316],[-8.579358,41.146173],[-8.580744,41.14503],[-8.582904,41.14512],[-8.58438,41.146479],[-8.610849,41.145876],[-8.610012,41.146479],[-8.609058,41.146866],[-8.608968,41.147055],[-8.586027,41.148702],[-8.587197,41.149224],[-8.588205,41.148963],[-8.588835,41.147604],[-8.590176,41.147082],[-8.592543,41.146614],[-8.594721,41.146245],[-8.596737,41.146317],[-8.59869,41.146119],[-8.598816,41.146101],[-8.600193,41.146155],[-8.601057,41.146101],[-8.602344,41.14575],[-8.602785,41.145705],[-8.60328,41.145597],[-8.604045,41.145417],[-8.604657,41.144256],[-8.605854,41.142555],[-8.607951,41.142753],[-8.607978,41.142825],[-8.607996,41.142879],[-8.607987,41.142888],[-8.608005,41.142915],[-8.607996,41.142915]]\"\n",
      "\n",
      "\"1372637091620000337\",\"C\",\"\",\"\",\"20000337\",\"1372637091\",\"A\",\"False\",\"[[-8.645994,41.18049],[-8.645949,41.180517],[-8.646048,41.180049],[-8.646804,41.178888],[-8.649495,41.178465],[-8.65215,41.177961],[-8.654049,41.177196],[-8.655012,41.177925],[-8.656353,41.177853],[-8.659647,41.177277],[-8.662518,41.177619],[-8.664561,41.179221],[-8.667432,41.178537],[-8.668944,41.176674],[-8.671374,41.17518],[-8.673894,41.173308],[-8.676918,41.171841],[-8.680032,41.171949],[-8.682615,41.173191],[-8.685441,41.173776],[-8.688105,41.17365],[-8.688879,41.174379],[-8.689059,41.17608],[-8.689086,41.176431],[-8.689059,41.176593],[-8.687502,41.176755],[-8.687259,41.177781],[-8.687259,41.178078],[-8.687268,41.178087]]\"\n",
      "\n",
      "\"1372636965620000231\",\"C\",\"\",\"\",\"20000231\",\"1372636965\",\"A\",\"False\",\"[[-8.615502,41.140674],[-8.614854,41.140926],[-8.613351,41.14152],[-8.609976,41.140854],[-8.607537,41.141295],[-8.603676,41.141808],[-8.599833,41.141916],[-8.596458,41.140494],[-8.592993,41.140008],[-8.589384,41.140674],[-8.587026,41.142753],[-8.583831,41.143644],[-8.581086,41.143698],[-8.579133,41.144238],[-8.577594,41.144688],[-8.578809,41.145957],[-8.580168,41.147136],[-8.578827,41.149359],[-8.579808,41.151879],[-8.581626,41.153868],[-8.582076,41.155434],[-8.580546,41.155947],[-8.578719,41.156271],[-8.578629,41.157693],[-8.578521,41.159439],[-8.578224,41.160717]]\"\n",
      "\n",
      "\"1372637210620000456\",\"C\",\"\",\"\",\"20000456\",\"1372637210\",\"A\",\"False\",\"[[-8.57952,41.145948],[-8.580942,41.145039],[-8.582706,41.145021],[-8.584092,41.146164],[-8.58546,41.14683],[-8.587116,41.147397],[-8.586171,41.148018],[-8.58609,41.148963],[-8.588016,41.149368],[-8.590401,41.150016],[-8.593119,41.150736],[-8.593506,41.150853],[-8.593668,41.15097],[-8.595342,41.150232],[-8.59608,41.149827],[-8.597466,41.148909],[-8.598051,41.148567],[-8.598663,41.148342],[-8.600688,41.148585],[-8.601723,41.147325],[-8.601795,41.147262],[-8.601768,41.147289],[-8.602227,41.147001],[-8.603667,41.146578],[-8.603739,41.146578],[-8.604477,41.146164],[-8.604702,41.145408],[-8.604477,41.145327],[-8.604747,41.144445],[-8.604945,41.144148],[-8.603703,41.143608],[-8.602236,41.142807],[-8.603244,41.142681],[-8.604,41.142798],[-8.603982,41.142798],[-8.603973,41.142816]]\"\n",
      "\n",
      "\"1372637299620000011\",\"C\",\"\",\"\",\"20000011\",\"1372637299\",\"A\",\"False\",\"[[-8.617563,41.146182],[-8.617527,41.145849],[-8.616978,41.144832],[-8.615754,41.145426],[-8.615745,41.145408],[-8.615466,41.145714],[-8.615142,41.147046],[-8.615142,41.147118],[-8.61579,41.147298],[-8.617455,41.147235],[-8.617716,41.147217],[-8.618013,41.147505],[-8.618796,41.148603],[-8.619948,41.148468],[-8.620758,41.148927],[-8.621055,41.150565],[-8.620893,41.152284],[-8.621001,41.154246],[-8.620821,41.15547],[-8.620848,41.155452],[-8.620812,41.155803],[-8.62092,41.157225],[-8.622819,41.158242],[-8.624682,41.159475],[-8.624664,41.159718],[-8.624691,41.160492],[-8.624709,41.161563],[-8.624718,41.161563],[-8.624727,41.161554],[-8.624736,41.161545],[-8.624736,41.161536],[-8.624736,41.161536],[-8.624727,41.161545],[-8.6247,41.161554]]\"\n",
      "\n",
      "\"1372637274620000403\",\"C\",\"\",\"\",\"20000403\",\"1372637274\",\"A\",\"False\",\"[[-8.611794,41.140557],[-8.611785,41.140575],[-8.612001,41.140566],[-8.612622,41.140503],[-8.613702,41.140341],[-8.614665,41.140386],[-8.615844,41.140485],[-8.61561,41.140683],[-8.614566,41.141088],[-8.614395,41.141979],[-8.613936,41.142942],[-8.612793,41.143851],[-8.611488,41.144787],[-8.610543,41.144391],[-8.610282,41.143536],[-8.610255,41.143401],[-8.608824,41.143239],[-8.608419,41.143149],[-8.606565,41.142348],[-8.605179,41.143446],[-8.604549,41.144796],[-8.604297,41.1453],[-8.603505,41.145561],[-8.602488,41.145633],[-8.601039,41.145759],[-8.600436,41.146443],[-8.599977,41.147289],[-8.598681,41.14827],[-8.598303,41.148423],[-8.598618,41.149467],[-8.597529,41.151294],[-8.596161,41.153679],[-8.594838,41.155983],[-8.594163,41.157135],[-8.593002,41.159187],[-8.591454,41.161608],[-8.589924,41.163453],[-8.589402,41.163309]]\"\n",
      "\n"
     ]
    }
   ],
   "source": [
    "import zipfile\n",
    "with zipfile.ZipFile('train.csv.zip', 'r') as zp:\n",
    "    with zp.open('train.csv') as file:\n",
    "        for i in range(10):\n",
    "            print(next(file).decode('utf8'))\n"
   ]
  },
  {
   "cell_type": "markdown",
   "metadata": {},
   "source": [
    "# Q2 \n",
    "\n",
    "Please extract the file and use standard csv reading from now on.\n",
    "\n",
    "Using `DictRedaer` from the `csv` package, parse the lines from the file. Count the number of trips that started on your birthday (month and day, ignore the year). You would have to parse the time of day from the `TIMESTAMP`, consider it as UTC. \n",
    "\n",
    "Please use tqdm to monitor the progress of CSV reader."
   ]
  },
  {
   "cell_type": "code",
   "execution_count": 197,
   "metadata": {
    "ExecuteTime": {
     "end_time": "2018-04-24T14:00:35.417193Z",
     "start_time": "2018-04-24T13:59:59.120403Z"
    }
   },
   "outputs": [
    {
     "data": {
      "application/vnd.jupyter.widget-view+json": {
       "model_id": "834ac3fc9b3c4265bb293902cc8c18bf",
       "version_major": 2,
       "version_minor": 0
      },
      "text/plain": [
       "HBox(children=(FloatProgress(value=1.0, bar_style='info', max=1.0), HTML(value='')))"
      ]
     },
     "metadata": {},
     "output_type": "display_data"
    },
    {
     "name": "stdout",
     "output_type": "stream",
     "text": [
      "\n",
      "The number of trips that started on my birthday is 4615 \n"
     ]
    }
   ],
   "source": [
    "import zipfile\n",
    "import csv\n",
    "from tqdm.notebook import tqdm\n",
    "import datetime\n",
    "# columns \"TRIP_ID\",\"CALL_TYPE\",\"ORIGIN_CALL\",\"ORIGIN_STAND\",\"TAXI_ID\",\"TIMESTAMP\",\"DAY_TYPE\",\"MISSING_DATA\",\"POLYLINE\"\n",
    "\n",
    "#extracting all from zip file\n",
    "with zipfile.ZipFile('train.csv.zip', 'r') as zp:\n",
    "     zp.extractall()\n",
    "    \n",
    "#reading from csv file\n",
    "train_trips = csv.DictReader(open(\"train.csv\"))\n",
    "count = 0\n",
    "int_bool\n",
    "my_birthday = '03-07'\n",
    "for line in tqdm(train_trips): \n",
    "    timestamp = datetime.datetime.fromtimestamp(int(line['TIMESTAMP'])).strftime('%d-%m') \n",
    "    #counting concurrency of var my_birthday\n",
    "       \n",
    "    if (timestamp == my_birthday):\n",
    "        count += 1\n",
    "\n",
    "print('The number of trips that started on my birthday is {} '.format(count))                                       "
   ]
  },
  {
   "cell_type": "markdown",
   "metadata": {},
   "source": [
    "# Q3\n",
    "\n",
    "Using `json` infer the total drive time of the trips that started on your birthday (day+month) before 13:00. Print the total number of seconds in the trip. Remember: A GPS coordinate is taken every  15 seconds. Use the `tqdm` library to track your progress. Consider only trips with one or more gps sample. "
   ]
  },
  {
   "cell_type": "code",
   "execution_count": 64,
   "metadata": {
    "ExecuteTime": {
     "end_time": "2018-04-24T14:01:26.502835Z",
     "start_time": "2018-04-24T14:00:49.385381Z"
    },
    "scrolled": true
   },
   "outputs": [
    {
     "data": {
      "application/vnd.jupyter.widget-view+json": {
       "model_id": "3e6189e362e34bd8b3bd7a7135fa773f",
       "version_major": 2,
       "version_minor": 0
      },
      "text/plain": [
       "HBox(children=(FloatProgress(value=1.0, bar_style='info', max=1.0), HTML(value='')))"
      ]
     },
     "metadata": {},
     "output_type": "display_data"
    },
    {
     "name": "stdout",
     "output_type": "stream",
     "text": [
      "\n",
      "The count of trips that started on my birthday, before 13:00 is 1808 \n",
      "The total trips time is 1333455 seconds\n"
     ]
    }
   ],
   "source": [
    "import zipfile\n",
    "import csv\n",
    "from tqdm.notebook import tqdm\n",
    "import datetime\n",
    "import json\n",
    "#columns \"TRIP_ID\",\"CALL_TYPE\",\"ORIGIN_CALL\",\"ORIGIN_STAND\",\"TAXI_ID\",\"TIMESTAMP\",\"DAY_TYPE\",\"MISSING_DATA\",\"POLYLINE\"\n",
    "\n",
    "train_trips = csv.DictReader(open(\"train.csv\"))\n",
    "count = 0\n",
    "trips_time = 0\n",
    "my_birthday = '03-07'\n",
    "for line in tqdm(train_trips): \n",
    "    timestamp_d_m = datetime.datetime.fromtimestamp(int(line['TIMESTAMP'])).strftime('%d-%m')\n",
    "    timestamp_h = datetime.datetime.fromtimestamp(int(line['TIMESTAMP'])).hour \n",
    "   \n",
    "    #counting concurrency of var my_birthday\n",
    "    if (timestamp_d_m == my_birthday)&(timestamp_h < 13) :\n",
    "        \n",
    "        # untill now: just repeat the Q2 + added condition '13hours and a var trips_time'\n",
    "        \n",
    "        #Using json infer the total drive time of the trips that started on birthday (day+month) before 13:00. \n",
    "        json_obj_len = len(json.loads(line['POLYLINE']))\n",
    "        if json_obj_len > 0:\n",
    "            count += 1\n",
    "            trips_time += (json_obj_len)*15\n",
    "\n",
    "print(\"The count of trips that started on my birthday, before 13:00 is {} \".format(count))\n",
    "print(\"The total trips time is {} seconds\".format((trips_time)))"
   ]
  },
  {
   "cell_type": "markdown",
   "metadata": {},
   "source": [
    "# Q4\n",
    "\n",
    "\n",
    "Infer the drive distance of the trips that started on your birthday (day+month) at 13:00 or after. Print the total drive distance in kilometrs. Be careful with which coordinate is longitutude and which is latitude (consult the docs) in both funtions and data. Use https://en.wikipedia.org/wiki/Great-circle_distance. You may use `geopy.distance.great_circle`.  Consider only trips with one or more gps sample. "
   ]
  },
  {
   "cell_type": "code",
   "execution_count": 62,
   "metadata": {},
   "outputs": [
    {
     "data": {
      "application/vnd.jupyter.widget-view+json": {
       "model_id": "6fc66f7873374057a76bed2ee5213efc",
       "version_major": 2,
       "version_minor": 0
      },
      "text/plain": [
       "HBox(children=(FloatProgress(value=1.0, bar_style='info', max=1.0), HTML(value='')))"
      ]
     },
     "metadata": {},
     "output_type": "display_data"
    },
    {
     "name": "stdout",
     "output_type": "stream",
     "text": [
      "\n",
      "The total count of trips 2780 \n",
      "The total distance of trips is 9409.242286340012 km\n"
     ]
    }
   ],
   "source": [
    "import zipfile\n",
    "import csv\n",
    "from tqdm.notebook import tqdm\n",
    "import datetime\n",
    "import json\n",
    "from geopy.distance import great_circle\n",
    "#columns \"TRIP_ID\",\"CALL_TYPE\",\"ORIGIN_CALL\",\"ORIGIN_STAND\",\"TAXI_ID\",\"TIMESTAMP\",\"DAY_TYPE\",\"MISSING_DATA\",\"POLYLINE\"\n",
    "\n",
    "with open(\"train.csv\", encoding=\"utf8\") as csvfile:\n",
    "    reader = csv.DictReader(csvfile)\n",
    "    dist_travel = 0\n",
    "    count=0\n",
    "    for ind, trip_doc in enumerate(tqdm(reader)):\n",
    "        val = trip_doc[\"TIMESTAMP\"]\n",
    "        date_str = datetime.datetime.fromtimestamp(int(val))\n",
    "        if (date_str.strftime('%d-%m') == '03-07' and date_str.hour >= 13):\n",
    "            json_poly = json.loads(trip_doc[\"POLYLINE\"])\n",
    "            json_poly_len = len(json_poly)\n",
    "            if (json_poly_len > 0):\n",
    "                dist_travel += great_circle(json_poly[0][::-1], json_poly[-1][::-1]).kilometers\n",
    "                count += 1\n",
    "\n",
    "print(\"The total count of trips {} \".format(count))\n",
    "print(\"The total distance of trips is {} km\".format(dist_travel))"
   ]
  },
  {
   "cell_type": "markdown",
   "metadata": {},
   "source": [
    "# Sample SQLite Access"
   ]
  },
  {
   "cell_type": "code",
   "execution_count": 200,
   "metadata": {},
   "outputs": [
    {
     "data": {
      "application/vnd.jupyter.widget-view+json": {
       "model_id": "7eeca8cc45a947ecbdb468ba7d253a42",
       "version_major": 2,
       "version_minor": 0
      },
      "text/plain": [
       "HBox(children=(FloatProgress(value=0.0, max=10000.0), HTML(value='')))"
      ]
     },
     "metadata": {},
     "output_type": "display_data"
    },
    {
     "name": "stdout",
     "output_type": "stream",
     "text": [
      "\n"
     ]
    }
   ],
   "source": [
    "import sqlite3\n",
    "import os\n",
    "import random\n",
    "\n",
    "\n",
    "TEST_DB_FILENAME = 'test.db'\n",
    "\n",
    "if os.path.exists(TEST_DB_FILENAME):\n",
    "    os.remove(TEST_DB_FILENAME)\n",
    "\n",
    "with sqlite3.connect(TEST_DB_FILENAME) as con:\n",
    "    cur = con.cursor()\n",
    "    cur.execute('''CREATE TABLE my_table (\n",
    "                        trip_id INT PRIMARY KEY, \n",
    "                        taxi_id INT)''')\n",
    "    for i in tqdm(range(10000)):\n",
    "        cur.execute(\"INSERT INTO my_table (trip_id, taxi_id) VALUES (?, ?)\", \n",
    "                    [i, random.randint(0, 10)])\n",
    "        if i % 100 == 0:\n",
    "            con.commit()    \n",
    "    con.commit()\n",
    "    cur.close()"
   ]
  },
  {
   "cell_type": "code",
   "execution_count": 201,
   "metadata": {},
   "outputs": [
    {
     "name": "stdout",
     "output_type": "stream",
     "text": [
      "[(0, 6), (1, 3), (2, 10), (3, 3), (4, 1), (5, 1), (6, 9), (7, 3), (8, 7), (9, 2)]\n"
     ]
    }
   ],
   "source": [
    "import sqlite3\n",
    "import os\n",
    "import random\n",
    "\n",
    "with sqlite3.connect(TEST_DB_FILENAME) as con:\n",
    "    cur = con.cursor()\n",
    "    cur.execute('''\n",
    "        SELECT trip_id, taxi_id \n",
    "        FROM my_table LIMIT 10''')\n",
    "    result = cur.fetchall()\n",
    "    cur.close()\n",
    "\n",
    "print(result)"
   ]
  },
  {
   "cell_type": "markdown",
   "metadata": {},
   "source": [
    "# Q5\n",
    "\n",
    "Load to a SQLite database \n",
    "\n",
    "Please note that inserting entire csv file into SQLite takes ~30 minutes. Please test your code on first 5k records, only after you have seen that the SQL tables were created as expected you can run your code on the entire CSV (170k rows)\n",
    "\n",
    "1. Create two tables with data in the file: `trips`, `coords`.The coords table holds the coordinates for each trip. Make sure you have a foreign key between them.\n",
    "1. Columns for `trips`: `trip_id, taxi_id, day_type, missing_data, start_ts, start_year, start_month, start_day, start_hour, nb_points, dist_km`\n",
    "1. Columns for `coords`: `trip_id, sample_id, lon, lat, dist`\n",
    "1. Dont use the trip id from the file - it is not unique. Enumerate the rows and use the number as trip_id. \n",
    "1. Insert and commit 10K trips at a time\n",
    "1. Ignore line trips with no coordinates "
   ]
  },
  {
   "cell_type": "code",
   "execution_count": 40,
   "metadata": {
    "ExecuteTime": {
     "end_time": "2018-04-24T14:03:41.446655Z",
     "start_time": "2018-04-24T14:01:50.642773Z"
    },
    "scrolled": true
   },
   "outputs": [
    {
     "data": {
      "application/vnd.jupyter.widget-view+json": {
       "model_id": "0f8e7bb31caa44438df01dff859c233b",
       "version_major": 2,
       "version_minor": 0
      },
      "text/plain": [
       "HBox(children=(FloatProgress(value=1.0, bar_style='info', max=1.0), HTML(value='')))"
      ]
     },
     "metadata": {},
     "output_type": "display_data"
    },
    {
     "name": "stdout",
     "output_type": "stream",
     "text": [
      "\n"
     ]
    }
   ],
   "source": [
    "import os\n",
    "import csv\n",
    "import json\n",
    "import sqlite3\n",
    "import datetime\n",
    "from tqdm.notebook import tqdm\n",
    "from geopy.distance import great_circle\n",
    "# columns \"TRIP_ID\",\"CALL_TYPE\",\"ORIGIN_CALL\",\"ORIGIN_STAND\",\"TAXI_ID\",\"TIMESTAMP\",\"DAY_TYPE\",\"MISSING_DATA\",\"POLYLINE\"\n",
    "\n",
    "DB_NAME = 'my_trip.db'\n",
    "FILE_NAME = 'train.csv'\n",
    "#The database will be saved in the location where your '*.ipynb' file is saved\n",
    "if os.path.exists(DB_NAME):\n",
    "    os.remove(DB_NAME)\n",
    "trip_data = csv.DictReader(open(FILE_NAME))   \n",
    "sample_id = 0\n",
    "dist_km = 0\n",
    "with sqlite3.connect(DB_NAME) as con:\n",
    "    cur = con.cursor()\n",
    "    cur.execute('''CREATE TABLE  trips(\n",
    "                        trip_id INTEGER PRIMARY KEY, \n",
    "                        taxi_id INTEGER,\n",
    "                        day_type CHAR(1),\n",
    "                        missing_data BOLLEAN,\n",
    "                        start_ts INTEGER,\n",
    "                        start_year INTEGER,\n",
    "                        start_month INTEGER,\n",
    "                        start_day INTEGER,\n",
    "                        start_hour INTEGER,\n",
    "                        nb_points INTEGER,\n",
    "                        dist_km FLOAT)''')\n",
    "    cur.execute('''CREATE TABLE  coords (\n",
    "                        trip_id INTEGER,\n",
    "                        sample_id INTEGER PRIMARY KEY,\n",
    "                        lon FLOAT,\n",
    "                        lat FLOAT,\n",
    "                        dist FLOAT,\n",
    "                        FOREIGN KEY (trip_id) REFERENCES trips(trip_id)\n",
    "                            ON UPDATE CASCADE\n",
    "                            ON DELETE CASCADE)''')\n",
    "    \n",
    "    with open(\"train.csv\", encoding=\"utf8\") as csvfile:\n",
    "        reader = csv.DictReader(csvfile)\n",
    "        coords_ind=1\n",
    "        for trip_id, trip_doc in enumerate(tqdm(reader)):\n",
    "            json_poly = json.loads(trip_doc[\"POLYLINE\"])\n",
    "            nb_points = len(json_poly)\n",
    "            if nb_points > 0:\n",
    "                ts_value = int(trip_doc[\"TIMESTAMP\"])\n",
    "                date_trip = datetime.datetime.fromtimestamp(ts_value)\n",
    "                dist_km = great_circle(json_poly[0][::-1], json_poly[-1][::-1]).kilometers\n",
    "\n",
    "                cur.execute(\"INSERT INTO trips (trip_id, taxi_id, day_type,missing_data,start_ts\"\n",
    "                            \",start_year,start_month,start_day,start_hour,nb_points,dist_km\"\n",
    "                            \") VALUES (?, ?,? ,?,?,?,?,?,?,?,?)\",\n",
    "                            [trip_id, trip_doc[\"TAXI_ID\"], trip_doc[\"DAY_TYPE\"], trip_doc[\"MISSING_DATA\"],\n",
    "                             ts_value, date_trip.year, date_trip.month, date_trip.day, date_trip.hour,\n",
    "                             nb_points, dist_km])\n",
    "                for j in range(len(json_poly)):\n",
    "                    cur.execute(\n",
    "                        \"INSERT INTO coords (trip_id,sample_id, lon, lat, dist) VALUES (?,?,?,?,?)\",\n",
    "                        [trip_id,coords_ind, json_poly[j][0], json_poly[j][1],\n",
    "                         great_circle(json_poly[j][1], json_poly[j][0]).kilometers])\n",
    "                    coords_ind +=1\n",
    "    con.commit()\n",
    "    cur.close()"
   ]
  },
  {
   "cell_type": "code",
   "execution_count": 41,
   "metadata": {
    "scrolled": true
   },
   "outputs": [
    {
     "name": "stdout",
     "output_type": "stream",
     "text": [
      "(0, 20000589, 'A', 'False', 1372636858, 2013, 7, 1, 3, 23, 1.7768100812523557)\n",
      "(1, 20000596, 'A', 'False', 1372637303, 2013, 7, 1, 3, 19, 2.480363964852168)\n",
      "(2, 20000320, 'A', 'False', 1372636951, 2013, 7, 1, 3, 65, 0.2524423358735531)\n",
      "(3, 20000520, 'A', 'False', 1372636854, 2013, 7, 1, 3, 43, 2.965202909506786)\n",
      "(4, 20000337, 'A', 'False', 1372637091, 2013, 7, 1, 3, 29, 3.4645942169355015)\n",
      "(5, 20000231, 'A', 'False', 1372636965, 2013, 7, 1, 3, 26, 3.835225696821705)\n",
      "(6, 20000456, 'A', 'False', 1372637210, 2013, 7, 1, 3, 36, 2.076999731962786)\n",
      "(7, 20000011, 'A', 'False', 1372637299, 2013, 7, 1, 3, 34, 1.8107250385127054)\n",
      "(8, 20000403, 'A', 'False', 1372637274, 2013, 7, 1, 3, 38, 3.1488594539328743)\n",
      "(9, 20000320, 'A', 'False', 1372637905, 2013, 7, 1, 3, 19, 1.1848472050723728)\n",
      "(0, 1, -8.618643, 41.141412, 5533.073481845369)\n",
      "(0, 2, -8.618499, 41.141376, 5533.053466730299)\n",
      "(0, 3, -8.620326, 41.14251, 5533.382715373206)\n",
      "(0, 4, -8.622153, 41.143815, 5533.73097837543)\n",
      "(0, 5, -8.623953, 41.144373, 5533.993176382853)\n",
      "(0, 6, -8.62668, 41.144778, 5534.341439385078)\n",
      "(0, 7, -8.627373, 41.144697, 5534.409490776316)\n",
      "(0, 8, -8.630226, 41.14521, 5534.783773428131)\n",
      "(0, 9, -8.632746, 41.14692, 5535.254128632285)\n",
      "(0, 10, -8.631738, 41.148225, 5535.287153572151)\n"
     ]
    }
   ],
   "source": [
    "import sqlite3\n",
    "DB_NAME = 'my_trip.db'\n",
    "\n",
    "#try to display first 10 rows from 2 new tables\n",
    "with sqlite3.connect(DB_NAME) as con:\n",
    "    cur = con.cursor()\n",
    "    cur.execute(''' SELECT * FROM trips limit 10''')\n",
    "    [print(row) for row in cur.fetchall()]\n",
    "    cur.execute(''' SELECT * FROM coords limit 10''')\n",
    "    [print(row) for row in cur.fetchall()]\n",
    "    \n",
    "    cur.close()\n",
    "#trip_id,taxi_id,day_type,missing_data,start_ts,start_year,start_month,start_hour, nb_points, dist_km"
   ]
  },
  {
   "cell_type": "markdown",
   "metadata": {},
   "source": [
    "\n",
    "\n",
    "# Q6\n",
    "\n",
    "Using SQL only: \n",
    "\n",
    "1. How many trips started on your birthday before 13:00? What is total duration in seconds?\n",
    "1. How many trips started on your birthday after 13:00? What is total distance in km?\n",
    "\n",
    "Compare results with previous counts? \n"
   ]
  },
  {
   "cell_type": "code",
   "execution_count": 42,
   "metadata": {},
   "outputs": [
    {
     "name": "stdout",
     "output_type": "stream",
     "text": [
      "The trips which started on my birthday before 13:00 is: 1808\n",
      "The total duration is: 1333455 seconds\n"
     ]
    }
   ],
   "source": [
    "import sqlite3\n",
    "DB_NAME = 'my_trip.db'\n",
    "\n",
    "with sqlite3.connect(DB_NAME) as con:\n",
    "    cur = con.cursor()\n",
    "#How many trips started on your birthday before 13:00? What is total duration in seconds?\n",
    "    cur.execute(\"\"\"SELECT COUNT(*) AS num_trips, SUM(nb_points)*15 AS total_duration FROM trips\n",
    "    WHERE start_month=7 AND start_day=3 AND start_hour<13\"\"\")\n",
    "    res = cur.fetchall()\n",
    "    cur.close()\n",
    "print('The trips which started on my birthday before 13:00 is: {}'.format(res[0][0]))\n",
    "print('The total duration is: {} seconds'.format(res[0][1]))\n",
    "\n",
    "# the answer from Q3 is:\n",
    "# The count of trips that started on my birthday, before 13:00 is 1808 \n",
    "# The total trips time is 1333455 seconds"
   ]
  },
  {
   "cell_type": "code",
   "execution_count": 43,
   "metadata": {},
   "outputs": [
    {
     "name": "stdout",
     "output_type": "stream",
     "text": [
      "The trips which started on my birthday after 13:00 is: 2780\n",
      "The total distance is: 9409.242286340012 km\n"
     ]
    }
   ],
   "source": [
    "import sqlite3\n",
    "DB_NAME = 'my_trip.db'\n",
    "\n",
    "with sqlite3.connect(DB_NAME) as con:\n",
    "    cur = con.cursor()\n",
    "    \n",
    "#How many trips started on your birthday after 13:00? What is total distance in km?\n",
    "    cur.execute(\"\"\"SELECT COUNT(*) AS num_trips, SUM(dist_km) AS total_distance FROM trips\n",
    "    WHERE start_month = 7 AND start_day = 3 AND start_hour >= 13\"\"\")\n",
    "    res1 = cur.fetchall()\n",
    "    cur.close()\n",
    "print('The trips which started on my birthday after 13:00 is: {}'.format(res1[0][0]))\n",
    "print('The total distance is: {} km'.format(res1[0][1]))\n",
    "\n",
    "# the answer from Q4:\n",
    "# The total count of trips 2780 \n",
    "# The total distance of trips is 9409.242286340012 km"
   ]
  },
  {
   "cell_type": "code",
   "execution_count": 44,
   "metadata": {},
   "outputs": [
    {
     "name": "stdout",
     "output_type": "stream",
     "text": [
      "(0, 'trip_id', 'INTEGER', 0, None, 1)\n",
      "(1, 'taxi_id', 'INTEGER', 0, None, 0)\n",
      "(2, 'day_type', 'CHAR(1)', 0, None, 0)\n",
      "(3, 'missing_data', 'BOLLEAN', 0, None, 0)\n",
      "(4, 'start_ts', 'INTEGER', 0, None, 0)\n",
      "(5, 'start_year', 'INTEGER', 0, None, 0)\n",
      "(6, 'start_month', 'INTEGER', 0, None, 0)\n",
      "(7, 'start_day', 'INTEGER', 0, None, 0)\n",
      "(8, 'start_hour', 'INTEGER', 0, None, 0)\n",
      "(9, 'nb_points', 'INTEGER', 0, None, 0)\n",
      "(10, 'dist_km', 'FLOAT', 0, None, 0)\n"
     ]
    }
   ],
   "source": [
    "import sqlite3\n",
    "DB_NAME = 'my_trip.db'\n",
    "\n",
    "#display info about the tbl\n",
    "with sqlite3.connect(DB_NAME) as con:\n",
    "    cur = con.cursor()\n",
    "    cur.execute('PRAGMA table_info(trips);')\n",
    "    con.commit()\n",
    "    [print(row) for row in cur.fetchall()]\n",
    "    cur.close()\n"
   ]
  },
  {
   "cell_type": "markdown",
   "metadata": {},
   "source": [
    "#  Q7\n",
    "Add a column that marks if a trip is on your birthday or not and if it starts before 1300 and rewrite the queries in 4"
   ]
  },
  {
   "cell_type": "code",
   "execution_count": 45,
   "metadata": {},
   "outputs": [],
   "source": [
    "import sqlite3\n",
    "DB_NAME = 'my_trip.db'\n",
    "\n",
    "#Add a column that marks if a trip is on my birthday or not and if it starts before 13:00\n",
    "with sqlite3.connect(DB_NAME) as con:\n",
    "    cur = con.cursor()\n",
    "    cur.execute(\"\"\"ALTER TABLE trips ADD COLUMN is_birthday BOOLEAN\"\"\")\n",
    "    con.commit()\n",
    "    cur.execute(\"\"\"ALTER TABLE trips ADD COLUMN is_before_13 BOOLEAN\"\"\")\n",
    "    con.commit()\n",
    "    cur.execute(\"UPDATE trips SET is_birthday = (start_month=7 AND start_day=3)\")\n",
    "    con.commit()\n",
    "    cur.execute(\"UPDATE trips SET is_before_13 = (start_hour<13)\")\n",
    "    con.commit()\n",
    "    \n",
    "    cur.close()\n"
   ]
  },
  {
   "cell_type": "code",
   "execution_count": 46,
   "metadata": {},
   "outputs": [
    {
     "name": "stdout",
     "output_type": "stream",
     "text": [
      "(0, 'trip_id', 'INTEGER', 0, None, 1)\n",
      "(1, 'taxi_id', 'INTEGER', 0, None, 0)\n",
      "(2, 'day_type', 'CHAR(1)', 0, None, 0)\n",
      "(3, 'missing_data', 'BOLLEAN', 0, None, 0)\n",
      "(4, 'start_ts', 'INTEGER', 0, None, 0)\n",
      "(5, 'start_year', 'INTEGER', 0, None, 0)\n",
      "(6, 'start_month', 'INTEGER', 0, None, 0)\n",
      "(7, 'start_day', 'INTEGER', 0, None, 0)\n",
      "(8, 'start_hour', 'INTEGER', 0, None, 0)\n",
      "(9, 'nb_points', 'INTEGER', 0, None, 0)\n",
      "(10, 'dist_km', 'FLOAT', 0, None, 0)\n",
      "(11, 'is_birthday', 'BOOLEAN', 0, None, 0)\n",
      "(12, 'is_before_13', 'BOOLEAN', 0, None, 0)\n"
     ]
    }
   ],
   "source": [
    "import sqlite3\n",
    "DB_NAME = 'my_trip.db'\n",
    "\n",
    "#display info about the tbl\n",
    "with sqlite3.connect(DB_NAME) as con:\n",
    "    cur = con.cursor()\n",
    "    cur.execute('PRAGMA table_info(trips);')\n",
    "    con.commit()\n",
    "    [print(row) for row in cur.fetchall()]\n",
    "    cur.close()"
   ]
  },
  {
   "cell_type": "code",
   "execution_count": 47,
   "metadata": {},
   "outputs": [
    {
     "name": "stdout",
     "output_type": "stream",
     "text": [
      "The total count of trips 2780 \n",
      "The total distance of trips is 9409.242286340012 km\n"
     ]
    }
   ],
   "source": [
    "import sqlite3\n",
    "DB_NAME = 'my_trip.db'\n",
    "\n",
    "#rewrite the queries from 4\n",
    "with sqlite3.connect(DB_NAME) as con:\n",
    "    cur = con.cursor()\n",
    "    \n",
    "    #number of trips that started before 13:00 on my birthday (not including year)\n",
    "    cur.execute(\"\"\"SELECT COUNT(*) AS trips_count, SUM(dist_km) AS total_distance FROM trips\n",
    "    WHERE is_birthday = 1 AND is_before_13 = 0\"\"\")\n",
    "    trip_count=cur.fetchall()\n",
    "    cur.close()\n",
    "\n",
    "print(\"The total count of trips {} \".format(trip_count[0][0]))\n",
    "print(\"The total distance of trips is {} km\".format(trip_count[0][1]))"
   ]
  },
  {
   "cell_type": "markdown",
   "metadata": {
    "ExecuteTime": {
     "end_time": "2018-04-24T13:57:06.857364Z",
     "start_time": "2018-04-24T13:57:06.851766Z"
    }
   },
   "source": [
    "# Q8\n",
    "\n",
    "Delete all trips that are longer than 2 hours or shorter than 2 minutes. How many trips did you delete? How many left? Did you remeber to commit? "
   ]
  },
  {
   "cell_type": "code",
   "execution_count": 48,
   "metadata": {},
   "outputs": [
    {
     "name": "stdout",
     "output_type": "stream",
     "text": [
      "All trips  are [(1704769,)]\n",
      "Count of all trips that are longer than 2 hours or shorter than 2 minutes is[(56679,)]\n",
      "The total count of trips left [(1648090,)] \n"
     ]
    }
   ],
   "source": [
    "import sqlite3\n",
    "DB_NAME = 'my_trip.db'\n",
    "\n",
    "with sqlite3.connect(DB_NAME) as con:\n",
    "    cur = con.cursor()\n",
    "    cur.execute('SELECT COUNT(*) FROM trips')\n",
    "    res = cur.fetchall()\n",
    "    con.commit()\n",
    "    \n",
    "#all trips that are \n",
    "    print(\"All trips  are {}\".format(res))\n",
    "    \n",
    "#all trips that are longer than 2 hours or shorter than 2 minutes    \n",
    "    cur.execute('SELECT COUNT(*) FROM trips WHERE ((nb_points)*15/3600)>2 OR ((nb_points)*15/60<2)')\n",
    "    res1=cur.fetchall()\n",
    "    con.commit()\n",
    "    print(\"Count of all trips that are longer than 2 hours or shorter than 2 minutes is{}\".format(res1)) \n",
    "    \n",
    "#deleting all trips that are longer than 2 hours or shorter than 2 minutes\n",
    "    cur.execute('DELETE FROM trips WHERE ((nb_points)*15/3600)>2 OR ((nb_points)*15/60<2)')\n",
    "    con.commit()\n",
    "    \n",
    "#How many trips left\n",
    "    cur.execute('SELECT COUNT(*) FROM trips')\n",
    "    res3 = cur.fetchall()\n",
    "    con.commit()\n",
    "    print(\"The total count of trips left {} \".format(res3))\n",
    "    cur.close()"
   ]
  },
  {
   "cell_type": "code",
   "execution_count": null,
   "metadata": {
    "collapsed": true
   },
   "outputs": [],
   "source": []
  },
  {
   "cell_type": "code",
   "execution_count": null,
   "metadata": {
    "collapsed": true
   },
   "outputs": [],
   "source": []
  }
 ],
 "metadata": {
  "anaconda-cloud": {},
  "kernelspec": {
   "display_name": "Python 3",
   "language": "python",
   "name": "python3"
  }
 },
 "nbformat": 4,
 "nbformat_minor": 4
}
